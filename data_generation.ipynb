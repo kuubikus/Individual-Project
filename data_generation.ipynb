{
 "cells": [
  {
   "cell_type": "code",
   "execution_count": 2,
   "metadata": {},
   "outputs": [],
   "source": [
    "import cv2\n",
    "import pykep\n",
    "import numpy as np\n",
    "import imutils\n",
    "import math"
   ]
  },
  {
   "cell_type": "markdown",
   "metadata": {},
   "source": [
    "Image tools"
   ]
  },
  {
   "cell_type": "code",
   "execution_count": 3,
   "metadata": {},
   "outputs": [],
   "source": [
    "def debris_in_pixels(physical_size, distance, alpha=np.pi/6, beta=np.pi/6, dimensions = (1080, 1980)):\n",
    "    \"\"\"\n",
    "    Returns how many pixels the object at a given distance should take up\n",
    "    :param physical_size: The size of the object\n",
    "    :param distance: Distance between the target and observer\n",
    "    :param alpha: horizontal FOV. Radians\n",
    "    :param beta: vertical FOV. Radians\n",
    "    :param dimensions: the pixel dimensions of the observer camera used\n",
    "    \"\"\"\n",
    "    \n",
    "    len_x = 2*np.tan(alpha)*distance\n",
    "    len_y = 2*np.tan(beta)*distance\n",
    "    \n",
    "    px_per_length_cols =  dimensions[0]/len_x\n",
    "    px_per_length_rows =  dimensions[1]/len_y\n",
    "    new_shape = (math.ceil(physical_size[1] * px_per_length_rows), math.ceil(physical_size[0] * px_per_length_cols))\n",
    "    # think about the rounding here\n",
    "    return new_shape\n",
    "\n",
    "\n",
    "def resize(original_image, physical_size, distance):\n",
    "    \"\"\"\n",
    "    Resize the image based on the physical size of the target object and the relative distance between \n",
    "    target object and observer\n",
    "    :param physical_size: The size of the object in km\n",
    "    :param distance: Distance between the target and observer planes, the z coordinate of the relative vector\n",
    "    \"\"\"\n",
    "    height, width = debris_in_pixels(physical_size, distance)\n",
    "    if width == 0 and height ==0:\n",
    "        return False  # can't resize, object too small\n",
    "    else:\n",
    "        return cv2.resize(original_image, (width, height), interpolation=cv2.INTER_AREA)"
   ]
  },
  {
   "cell_type": "code",
   "execution_count": 4,
   "metadata": {},
   "outputs": [],
   "source": [
    "def roi_in_frame(left_corner, object_size, frame):\n",
    "    \"\"\"\n",
    "    Return the part of the ROI that is in the frame.\n",
    "    :left_corner: the coordinates of the left corner of the object in px.\n",
    "    :object_size: size of the object in pixels in CV2 coordinates (columns, rows)\n",
    "    \"\"\"\n",
    "    frame_size = frame.shape\n",
    "    ROI = [[left_corner[0], left_corner[0] + object_size[0]],[left_corner[1], left_corner[1] + object_size[1]]]\n",
    "    \n",
    "    if left_corner[1] + object_size[1] > frame_size[1]:\n",
    "        print(\"outside the right bounding edge\")\n",
    "        # outside the right bounding edge\n",
    "        ROI[1] = [left_corner[1], frame_size[1]]\n",
    "    if left_corner[1] < 0:\n",
    "        print(\"outside the left bounding edge\")\n",
    "        # outside the left bounding edge\n",
    "        ROI[1] = [0, left_corner[1] + object_size[1]]\n",
    "\n",
    "    if left_corner[0] + object_size[0] > frame_size[0]:\n",
    "        print(\"outside the bottom bounding edge\")\n",
    "        # outside the bottom bounding edge\n",
    "        ROI[0] = [left_corner[0], frame_size[0]]\n",
    "    if left_corner[0] < 0:\n",
    "        print(\"outside the upper bounding edge\")\n",
    "        # outside the upper bounding edge\n",
    "        ROI[0] = [0, left_corner[0] + object_size[0]]\n",
    "\n",
    "    return frame[ROI[0][0]:ROI[0][1], ROI[1][0]:ROI[1][1]]\n",
    "\n",
    "\n",
    "def obj_in_frame(left_corner, frame, img):\n",
    "    image_size = img.shape\n",
    "    frame_size = frame.shape\n",
    "    ROI = [[0,image_size[0]],[0,image_size[1]]]  # the whole image of the object\n",
    "    if left_corner[1] + image_size[1] > frame_size[1]:\n",
    "        # outside the right bounding edge\n",
    "        ROI[1] = [0, frame_size[1] - left_corner[1]]\n",
    "    if left_corner[1] < 0:\n",
    "        # outside the left bounding edge\n",
    "        ROI[1] = [-left_corner[1], image_size[1]]\n",
    "\n",
    "    if left_corner[0] + image_size[0] > frame_size[0]:\n",
    "        # outside the bottom bounding edge\n",
    "        ROI[0] = [0, frame_size[0] - left_corner[0]]\n",
    "    if left_corner[0] < 0:\n",
    "        # outside the upper bounding edge\n",
    "        ROI[0] = [-left_corner[0], image_size[0]]\n",
    "\n",
    "    return img[ROI[0][0]:ROI[0][1], ROI[1][0]:ROI[1][1]] "
   ]
  },
  {
   "cell_type": "code",
   "execution_count": 5,
   "metadata": {},
   "outputs": [],
   "source": [
    "def create_mask(img):\n",
    "    return np.zeros(img.shape[:2], dtype=\"uint8\")"
   ]
  },
  {
   "attachments": {},
   "cell_type": "markdown",
   "metadata": {},
   "source": [
    "Orbital Mechanics"
   ]
  },
  {
   "cell_type": "code",
   "execution_count": 6,
   "metadata": {},
   "outputs": [],
   "source": [
    "def propagate_based_on_vector(r,v, t):\n",
    "    rf, vf = pykep.propagate_lagrangian(r0 = r, v0 = v, tof = t,mu = 398600)\n",
    "    return np.array(rf), np.array(vf)\n",
    "\n",
    "def propagate_based_on_elements(elements, t, kepler=True):\n",
    "    r, v = pykep.par2ic(elements, mu=398600)\n",
    "    rf,vf = pykep.propagate_lagrangian(r0 = r, v0 = v, tof = t,mu = 398600)\n",
    "    if kepler == False:  # return vectors\n",
    "        return np.array(rf),np.array(vf)\n",
    "    if kepler == True:  # return kepler elements\n",
    "        return pykep.ic2par(rf,vf,mu = 398600)"
   ]
  },
  {
   "attachments": {},
   "cell_type": "markdown",
   "metadata": {},
   "source": [
    "Utility"
   ]
  },
  {
   "cell_type": "code",
   "execution_count": 7,
   "metadata": {},
   "outputs": [],
   "source": [
    "def delete_white_background(img, write=False):\n",
    "    \"\"\"\n",
    "    Takes the images of Debris that I made in paint.\n",
    "    Inverts the colours and deletes the white background.\n",
    "    \"\"\"\n",
    "    img = np.invert(img)\n",
    "    gray = cv2.cvtColor(img, cv2.COLOR_BGR2GRAY)\n",
    "\n",
    "    _, alpha = cv2.threshold(gray, 240, 255, cv2.THRESH_BINARY)\n",
    "    \n",
    "    # Using cv2.split() to split channels \n",
    "    # of coloured image\n",
    "    b, g, r = cv2.split(img)\n",
    "\n",
    "    # Making list of Red, Green, Blue\n",
    "    # Channels and alpha\n",
    "    rgba = [b,g,r, alpha]\n",
    "\n",
    "    # Using cv2.merge() to merge rgba\n",
    "    # into a coloured/multi-channeled image\n",
    "    dst = cv2.merge(rgba,3)\n",
    "    print(\"dst shape\", dst.shape)\n",
    "\n",
    "    # Writing and saving to a new image\n",
    "    if write is True:\n",
    "        cv2.imwrite(\"debris/deb.png\", dst)\n",
    "    return dst        "
   ]
  },
  {
   "attachments": {},
   "cell_type": "markdown",
   "metadata": {},
   "source": [
    "FOV"
   ]
  },
  {
   "cell_type": "code",
   "execution_count": 8,
   "metadata": {},
   "outputs": [],
   "source": [
    "# Checks if a matrix is a valid rotation matrix.\n",
    "def isRotationMatrix(R) :\n",
    "    Rt = np.transpose(R)\n",
    "    shouldBeIdentity = np.dot(Rt, R)\n",
    "    I = np.identity(3, dtype = R.dtype)\n",
    "    n = np.linalg.norm(I - shouldBeIdentity)\n",
    "    return n < 1e-6\n",
    " \n",
    "# Calculates rotation matrix to euler angles\n",
    "# The result is the same as MATLAB except the order\n",
    "# of the euler angles ( x and z are swapped ).\n",
    "def rotationMatrixToEulerAngles(R) :\n",
    " \n",
    "    assert(isRotationMatrix(R))\n",
    " \n",
    "    sy = math.sqrt(R[0,0] * R[0,0] +  R[1,0] * R[1,0])\n",
    " \n",
    "    singular = sy < 1e-6\n",
    " \n",
    "    if  not singular :\n",
    "        x = math.atan2(R[2,1] , R[2,2])\n",
    "        y = math.atan2(-R[2,0], sy)\n",
    "        z = math.atan2(R[1,0], R[0,0])\n",
    "    else :\n",
    "        x = math.atan2(-R[1,2], R[1,1])\n",
    "        y = math.atan2(-R[2,0], sy)\n",
    "        z = 0\n",
    " \n",
    "    return np.array([x, y, z])"
   ]
  },
  {
   "cell_type": "code",
   "execution_count": 9,
   "metadata": {},
   "outputs": [],
   "source": [
    "def to_body_axis(vector, r, v):\n",
    "    \"\"\"\n",
    "    Calculates the rotation matrix and applies it. Returns the converted vector.\n",
    "    r and v are used to calculate the rotation matrix and vector is the vector to be \n",
    "    rotated.\n",
    "    \"\"\"\n",
    "    unit_r = r/np.linalg.norm(r)\n",
    "    unit_v = v/np.linalg.norm(v)\n",
    "\n",
    "    R = np.array([[unit_v[0], -unit_r[0], unit_r[1]*unit_v[2] - unit_v[1]*unit_r[2]],\n",
    "                [unit_v[1], -unit_r[1], unit_v[0]*unit_r[2] - unit_r[0]*unit_v[2]],\n",
    "                [unit_v[2], -unit_r[2], unit_r[0]*unit_v[1] - unit_v[0]*unit_r[1]]])\n",
    "    R = R.transpose()\n",
    "    \n",
    "    return R.dot(vector)"
   ]
  },
  {
   "cell_type": "code",
   "execution_count": 9,
   "metadata": {},
   "outputs": [
    {
     "data": {
      "text/plain": [
       "array([ 0.        , -0.70710678,  0.70710678])"
      ]
     },
     "execution_count": 9,
     "metadata": {},
     "output_type": "execute_result"
    }
   ],
   "source": [
    "vec = [1,0,0]\n",
    "r = [1,1,0]\n",
    "v = [0,0,1]\n",
    "to_body_axis(vec, r, v)"
   ]
  },
  {
   "cell_type": "code",
   "execution_count": 10,
   "metadata": {},
   "outputs": [],
   "source": [
    "def angle_between(r1,r2):\n",
    "    \"\"\"\n",
    "    Calculate the angle between two vectors\n",
    "    \"\"\"\n",
    "    unit_1 = r1/np.linalg.norm(r1)\n",
    "    unit_2 = r2/np.linalg.norm(r2)\n",
    "    return np.arccos(np.dot(unit_1,unit_2))\n",
    "\n",
    "def behind_earth(r1, r2, R=6371):\n",
    "    \"\"\"\n",
    "    Checks if the target is between the Earth and observer based on \n",
    "    a line segment intersecting the sphere.\n",
    "    Returns true if the target is behind the Earth.\n",
    "    :param r1: observer\n",
    "    :param r2: target\n",
    "    \"\"\"\n",
    "    if angle_between(r1,r2) < np.pi/2:  \n",
    "        return False  # does not intersect\n",
    "    \n",
    "    phi = np.arccos(np.dot(r1, r2-r1)/(np.linalg.norm(r1)*np.linalg.norm(r2-r1)))\n",
    "    H = np.linalg.norm(r1)*np.sin(phi)\n",
    "    \n",
    "    if H <= R:\n",
    "        return True  # intersects\n",
    "    if H > R:\n",
    "        return False  # does not intersect\n",
    "\n",
    "def in_FOV(r1, v1, r2, max_vertical=np.radians(30), max_horisontal=np.radians(30)):\n",
    "    \"\"\"\n",
    "    Checks if the observer should be able to see the target.\n",
    "    1 for observer. 2 for target.\n",
    "    Returns True if yes\n",
    "    \"\"\"\n",
    "\n",
    "    rel = r2 - r1\n",
    "    \n",
    "    if behind_earth(r1,r2) is True:\n",
    "        print(\"failed cause earth\")\n",
    "        return False\n",
    "    \n",
    "    rel_unit = (rel)/np.linalg.norm(rel)\n",
    "    print(\"relative in global\", rel_unit)\n",
    "    rel_unit = to_body_axis(rel_unit, r1, v1) \n",
    "    print(\"relative in body\", rel_unit)\n",
    "    if rel_unit[1] < 0:\n",
    "        print(\"failed cause y\")\n",
    "        return False\n",
    "\n",
    "    horisontal_angle = abs(np.arctan(rel_unit[0]/rel_unit[1]))  # in the xy plane \n",
    "    vertical_angle = abs(np.arctan(rel_unit[2]/rel_unit[1]))  # in yz plane\n",
    "    print(\"angles\", np.degrees(horisontal_angle),np.degrees(vertical_angle))\n",
    "    if horisontal_angle <= max_horisontal and vertical_angle <= max_vertical:\n",
    "        return True\n",
    "    else:\n",
    "        print(\"failed cause angles\")\n",
    "        return False"
   ]
  },
  {
   "cell_type": "code",
   "execution_count": 11,
   "metadata": {},
   "outputs": [
    {
     "data": {
      "text/plain": [
       "False"
      ]
     },
     "execution_count": 11,
     "metadata": {},
     "output_type": "execute_result"
    }
   ],
   "source": [
    "r1 = np.array([7300,0,0])\n",
    "r2 = np.array([7200,0,0])\n",
    "behind_earth(r1, r2)"
   ]
  },
  {
   "cell_type": "code",
   "execution_count": 11,
   "metadata": {},
   "outputs": [],
   "source": [
    "def get_distance(r1, v1, r2):\n",
    "    rel = r2 - r1\n",
    "    rel = to_body_axis(rel, r1, v1)\n",
    "    distance = rel[1]  # y axis is pointed towards Earth\n",
    "    return distance\n",
    "\n",
    "def to_pixels(r,distance, shape, cols=1980, rows=1080, alpha=np.pi/6, beta=np.pi/6,):\n",
    "    \"\"\"\n",
    "    Converts physical location to pixels and pixel coordinates. Returns rows, columns\n",
    "    \"\"\"\n",
    "    len_x = 2*np.tan(alpha)*distance\n",
    "    len_z = 2*np.tan(beta)*distance\n",
    "    px_per_length_cols =  cols/len_x\n",
    "    px_per_length_rows =  rows/len_z\n",
    "    return math.ceil(r[2]*px_per_length_rows+rows/2-shape[0]/2), math.ceil(r[0]*px_per_length_cols+cols/2-shape[1]/2)\n"
   ]
  },
  {
   "attachments": {},
   "cell_type": "markdown",
   "metadata": {},
   "source": [
    "Initialisation"
   ]
  },
  {
   "cell_type": "code",
   "execution_count": 12,
   "metadata": {},
   "outputs": [],
   "source": [
    "elements_sat = [7350,0.0,np.radians(0),np.radians(0),np.radians(0),np.radians(0)]\n",
    "elements_deb = [7133.8,0.0043,np.radians(10),np.radians(0),np.radians(0),np.radians(0)]"
   ]
  },
  {
   "cell_type": "code",
   "execution_count": 12,
   "metadata": {},
   "outputs": [
    {
     "name": "stdout",
     "output_type": "stream",
     "text": [
      "[7350.    0.    0.] [7103.12466    0.         0.     ]\n",
      "relative in global [-1.  0.  0.]\n",
      "relative in body [0. 1. 0.]\n",
      "angles 0.0 0.0\n"
     ]
    },
    {
     "data": {
      "text/plain": [
       "True"
      ]
     },
     "execution_count": 12,
     "metadata": {},
     "output_type": "execute_result"
    }
   ],
   "source": [
    "rO, vO = np.array(pykep.par2ic(elements_sat))\n",
    "rT, vT = np.array(pykep.par2ic(elements_deb))\n",
    "print(rO, rT)\n",
    "in_FOV(rO,vO,rT)"
   ]
  },
  {
   "cell_type": "code",
   "execution_count": 13,
   "metadata": {},
   "outputs": [],
   "source": [
    "vs = \"Earth\\sized_Earth_slowed.avi\"\n",
    "img_path = \"debris\\deb1.png\""
   ]
  },
  {
   "cell_type": "code",
   "execution_count": 14,
   "metadata": {},
   "outputs": [],
   "source": [
    "object_og = cv2.imread(img_path)"
   ]
  },
  {
   "cell_type": "code",
   "execution_count": 39,
   "metadata": {},
   "outputs": [],
   "source": [
    "object_og = cv2.imread(img_path)\n",
    "#print(object_og.shape)\n",
    "#object_og = delete_white_background(object_og, write=False)\n",
    "#print(object_og.shape)\n",
    "distance = 7000\n",
    "object_resized = resize(object_og, (500,500), distance)\n",
    "cv2.imshow(\"resized\", object_resized)\n",
    "cv2.waitKey(0)"
   ]
  },
  {
   "cell_type": "code",
   "execution_count": 17,
   "metadata": {},
   "outputs": [],
   "source": [
    "cap = cv2.VideoCapture(vs)  # open the video file\n",
    "frame_width = int(cap.get(3))\n",
    "frame_height = int(cap.get(4))\n",
    "out = cv2.VideoWriter('Earth_ball.avi', cv2.VideoWriter_fourcc('M', 'J', 'P', 'G'), 30, (frame_width, frame_height))\n",
    "t = 0\n",
    "if cap.isOpened() is False:\n",
    "    print(\"Error opening video file\")"
   ]
  },
  {
   "attachments": {},
   "cell_type": "markdown",
   "metadata": {},
   "source": [
    "Body"
   ]
  },
  {
   "cell_type": "code",
   "execution_count": 19,
   "metadata": {},
   "outputs": [
    {
     "name": "stdout",
     "output_type": "stream",
     "text": [
      "relative in global [-0.99887233  0.00105258  0.04746538]\n",
      "relative in body [0.01005963 0.99882223 0.04746538]\n",
      "angles 0.577034263386125 2.7207260221022977\n",
      "distance 247.1752047622119\n",
      "relative vector [  2.48649021 246.88408852  11.7322654 ]\n",
      "left corner (411, 913)\n",
      "object resized (347, 190, 3)\n",
      "roi shape (347, 190, 3)\n",
      "mask shape (347, 190)\n",
      "object_fg (347, 190, 3)\n",
      "frame_bg (347, 190, 3)\n",
      "relative in global [-0.99860843  0.0011691   0.05272414]\n",
      "relative in body [0.01117424 0.99854659 0.05272414]\n",
      "angles 0.6411417291605841 3.0224606378381647\n",
      "distance 247.2454884427729\n",
      "relative vector [  2.76277966 246.88614057  13.03580453]\n",
      "left corner (416, 915)\n",
      "object resized (347, 190, 3)\n",
      "roi shape (347, 190, 3)\n",
      "mask shape (347, 190)\n",
      "object_fg (347, 190, 3)\n",
      "frame_bg (347, 190, 3)\n",
      "relative in global [-0.99831703  0.00128548  0.05797811]\n",
      "relative in body [0.01228786 0.99824223 0.05797811]\n",
      "angles 0.7052468419923812 3.32401627955376\n",
      "distance 247.3231461481446\n",
      "relative vector [  3.03907314 246.88840859  14.33932916]\n",
      "left corner (421, 917)\n",
      "object resized (347, 190, 3)\n",
      "roi shape (347, 190, 3)\n",
      "mask shape (347, 190)\n",
      "object_fg (347, 190, 3)\n",
      "frame_bg (347, 190, 3)\n",
      "relative in global [-0.9979982   0.0014017   0.06322684]\n",
      "relative in body [0.01340041 0.99790921 0.06322684]\n",
      "angles 0.7693493668073771 3.6253752897386615\n",
      "distance 247.40817062865105\n",
      "relative vector [  3.31537105 246.89089257  15.64283785]\n",
      "left corner (426, 918)\n",
      "object resized (347, 190, 3)\n",
      "roi shape (347, 190, 3)\n",
      "mask shape (347, 190)\n",
      "object_fg (347, 190, 3)\n",
      "frame_bg (347, 190, 3)\n",
      "relative in global [-0.99765203  0.00151776  0.06846986]\n",
      "relative in body [0.01451178 0.99754764 0.06846986]\n",
      "angles 0.8334490685942989 3.9265200788745926\n",
      "distance 247.50055395721978\n",
      "relative vector [  3.59167379 246.8935925   16.94632914]\n",
      "left corner (431, 921)\n",
      "object resized (347, 189, 3)\n",
      "roi shape (347, 189, 3)\n",
      "mask shape (347, 189)\n",
      "object_fg (347, 189, 3)\n",
      "frame_bg (347, 189, 3)\n",
      "relative in global [-0.99727862  0.00163364  0.07370671]\n",
      "relative in body [0.01562188 0.9971576  0.07370671]\n",
      "angles 0.8975457124104272 4.227433131369147\n",
      "distance 247.60028753290428\n",
      "relative vector [  3.86798178 246.89650837  18.24980157]\n",
      "left corner (436, 923)\n",
      "object resized (347, 189, 3)\n",
      "roi shape (347, 189, 3)\n",
      "mask shape (347, 189)\n",
      "object_fg (347, 189, 3)\n",
      "frame_bg (347, 189, 3)\n",
      "relative in global [-0.99687808  0.00174933  0.07893691]\n",
      "relative in body [0.01673061 0.99673921 0.07893691]\n",
      "angles 0.961639063387303 4.52809701142605\n",
      "distance 247.70736208470004\n",
      "relative vector [  4.1442954  246.89964017  19.55325372]\n",
      "left corner (441, 925)\n",
      "object resized (347, 189, 3)\n",
      "roi shape (347, 189, 3)\n",
      "mask shape (347, 189)\n",
      "object_fg (347, 189, 3)\n",
      "frame_bg (347, 189, 3)\n",
      "relative in global [-0.99645051  0.00186482  0.08416002]\n",
      "relative in body [0.01783788 0.99629258 0.08416002]\n",
      "angles 1.0257288867364176 4.828494368847442\n",
      "distance 247.82176767563345\n",
      "relative vector [  4.42061506 246.90298788  20.85668411]\n",
      "left corner (446, 927)\n",
      "object resized (346, 189, 3)\n",
      "roi shape (346, 189, 3)\n",
      "mask shape (346, 189)\n",
      "object_fg (346, 189, 3)\n",
      "frame_bg (346, 189, 3)\n",
      "relative in global [-0.99599603  0.00198008  0.08937557]\n",
      "relative in body [0.0189436  0.99581783 0.08937557]\n",
      "angles 1.089814947754896 5.128607944762948\n",
      "distance 247.9434937071487\n",
      "relative vector [  4.69694117 246.90655149  22.16009131]\n",
      "left corner (451, 928)\n",
      "object resized (346, 189, 3)\n",
      "roi shape (346, 189, 3)\n",
      "mask shape (346, 189)\n",
      "object_fg (346, 189, 3)\n",
      "frame_bg (346, 189, 3)\n"
     ]
    },
    {
     "ename": "KeyboardInterrupt",
     "evalue": "",
     "output_type": "error",
     "traceback": [
      "\u001b[1;31m---------------------------------------------------------------------------\u001b[0m",
      "\u001b[1;31mKeyboardInterrupt\u001b[0m                         Traceback (most recent call last)",
      "Cell \u001b[1;32mIn[19], line 41\u001b[0m\n\u001b[0;32m     38\u001b[0m             frame[left_corner[\u001b[39m0\u001b[39m]:roi\u001b[39m.\u001b[39mshape[\u001b[39m0\u001b[39m]\u001b[39m+\u001b[39mleft_corner[\u001b[39m0\u001b[39m],left_corner[\u001b[39m1\u001b[39m]:roi\u001b[39m.\u001b[39mshape[\u001b[39m1\u001b[39m]\u001b[39m+\u001b[39mleft_corner[\u001b[39m1\u001b[39m]] \u001b[39m=\u001b[39m dst\n\u001b[0;32m     40\u001b[0m             cv2\u001b[39m.\u001b[39mimshow(\u001b[39m\"\u001b[39m\u001b[39mEarth with ball\u001b[39m\u001b[39m\"\u001b[39m, frame)\n\u001b[1;32m---> 41\u001b[0m             cv2\u001b[39m.\u001b[39;49mwaitKey(\u001b[39m0\u001b[39;49m)\n\u001b[0;32m     42\u001b[0m     out\u001b[39m.\u001b[39mwrite(frame)\n\u001b[0;32m     43\u001b[0m \u001b[39melse\u001b[39;00m:\n",
      "\u001b[1;31mKeyboardInterrupt\u001b[0m: "
     ]
    }
   ],
   "source": [
    "while cap.isOpened():\n",
    "    ret0, frame = cap.read()\n",
    "    if ret0 is True:\n",
    "        rO, vO = propagate_based_on_elements(elements_sat, t, kepler=False)\n",
    "        rT, vT = propagate_based_on_elements(elements_deb, t, kepler=False)\n",
    "        t+=1  # move ahead by one second\n",
    "        if in_FOV(rO, vO, rT) is True:\n",
    "            rel = rT - rO\n",
    "            distance = np.linalg.norm(rel)\n",
    "            print(\"distance\", distance)\n",
    "            object_resized = resize(object_og, (50,50), distance)  # size of target in pixels\n",
    "            if object_resized is not False:\n",
    "                rel = to_body_axis(rel, rO, vO)\n",
    "                print(\"relative vector\", rel)\n",
    "                left_corner = to_pixels(rel, distance,object_resized.shape)  # location of target in the frame\n",
    "                print(\"left corner\", left_corner)\n",
    "                print(\"object resized\", object_resized.shape)\n",
    "                roi = roi_in_frame(left_corner, object_resized.shape, frame)\n",
    "                print(\"roi shape\", roi.shape)\n",
    "                # create mask and inverse mask\n",
    "                object_in_frame = obj_in_frame(left_corner,frame,object_resized)\n",
    "                cv2.imshow(\"object in frame\", object_in_frame)\n",
    "                gray = cv2.cvtColor(object_in_frame, cv2.COLOR_BGR2GRAY)\n",
    "                ret, mask = cv2.threshold(gray, 10, 255, cv2.THRESH_BINARY)\n",
    "                mask_inv = cv2.bitwise_not(mask)\n",
    "                print(\"mask shape\", mask.shape)\n",
    "                cv2.imshow(\"mask\", mask)\n",
    "                #cv2.imshow(\"inverse mask\", mask_inv)\n",
    "                # black out the area of object in ROI\n",
    "                frame_bg = cv2.bitwise_and(roi, roi, mask=mask)\n",
    "                object_fg = cv2.bitwise_and(object_in_frame, object_in_frame, mask=mask_inv)\n",
    "                print(\"object_fg\", object_fg.shape)\n",
    "                print(\"frame_bg\", frame_bg.shape)\n",
    "                cv2.imshow(\"frame background\", frame_bg)\n",
    "                cv2.imshow(\"object foreground\", object_fg)\n",
    "                dst = cv2.add(frame_bg, object_fg)\n",
    "                cv2.imshow(\"dst\", dst)\n",
    "                frame[left_corner[0]:roi.shape[0]+left_corner[0],left_corner[1]:roi.shape[1]+left_corner[1]] = dst\n",
    "                \n",
    "                cv2.imshow(\"Earth with ball\", frame)\n",
    "                cv2.waitKey(0)\n",
    "        out.write(frame)\n",
    "    else:\n",
    "        break\n",
    "\n",
    "out.release()\n",
    "cap.release()\n",
    "cv2.destroyAllWindows()"
   ]
  },
  {
   "cell_type": "code",
   "execution_count": null,
   "metadata": {},
   "outputs": [],
   "source": []
  }
 ],
 "metadata": {
  "kernelspec": {
   "display_name": "snakes",
   "language": "python",
   "name": "python3"
  },
  "language_info": {
   "codemirror_mode": {
    "name": "ipython",
    "version": 3
   },
   "file_extension": ".py",
   "mimetype": "text/x-python",
   "name": "python",
   "nbconvert_exporter": "python",
   "pygments_lexer": "ipython3",
   "version": "3.10.8"
  },
  "orig_nbformat": 4,
  "vscode": {
   "interpreter": {
    "hash": "ba46d3c1349a8793b8508840c8d7327b4fd991649259d1bdc996506b1c3d27b3"
   }
  }
 },
 "nbformat": 4,
 "nbformat_minor": 2
}
