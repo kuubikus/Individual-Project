{
 "cells": [
  {
   "cell_type": "code",
   "execution_count": 76,
   "metadata": {},
   "outputs": [],
   "source": [
    "import cv2\n",
    "import pykep\n",
    "import numpy as np\n",
    "import imutils"
   ]
  },
  {
   "cell_type": "markdown",
   "metadata": {},
   "source": [
    "Image tools"
   ]
  },
  {
   "cell_type": "code",
   "execution_count": 4,
   "metadata": {},
   "outputs": [],
   "source": [
    "def debris_in_pixels(physical_size, distance, alpha=np.pi / 6, beta=np.pi / 6, dimensions = (2464, 3280)):\n",
    "    \"\"\"\n",
    "    Returns how many pixels the object at a given distance should take up\n",
    "    :param physical_size: The size of the object\n",
    "    :param distance: Distance between the target and observer\n",
    "    :param alpha: horizontal FOV. Radians\n",
    "    :param beta: vertical FOV. Radians\n",
    "    :param dimensions: the pixel dimensions of the observer camera used (vertical, horisontal)\n",
    "    \"\"\"\n",
    "    lengths = (2 * np.tan(alpha) * distance, 2 * np.tan(beta) * distance)  # vertical, horizontal\n",
    "    px_per_length = dimensions[0] / lengths[0], dimensions[1] / lengths[1]\n",
    "    new_shape = int(physical_size[0] * px_per_length[0]), int(physical_size[1] * px_per_length[1])\n",
    "    return new_shape\n",
    "\n",
    "\n",
    "def resize(original_image, physical_size, distance):\n",
    "    \"\"\"\n",
    "    Resize the image based on the physical size of the target object and the relative distance between \n",
    "    target object and observer\n",
    "    \"\"\"\n",
    "    width, height = debris_in_pixels(physical_size, distance)\n",
    "    return cv2.resize(original_image, (width, height), interpolation=cv2.INTER_AREA)\n",
    "\n",
    "\n",
    "def roi_in_frame(left_corner, object_size, frame):\n",
    "    \"\"\"\n",
    "    Return the part of the ROI that is in the frame.\n",
    "    :left_corner: the coordinates of the left corner of the object\n",
    "    :object_size: size of the object in pixels in CV2 coordinates (columns, rows)\n",
    "    \"\"\"\n",
    "    frame_size = frame.shape\n",
    "    ROI = [[left_corner[0], left_corner[0] + object_size[0]],[left_corner[1], left_corner[1] + object_size[1]]]\n",
    "    \n",
    "    if left_corner[0] + object_size[0] > frame_size[0]:\n",
    "        # outside the right bounding edge\n",
    "        ROI[0] = [left_corner[0], frame_size[0]]\n",
    "    if left_corner[0] < 0:\n",
    "        # outside the left bounding edge\n",
    "        ROI[0] = [0, left_corner[0] + object_size[0]]\n",
    "\n",
    "    if left_corner[1] + object_size[1] > frame_size[1]:\n",
    "        # outside the bottom bounding edge\n",
    "        ROI[1] = [left_corner[1], frame_size[1]]\n",
    "    if left_corner[1] < 0:\n",
    "        # outside the upper bounding edge\n",
    "        ROI[1] = [0, left_corner[1] + object_size[1]]\n",
    "    \n",
    "    return frame[ROI[0][0]:ROI[0][1], ROI[1][0]:ROI[1][1]]\n",
    "\n",
    "\n",
    "def obj_in_frame(left_corner, frame, img):\n",
    "    image_size = img.shape\n",
    "    frame_size = frame.shape\n",
    "    ROI = [[0,image_size[0]],[0,image_size[1]]]  # the whole image of the object\n",
    "    if left_corner[0] + image_size[0] > frame_size[0]:\n",
    "        # outside the right bounding edge\n",
    "        ROI[0] = [0, frame_size[0] - left_corner[0]]\n",
    "    if left_corner[0] < 0:\n",
    "        # outside the left bounding edge\n",
    "        ROI[0] = [-left_corner[0], image_size[0]]\n",
    "\n",
    "    if left_corner[1] + image_size[1] > frame_size[1]:\n",
    "        # outside the bottom bounding edge\n",
    "        ROI[1] = [0, frame_size[1] - left_corner[1]]\n",
    "    if left_corner[1] < 0:\n",
    "        # outside the upper bounding edge\n",
    "        ROI[1] = [-left_corner[1], image_size[1]]\n",
    "\n",
    "    return img[ROI[0][0]:ROI[0][1], ROI[1][0]:ROI[1][1]]\n",
    "\n",
    "\n",
    "def create_mask(img):\n",
    "    return np.zeros(img.shape[:2], dtype=\"uint8\")"
   ]
  },
  {
   "attachments": {},
   "cell_type": "markdown",
   "metadata": {},
   "source": [
    "Orbital Mechanics"
   ]
  },
  {
   "cell_type": "code",
   "execution_count": null,
   "metadata": {},
   "outputs": [],
   "source": [
    "def propagate_based_on_vector(r,v, t):\n",
    "    rf, vf = pykep.propagate_lagrangian(r0 = r, v0 = v, tof = t,mu = 398600)\n",
    "    return np.array(rf), np.array(vf)\n",
    "\n",
    "def propagate_based_on_elements(elements, t, kepler=True):\n",
    "    r, v = pykep.par2ic(elements, mu=398600)\n",
    "    rf,vf = pykep.propagate_lagrangian(r0 = r, v0 = v, tof = t,mu = 398600)\n",
    "    if kepler == False:  # return vectors\n",
    "        return np.array(rf),np.array(vf)\n",
    "    if kepler == True:  # return kepler elements\n",
    "        return pykep.ic2par(rf,vf,mu = 398600)"
   ]
  },
  {
   "attachments": {},
   "cell_type": "markdown",
   "metadata": {},
   "source": [
    "Utility"
   ]
  },
  {
   "cell_type": "code",
   "execution_count": 85,
   "metadata": {},
   "outputs": [],
   "source": [
    "def delete_white_background(img, write=False):\n",
    "    \"\"\"\n",
    "    Takes the images of Debris that I made in paint.\n",
    "    Inverts the colours and deletes the white background.\n",
    "    \"\"\"\n",
    "    img = np.invert(img)\n",
    "    gray = cv2.cvtColor(img, cv2.COLOR_BGR2GRAY)\n",
    "\n",
    "    _, alpha = cv2.threshold(gray, 240, 255, cv2.THRESH_BINARY)\n",
    "    \n",
    "    # Using cv2.split() to split channels \n",
    "    # of coloured image\n",
    "    b, g, r = cv2.split(img)\n",
    "\n",
    "    # Making list of Red, Green, Blue\n",
    "    # Channels and alpha\n",
    "    rgba = [b,g,r, alpha]\n",
    "\n",
    "    # Using cv2.merge() to merge rgba\n",
    "    # into a coloured/multi-channeled image\n",
    "    dst = cv2.merge(rgba,3)\n",
    "\n",
    "    # Writing and saving to a new image\n",
    "    if write is True:\n",
    "        cv2.imwrite(\"debris/deb.png\", dst)\n",
    "    return dst        "
   ]
  },
  {
   "attachments": {},
   "cell_type": "markdown",
   "metadata": {},
   "source": [
    "FOV"
   ]
  },
  {
   "cell_type": "code",
   "execution_count": 92,
   "metadata": {},
   "outputs": [],
   "source": [
    "def to_body_axis(vector, r, v):\n",
    "    \"\"\"\n",
    "    Calculates the rotation matrix and applies it. Returns the converted vector.\n",
    "    \"\"\"\n",
    "    unit_r = r/np.linalg(r)\n",
    "    unit_v = v/np.linalg(v)\n",
    "\n",
    "    R = np.matrix([[unit_v[0], unit_r[1]*unit_v[2] - unit_v[1]*unit_r[2], unit_r[0]],\n",
    "                [unit_v[1], unit_r[0]*unit_v[2] - unit_v[0]*unit_r[2], unit_r[1]],\n",
    "                [unit_v[2], unit_r[0]*unit_v[1] - unit_v[0]*unit_r[1], unit_r[2]]])\n",
    "    return np.matmul(R, vector)\n"
   ]
  },
  {
   "cell_type": "code",
   "execution_count": null,
   "metadata": {},
   "outputs": [],
   "source": [
    "def in_front_of_Earth(r1, rel, R=6371):\n",
    "    \"\"\"\n",
    "    Returns true if Earth is not in between the observer and target.\n",
    "    \"\"\"\n",
    "    alpha = np.arctan(R/np.linalg.norm(r1))\n",
    "    unit_r1 = r1/np.linalg.norm(r1)\n",
    "    unit_rel = rel/np.linalg.norm(rel)\n",
    "    beta = np.arccos(np.dot(unit_r1, -unit_rel))\n",
    "    if beta <= alpha:\n",
    "        return True\n",
    "    if beta > alpha:\n",
    "        return False\n",
    "\n",
    "def in_FOV(r1, v1, r2, max_vertical=np.radians(60), max_horisontal=np.radians(60)):\n",
    "    \"\"\"\n",
    "    Checks if the observer should be able to see the target.\n",
    "    1 for observer. 2 for target.\n",
    "    Returns True if yes\n",
    "    \"\"\"\n",
    "\n",
    "    rel = r2 - r1\n",
    "\n",
    "    if in_front_of_Earth(r1,rel) is False:\n",
    "        return False\n",
    "    \n",
    "    rel_unit = (rel)/np.linalg.norm(rel)\n",
    "    rel_unit = to_body_axis(rel_unit, r1, v1) \n",
    "    if rel_unit[2] < 0:\n",
    "        return False\n",
    "\n",
    "    horisontal_angle = abs(np.arctan(rel_unit[0]/rel_unit[2]))  # in the xz plane\n",
    "    vertical_angle = abs(np.arctan(rel_unit[1]/rel_unit[2]))  # in yz plane\n",
    "    if horisontal_angle <= max_horisontal and vertical_angle <= max_vertical:\n",
    "        return True\n",
    "    else:\n",
    "        return False"
   ]
  },
  {
   "attachments": {},
   "cell_type": "markdown",
   "metadata": {},
   "source": [
    "Initialisation"
   ]
  },
  {
   "cell_type": "code",
   "execution_count": 90,
   "metadata": {},
   "outputs": [],
   "source": [
    "elements_deb = [7290.2,0.0610,np.radians(30.379),np.radians(289.042),np.radians(293.776),np.radians(66.230)]\n",
    "elements_sat = [7133.8,0.0043,np.radians(98.289),np.radians(49.866),np.radians(356.768),np.radians(149.512)]"
   ]
  },
  {
   "cell_type": "code",
   "execution_count": 7,
   "metadata": {},
   "outputs": [],
   "source": [
    "vs = \"Earth\\sized_Earth_slowed.avi\"\n",
    "img_path = \"debris\\deb1.png\""
   ]
  },
  {
   "cell_type": "code",
   "execution_count": 89,
   "metadata": {},
   "outputs": [
    {
     "name": "stdout",
     "output_type": "stream",
     "text": [
      "(223, 260, 3)\n"
     ]
    },
    {
     "data": {
      "text/plain": [
       "(223, 260, 4)"
      ]
     },
     "execution_count": 89,
     "metadata": {},
     "output_type": "execute_result"
    }
   ],
   "source": [
    "object = cv2.imread(img_path)\n",
    "object = delete_white_background(object, write=True)"
   ]
  },
  {
   "cell_type": "code",
   "execution_count": null,
   "metadata": {},
   "outputs": [],
   "source": [
    "cap = cv2.VideoCapture(vs)  # open the video file\n",
    "frame_width = int(cap.get(3))\n",
    "frame_height = int(cap.get(4))\n",
    "out = cv2.VideoWriter('Earth_ball.avi', cv2.VideoWriter_fourcc('M', 'J', 'P', 'G'), 30, (frame_width, frame_height))\n",
    "t = 0\n",
    "if cap.isOpened() is False:\n",
    "    print(\"Error opening video file\")"
   ]
  },
  {
   "attachments": {},
   "cell_type": "markdown",
   "metadata": {},
   "source": [
    "Body"
   ]
  },
  {
   "cell_type": "code",
   "execution_count": null,
   "metadata": {},
   "outputs": [],
   "source": [
    "while cap.isOpened():\n",
    "    ret0, frame = cap.read()\n",
    "    if ret0 is True:\n",
    "        rO, vO = propagate_based_on_elements(elements_sat, t, kepler=False)\n",
    "        rT, vT = propagate_based_on_elements(elements_deb, t, kepler=False)\n",
    "        "
   ]
  }
 ],
 "metadata": {
  "kernelspec": {
   "display_name": "snakes",
   "language": "python",
   "name": "python3"
  },
  "language_info": {
   "codemirror_mode": {
    "name": "ipython",
    "version": 3
   },
   "file_extension": ".py",
   "mimetype": "text/x-python",
   "name": "python",
   "nbconvert_exporter": "python",
   "pygments_lexer": "ipython3",
   "version": "3.11.0"
  },
  "orig_nbformat": 4,
  "vscode": {
   "interpreter": {
    "hash": "59471867d23c2a72234382566122d21c3be946b94431b3b3919396cdb8e7a794"
   }
  }
 },
 "nbformat": 4,
 "nbformat_minor": 2
}
