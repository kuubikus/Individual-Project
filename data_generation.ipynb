{
 "cells": [
  {
   "cell_type": "code",
   "execution_count": 117,
   "metadata": {},
   "outputs": [],
   "source": [
    "import cv2\n",
    "import pykep\n",
    "import numpy as np\n",
    "import imutils\n",
    "import math"
   ]
  },
  {
   "cell_type": "markdown",
   "metadata": {},
   "source": [
    "Image tools"
   ]
  },
  {
   "cell_type": "code",
   "execution_count": 208,
   "metadata": {},
   "outputs": [],
   "source": [
    "def debris_in_pixels(physical_size, distance, alpha=np.pi/6, beta=np.pi/6, dimensions = (1080, 1980)):\n",
    "    \"\"\"\n",
    "    Returns how many pixels the object at a given distance should take up\n",
    "    :param physical_size: The size of the object\n",
    "    :param distance: Distance between the target and observer\n",
    "    :param alpha: horizontal FOV. Radians\n",
    "    :param beta: vertical FOV. Radians\n",
    "    :param dimensions: the pixel dimensions of the observer camera used\n",
    "    \"\"\"\n",
    "    print(distance)\n",
    "    len_x = 2*np.tan(alpha)*distance\n",
    "    len_y = 2*np.tan(beta)*distance\n",
    "    print(\"lengths\", len_x,len_y)\n",
    "    px_per_length_cols =  dimensions[0]/len_x\n",
    "    px_per_length_rows =  dimensions[1]/len_y\n",
    "    new_shape = math.ceil(physical_size[0] * px_per_length_cols), math.ceil(physical_size[1] * px_per_length_rows)\n",
    "    # think about the rounding here\n",
    "    return new_shape\n",
    "\n",
    "\n",
    "def resize(original_image, physical_size, distance):\n",
    "    \"\"\"\n",
    "    Resize the image based on the physical size of the target object and the relative distance between \n",
    "    target object and observer\n",
    "    :param physical_size: The size of the object in km\n",
    "    :param distance: Distance between the target and observer planes, the z coordinate of the relative vector\n",
    "    \"\"\"\n",
    "    width, height = debris_in_pixels(physical_size, distance)\n",
    "    if width == 0 and height ==0:\n",
    "        return False  # can't resize, object too small\n",
    "    else:\n",
    "        return cv2.resize(original_image, (width, height), interpolation=cv2.INTER_AREA)"
   ]
  },
  {
   "cell_type": "code",
   "execution_count": 206,
   "metadata": {},
   "outputs": [
    {
     "name": "stdout",
     "output_type": "stream",
     "text": [
      "5000\n",
      "lengths 5773.502691896258 5773.502691896258\n"
     ]
    },
    {
     "data": {
      "text/plain": [
       "(1, 3)"
      ]
     },
     "execution_count": 206,
     "metadata": {},
     "output_type": "execute_result"
    }
   ],
   "source": [
    "debris_in_pixels((10,10), 5000)"
   ]
  },
  {
   "cell_type": "code",
   "execution_count": 211,
   "metadata": {},
   "outputs": [],
   "source": [
    "def roi_in_frame(left_corner, object_size, frame):\n",
    "    \"\"\"\n",
    "    Return the part of the ROI that is in the frame.\n",
    "    :left_corner: the coordinates of the left corner of the object in px.\n",
    "    :object_size: size of the object in pixels in CV2 coordinates (columns, rows)\n",
    "    \"\"\"\n",
    "    frame_size = frame.shape\n",
    "    print(left_corner)\n",
    "    ROI = [[left_corner[0], left_corner[0] + object_size[0]],[left_corner[1], left_corner[1] + object_size[1]]]\n",
    "    \n",
    "    if left_corner[0] + object_size[0] > frame_size[0]:\n",
    "        # outside the right bounding edge\n",
    "        ROI[0] = [left_corner[0], frame_size[0]]\n",
    "    if left_corner[0] < 0:\n",
    "        # outside the left bounding edge\n",
    "        ROI[0] = [0, left_corner[0] + object_size[0]]\n",
    "\n",
    "    if left_corner[1] + object_size[1] > frame_size[1]:\n",
    "        # outside the bottom bounding edge\n",
    "        ROI[1] = [left_corner[1], frame_size[1]]\n",
    "    if left_corner[1] < 0:\n",
    "        # outside the upper bounding edge\n",
    "        ROI[1] = [0, left_corner[1] + object_size[1]]\n",
    "\n",
    "    return frame[ROI[0][0]:ROI[0][1], ROI[1][0]:ROI[1][1]]\n",
    "\n",
    "\n",
    "def obj_in_frame(left_corner, frame, img):\n",
    "    image_size = img.shape\n",
    "    frame_size = frame.shape\n",
    "    ROI = [[0,image_size[0]],[0,image_size[1]]]  # the whole image of the object\n",
    "    if left_corner[0] + image_size[0] > frame_size[0]:\n",
    "        # outside the right bounding edge\n",
    "        ROI[0] = [0, frame_size[0] - left_corner[0]]\n",
    "    if left_corner[0] < 0:\n",
    "        # outside the left bounding edge\n",
    "        ROI[0] = [-left_corner[0], image_size[0]]\n",
    "\n",
    "    if left_corner[1] + image_size[1] > frame_size[1]:\n",
    "        # outside the bottom bounding edge\n",
    "        ROI[1] = [0, frame_size[1] - left_corner[1]]\n",
    "    if left_corner[1] < 0:\n",
    "        # outside the upper bounding edge\n",
    "        ROI[1] = [-left_corner[1], image_size[1]]\n",
    "\n",
    "    return img[ROI[0][0]:ROI[0][1], ROI[1][0]:ROI[1][1]] "
   ]
  },
  {
   "cell_type": "code",
   "execution_count": 4,
   "metadata": {},
   "outputs": [],
   "source": [
    "def create_mask(img):\n",
    "    return np.zeros(img.shape[:2], dtype=\"uint8\")"
   ]
  },
  {
   "attachments": {},
   "cell_type": "markdown",
   "metadata": {},
   "source": [
    "Orbital Mechanics"
   ]
  },
  {
   "cell_type": "code",
   "execution_count": 5,
   "metadata": {},
   "outputs": [],
   "source": [
    "def propagate_based_on_vector(r,v, t):\n",
    "    rf, vf = pykep.propagate_lagrangian(r0 = r, v0 = v, tof = t,mu = 398600)\n",
    "    return np.array(rf), np.array(vf)\n",
    "\n",
    "def propagate_based_on_elements(elements, t, kepler=True):\n",
    "    r, v = pykep.par2ic(elements, mu=398600)\n",
    "    rf,vf = pykep.propagate_lagrangian(r0 = r, v0 = v, tof = t,mu = 398600)\n",
    "    if kepler == False:  # return vectors\n",
    "        return np.array(rf),np.array(vf)\n",
    "    if kepler == True:  # return kepler elements\n",
    "        return pykep.ic2par(rf,vf,mu = 398600)"
   ]
  },
  {
   "attachments": {},
   "cell_type": "markdown",
   "metadata": {},
   "source": [
    "Utility"
   ]
  },
  {
   "cell_type": "code",
   "execution_count": 6,
   "metadata": {},
   "outputs": [],
   "source": [
    "def delete_white_background(img, write=False):\n",
    "    \"\"\"\n",
    "    Takes the images of Debris that I made in paint.\n",
    "    Inverts the colours and deletes the white background.\n",
    "    \"\"\"\n",
    "    img = np.invert(img)\n",
    "    gray = cv2.cvtColor(img, cv2.COLOR_BGR2GRAY)\n",
    "\n",
    "    _, alpha = cv2.threshold(gray, 240, 255, cv2.THRESH_BINARY)\n",
    "    \n",
    "    # Using cv2.split() to split channels \n",
    "    # of coloured image\n",
    "    b, g, r = cv2.split(img)\n",
    "\n",
    "    # Making list of Red, Green, Blue\n",
    "    # Channels and alpha\n",
    "    rgba = [b,g,r, alpha]\n",
    "\n",
    "    # Using cv2.merge() to merge rgba\n",
    "    # into a coloured/multi-channeled image\n",
    "    dst = cv2.merge(rgba,3)\n",
    "\n",
    "    # Writing and saving to a new image\n",
    "    if write is True:\n",
    "        cv2.imwrite(\"debris/deb.png\", dst)\n",
    "    return dst        "
   ]
  },
  {
   "attachments": {},
   "cell_type": "markdown",
   "metadata": {},
   "source": [
    "FOV"
   ]
  },
  {
   "cell_type": "code",
   "execution_count": 176,
   "metadata": {},
   "outputs": [],
   "source": [
    "# Checks if a matrix is a valid rotation matrix.\n",
    "def isRotationMatrix(R) :\n",
    "    Rt = np.transpose(R)\n",
    "    shouldBeIdentity = np.dot(Rt, R)\n",
    "    I = np.identity(3, dtype = R.dtype)\n",
    "    n = np.linalg.norm(I - shouldBeIdentity)\n",
    "    return n < 1e-6\n",
    " \n",
    "# Calculates rotation matrix to euler angles\n",
    "# The result is the same as MATLAB except the order\n",
    "# of the euler angles ( x and z are swapped ).\n",
    "def rotationMatrixToEulerAngles(R) :\n",
    " \n",
    "    assert(isRotationMatrix(R))\n",
    " \n",
    "    sy = math.sqrt(R[0,0] * R[0,0] +  R[1,0] * R[1,0])\n",
    " \n",
    "    singular = sy < 1e-6\n",
    " \n",
    "    if  not singular :\n",
    "        x = math.atan2(R[2,1] , R[2,2])\n",
    "        y = math.atan2(-R[2,0], sy)\n",
    "        z = math.atan2(R[1,0], R[0,0])\n",
    "    else :\n",
    "        x = math.atan2(-R[1,2], R[1,1])\n",
    "        y = math.atan2(-R[2,0], sy)\n",
    "        z = 0\n",
    " \n",
    "    return np.array([x, y, z])"
   ]
  },
  {
   "cell_type": "code",
   "execution_count": 177,
   "metadata": {},
   "outputs": [],
   "source": [
    "def to_body_axis(vector, r, v):\n",
    "    \"\"\"\n",
    "    Calculates the rotation matrix and applies it. Returns the converted vector.\n",
    "    r and v are used to calculate the rotation matrix and vector is the vector to be \n",
    "    rotated.\n",
    "    \"\"\"\n",
    "    \n",
    "    unit_r = r/np.linalg.norm(r)\n",
    "    unit_v = v/np.linalg.norm(v)\n",
    "\n",
    "    R = np.array([[unit_v[0], -unit_r[0], unit_r[1]*unit_v[2] - unit_v[1]*unit_r[2]],\n",
    "                [unit_v[1], -unit_r[1], unit_v[0]*unit_r[2] - unit_r[0]*unit_v[2]],\n",
    "                [unit_v[2], -unit_r[2], unit_r[0]*unit_v[1] - unit_v[0]*unit_r[1]]])\n",
    "    R = R.transpose()\n",
    "    \n",
    "    return R.dot(vector)"
   ]
  },
  {
   "cell_type": "code",
   "execution_count": 178,
   "metadata": {},
   "outputs": [
    {
     "data": {
      "text/plain": [
       "array([ 0.        , -0.70710678,  0.70710678])"
      ]
     },
     "execution_count": 178,
     "metadata": {},
     "output_type": "execute_result"
    }
   ],
   "source": [
    "vec = [1,0,0]\n",
    "r = [1,1,0]\n",
    "v = [0,0,1]\n",
    "to_body_axis(vec, r, v)"
   ]
  },
  {
   "cell_type": "code",
   "execution_count": 194,
   "metadata": {},
   "outputs": [],
   "source": [
    "def angle_between(r1,r2):\n",
    "    \"\"\"\n",
    "    Calculate the angle between two vectors\n",
    "    \"\"\"\n",
    "    unit_1 = r1/np.linalg.norm(r1)\n",
    "    unit_2 = r2/np.linalg.norm(r2)\n",
    "    return np.arccos(np.dot(unit_1,unit_2))\n",
    "\n",
    "def behind_earth(r1, r2, R=6371):\n",
    "    \"\"\"\n",
    "    Checks if the target is between the Earth and observer based on \n",
    "    a line segment intersecting the sphere.\n",
    "    Returns true if the target is behind the Earth.\n",
    "    :param r1: observer\n",
    "    :param r2: target\n",
    "    \"\"\"\n",
    "    if angle_between(r1,r2) < np.pi/2:  \n",
    "        return False  # does not intersect\n",
    "    \n",
    "    phi = np.arccos(np.dot(r1, r2-r1)/(np.linalg.norm(r1)*np.linalg.norm(r2-r1)))\n",
    "    H = np.linalg.norm(r1)*np.sin(phi)\n",
    "    \n",
    "    if H <= R:\n",
    "        return True  # intersects\n",
    "    if H > R:\n",
    "        return False  # does not intersect\n",
    "\n",
    "def in_FOV(r1, v1, r2, max_vertical=np.radians(60), max_horisontal=np.radians(60)):\n",
    "    \"\"\"\n",
    "    Checks if the observer should be able to see the target.\n",
    "    1 for observer. 2 for target.\n",
    "    Returns True if yes\n",
    "    \"\"\"\n",
    "\n",
    "    rel = r2 - r1\n",
    "    \n",
    "    if behind_earth(r1,r2) is True:\n",
    "        print(\"failed cause earth\")\n",
    "        return False\n",
    "    \n",
    "    rel_unit = (rel)/np.linalg.norm(rel)\n",
    "    print(\"relative in global\", rel_unit)\n",
    "    rel_unit = to_body_axis(rel_unit, r1, v1) \n",
    "    print(\"relative in body\", rel_unit)\n",
    "    if rel_unit[2] < 0:\n",
    "        print(\"failed cause z\")\n",
    "        return False\n",
    "\n",
    "    horisontal_angle = abs(np.arctan(rel_unit[0]/rel_unit[2]))  # in the xz plane\n",
    "    vertical_angle = abs(np.arctan(rel_unit[1]/rel_unit[2]))  # in yz plane\n",
    "    print(\"angles\", np.degrees(horisontal_angle),np.degrees(vertical_angle))\n",
    "    if horisontal_angle <= max_horisontal and vertical_angle <= max_vertical:\n",
    "        return True\n",
    "    else:\n",
    "        print(\"failed cause angles\")\n",
    "        return False"
   ]
  },
  {
   "cell_type": "code",
   "execution_count": 188,
   "metadata": {},
   "outputs": [
    {
     "data": {
      "text/plain": [
       "False"
      ]
     },
     "execution_count": 188,
     "metadata": {},
     "output_type": "execute_result"
    }
   ],
   "source": [
    "r1 = np.array([7300,0,0])\n",
    "r2 = np.array([7200,0,0])\n",
    "behind_earth(r1, r2)"
   ]
  },
  {
   "cell_type": "code",
   "execution_count": 9,
   "metadata": {},
   "outputs": [],
   "source": [
    "def get_distance(r1, v1, r2):\n",
    "    rel = r2 - r1\n",
    "    rel = to_body_axis(rel, r1, v1)\n",
    "    distance = rel[2]\n",
    "    return distance\n",
    "\n",
    "def to_pixels(r,distance, cols=1980, rows=1080, alpha=np.pi / 6, beta=np.pi / 6,):\n",
    "    \"\"\"\n",
    "    Converts physical location to pixels.\n",
    "    \"\"\"\n",
    "    len_x = 2*np.tan(alpha)*distance\n",
    "    len_y = 2*np.tan(beta)*distance\n",
    "    px_per_length_cols =  cols/len_x\n",
    "    px_per_length_rows =  rows/len_y\n",
    "    return r*px_per_length_cols, r*px_per_length_rows\n"
   ]
  },
  {
   "attachments": {},
   "cell_type": "markdown",
   "metadata": {},
   "source": [
    "Initialisation"
   ]
  },
  {
   "cell_type": "code",
   "execution_count": 189,
   "metadata": {},
   "outputs": [],
   "source": [
    "elements_sat = [7290.2,0.0610,np.radians(30.379),np.radians(289.042),np.radians(293.776),np.radians(66.230)]\n",
    "elements_deb = [7133.8,0.0043,np.radians(98.289),np.radians(49.866),np.radians(356.768),np.radians(149.512)]"
   ]
  },
  {
   "cell_type": "code",
   "execution_count": 190,
   "metadata": {},
   "outputs": [],
   "source": [
    "vs = \"Earth\\sized_Earth_slowed.avi\"\n",
    "img_path = \"debris\\deb1.png\""
   ]
  },
  {
   "cell_type": "code",
   "execution_count": 191,
   "metadata": {},
   "outputs": [],
   "source": [
    "object_og = cv2.imread(img_path)\n",
    "object_og = delete_white_background(object_og, write=False)"
   ]
  },
  {
   "cell_type": "code",
   "execution_count": 192,
   "metadata": {},
   "outputs": [],
   "source": [
    "cap = cv2.VideoCapture(vs)  # open the video file\n",
    "frame_width = int(cap.get(3))\n",
    "frame_height = int(cap.get(4))\n",
    "out = cv2.VideoWriter('Earth_ball.avi', cv2.VideoWriter_fourcc('M', 'J', 'P', 'G'), 30, (frame_width, frame_height))\n",
    "t = 0\n",
    "if cap.isOpened() is False:\n",
    "    print(\"Error opening video file\")"
   ]
  },
  {
   "attachments": {},
   "cell_type": "markdown",
   "metadata": {},
   "source": [
    "Body"
   ]
  },
  {
   "cell_type": "code",
   "execution_count": 212,
   "metadata": {},
   "outputs": [
    {
     "name": "stdout",
     "output_type": "stream",
     "text": [
      "relative in global [-0.83826581  0.22320087  0.49748548]\n",
      "relative in body [-0.36476545  0.50749595  0.79183493]\n",
      "angles 24.73356033281702 32.65626925255723\n",
      "5788.988920655761\n",
      "lengths 6684.548623352729 6684.548623352729\n",
      "(array([-1017.28573049, -1465.79396677,  1146.71679859]), array([-554.88312572, -799.52398188,  625.48189014]))\n"
     ]
    },
    {
     "ename": "TypeError",
     "evalue": "'int' object is not subscriptable",
     "output_type": "error",
     "traceback": [
      "\u001b[1;31m---------------------------------------------------------------------------\u001b[0m",
      "\u001b[1;31mTypeError\u001b[0m                                 Traceback (most recent call last)",
      "Cell \u001b[1;32mIn[212], line 12\u001b[0m\n\u001b[0;32m     10\u001b[0m \u001b[39mif\u001b[39;00m object_new \u001b[39mis\u001b[39;00m \u001b[39mnot\u001b[39;00m \u001b[39mFalse\u001b[39;00m:\n\u001b[0;32m     11\u001b[0m     left_corner \u001b[39m=\u001b[39m to_pixels(rT, distance)  \u001b[39m# location of target in the frame\u001b[39;00m\n\u001b[1;32m---> 12\u001b[0m     roi \u001b[39m=\u001b[39m roi_in_frame(left_corner, object_new\u001b[39m.\u001b[39;49msize, frame)\n\u001b[0;32m     13\u001b[0m     \u001b[39m# create mask and inverse mask\u001b[39;00m\n\u001b[0;32m     14\u001b[0m     mask \u001b[39m=\u001b[39m create_mask(obj_in_frame(left_corner,frame,object_new))\n",
      "Cell \u001b[1;32mIn[211], line 9\u001b[0m, in \u001b[0;36mroi_in_frame\u001b[1;34m(left_corner, object_size, frame)\u001b[0m\n\u001b[0;32m      7\u001b[0m frame_size \u001b[39m=\u001b[39m frame\u001b[39m.\u001b[39mshape\n\u001b[0;32m      8\u001b[0m \u001b[39mprint\u001b[39m(left_corner)\n\u001b[1;32m----> 9\u001b[0m ROI \u001b[39m=\u001b[39m [[left_corner[\u001b[39m0\u001b[39m], left_corner[\u001b[39m0\u001b[39m] \u001b[39m+\u001b[39m object_size[\u001b[39m0\u001b[39;49m]],[left_corner[\u001b[39m1\u001b[39m], left_corner[\u001b[39m1\u001b[39m] \u001b[39m+\u001b[39m object_size[\u001b[39m1\u001b[39m]]]\n\u001b[0;32m     11\u001b[0m \u001b[39mif\u001b[39;00m left_corner[\u001b[39m0\u001b[39m] \u001b[39m+\u001b[39m object_size[\u001b[39m0\u001b[39m] \u001b[39m>\u001b[39m frame_size[\u001b[39m0\u001b[39m]:\n\u001b[0;32m     12\u001b[0m     \u001b[39m# outside the right bounding edge\u001b[39;00m\n\u001b[0;32m     13\u001b[0m     ROI[\u001b[39m0\u001b[39m] \u001b[39m=\u001b[39m [left_corner[\u001b[39m0\u001b[39m], frame_size[\u001b[39m0\u001b[39m]]\n",
      "\u001b[1;31mTypeError\u001b[0m: 'int' object is not subscriptable"
     ]
    }
   ],
   "source": [
    "while cap.isOpened():\n",
    "    ret0, frame = cap.read()\n",
    "    if ret0 is True:\n",
    "        rO, vO = propagate_based_on_elements(elements_sat, t, kepler=False)\n",
    "        rT, vT = propagate_based_on_elements(elements_deb, t, kepler=False)\n",
    "        t+=1  # move ahead by one second\n",
    "        if in_FOV(rO, vO, rT) is True:\n",
    "            distance = get_distance(rO,vO,rT)\n",
    "            object_new = resize(object_og, (1,1), distance)  # size of target in the frame\n",
    "            if object_new is not False:\n",
    "                left_corner = to_pixels(rT, distance)  # location of target in the frame\n",
    "                roi = roi_in_frame(left_corner, object_new.size, frame)\n",
    "                # create mask and inverse mask\n",
    "                mask = create_mask(obj_in_frame(left_corner,frame,object_new))\n",
    "                mask_inv = cv2.bitwise_not(mask)\n",
    "\n",
    "                frame_bg = cv2.bitwise_and(roi, roi, mask=mask_inv)\n",
    "                object_fg = cv2.bitwise_and(object_new,object_new, mask=mask)\n",
    "\n",
    "                dst = cv2.add(frame_bg, object_fg)\n",
    "                frame[left_corner[0]:roi.shape[0]+left_corner[0],left_corner[1]:roi.shape[1]+left_corner[1]]\n",
    "                \n",
    "                cv2.imshow(\"Earth with ball\", frame)\n",
    "                cv2.waitKey(0)\n",
    "        out.write(frame)\n",
    "    else:\n",
    "        break\n",
    "\n",
    "out.release()\n",
    "cap.release()\n",
    "cv2.destroyAllWindows()"
   ]
  },
  {
   "cell_type": "code",
   "execution_count": null,
   "metadata": {},
   "outputs": [],
   "source": []
  }
 ],
 "metadata": {
  "kernelspec": {
   "display_name": "snakes",
   "language": "python",
   "name": "python3"
  },
  "language_info": {
   "codemirror_mode": {
    "name": "ipython",
    "version": 3
   },
   "file_extension": ".py",
   "mimetype": "text/x-python",
   "name": "python",
   "nbconvert_exporter": "python",
   "pygments_lexer": "ipython3",
   "version": "3.10.8"
  },
  "orig_nbformat": 4,
  "vscode": {
   "interpreter": {
    "hash": "ba46d3c1349a8793b8508840c8d7327b4fd991649259d1bdc996506b1c3d27b3"
   }
  }
 },
 "nbformat": 4,
 "nbformat_minor": 2
}
