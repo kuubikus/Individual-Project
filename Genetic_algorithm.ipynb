{
 "cells": [
  {
   "cell_type": "code",
   "execution_count": 1,
   "metadata": {},
   "outputs": [],
   "source": [
    "import numpy as np\n",
    "import matplotlib.pyplot as plt\n",
    "from matplotlib import cm\n",
    "from matplotlib.ticker import LinearLocator\n",
    "from mpl_toolkits import mplot3d\n",
    "import pykep\n",
    "import random\n",
    "from scipy.optimize import newton\n",
    "import csv\n",
    "import pandas as pd\n",
    "import math\n",
    "from numpy.linalg import inv\n",
    "import copy\n",
    "import os\n",
    "from pathlib import Path\n",
    "from decimal import Decimal"
   ]
  },
  {
   "cell_type": "markdown",
   "metadata": {},
   "source": [
    "Utility functions"
   ]
  },
  {
   "cell_type": "code",
   "execution_count": 2,
   "metadata": {},
   "outputs": [],
   "source": [
    "def check_duplicates(data):\n",
    "    duplicates = []\n",
    "    i1 = 0\n",
    "    for dict1 in data:\n",
    "        i2 = 0\n",
    "        for dict2 in data:\n",
    "            if dict1 == dict2 and i1 != i2 and dict2 not in duplicates:\n",
    "                duplicates.append(dict2)\n",
    "            i2 +=1\n",
    "        i1+=1\n",
    "    if duplicates:\n",
    "        return True, duplicates\n",
    "    else:\n",
    "        return False, duplicates\n",
    "    \n",
    "\n",
    "def check_points(point, data):\n",
    "    if point[0] >= 0 and point[1] >= 0:\n",
    "        for dict in data:\n",
    "            if dict[\"Point\"] == point:\n",
    "                return False\n",
    "        return True\n",
    "    else:\n",
    "        return False\n"
   ]
  },
  {
   "cell_type": "code",
   "execution_count": 3,
   "metadata": {},
   "outputs": [],
   "source": [
    "def normalise_input(series):\n",
    "    \"\"\"\n",
    "    Normalises the pandas dataframe and convert each entry to a np array represting a unit vector.\n",
    "    Returns the normalised one.\n",
    "    \"\"\"\n",
    "    series = series.str.strip(\"[ \")\n",
    "    series = series.str.strip(\"[\")\n",
    "    series = series.str.strip(\"]\")\n",
    "    series = series.str.replace('  ',' ')\n",
    "    for i in range(len(series)):\n",
    "        series[i] = np.fromstring(series[i], sep=' ')\n",
    "    return series"
   ]
  },
  {
   "cell_type": "code",
   "execution_count": 57,
   "metadata": {},
   "outputs": [],
   "source": [
    "def to_global_axis(vector, r, v):\n",
    "    \"\"\"\n",
    "    Calculates the rotation matrix and applies it. Returns the converted vector.\n",
    "    r and v are used to calculate the rotation matrix and vector is the vector to be \n",
    "    rotated.\n",
    "    \"\"\"\n",
    "    unit_r = r/np.linalg.norm(r)\n",
    "    unit_v = v/np.linalg.norm(v)\n",
    "    \n",
    "    R = np.array([[Decimal(unit_v[0]), Decimal(-unit_r[0]), Decimal(unit_r[1]*unit_v[2] - unit_v[1]*unit_r[2])],\n",
    "                [Decimal(unit_v[1]), Decimal(-unit_r[1]), Decimal(unit_v[0]*unit_r[2] - unit_r[0]*unit_v[2])],\n",
    "                [Decimal(unit_v[2]), Decimal(-unit_r[2]), Decimal(unit_r[0]*unit_v[1] - unit_v[0]*unit_r[1])]])\n",
    "    \n",
    "    vec = R.dot(vector)\n",
    "    return vec/np.linalg.norm(vec)"
   ]
  },
  {
   "cell_type": "code",
   "execution_count": 5,
   "metadata": {},
   "outputs": [],
   "source": [
    "def normalise_orbit(orbit):\n",
    "    i = 0\n",
    "    for element in orbit:\n",
    "        if math.isnan(element) is True:\n",
    "            orbit[i] = False\n",
    "        i+=1\n",
    "    return orbit"
   ]
  },
  {
   "cell_type": "code",
   "execution_count": 6,
   "metadata": {},
   "outputs": [],
   "source": [
    "def to_csv(data, filename):\n",
    "    for dict1 in data:\n",
    "        dict1.update({\"Rho_i\":dict1[\"Point\"][0]})\n",
    "        dict1.update({\"Rho_f\":dict1[\"Point\"][1]})\n",
    "    \n",
    "    with open(filename, 'w', newline='') as f:\n",
    "        fieldnames = [\"Point\", \"Orbit\", \"Fit\",\"Rho_i\",\"Rho_f\"]\n",
    "        writer = csv.DictWriter(f, fieldnames=fieldnames)\n",
    "\n",
    "        writer.writeheader()\n",
    "        writer.writerows(data)"
   ]
  },
  {
   "cell_type": "code",
   "execution_count": 7,
   "metadata": {},
   "outputs": [],
   "source": [
    "def evaluate_D(elementsO, TOF):\n",
    "    mu = 398600  # km^3/s^2\n",
    "    aO = elementsO[0]\n",
    "    eO = elementsO[1]\n",
    "    aT_max = 50000\n",
    "\n",
    "    # some calculations\n",
    "    rO_perigee = (1-eO)*aO\n",
    "    vO_perigee = ((1+eO)/(1-eO) * mu/aO)**0.5\n",
    "    vT_perigee_max = (2*mu/rO_perigee*(1-rO_perigee/(2*aT_max)))**0.5\n",
    "\n",
    "    return (vO_perigee + vT_perigee_max)*TOF, rO_perigee"
   ]
  },
  {
   "cell_type": "code",
   "execution_count": 8,
   "metadata": {},
   "outputs": [],
   "source": [
    "def create_grid(a, c=0.01):\n",
    "    \n",
    "    xs = np.arange(0,a, a*c)\n",
    "    ys = np.arange(0,a, a*c)\n",
    "    return xs, ys"
   ]
  },
  {
   "cell_type": "code",
   "execution_count": 9,
   "metadata": {},
   "outputs": [],
   "source": [
    "def grid_between_lines(D, a):\n",
    "    distances = []  # a list that will contain the whole population points (rho_i, rho_f)\n",
    "    \n",
    "    xs, ys = create_grid(a)\n",
    "    for x in xs:\n",
    "        for y in ys:\n",
    "            if y < (x + D) and y > (x - D):\n",
    "                distances.append([x,y])  # only add points that are between the lines\n",
    "\n",
    "    #plt.plot(xc, yc, '.r')\n",
    "    #plt.show()\n",
    "    \n",
    "    return distances"
   ]
  },
  {
   "cell_type": "code",
   "execution_count": 10,
   "metadata": {},
   "outputs": [],
   "source": [
    "def get_elite(data, n=100):\n",
    "    sorted_data = sorted(data, key=lambda x: x[\"Fit\"], reverse=True)\n",
    "    return sorted_data[:n]\n",
    "\n",
    "def get_best(data):\n",
    "    max_fit = 0\n",
    "    i = 0\n",
    "    for dict1 in data:\n",
    "        fit = dict1[\"Fit\"]\n",
    "        if fit >= max_fit:\n",
    "            if fit == max_fit:\n",
    "                print(\"the same fit\")\n",
    "                print(data[i][\"Point\"])\n",
    "                continue\n",
    "            i_max = i\n",
    "            max_fit = fit\n",
    "        i += 1\n",
    "    return data[i_max]\n"
   ]
  },
  {
   "cell_type": "code",
   "execution_count": 11,
   "metadata": {},
   "outputs": [],
   "source": [
    "def show_pop(data):\n",
    "    xs = []\n",
    "    ys = []\n",
    "    if isinstance(data[0], dict):\n",
    "        for dict1 in data:\n",
    "            xs.append(dict1[\"Point\"][0])\n",
    "            ys.append(dict1[\"Point\"][1])\n",
    "    \n",
    "    else:\n",
    "        for point in data:\n",
    "            xs.append(point[0])\n",
    "            ys.append(point[1])\n",
    "    fig = plt.figure()\n",
    "    ax = fig.add_subplot(1,1,1)\n",
    "    ax.plot(xs, ys, '.k', markersize=5)\n",
    "    ax.grid()\n",
    "    plt.xlim(left=0)\n",
    "    plt.ylim(bottom=0)\n",
    "\n",
    "    plt.show()"
   ]
  },
  {
   "attachments": {},
   "cell_type": "markdown",
   "metadata": {},
   "source": [
    "Orbit as a function of time"
   ]
  },
  {
   "cell_type": "code",
   "execution_count": 12,
   "metadata": {},
   "outputs": [],
   "source": [
    "def get_period(a, mu = 398600):\n",
    "    \"\"\"`\n",
    "    return the period in seconds\n",
    "    a needs to be in km\n",
    "    \"\"\"\n",
    "    return (2*np.pi*a**1.5)/mu**0.5\n",
    "\n",
    "def kepler(E, M_e, e):\n",
    "    \"\"\"Kepler's equation, to be used in a Newton solver.\"\"\"\n",
    "    return E - e * np.sin(E) - M_e\n",
    "\n",
    "def d_kepler_d_E(E, M_e, e):\n",
    "    \"\"\"The derivative of Kepler's equation, to be used in a Newton solver.\n",
    "    \n",
    "    Note that the argument M_e is unused, but must be present so the function\n",
    "    arguments are consistent with the kepler function.\n",
    "    \"\"\"\n",
    "    return 1 - e * np.cos(E)\n",
    "\n",
    "def time_since_perigee(elements):\n",
    "    a = elements[0]\n",
    "    e = elements[1]\n",
    "    E = elements[5]\n",
    "    E_mean = E - e*np.sin(E)\n",
    "    T = get_period(a)\n",
    "    return E_mean * T/(2*np.pi)\n",
    "\n",
    "def propagate_based_on_vector(orbit, t,kepler):\n",
    "    r, v = orbit\n",
    "    rf, vf = pykep.propagate_lagrangian(r0 = r, v0 = v, tof = t,mu = 398600)\n",
    "    rf = [Decimal(x) for x in rf]\n",
    "    vf = [Decimal(x) for x in vf]\n",
    "    return np.array(rf), np.array(vf)\n",
    "\n",
    "def propagate_based_on_elements(elements, t, kepler):\n",
    "    r, v = pykep.par2ic(elements, mu=398600)\n",
    "    if t > 0:\n",
    "        rf,vf = pykep.propagate_lagrangian(r0 = r, v0 = v, tof = t,mu = 398600)\n",
    "    else:\n",
    "        rf, vf = r, v\n",
    "    if kepler == False:  # return vectors\n",
    "        rf = [Decimal(x) for x in rf]\n",
    "        vf = [Decimal(x) for x in vf]\n",
    "        return np.array(rf),np.array(vf)\n",
    "    if kepler == True:  # return kepler elements\n",
    "        return pykep.ic2par(rf,vf,mu = 398600)\n",
    "    \n",
    "def propagate(orbit,t,kepler=False):\n",
    "    if len(orbit) == 2:\n",
    "        return propagate_based_on_vector(orbit,t,kepler)\n",
    "    if len(orbit) == 6:\n",
    "        return propagate_based_on_elements(orbit,t, kepler)"
   ]
  },
  {
   "cell_type": "code",
   "execution_count": 66,
   "metadata": {},
   "outputs": [],
   "source": [
    "def convert_to_global(List_of_dic, elements):\n",
    "    converted = []\n",
    "    for dict1 in List_of_dic:\n",
    "        for vec in dict1[\"list in body axis\"]:\n",
    "            t = vec[-1]\n",
    "            hat = vec[:-1]\n",
    "            r, v = propagate(elements,t,kepler=False)\n",
    "            hat_converted = to_global_axis(hat,r,v)\n",
    "            hat_converted = np.append(hat_converted, [t])\n",
    "            converted.append(hat_converted)\n",
    "        dict1[\"converted\"] = converted"
   ]
  },
  {
   "attachments": {},
   "cell_type": "markdown",
   "metadata": {},
   "source": [
    "Unit vectors"
   ]
  },
  {
   "cell_type": "code",
   "execution_count": 13,
   "metadata": {},
   "outputs": [],
   "source": [
    "def to_unit_vector(point, width=1080, height=1980 , AOV=np.radians(39.23)):\n",
    "    \"\"\"\n",
    "    y points through the screen and x points right (CCW motion). Point is in cols, rows.\n",
    "    Output corresponds to rows, cols.\n",
    "    \"\"\"\n",
    "    distance_to_screen = (width**2+height**2)**0.5/(2*np.tan(AOV))\n",
    "    vector = np.array((point[0]-height/2, distance_to_screen, width/2-point[1]))\n",
    "    #print(\"vector in px\", vector)\n",
    "    vector = vector/np.linalg.norm(vector)\n",
    "    return vector"
   ]
  },
  {
   "cell_type": "code",
   "execution_count": 14,
   "metadata": {},
   "outputs": [],
   "source": [
    "def unit_vector(vector1, vector2):\n",
    "    \"\"\"\n",
    "    returns the unit vector between two vectors.\n",
    "    \"\"\"\n",
    "    rel = vector2 - vector1\n",
    "    return rel/np.linalg.norm(rel)\n",
    "\n",
    "def L_between_orbits(elements1, orbit, t, tof):\n",
    "    \"\"\"\n",
    "    Input is two Kepler orbits in Kepler elements\n",
    "    \"\"\"\n",
    "    r1, v1 = propagate(elements1, t, kepler=False)\n",
    "    r2, v2 = propagate(orbit, tof, kepler=False)\n",
    "    \n",
    "    \n",
    "    #print(\"Ideal pos  vector\",r_ideal)\n",
    "    rel = r2 - r1\n",
    "    \n",
    "    if np.linalg.norm(rel) ==0:\n",
    "        \n",
    "        return None\n",
    "    #print(\"ideal rel vec\", rel_ideal)\n",
    "    unit = rel/np.linalg.norm(rel)\n",
    "    #print(\"ideal rel unit vec\",rel_ideal/np.linalg.norm(rel_ideal))\n",
    "    return unit\n"
   ]
  },
  {
   "attachments": {},
   "cell_type": "markdown",
   "metadata": {},
   "source": [
    "Lambert's problem"
   ]
  },
  {
   "cell_type": "code",
   "execution_count": 15,
   "metadata": {},
   "outputs": [],
   "source": [
    "def constraints(r,v, rO_perigee):\n",
    "    \"\"\"\n",
    "    Return true if satisfied.\n",
    "    \"\"\"\n",
    "    elements = pykep.ic2par(r,v,mu=398600)\n",
    "    a = elements[0]\n",
    "    e = elements[1]\n",
    "    R_earth = 6371 # km\n",
    "    if R_earth + 200 <= a and a <= 50000 and 0 <= e and e <= 1: # aT_max = 50000 km\n",
    "        return True\n",
    "    else:\n",
    "        return False"
   ]
  },
  {
   "cell_type": "code",
   "execution_count": 16,
   "metadata": {},
   "outputs": [],
   "source": [
    "def get_target_r(elementsO, rel_initial, rel_final, point, ti,tof):\n",
    "    \"\"\"\n",
    "    The inputs are the observer elements and target posistion vectors as unit vectors in observer CS.\n",
    "    For final measurments they are propagated forward in time (t).\n",
    "    Point corresponds to a chromosome.\n",
    "    Returns intial and final target posistion vectors.\n",
    "    \"\"\"\n",
    "    # initial \"measurment\" and orbit\n",
    "    rho_i = Decimal(point[0])\n",
    "    rO_initial, vO_initial = propagate(elementsO, ti, kepler=False)\n",
    "    rT_i = rho_i*rel_initial + rO_initial\n",
    "    # final \"measurment\" and orbit\n",
    "    rho_f = Decimal(point[1])\n",
    "    rO_final, vO_final = propagate(elementsO, ti+tof, kepler=False)\n",
    "    rT_f = rho_f*rel_final + rO_final\n",
    "    return rT_i, rT_f"
   ]
  },
  {
   "cell_type": "code",
   "execution_count": 17,
   "metadata": {},
   "outputs": [],
   "source": [
    "def solve_lambert(ri, rf, t):\n",
    "    \"\"\"\n",
    "    Solves the lambert problem. Input two posistion vector and the time between those locations.\n",
    "    Returns the solution in Kepler elements.\n",
    "    \"\"\"\n",
    "    # solve Lambert's problem\n",
    "    ri = np.array([float(x) for x in ri])\n",
    "    rf = np.array([float(x) for x in rf])\n",
    "    l = pykep.lambert_problem(r1 = ri, r2 = rf, tof = t, mu=398600)\n",
    "    # convert results\n",
    "    vi = l.get_v1()[0]  # get the velocity vector at initial time for one revolution\n",
    "    return ri, vi"
   ]
  },
  {
   "cell_type": "code",
   "execution_count": 18,
   "metadata": {},
   "outputs": [],
   "source": [
    "def Lambert_problem(data, elementsO, rT_initial, rT_final, point, rO_perigee, ti, TOF):\n",
    "    # set up Lambert's problem\n",
    "    ri, rf = get_target_r(elementsO, rT_initial, rT_final, point, ti,TOF)\n",
    "    \n",
    "    # solve Lambert's problem\n",
    "    ri, vi = solve_lambert(ri, rf, t = TOF)\n",
    "    if constraints(ri,vi, rO_perigee) is True:\n",
    "        new_dict = dict(Point = point, Orbit = [ri, vi])\n",
    "        data.append(new_dict)\n",
    "    if constraints(ri,vi, rO_perigee) is False:\n",
    "        raise ValueError\n",
    "    return data"
   ]
  },
  {
   "attachments": {},
   "cell_type": "markdown",
   "metadata": {},
   "source": [
    "Genetic algorithm building blocks"
   ]
  },
  {
   "cell_type": "code",
   "execution_count": 19,
   "metadata": {},
   "outputs": [],
   "source": [
    "def expand_point(point, k):\n",
    "    x,y = point\n",
    "    return [[x + k, y], [x, y + k], [x - k, y], [x, y - k], [x + k, y + k], [x - k, y - k], [x + k, y - k], [x - k, y + k]]\n"
   ]
  },
  {
   "cell_type": "code",
   "execution_count": 20,
   "metadata": {},
   "outputs": [],
   "source": [
    "def mutate(data, elementsO, r_initial, r_final, rO_perigee, ti, TOF, index):\n",
    "    \"\"\"\n",
    "    mutates a single data point given by index. If the point doesn't satisfy conditions then\n",
    "    the function returns False.\n",
    "    \"\"\"\n",
    "    stnd_devs = [-10,-1,1,10]\n",
    "    added = 0\n",
    "    for stnd_dev in stnd_devs:\n",
    "        new_points = expand_point(data[index][\"Point\"],stnd_dev)\n",
    "        for new_point in new_points:\n",
    "            if check_points(new_point,data) is True:  # not a duplicate or a neg value\n",
    "                try:\n",
    "                    data = Lambert_problem(data, elementsO, r_initial, r_final, new_point, rO_perigee, ti, TOF)\n",
    "                    added += 1\n",
    "                except ValueError:\n",
    "                    continue \n",
    "    if added > 0:\n",
    "        return True, data\n",
    "    else:\n",
    "        return False, data\n",
    "\n",
    "def mutation(data, elementsO, r_initial, r_final, rO_perigee, ti, TOF, no_of_outputs):\n",
    "    \"\"\"\n",
    "    Input how many extra chromoses are wanted.\n",
    "    \"\"\"\n",
    "    print(\"number of points to mutate\", no_of_outputs)\n",
    "    indices = [x for x in range(len(data))]\n",
    "    \n",
    "    last_length = len(data)\n",
    "    final_length = last_length + no_of_outputs\n",
    "    \n",
    "    while len(data) != final_length:\n",
    "        \n",
    "        if len(data) < final_length:\n",
    "            passed = False\n",
    "            while passed is False:\n",
    "                index = random.choice(indices)  # get a random entry from list\n",
    "                indices.remove(index)  # remove that entry to avoid duplicates\n",
    "                passed, data = mutate(data, elementsO, r_initial, r_final, rO_perigee, ti, TOF, index)  \n",
    "                #print(passed)\n",
    "                if passed == True:\n",
    "                    no_of_successful_mutations = len(data) - last_length \n",
    "                    #print(no_of_successful_mutations)\n",
    "                    #print(\"at\", no_of_successful_mutations, \"duplictes\", check_duplicates(data))\n",
    "                if not indices:  # list is empty\n",
    "                    #print(\"no of successful mutations\", no_of_successful_mutations)\n",
    "                    indices = [x + last_length for x in range(no_of_successful_mutations)]  # mutate the mutated points further\n",
    "                    #print(indices)\n",
    "                    last_length = len(data)\n",
    "                    no_of_successful_mutations = 0\n",
    "                    if not indices:\n",
    "                        indices = [x for x in range(last_length)]\n",
    "                        #print(indices)\n",
    "                    \n",
    "\n",
    "        if len(data) > final_length:\n",
    "            no_of_extra_points = len(data) - final_length \n",
    "            \n",
    "            for i in range(no_of_extra_points):\n",
    "                index = random.randint(0, len(data)-1)\n",
    "                \n",
    "                data.pop(index)\n",
    "            \n",
    "        \n",
    "    return data"
   ]
  },
  {
   "cell_type": "code",
   "execution_count": 21,
   "metadata": {},
   "outputs": [],
   "source": [
    "def one_crossover(point1, point2, data, D):\n",
    "    if np.random.randint(0,2) == 1:\n",
    "        #print(\"first point1\",point1)\n",
    "        #print(\"first point2\",point2)\n",
    "        point1[1] = point2[1]\n",
    "        #print(\"second point1\",point1)\n",
    "        #print(\"second point2\",point2)\n",
    "        if abs(point1[0] - point1[1]) < D and abs(point2[0] - point2[1]) < D:\n",
    "            #print(\"passed up\")\n",
    "            return point1\n",
    "        else:\n",
    "            return False\n",
    "    else:\n",
    "        point2[1] = point1[1]\n",
    "        if abs(point1[0] - point1[1]) < D and abs(point2[0] - point2[1]) < D:\n",
    "            #print(\"passed down\")\n",
    "            return point2\n",
    "        else:\n",
    "            return False\n",
    "\n",
    "def get_random_points(data):\n",
    "    index1 = random.randint(0, len(data) - 1)\n",
    "    index2 = random.randint(0, len(data) - 1)\n",
    "    while index1 == index2:  # can't be the same\n",
    "        index2 = random.randint(0, len(data) - 1)\n",
    "    point1 = data[index1][\"Point\"]\n",
    "    point2 = data[index2][\"Point\"]\n",
    "    return point1, point2\n",
    "\n",
    "def crossover(data, elementsO, r_initial, r_final, rO_perigee, ti, TOF, no_of_outputs, D):\n",
    "    for i in range(no_of_outputs):\n",
    "        passed = False\n",
    "        while passed is False:\n",
    "            point1, point2 = get_random_points(data)\n",
    "            extra_point = one_crossover(point1, point2, data,D)\n",
    "            while extra_point == False:\n",
    "                point1, point2 = get_random_points(data)\n",
    "                extra_point = one_crossover(point1, point2, data,D)  # the inequality must be satisfied\n",
    "            try:\n",
    "                data = Lambert_problem(data, elementsO, r_initial, r_final, extra_point, rO_perigee, ti, TOF)  # solve for orbits\n",
    "                passed = True\n",
    "            except ValueError:\n",
    "                passed = False  # will go back into the loop and select a new random point that passes the constraints\n",
    "    return data\n"
   ]
  },
  {
   "cell_type": "code",
   "execution_count": 22,
   "metadata": {},
   "outputs": [],
   "source": [
    "# fitness with a cross product\n",
    "def fitness(elementsO, set_of_measurments, estimated_orbit,test=False):\n",
    "    fit = Decimal(1)\n",
    "    t_initial = set_of_measurments[0][-1]\n",
    "    #print(\"initial time\", t_initial)\n",
    "    for coordinates in set_of_measurments:\n",
    "        t = coordinates[-1]\n",
    "        \n",
    "        #print(\"pos vector of sat\", r,v)\n",
    "        #print(\"measured unit vector in body CS\", coordinates)\n",
    "        L_measurment = coordinates[:-1]\n",
    "        tof = t - t_initial\n",
    "        L_ast = L_between_orbits(elementsO, estimated_orbit,t,tof)\n",
    "        if L_ast is not None:\n",
    "            cross = np.cross(L_measurment, L_ast)\n",
    "            cross_mod = np.linalg.norm(cross)\n",
    "            if test is True:\n",
    "                print(\"time\",t)\n",
    "                print(\"L ast\", L_ast)\n",
    "                print(\"measured unit vector in global CS\", L_measurment)\n",
    "                \n",
    "                print(\"cross product\", cross)\n",
    "                print(\"cross product lenth\", cross_mod)\n",
    "            #print(\"norms\", np.linalg.norm(L_measurment),np.linalg.norm(L_ast))\n",
    "            fit = fit*(Decimal(1)-cross_mod)\n",
    "    return fit"
   ]
  },
  {
   "cell_type": "code",
   "execution_count": 23,
   "metadata": {},
   "outputs": [],
   "source": [
    "def fitness(elementsO, set_of_measurments, estimated_orbit,test=False):\n",
    "    fit = Decimal(1)\n",
    "    t_initial = set_of_measurments[0][-1]\n",
    "    #print(\"initial time\", t_initial)\n",
    "    for coordinates in set_of_measurments:\n",
    "        t = coordinates[-1]\n",
    "        \n",
    "        #print(\"pos vector of sat\", r,v)\n",
    "        #print(\"measured unit vector in body CS\", coordinates)\n",
    "        L_measurment = coordinates[:-1]\n",
    "        tof = t - t_initial\n",
    "        L_ast = L_between_orbits(elementsO, estimated_orbit,t,tof)\n",
    "        if L_ast is not None:\n",
    "            if test is True:\n",
    "                print(\"time\",t)\n",
    "                print(\"L ast\", L_ast)\n",
    "                print(\"measured unit vector in global CS\", L_measurment)\n",
    "                print(\"dot\", np.dot(L_measurment, L_ast))\n",
    "            #print(\"norms\", np.linalg.norm(L_measurment),np.linalg.norm(L_ast))\n",
    "            fit = fit * np.dot(L_measurment, L_ast)\n",
    "    return fit**4\n",
    "\n",
    "def objective_func(elementsO, set_of_measurments, data):\n",
    "    for og_dict in data:\n",
    "        fit_value = fitness(elementsO, set_of_measurments, og_dict[\"Orbit\"])\n",
    "        og_dict[\"Fit\"] = fit_value   # fitness value in the data\n",
    "    return data\n"
   ]
  },
  {
   "cell_type": "code",
   "execution_count": 24,
   "metadata": {},
   "outputs": [],
   "source": [
    "def get_pop(elementsO, rel_intial, rel_final, ti, TOF,a):\n",
    "    D, rO_perigee = evaluate_D(elementsO, TOF)\n",
    "    # get an evenly spaced grid between two lines Rho in the range [0,9000]\n",
    "    original_population = grid_between_lines(D,a)  # initial population\n",
    "    data = []\n",
    "    #print(\"grid\")\n",
    "    #show_pop(original_population)\n",
    "\n",
    "    for point in original_population:\n",
    "        try:\n",
    "            data = Lambert_problem(data, elementsO, rel_intial, rel_final, point, rO_perigee, ti, TOF)\n",
    "        except ValueError:\n",
    "            continue\n",
    "    return data, rO_perigee"
   ]
  },
  {
   "cell_type": "code",
   "execution_count": 25,
   "metadata": {},
   "outputs": [],
   "source": [
    "def initialise_pop(elementsO, rel_intial, rel_final, ti, TOF, N=1000, limit=9000):\n",
    "    \"\"\"\n",
    "    Initialises the population of specific size based on initial and final \"measurments\".\n",
    "    The inputs are the observer orbit and the inital and final posistion vector for the target.\n",
    "    Returns a list of dictionaries.\n",
    "    \"\"\"\n",
    "    data, rO_perigee = get_pop(elementsO, rel_intial, rel_final, ti, TOF,a=limit)\n",
    "    \n",
    "    n = len(data)\n",
    "    print(\"initial size\", n)\n",
    "\n",
    "    if n < 0.5*N:\n",
    "        # try initialising data again\n",
    "        limit = int(max(data[-1][\"Point\"])*1.1)\n",
    "        print(\"range\", limit)\n",
    "        data, rO_perigee = get_pop(elementsO, rel_intial, rel_final, ti, TOF,a=limit)\n",
    "        n = len(data)  \n",
    "        print(\"second iteration\", n)\n",
    "    \n",
    "    if n > N:\n",
    "        # remove the number of extra points randomly\n",
    "        no_of_extra_points = int(n - N)\n",
    "        print(\"extra points\", no_of_extra_points, type(no_of_extra_points))\n",
    "        for x in range(no_of_extra_points):\n",
    "            index = random.randint(0, len(data)-1)\n",
    "            data.pop(index)\n",
    "\n",
    "    if n < N:\n",
    "        # gain extra points via mutation\n",
    "        no_of_extra_points = N - n\n",
    "        #print(no_of_extra_points)\n",
    "        data = mutation(data, elementsO, rel_intial, rel_final, rO_perigee, ti, TOF, no_of_extra_points)  \n",
    "        \n",
    "    return data,limit"
   ]
  },
  {
   "attachments": {},
   "cell_type": "markdown",
   "metadata": {},
   "source": [
    "Stop conditions"
   ]
  },
  {
   "cell_type": "code",
   "execution_count": 26,
   "metadata": {},
   "outputs": [],
   "source": [
    "def mean(data):\n",
    "    n = len(data)\n",
    "    sum_i = 0\n",
    "    sum_f = 0\n",
    "    for dict1 in data:\n",
    "        sum_i += dict1[\"Point\"][0]\n",
    "        sum_f += dict1[\"Point\"][1]\n",
    "    return sum_i/n, sum_f/n    \n",
    "\n",
    "def covariance_matrix(data):\n",
    "    \"\"\"\n",
    "    Returns the standard deviations of the population in terms of two variables.\n",
    "    Our points consist of initial and final distance.\n",
    "    \"\"\"\n",
    "    c11 = 0\n",
    "    c12 = 0\n",
    "    c22 = 0\n",
    "    mean_i, mean_f = mean(data)\n",
    "    n = len(data)\n",
    "    for dict1 in data:\n",
    "        c11 += (dict1[\"Point\"][0]-mean_i)**2\n",
    "        c12 += (dict1[\"Point\"][0]-mean_i)*(dict1[\"Point\"][1]-mean_f)\n",
    "        c22 += (dict1[\"Point\"][1]-mean_f)**2\n",
    "    return np.sqrt(c11/n), np.sqrt(c22/n), np.sqrt(c12/n)\n",
    "\n",
    "def last_similarity(List, error = 0):\n",
    "    \"\"\"\n",
    "    The input list should be a list (2x2) in a list of length phi.\n",
    "    Return true if all the elements in the list are similar (same) compared to the last element.\n",
    "    \"\"\"\n",
    "    point = List[-1]\n",
    "    if all(x ==  point for x in List):\n",
    "        return True\n",
    "    else:\n",
    "        return False\n",
    "    \n",
    "def stop_criteria(data, last_means, last_best_values, no_of_gens,lim_O = 5, lim_F = 5, max_gen=30,error = 0):\n",
    "    \"\"\"\n",
    "    Returns True if met.\n",
    "    \"\"\"\n",
    "    # for means\n",
    "    means_sim = last_similarity(last_means)\n",
    "    # for best values\n",
    "    best_sim = last_similarity(last_best_values)\n",
    "    # standard values\n",
    "    sigma_OO, sigma_FF, sigma_OF = covariance_matrix(data)\n",
    "    #print(\"standard dev\", sigma_OO, sigma_FF, sigma_OF)\n",
    "    \n",
    "    if means_sim == True:\n",
    "        print(\"similarity in means\")\n",
    "        return True\n",
    "    \n",
    "    if best_sim == True:\n",
    "        print(\"similarity in last best\")\n",
    "        return True\n",
    "    \n",
    "    if no_of_gens >= max_gen:\n",
    "        print(\"max gens\")\n",
    "        return True, None, None\n",
    "    if sigma_OO <= lim_O and sigma_FF <= lim_F:\n",
    "        print(\"stnd dev\")\n",
    "        return True\n",
    "    else:\n",
    "        return False  # need these values for the next iteration"
   ]
  },
  {
   "attachments": {},
   "cell_type": "markdown",
   "metadata": {},
   "source": [
    "Initialisation"
   ]
  },
  {
   "cell_type": "code",
   "execution_count": 27,
   "metadata": {},
   "outputs": [],
   "source": [
    "#elements_sat = [7133.8,0.0043,np.radians(98.289), np.radians(49.866), np.radians(356.768), 2.605101240816877]\n",
    "elements_sat = [7350,0.0037296,np.radians(82.0394),np.radians(41.7294),np.radians(216.168),np.radians(0)]"
   ]
  },
  {
   "cell_type": "code",
   "execution_count": 34,
   "metadata": {},
   "outputs": [],
   "source": [
    "%store -r elements_sat"
   ]
  },
  {
   "cell_type": "code",
   "execution_count": 36,
   "metadata": {},
   "outputs": [],
   "source": [
    "%store -r line"
   ]
  },
  {
   "cell_type": "code",
   "execution_count": 38,
   "metadata": {},
   "outputs": [],
   "source": [
    "set_of_measurments = line[15:]"
   ]
  },
  {
   "cell_type": "code",
   "execution_count": 27,
   "metadata": {},
   "outputs": [],
   "source": [
    "set_of_measurments = new_test"
   ]
  },
  {
   "cell_type": "code",
   "execution_count": 6,
   "metadata": {},
   "outputs": [],
   "source": [
    "# measurments from detecting objects\n",
    "data_meas = pd.read_csv('data/measurments.csv')\n",
    "set_of_measurments = data_meas.loc[1]  #choose which line to check\n",
    "set_of_measurments = normalise_input(set_of_measurments.dropna())"
   ]
  },
  {
   "cell_type": "code",
   "execution_count": 36,
   "metadata": {},
   "outputs": [
    {
     "name": "stdout",
     "output_type": "stream",
     "text": [
      "initial size 942\n"
     ]
    },
    {
     "data": {
      "image/png": "[encoded data removed]",
      "text/plain": [
       "<Figure size 640x480 with 1 Axes>"
      ]
     },
     "metadata": {},
     "output_type": "display_data"
    },
    {
     "name": "stdout",
     "output_type": "stream",
     "text": [
      "1000\n"
     ]
    }
   ],
   "source": [
    "r1 = set_of_measurments[0][:-1]\n",
    "r2 = set_of_measurments[-1][:-1]\n",
    "tof = set_of_measurments[-1][-1] - set_of_measurments[0][-1]\n",
    "ti = set_of_measurments[0][-1]\n",
    "# initialise\n",
    "data = initialise_pop(elements_sat, r1, r2, ti, TOF=tof)\n",
    "show_pop(data)\n",
    "print(len(data))"
   ]
  },
  {
   "cell_type": "code",
   "execution_count": 37,
   "metadata": {},
   "outputs": [],
   "source": [
    "data = objective_func(elements_sat, set_of_measurments, data)"
   ]
  },
  {
   "cell_type": "code",
   "execution_count": 38,
   "metadata": {},
   "outputs": [
    {
     "data": {
      "text/plain": [
       "(False, [])"
      ]
     },
     "execution_count": 38,
     "metadata": {},
     "output_type": "execute_result"
    }
   ],
   "source": [
    "check_duplicates(data)"
   ]
  },
  {
   "cell_type": "code",
   "execution_count": 39,
   "metadata": {},
   "outputs": [],
   "source": [
    "data_elite = get_elite(data)"
   ]
  },
  {
   "cell_type": "code",
   "execution_count": 40,
   "metadata": {},
   "outputs": [],
   "source": [
    "data_test = copy.deepcopy(data_elite)"
   ]
  },
  {
   "cell_type": "code",
   "execution_count": 41,
   "metadata": {},
   "outputs": [
    {
     "name": "stdout",
     "output_type": "stream",
     "text": [
      "best point [896.678966789668, 963.09963099631]\n"
     ]
    }
   ],
   "source": [
    "best_point = get_best(data)[\"Point\"]\n",
    "no_of_gens = 0\n",
    "phi = 3\n",
    "print(\"best point\", best_point)\n",
    "last_means = [(0,0) for x in range(phi)]\n",
    "last_means.pop(0)\n",
    "last_means.append(mean(data))\n",
    "\n",
    "last_best_values = [(0,0) for x in range(phi)]\n",
    "last_best_values.pop(0)\n",
    "last_best_values.append(best_point)\n",
    "\n",
    "D, rO_perigee = evaluate_D(elements_sat, tof)  # maybe there is a better way to define this"
   ]
  },
  {
   "attachments": {},
   "cell_type": "markdown",
   "metadata": {},
   "source": [
    "Body"
   ]
  },
  {
   "cell_type": "code",
   "execution_count": 260,
   "metadata": {},
   "outputs": [],
   "source": [
    "data_crossover = crossover(data_test, elements_sat, r1,r2, rO_perigee, ti, tof, 50, D)"
   ]
  },
  {
   "cell_type": "code",
   "execution_count": 42,
   "metadata": {},
   "outputs": [
    {
     "name": "stdout",
     "output_type": "stream",
     "text": [
      "initial size 49\n",
      "crossover (True, [{'Point': [1495.0, 1645.0], 'Orbit': [30889.666163067068, 0.8105440999080302, 0.8210634595254327, 0.0005452382557348577, 0.10984092091192843, -0.026644560597202688]}, {'Point': [795.0479704797049, 861.468634686347], 'Orbit': [8296.007602174945, 0.2096496472565083, 0.5154839814208572, 0.00016505133035898479, 0.06352964330061558, -0.03566072923973657]}, {'Point': [1352.0, 1502.0], 'Orbit': [19616.846143594656, 0.6952274938582717, 0.7777594747118916, 0.0007428326110015264, 0.16717630068828823, -0.06022358325732403]}])\n",
      "initial size 49\n",
      "crossover (False, [])\n",
      "initial size 49\n",
      "crossover (False, [])\n",
      "initial size 49\n",
      "crossover (False, [])\n",
      "initial size 49\n",
      "crossover (False, [])\n",
      "similarity in last best\n",
      "donzo\n"
     ]
    }
   ],
   "source": [
    "while stop_criteria(data, last_means, last_best_values, no_of_gens) is False:\n",
    "    #print(\"iteration\", no_of_gens)\n",
    "    data_elite = get_elite(data)\n",
    "    \n",
    "    # create new population and corresponding orbits\n",
    "    data_created = initialise_pop(elements_sat, r1, r2, ti, TOF=tof, N=50)  # create 5% of desired population size\n",
    "    \n",
    "    data_elite = data_elite + data_created\n",
    "    \n",
    "    #mutate\n",
    "    data_mutation = mutation(data_elite, elements_sat, r1,r2, rO_perigee, ti, tof, 800)  # 800 corresponds to 80% of desired population \n",
    "    #print(\"mutation\", check_duplicates(data_mutation))\n",
    "    # crossover\n",
    "    data_crossover = crossover(data_mutation, elements_sat, r1,r2, rO_perigee, ti, tof, 50, D)  # crossover 5% of desired population size\n",
    "    data = data_crossover\n",
    "    #print(\"final\", len(data))\n",
    "    print(\"crossover\", check_duplicates(data_crossover))\n",
    "    # get new fit_values\n",
    "    data = objective_func(elements_sat, set_of_measurments, data)\n",
    "    \n",
    "    # update last_means, last_best_values, no_of_gens\n",
    "    last_means.pop(0)\n",
    "    last_means.append(mean(data))\n",
    "    #print(\"last means\", last_means)\n",
    "    best_point = get_best(data)[\"Point\"]\n",
    "    #print(\"the best\", best_point)\n",
    "    last_best_values.pop(0)\n",
    "    last_best_values.append(best_point)\n",
    "    #print(\"last bests\", last_best_values)\n",
    "    no_of_gens += 1\n",
    "else:\n",
    "    print(\"donzo\")"
   ]
  },
  {
   "cell_type": "code",
   "execution_count": 43,
   "metadata": {},
   "outputs": [],
   "source": [
    "best_ones = []"
   ]
  },
  {
   "cell_type": "code",
   "execution_count": 44,
   "metadata": {},
   "outputs": [
    {
     "data": {
      "text/plain": [
       "[{'Point': [442.7343173431735, 475.9446494464945],\n",
       "  'Orbit': [7251.530635158399,\n",
       "   0.04727894735094815,\n",
       "   0.3043583371135131,\n",
       "   6.283181747953716,\n",
       "   6.272813707430835,\n",
       "   0.02599273515476623],\n",
       "  'Fit': 0.9999999996746358}]"
      ]
     },
     "execution_count": 44,
     "metadata": {},
     "output_type": "execute_result"
    }
   ],
   "source": [
    "best = get_best(data)\n",
    "best_ones.append(best)\n",
    "best_ones"
   ]
  },
  {
   "cell_type": "markdown",
   "metadata": {},
   "source": [
    "All in one"
   ]
  },
  {
   "cell_type": "code",
   "execution_count": 118,
   "metadata": {},
   "outputs": [
    {
     "data": {
      "text/plain": [
       "['measurments_data_0_0_M1.csv',\n",
       " 'measurments_data_0_0_M2.csv',\n",
       " 'measurments_data_0_0_M3.csv']"
      ]
     },
     "execution_count": 118,
     "metadata": {},
     "output_type": "execute_result"
    }
   ],
   "source": [
    "directory = \"data/Test/\"\n",
    "os.listdir(directory)"
   ]
  },
  {
   "cell_type": "code",
   "execution_count": null,
   "metadata": {},
   "outputs": [],
   "source": [
    "for filename in os.listdir(directory):\n",
    "    print(\"file\", filename)\n",
    "    path = directory + filename\n",
    "    # measurments from detecting objects\n",
    "    data_meas = pd.read_csv(path)\n",
    "    for index, row in data_meas.iterrows():\n",
    "        data = []\n",
    "        set_of_measurments = normalise_input(row.dropna())\n",
    "\n",
    "        #set up the pop\n",
    "        r1 = set_of_measurments[0][:-1]\n",
    "        r2 = set_of_measurments[-1][:-1]\n",
    "        tof = set_of_measurments[-1][-1] - set_of_measurments[0][-1]\n",
    "        ti = set_of_measurments[0][-1]\n",
    "        # initialise\n",
    "        data = initialise_pop(elements_sat, r1, r2, ti, TOF=tof)\n",
    "        # run the objective func\n",
    "        data = objective_func(elements_sat, set_of_measurments, data)\n",
    "\n",
    "        #initialise the body of the alogithm\n",
    "        best_point = get_best(data)[\"Point\"]\n",
    "        no_of_gens = 0\n",
    "        phi = 3\n",
    "        #print(\"best point\", best_point)\n",
    "        last_means = [(0,0) for x in range(phi)]\n",
    "        last_means.pop(0)\n",
    "        last_means.append(mean(data))\n",
    "\n",
    "        last_best_values = [(0,0) for x in range(phi)]\n",
    "        last_best_values.pop(0)\n",
    "        last_best_values.append(best_point)\n",
    "\n",
    "        D, rO_perigee = evaluate_D(elements_sat, tof)  # maybe there is a better way to define this\n",
    "        # body\n",
    "        while stop_criteria(data, last_means, last_best_values, no_of_gens) is False:\n",
    "            #print(\"iteration\", no_of_gens)\n",
    "            data_elite = get_elite(data)\n",
    "            \n",
    "            # create new population and corresponding orbits\n",
    "            data_created = initialise_pop(elements_sat, r1, r2, ti, TOF=tof, N=50)  # create 5% of desired population size\n",
    "            \n",
    "            #mutate\n",
    "            data_mutation = mutation(data_elite, elements_sat, r1,r2, rO_perigee, ti, tof, 700)  # 800 corresponds to 80% of desired population \n",
    "            #print(\"mutation\", check_duplicates(data_mutation))\n",
    "            # crossover\n",
    "            data_crossover = crossover(data_mutation, elements_sat, r1,r2, rO_perigee, ti, tof, 150, D)  # crossover 5% of desired population size\n",
    "            data = data_crossover + data_created\n",
    "            \n",
    "            #print(\"final\", len(data))\n",
    "            #print(\"crossover\", check_duplicates(data_crossover))\n",
    "            # get new fit_values\n",
    "            data = objective_func(elements_sat, set_of_measurments, data)\n",
    "            \n",
    "            # update last_means, last_best_values, no_of_gens\n",
    "            last_means.pop(0)\n",
    "            last_means.append(mean(data))\n",
    "            #print(\"last means\", last_means)\n",
    "            best_point = get_best(data)[\"Point\"]\n",
    "            #print(\"the best\", best_point)\n",
    "            last_best_values.pop(0)\n",
    "            last_best_values.append(best_point)\n",
    "            #print(\"last bests\", last_best_values)\n",
    "            no_of_gens += 1\n",
    "        else:\n",
    "            print(\"donzo\")\n",
    "            best = get_best(data)\n",
    "            print(best)\n",
    "            df = pd.DataFrame(data)\n",
    "            name = Path(filename).stem[12:] + \"_\" + str(index)\n",
    "            df.to_csv(\"results/{}.csv\".format(name))\n"
   ]
  },
  {
   "cell_type": "markdown",
   "metadata": {},
   "source": [
    "Ideal case"
   ]
  },
  {
   "cell_type": "code",
   "execution_count": 139,
   "metadata": {},
   "outputs": [],
   "source": [
    "%store -r all_coordinates"
   ]
  },
  {
   "cell_type": "code",
   "execution_count": 138,
   "metadata": {},
   "outputs": [],
   "source": [
    "%store -r all_rel\n",
    "convert_to_global(all_rel, elements_sat)"
   ]
  },
  {
   "cell_type": "code",
   "execution_count": 139,
   "metadata": {},
   "outputs": [],
   "source": [
    "all_coordinates = all_rel"
   ]
  },
  {
   "cell_type": "code",
   "execution_count": 143,
   "metadata": {},
   "outputs": [
    {
     "name": "stdout",
     "output_type": "stream",
     "text": [
      "file data_0_0\n",
      "initial size 28\n",
      "range 495\n",
      "second iteration 7096\n",
      "extra points 6096 <class 'int'>\n",
      "initial population\n",
      "1000\n"
     ]
    },
    {
     "data": {
      "image/png": "[encoded data removed]",
      "text/plain": [
       "<Figure size 640x480 with 1 Axes>"
      ]
     },
     "metadata": {},
     "output_type": "display_data"
    },
    {
     "name": "stderr",
     "output_type": "stream",
     "text": [
      "C:\\Users\\kuubikus\\AppData\\Local\\Temp\\ipykernel_8392\\2388724908.py:24: RuntimeWarning: invalid value encountered in sqrt\n",
      "  return np.sqrt(c11/n), np.sqrt(c22/n), np.sqrt(c12/n)\n"
     ]
    },
    {
     "name": "stdout",
     "output_type": "stream",
     "text": [
      "no of gens 0\n",
      "initial size 7096\n",
      "extra points 7046 <class 'int'>\n",
      "number of points to mutate 800\n"
     ]
    },
    {
     "data": {
      "image/png": "[encoded data removed]",
      "text/plain": [
       "<Figure size 640x480 with 1 Axes>"
      ]
     },
     "metadata": {},
     "output_type": "display_data"
    },
    {
     "name": "stdout",
     "output_type": "stream",
     "text": [
      "no of gens 1\n",
      "initial size 7096\n",
      "extra points 7046 <class 'int'>\n",
      "number of points to mutate 800\n"
     ]
    },
    {
     "data": {
      "image/png": "[encoded data removed]",
      "text/plain": [
       "<Figure size 640x480 with 1 Axes>"
      ]
     },
     "metadata": {},
     "output_type": "display_data"
    },
    {
     "name": "stdout",
     "output_type": "stream",
     "text": [
      "no of gens 2\n",
      "initial size 7096\n",
      "extra points 7046 <class 'int'>\n",
      "number of points to mutate 800\n"
     ]
    },
    {
     "data": {
      "image/png": "[encoded data removed]",
      "text/plain": [
       "<Figure size 640x480 with 1 Axes>"
      ]
     },
     "metadata": {},
     "output_type": "display_data"
    },
    {
     "name": "stdout",
     "output_type": "stream",
     "text": [
      "no of gens 3\n",
      "initial size 7096\n",
      "extra points 7046 <class 'int'>\n",
      "number of points to mutate 800\n"
     ]
    },
    {
     "data": {
      "image/png": "[encoded data removed]",
      "text/plain": [
       "<Figure size 640x480 with 1 Axes>"
      ]
     },
     "metadata": {},
     "output_type": "display_data"
    },
    {
     "name": "stdout",
     "output_type": "stream",
     "text": [
      "no of gens 4\n",
      "initial size 7096\n",
      "extra points 7046 <class 'int'>\n",
      "number of points to mutate 800\n"
     ]
    },
    {
     "data": {
      "image/png": "[encoded data removed]",
      "text/plain": [
       "<Figure size 640x480 with 1 Axes>"
      ]
     },
     "metadata": {},
     "output_type": "display_data"
    },
    {
     "name": "stdout",
     "output_type": "stream",
     "text": [
      "no of gens 5\n",
      "initial size 7096\n",
      "extra points 7046 <class 'int'>\n",
      "number of points to mutate 800\n"
     ]
    },
    {
     "data": {
      "image/png": "[encoded data removed]",
      "text/plain": [
       "<Figure size 640x480 with 1 Axes>"
      ]
     },
     "metadata": {},
     "output_type": "display_data"
    },
    {
     "name": "stdout",
     "output_type": "stream",
     "text": [
      "no of gens 6\n",
      "initial size 7096\n",
      "extra points 7046 <class 'int'>\n",
      "number of points to mutate 800\n"
     ]
    },
    {
     "data": {
      "image/png": "[encoded data removed]",
      "text/plain": [
       "<Figure size 640x480 with 1 Axes>"
      ]
     },
     "metadata": {},
     "output_type": "display_data"
    },
    {
     "name": "stdout",
     "output_type": "stream",
     "text": [
      "similarity in last best\n",
      "donzo\n",
      "best {'Point': [157.4, 157.3], 'Orbit': [array([-4017.92662842, -4297.61541622, -4151.32191827]), (5.05850380912805, 2.1530753237344347, -6.824029195962067)], 'Fit': Decimal('0.9999997284870801114145595152')}\n",
      "mean [(217.07764999999895, 219.38824999999943), (189.0268499999999, 188.31714999999937), (141.43650000000062, 156.6137000000009), (171.43949999999901, 177.77090000000007), (214.00809999999987, 203.79259999999843)]\n",
      "covariance (63.578256537829105, 76.51098614081515, 43.9972997175963)\n"
     ]
    }
   ],
   "source": [
    "directory = \"data/ideal\"\n",
    "for dict1 in all_coordinates:\n",
    "    filename = dict1[\"name\"]\n",
    "    print(\"file\", filename)\n",
    "    \n",
    "    # measurments from detecting objects\n",
    "    #set_of_measurments = dict1[\"list in global axis\"]\n",
    "    set_of_measurments = dict1[\"converted\"]\n",
    "    \n",
    "    #set up the pop\n",
    "    r1_hat = set_of_measurments[0][:-1]\n",
    "    r2_hat = set_of_measurments[-1][:-1]\n",
    "    tof = set_of_measurments[-1][-1] - set_of_measurments[0][-1]\n",
    "    ti = set_of_measurments[0][-1]\n",
    "    # initialise\n",
    "    data, limit = initialise_pop(elements_sat, r1_hat, r2_hat, ti, TOF=tof, N=1000)\n",
    "    print(\"initial population\")\n",
    "    print(len(data))\n",
    "    show_pop(data)\n",
    "    # run the objective func\n",
    "    data = objective_func(elements_sat, set_of_measurments, data)\n",
    "\n",
    "    #initialise the body of the alogithm\n",
    "    best_point = get_best(data)[\"Point\"]\n",
    "    no_of_gens = 0\n",
    "    phi = 5\n",
    "    #print(\"best point\", best_point)\n",
    "    last_means = [(0,0) for x in range(phi)]\n",
    "    last_means.pop(0)\n",
    "    last_means.append(mean(data))\n",
    "\n",
    "    last_best_values = [(0,0) for x in range(phi)]\n",
    "    last_best_values.pop(0)\n",
    "    last_best_values.append(best_point)\n",
    "\n",
    "    D, rO_perigee = evaluate_D(elements_sat, tof)  # maybe there is a better way to define this\n",
    "    # body\n",
    "    \n",
    "    while stop_criteria(data, last_means, last_best_values, no_of_gens) is False:\n",
    "        print(\"no of gens\", no_of_gens)\n",
    "        #print(\"iteration\", no_of_gens)\n",
    "        data_elite = get_elite(data, n=100)\n",
    "       \n",
    "        # create new population and corresponding orbits\n",
    "        data_created, limit = initialise_pop(elements_sat, r1_hat, r2_hat, ti, TOF=tof, N=50, limit=limit)  # create 5% of desired population size\n",
    "            \n",
    "        #mutate\n",
    "        data_mutation = mutation(data_elite, elements_sat, r1_hat,r2_hat, rO_perigee, ti, tof, 800)  # 800 corresponds to 80% of desired population \n",
    "        #print(\"mutation\", check_duplicates(data_mutation))\n",
    "        # crossover\n",
    "        data_crossover = crossover(data_mutation, elements_sat, r1_hat,r2_hat, rO_perigee, ti, tof, 50, D)  # crossover 5% of desired population size\n",
    "        data = data_crossover + data_created\n",
    "        \n",
    "        #print(\"final\", len(data))\n",
    "        #print(\"crossover\", check_duplicates(data_crossover))\n",
    "        # get new fit_values\n",
    "        data = objective_func(elements_sat, set_of_measurments, data)\n",
    "            \n",
    "        # update last_means, last_best_values, no_of_gens\n",
    "        last_means.pop(0)\n",
    "        last_means.append(mean(data))\n",
    "        #print(\"last means\", last_means)\n",
    "        best_point = get_best(data)[\"Point\"]\n",
    "        #print(\"the best\", best_point)\n",
    "        last_best_values.pop(0)\n",
    "        last_best_values.append(best_point)\n",
    "        #print(\"last bests\", last_best_values)\n",
    "        show_pop(data)\n",
    "        no_of_gens += 1\n",
    "    else:\n",
    "        print(\"donzo\")\n",
    "        best = get_best(data)\n",
    "        print(\"best\", best)\n",
    "        print(\"mean\", last_means)\n",
    "        print(\"covariance\", covariance_matrix(data))\n",
    "        #df = pd.DataFrame(data)\n",
    "        name = filename \n",
    "        #df.to_csv(\"results/ideal/{}.csv\".format(name))\n",
    "    "
   ]
  },
  {
   "cell_type": "code",
   "execution_count": 146,
   "metadata": {},
   "outputs": [
    {
     "data": {
      "text/plain": [
       "[11749.969443471724,\n",
       " 0.38762273082248394,\n",
       " 78.0257084700285,\n",
       " 38.31966331140927,\n",
       " 220.1730766597972,\n",
       " -2.69876473796194]"
      ]
     },
     "execution_count": 146,
     "metadata": {},
     "output_type": "execute_result"
    }
   ],
   "source": [
    "r,v = best[\"Orbit\"]\n",
    "elements = pykep.ic2par(r,v, mu=398600) \n",
    "elements = list(elements)\n",
    "for i in range(4):\n",
    "    i += 2\n",
    "    elements[i] = np.degrees(elements[i])\n",
    "elements"
   ]
  },
  {
   "cell_type": "code",
   "execution_count": 145,
   "metadata": {},
   "outputs": [],
   "source": [
    "%store -r orbits"
   ]
  },
  {
   "attachments": {},
   "cell_type": "markdown",
   "metadata": {},
   "source": [
    "For taking one single list of measurments from data gen for predefined orbits\n"
   ]
  },
  {
   "cell_type": "code",
   "execution_count": 28,
   "metadata": {},
   "outputs": [],
   "source": [
    "%store -r test\n",
    "%store -r test2"
   ]
  },
  {
   "cell_type": "code",
   "execution_count": 362,
   "metadata": {},
   "outputs": [],
   "source": [
    "ti = 0\n",
    "new_list = []\n",
    "for point in test:\n",
    "    t = point[-1]\n",
    "    r,v = propagate(elements_sat,t, kepler=False)\n",
    "    r.astype(np.longdouble)\n",
    "    unit = to_global_axis(point[:-1],r,v)\n",
    "    unit = np.append(unit, [t])\n",
    "    \n",
    "    new_list.append(unit)"
   ]
  },
  {
   "cell_type": "code",
   "execution_count": 382,
   "metadata": {},
   "outputs": [
    {
     "name": "stdout",
     "output_type": "stream",
     "text": [
      "initial size 281\n",
      "range 9207\n",
      "second iteration 272\n",
      "number of points to mutate 728\n"
     ]
    },
    {
     "data": {
      "image/png": "[encoded data removed]",
      "text/plain": [
       "<Figure size 640x480 with 1 Axes>"
      ]
     },
     "metadata": {},
     "output_type": "display_data"
    },
    {
     "name": "stdout",
     "output_type": "stream",
     "text": [
      "no of gens 0\n",
      "initial size 272\n",
      "extra points 222 <class 'int'>\n",
      "number of points to mutate 700\n"
     ]
    },
    {
     "data": {
      "image/png": "[encoded data removed]",
      "text/plain": [
       "<Figure size 640x480 with 1 Axes>"
      ]
     },
     "metadata": {},
     "output_type": "display_data"
    },
    {
     "name": "stdout",
     "output_type": "stream",
     "text": [
      "no of gens 1\n",
      "initial size 272\n",
      "extra points 222 <class 'int'>\n",
      "number of points to mutate 700\n"
     ]
    },
    {
     "data": {
      "image/png": "[encoded data removed]",
      "text/plain": [
       "<Figure size 640x480 with 1 Axes>"
      ]
     },
     "metadata": {},
     "output_type": "display_data"
    },
    {
     "name": "stdout",
     "output_type": "stream",
     "text": [
      "no of gens 2\n",
      "initial size 272\n",
      "extra points 222 <class 'int'>\n",
      "number of points to mutate 700\n"
     ]
    },
    {
     "data": {
      "image/png": "[encoded data removed]",
      "text/plain": [
       "<Figure size 640x480 with 1 Axes>"
      ]
     },
     "metadata": {},
     "output_type": "display_data"
    },
    {
     "name": "stdout",
     "output_type": "stream",
     "text": [
      "no of gens 3\n",
      "initial size 272\n",
      "extra points 222 <class 'int'>\n",
      "number of points to mutate 700\n"
     ]
    },
    {
     "data": {
      "image/png": "[encoded data removed]",
      "text/plain": [
       "<Figure size 640x480 with 1 Axes>"
      ]
     },
     "metadata": {},
     "output_type": "display_data"
    },
    {
     "name": "stdout",
     "output_type": "stream",
     "text": [
      "no of gens 4\n",
      "initial size 272\n",
      "extra points 222 <class 'int'>\n",
      "number of points to mutate 700\n"
     ]
    },
    {
     "data": {
      "image/png": "[encoded data removed]",
      "text/plain": [
       "<Figure size 640x480 with 1 Axes>"
      ]
     },
     "metadata": {},
     "output_type": "display_data"
    },
    {
     "name": "stdout",
     "output_type": "stream",
     "text": [
      "no of gens 5\n",
      "initial size 272\n",
      "extra points 222 <class 'int'>\n",
      "number of points to mutate 700\n"
     ]
    },
    {
     "data": {
      "image/png": "[encoded data removed]",
      "text/plain": [
       "<Figure size 640x480 with 1 Axes>"
      ]
     },
     "metadata": {},
     "output_type": "display_data"
    },
    {
     "name": "stdout",
     "output_type": "stream",
     "text": [
      "no of gens 6\n",
      "initial size 272\n",
      "extra points 222 <class 'int'>\n",
      "number of points to mutate 700\n"
     ]
    },
    {
     "data": {
      "image/png": "[encoded data removed]",
      "text/plain": [
       "<Figure size 640x480 with 1 Axes>"
      ]
     },
     "metadata": {},
     "output_type": "display_data"
    },
    {
     "name": "stdout",
     "output_type": "stream",
     "text": [
      "no of gens 7\n",
      "initial size 272\n",
      "extra points 222 <class 'int'>\n",
      "number of points to mutate 700\n"
     ]
    },
    {
     "data": {
      "image/png": "[encoded data removed]",
      "text/plain": [
       "<Figure size 640x480 with 1 Axes>"
      ]
     },
     "metadata": {},
     "output_type": "display_data"
    },
    {
     "name": "stdout",
     "output_type": "stream",
     "text": [
      "no of gens 8\n",
      "initial size 272\n",
      "extra points 222 <class 'int'>\n",
      "number of points to mutate 700\n"
     ]
    },
    {
     "data": {
      "image/png": "[encoded data removed]",
      "text/plain": [
       "<Figure size 640x480 with 1 Axes>"
      ]
     },
     "metadata": {},
     "output_type": "display_data"
    },
    {
     "name": "stdout",
     "output_type": "stream",
     "text": [
      "no of gens 9\n",
      "initial size 272\n",
      "extra points 222 <class 'int'>\n",
      "number of points to mutate 700\n"
     ]
    },
    {
     "data": {
      "image/png": "[encoded data removed]",
      "text/plain": [
       "<Figure size 640x480 with 1 Axes>"
      ]
     },
     "metadata": {},
     "output_type": "display_data"
    },
    {
     "name": "stdout",
     "output_type": "stream",
     "text": [
      "no of gens 10\n",
      "initial size 272\n",
      "extra points 222 <class 'int'>\n",
      "number of points to mutate 700\n"
     ]
    },
    {
     "data": {
      "image/png": "[encoded data removed]",
      "text/plain": [
       "<Figure size 640x480 with 1 Axes>"
      ]
     },
     "metadata": {},
     "output_type": "display_data"
    },
    {
     "name": "stdout",
     "output_type": "stream",
     "text": [
      "no of gens 11\n",
      "initial size 272\n",
      "extra points 222 <class 'int'>\n",
      "number of points to mutate 700\n"
     ]
    },
    {
     "data": {
      "image/png": "[encoded data removed]",
      "text/plain": [
       "<Figure size 640x480 with 1 Axes>"
      ]
     },
     "metadata": {},
     "output_type": "display_data"
    },
    {
     "name": "stdout",
     "output_type": "stream",
     "text": [
      "similarity in last best\n",
      "donzo\n",
      "{'Point': [7022.320000000001, 7096.39], 'Orbit': [array([ 1968.17786357, -6776.96368435,  -189.61361604]), (6.42190237954805, 1.343048105291981, 3.8125970625286207)], 'Fit': Decimal('0.9999999996165088153034525987')}\n"
     ]
    }
   ],
   "source": [
    "# measurments from detecting objects\n",
    "set_of_measurments = test2\n",
    "    \n",
    "#set up the pop\n",
    "r1 = set_of_measurments[0][:-1]\n",
    "r2 = set_of_measurments[-1][:-1]\n",
    "tof = set_of_measurments[-1][-1] - set_of_measurments[0][-1]\n",
    "ti = set_of_measurments[0][-1]\n",
    "# initialise\n",
    "data, limit = initialise_pop(elements_sat, r1, r2, ti, TOF=tof, N=1000)\n",
    "show_pop(data)\n",
    "# run the objective func\n",
    "data = objective_func(elements_sat, set_of_measurments, data)\n",
    "\n",
    "#initialise the body of the alogithm\n",
    "best_point = get_best(data)[\"Point\"]\n",
    "no_of_gens = 0\n",
    "phi = 4\n",
    "#print(\"best point\", best_point)\n",
    "last_means = [(0,0) for x in range(phi)]\n",
    "last_means.pop(0)\n",
    "last_means.append(mean(data))\n",
    "\n",
    "last_best_values = [(0,0) for x in range(phi)]\n",
    "last_best_values.pop(0)\n",
    "last_best_values.append(best_point)\n",
    "\n",
    "D, rO_perigee = evaluate_D(elements_sat, tof)  # maybe there is a better way to define this\n",
    "\n",
    "# body\n",
    "while stop_criteria(data, last_means, last_best_values, no_of_gens) is False:\n",
    "    print(\"no of gens\", no_of_gens)\n",
    "    #print(\"iteration\", no_of_gens)\n",
    "    data_elite = get_elite(data, n=100)\n",
    "       \n",
    "    # create new population and corresponding orbits\n",
    "    data_created, limit = initialise_pop(elements_sat, r1, r2, ti, TOF=tof, N=50, limit=limit)  # create 5% of desired population size\n",
    "            \n",
    "    #mutate\n",
    "    data_mutation = mutation(data_elite, elements_sat, r1,r2, rO_perigee, ti, tof, 700)  # 800 corresponds to 80% of desired population \n",
    "    #print(\"mutation\", check_duplicates(data_mutation))\n",
    "    # crossover\n",
    "    data_crossover = crossover(data_mutation, elements_sat, r1,r2, rO_perigee, ti, tof, 50, D)  # crossover 5% of desired population size\n",
    "    data = data_crossover + data_created\n",
    "            \n",
    "    #print(\"final\", len(data))\n",
    "    #print(\"crossover\", check_duplicates(data_crossover))\n",
    "    # get new fit_values\n",
    "    data = objective_func(elements_sat, set_of_measurments, data)\n",
    "            \n",
    "    # update last_means, last_best_values, no_of_gens\n",
    "    last_means.pop(0)\n",
    "    last_means.append(mean(data))\n",
    "    #print(\"last means\", last_means)\n",
    "    best_point = get_best(data)[\"Point\"]\n",
    "    #print(\"the best\", best_point)\n",
    "    last_best_values.pop(0)\n",
    "    last_best_values.append(best_point)\n",
    "    \n",
    "    show_pop(data)\n",
    "    no_of_gens += 1\n",
    "else:\n",
    "    print(\"donzo\")\n",
    "    best = get_best(data)\n",
    "    print(best)\n"
   ]
  },
  {
   "cell_type": "code",
   "execution_count": 29,
   "metadata": {},
   "outputs": [
    {
     "data": {
      "text/plain": [
       "(7202.106850539497,\n",
       " 0.056140281362851936,\n",
       " 0.5296849595234379,\n",
       " 5.040942623366778,\n",
       " 4.966501534761335,\n",
       " 1.2104106822003384)"
      ]
     },
     "execution_count": 29,
     "metadata": {},
     "output_type": "execute_result"
    }
   ],
   "source": [
    "pykep.ic2par([ 1968.17786357, -6776.96368435,  -189.61361604],[6.42190237954805, 1.343048105291981, 3.8125970625286207], mu=398600)"
   ]
  },
  {
   "cell_type": "code",
   "execution_count": 33,
   "metadata": {},
   "outputs": [
    {
     "data": {
      "text/plain": [
       "69.35142356763015"
      ]
     },
     "execution_count": 33,
     "metadata": {},
     "output_type": "execute_result"
    }
   ],
   "source": [
    "np.degrees(1.2104106822003384)"
   ]
  },
  {
   "cell_type": "markdown",
   "metadata": {},
   "source": [
    "Test fitness value of a given orbit"
   ]
  },
  {
   "cell_type": "code",
   "execution_count": 123,
   "metadata": {},
   "outputs": [
    {
     "name": "stdout",
     "output_type": "stream",
     "text": [
      "initial time 1\n",
      "elements (9811.475937319046, 0.2626769219772747, 1.3806700565091157, 0.6850316417322531, 3.839412064813702, -0.052022489230542944)\n",
      "orbit (9811.475937319046, 0.2626769219772747, 1.3806700565091155, 0.6850316417322531, 3.839412064813702, -0.051141838782611304)\n",
      "time 1\n",
      "L ast [Decimal('-0.05335857050805853745195961072')\n",
      " Decimal('0.5177069995686846183687037657')\n",
      " Decimal('0.8538924554947926989224624848')]\n",
      "measured unit vector in global CS [Decimal('-0.05335857050808311859134080311')\n",
      " Decimal('0.5177069995686644004033378444')\n",
      " Decimal('0.8538924554948034208437878453')]\n",
      "dot 0.9999999999999999999999999994\n",
      "time 2\n",
      "L ast [Decimal('-0.04568639547432825802267966013')\n",
      " Decimal('0.5198621418486778934728346427')\n",
      " Decimal('0.8530276119452806923324286975')]\n",
      "measured unit vector in global CS [Decimal('-0.04568639547435284910787052162')\n",
      " Decimal('0.5198621418486637730893059818')\n",
      " Decimal('0.8530276119452879806953078122')]\n",
      "dot 0.9999999999999999999999999991\n",
      "time 3\n",
      "L ast [Decimal('-0.03791983321653904467797800418')\n",
      " Decimal('0.5220090212292285800552101724')\n",
      " Decimal('0.8520966306729141431434448638')]\n",
      "measured unit vector in global CS [Decimal('-0.03791983321655940130075518513')\n",
      " Decimal('0.5220090212292108139378013251')\n",
      " Decimal('0.8520966306729241210655642820')]\n",
      "dot 0.9999999999999999999999999992\n",
      "time 4\n",
      "L ast [Decimal('-0.03005874812035742225811691664')\n",
      " Decimal('0.5241464338581019776214475802')\n",
      " Decimal('0.8510975194037820939728924913')]\n",
      "measured unit vector in global CS [Decimal('-0.03005874812037769497125234921')\n",
      " Decimal('0.5241464338580865426368761169')\n",
      " Decimal('0.8510975194037908835881497114')]\n",
      "dot 0.9999999999999999999999999999\n",
      "time 5\n",
      "L ast [Decimal('-0.02210307769457232074678622436')\n",
      " Decimal('0.5262731337986879971646001142')\n",
      " Decimal('0.8500282598820676507720287266')]\n",
      "measured unit vector in global CS [Decimal('-0.02210307769459730328675356279')\n",
      " Decimal('0.5262731337986663146211135892')\n",
      " Decimal('0.8500282598820804253462399191')]\n",
      "dot 0.9999999999999999999999999996\n",
      "time 6\n",
      "L ast [Decimal('-0.01405283647787951336565590917')\n",
      " Decimal('0.5283878328697784236442448456')\n",
      " Decimal('0.8488868098057037680557616098')]\n",
      "measured unit vector in global CS [Decimal('-0.01405283647790504942384333748')\n",
      " Decimal('0.5283878328697643828411719706')\n",
      " Decimal('0.8488868098057120849896282655')]\n",
      "dot 0.9999999999999999999999999991\n",
      "time 7\n",
      "L ast [Decimal('-0.005908120000616369238621852967')\n",
      " Decimal('0.5304892005878355926761454976')\n",
      " Decimal('0.8476711049562427133251719694')]\n",
      "measured unit vector in global CS [Decimal('-0.005908120000642163790598678811')\n",
      " Decimal('0.5304892005878153960384510301')\n",
      " Decimal('0.8476711049562551729935680079')]\n",
      "dot 0.9999999999999999999999999999\n",
      "time 8\n",
      "L ast [Decimal('0.002330891208988027995011511560')\n",
      " Decimal('0.5325758642200856544850454366')\n",
      " Decimal('0.8463790615299983607564154456')]\n",
      "measured unit vector in global CS [Decimal('0.002330891208966326068478551398')\n",
      " Decimal('0.5325758642200638688598857135')\n",
      " Decimal('0.8463790615300121289171680549')]\n",
      "dot 0.9999999999999999999999999999\n",
      "time 9\n",
      "L ast [Decimal('0.01066392758620375627824250555')\n",
      " Decimal('0.5346464089568241557045474527')\n",
      " Decimal('0.8450085786771685442487919357')]\n",
      "measured unit vector in global CS [Decimal('0.01066392758617758294777845780')\n",
      " Decimal('0.5346464089568040028535983478')\n",
      " Decimal('0.8450085786771816254886395163')]\n",
      "dot 0.9999999999999999999999999988\n",
      "time 10\n",
      "L ast [Decimal('0.01909062647177516273172725725')\n",
      " Decimal('0.5366993782114740778757017886')\n",
      " Decimal('0.8435575412550896407516139295')]\n",
      "measured unit vector in global CS [Decimal('0.01909062647174857548761780663')\n",
      " Decimal('0.5366993782114562236732247560')\n",
      " Decimal('0.8435575412551016018876605346')]\n",
      "dot 0.9999999999999999999999999994\n",
      "time 11\n",
      "L ast [Decimal('0.02761052804895719247068856301')\n",
      " Decimal('0.5387332740568126119298982522')\n",
      " Decimal('0.8420238228012821391568210855')]\n",
      "measured unit vector in global CS [Decimal('0.02761052804892998603144713752')\n",
      " Decimal('0.5387332740567970322767803028')\n",
      " Decimal('0.8420238228012929992553587569')]\n",
      "dot 0.9999999999999999999999999998\n",
      "time 12\n",
      "L ast [Decimal('0.03622307129119587225997460357')\n",
      " Decimal('0.5407465578061013617941689175')\n",
      " Decimal('0.8404052887310298333421627583')]\n",
      "measured unit vector in global CS [Decimal('0.03622307129116474366004654050')\n",
      " Decimal('0.5407465578060813990616145790')\n",
      " Decimal('0.8404052887310440197740753338')]\n",
      "dot 0.9999999999999999999999999997\n",
      "time 13\n",
      "L ast [Decimal('0.04492758993742274657199645678')\n",
      " Decimal('0.5427376507474804332779479932')\n",
      " Decimal('0.8386997997636107354476807428')]\n",
      "measured unit vector in global CS [Decimal('0.04492758993739109334216998543')\n",
      " Decimal('0.5427376507474564868912268136')\n",
      " Decimal('0.8386997997636279271878085521')]\n",
      "dot 0.9999999999999999999999999993\n",
      "time 14\n",
      "L ast [Decimal('0.05372330851318708151678379297')\n",
      " Decimal('0.5447049350401240764414849328')\n",
      " Decimal('0.8369052155801940816048811308')]\n",
      "measured unit vector in global CS [Decimal('0.05372330851315977888147445591')\n",
      " Decimal('0.5447049350401104140405779838')\n",
      " Decimal('0.8369052155802047264962411186')]\n",
      "dot 0.9999999999999999999999999991\n",
      "time 15\n",
      "L ast [Decimal('0.06260933841720559224835713938')\n",
      " Decimal('0.5466467547802160772228752429')\n",
      " Decimal('0.8350193987155137555014686716')]\n",
      "measured unit vector in global CS [Decimal('0.06260933841717344514564527359')\n",
      " Decimal('0.5466467547801922281793526840')\n",
      " Decimal('0.8350193987155317786888367589')]\n",
      "dot 0.9999999999999999999999999991\n",
      "time 16\n",
      "L ast [Decimal('0.07158467409399556099458887852')\n",
      " Decimal('0.5485614172446266562568241475')\n",
      " Decimal('0.8330402186842019822482748485')]\n",
      "measured unit vector in global CS [Decimal('0.07158467409396282110648676626')\n",
      " Decimal('0.5485614172446091860256940107')\n",
      " Decimal('0.8330402186842162998870880629')]\n",
      "dot 0.9999999999999999999999999996\n",
      "time 17\n",
      "L ast [Decimal('0.08064818931482255107141500447')\n",
      " Decimal('0.5504471943198232028735425665')\n",
      " Decimal('0.8309655563413415852135982258')]\n",
      "measured unit vector in global CS [Decimal('0.08064818931479465433090446435')\n",
      " Decimal('0.5504471943198097672359386060')\n",
      " Decimal('0.8309655563413531927111164458')]\n",
      "dot 0.9999999999999999999999999991\n",
      "time 18\n",
      "L ast [Decimal('0.08979863358989878873582944994')\n",
      " Decimal('0.5523023241231690051650883407')\n",
      " Decimal('0.8287933084753598982620662211')]\n",
      "measured unit vector in global CS [Decimal('0.08979863358986232567335517690')\n",
      " Decimal('0.5523023241231602896017097994')\n",
      " Decimal('0.8287933084753696569787619214')]\n",
      "dot 0.9999999999999999999999999995\n",
      "time 19\n",
      "L ast [Decimal('0.09903462873647812061897322722')\n",
      " Decimal('0.5541250128227754257281290417')\n",
      " Decimal('0.8265213926300921293411223474')]\n",
      "measured unit vector in global CS [Decimal('0.09903462873644052004331913220')\n",
      " Decimal('0.5541250128227521088554286325')\n",
      " Decimal('0.8265213926301122670188433284')]\n",
      "dot 0.9999999999999999999999999990\n",
      "time 20\n",
      "L ast [Decimal('0.1083546656278441744683919713')\n",
      " Decimal('0.5559134366619995282793917680')\n",
      " Decimal('0.8241477521508647074238504599')]\n",
      "measured unit vector in global CS [Decimal('0.1083546656278109098971877412')\n",
      " Decimal('0.5559134366619760482335577452')\n",
      " Decimal('0.8241477521508849189022160657')]\n",
      "dot 0.9999999999999999999999999989\n",
      "time 21\n",
      "L ast [Decimal('0.1177571011498436720063997811')\n",
      " Decimal('0.5576657441934471631143022641')\n",
      " Decimal('0.8216703614479192335236873583')]\n",
      "measured unit vector in global CS [Decimal('0.1177571011498141692354534597')\n",
      " Decimal('0.5576657441934298613848630513')\n",
      " Decimal('0.8216703614479352043353677915')]\n",
      "dot 0.9999999999999999999999999990\n",
      "time 22\n",
      "L ast [Decimal('0.1272401553917246482613385784')\n",
      " Decimal('0.5593800587266954491475559386')\n",
      " Decimal('0.8190872314685466487205874760')]\n",
      "measured unit vector in global CS [Decimal('0.1272401553916909933812193153')\n",
      " Decimal('0.5593800587266721695308264836')\n",
      " Decimal('0.8190872314685677751707194065')]\n",
      "dot 0.9999999999999999999999999990\n",
      "time 23\n",
      "L ast [Decimal('0.1368019090991639984254435769')\n",
      " Decimal('0.5610544809927461522531821168')\n",
      " Decimal('0.8163964153674269514298711253')]\n",
      "measured unit vector in global CS [Decimal('0.1368019090991350803476445649')\n",
      " Decimal('0.5610544809927333231604185800')\n",
      " Decimal('0.8163964153674406137488407848')]\n",
      "dot 0.9999999999999999999999999996\n",
      "time 24\n",
      "L ast [Decimal('0.1464403014177576491070265582')\n",
      " Decimal('0.5626870920273871634679980862')\n",
      " Decimal('0.8135960143624346789098981109')]\n",
      "measured unit vector in global CS [Decimal('0.1464403014177239874971876076')\n",
      " Decimal('0.5626870920273748433257498521')\n",
      " Decimal('0.8135960143624492583831214894')]\n",
      "dot 0.9999999999999999999999999992\n",
      "time 25\n",
      "L ast [Decimal('0.1561531279553508517003867587')\n",
      " Decimal('0.5642759562741590025159412247')\n",
      " Decimal('0.8106841837612494224529636036')]\n",
      "measured unit vector in global CS [Decimal('0.1561531279553124410226585344')\n",
      " Decimal('0.5642759562741472547705653469')\n",
      " Decimal('0.8106841837612649980839961484')]\n",
      "dot 0.9999999999999999999999999992\n",
      "time 26\n",
      "L ast [Decimal('0.1659380391920252059660903837')\n",
      " Decimal('0.5658191249062419719042422826')\n",
      " Decimal('0.8076591391419033850236448573')]\n",
      "measured unit vector in global CS [Decimal('0.1659380391919937198106684677')\n",
      " Decimal('0.5658191249062316395883226098')\n",
      " Decimal('0.8076591391419170925053135397')]\n",
      "dot 0.9999999999999999999999999995\n",
      "time 27\n",
      "L ast [Decimal('0.1757925392660453380015123158')\n",
      " Decimal('0.5673146393656169124651301484')\n",
      " Decimal('0.8045191626678981308227425080')]\n",
      "measured unit vector in global CS [Decimal('0.1757925392660168677214183343')\n",
      " Decimal('0.5673146393656018950870601368')\n",
      " Decimal('0.8045191626679149414120770028')]\n",
      "dot 0.9999999999999999999999999994\n",
      "time 28\n",
      "L ast [Decimal('0.1857139851640753402923283495')\n",
      " Decimal('0.5687605351156302329826389231')\n",
      " Decimal('0.8012626095166674835903669371')]\n",
      "measured unit vector in global CS [Decimal('0.1857139851640421828781882222')\n",
      " Decimal('0.5687605351156121047264570940')\n",
      " Decimal('0.8012626095166880366924445720')]\n",
      "dot 0.9999999999999999999999999991\n",
      "time 29\n",
      "L ast [Decimal('0.1956995863429417184679486802')\n",
      " Decimal('0.5701548456018435234705430014')\n",
      " Decimal('0.7978879143977175646454153795')]\n",
      "measured unit vector in global CS [Decimal('0.1956995863429085239490728744')\n",
      " Decimal('0.5701548456018255656624940673')\n",
      " Decimal('0.7978879143977385386250763788')]\n",
      "dot 0.9999999999999999999999999990\n",
      "time 30\n",
      "L ast [Decimal('0.2057464048096952825719190405')\n",
      " Decimal('0.5714956064144073166131823892')\n",
      " Decimal('0.7943935981343970024210568152')]\n",
      "measured unit vector in global CS [Decimal('0.2057464048096574447916285396')\n",
      " Decimal('0.5714956064143901028517538254')\n",
      " Decimal('0.7943935981344191861047224749')]\n",
      "dot 0.9999999999999999999999999988\n",
      "time 31\n",
      "L ast [Decimal('0.2158513556851236167225158609')\n",
      " Decimal('0.5727808596431041576276705161')\n",
      " Decimal('0.7907782742813568644836419286')]\n",
      "measured unit vector in global CS [Decimal('0.2158513556850921535792655379')\n",
      " Decimal('0.5727808596430880821129537596')\n",
      " Decimal('0.7907782742813770965888776288')]\n",
      "dot 0.9999999999999999999999999992\n",
      "time 32\n",
      "L ast [Decimal('0.2260112082746569381546388565')\n",
      " Decimal('0.5740086584144593024830192507')\n",
      " Decimal('0.7870406557475047127078927225')]\n",
      "measured unit vector in global CS [Decimal('0.2260112082746186305310122198')\n",
      " Decimal('0.5740086584144316137389556189')\n",
      " Decimal('0.7870406557475359074510814512')]\n",
      "dot 0.9999999999999999999999999983\n",
      "time 33\n",
      "L ast [Decimal('0.2362225876684137427034886358')\n",
      " Decimal('0.5751770715985638933473191787')\n",
      " Decimal('0.7831795613922385093383568939')]\n",
      "measured unit vector in global CS [Decimal('0.2362225876683820087886513723')\n",
      " Decimal('0.5751770715985481523579297192')\n",
      " Decimal('0.7831795613922596413040984146')]\n",
      "dot 0.9999999999999999999999999993\n",
      "time 34\n",
      "L ast [Decimal('0.2464819768904237590577422278')\n",
      " Decimal('0.5762841886711063483690015810')\n",
      " Decimal('0.7791939225609202025830095727')]\n",
      "measured unit vector in global CS [Decimal('0.2464819768903859806934851390')\n",
      " Decimal('0.5762841886710900333778623617')\n",
      " Decimal('0.7791939225609442193993575606')]\n",
      "dot 0.9999999999999999999999999988\n",
      "time 35\n",
      "L ast [Decimal('0.2567857196140183017085232416')\n",
      " Decimal('0.5773281247143083357214124318')\n",
      " Decimal('0.7750827895239132563375016684')]\n",
      "measured unit vector in global CS [Decimal('0.2567857196139909366876149517')\n",
      " Decimal('0.5773281247142922302351069283')\n",
      " Decimal('0.7750827895239343187285303519')]\n",
      "dot 0.9999999999999999999999999994\n",
      "time 36\n",
      "L ast [Decimal('0.2671300234580572465746061293')\n",
      " Decimal('0.5783070255384034882370866534')\n",
      " Decimal('0.7708453377819847207554675599')]\n",
      "measured unit vector in global CS [Decimal('0.2671300234580272304749372975')\n",
      " Decimal('0.5783070255383927011453887538')\n",
      " Decimal('0.7708453377820032153245126258')]\n",
      "dot 0.9999999999999999999999999992\n",
      "time 37\n",
      "L ast [Decimal('0.2775109638752474366084080553')\n",
      " Decimal('0.5792190729036542679057859090')\n",
      " Decimal('0.7664808741995212723691023299')]\n",
      "measured unit vector in global CS [Decimal('0.2775109638752082828921241007')\n",
      " Decimal('0.5792190729036452680561143169')\n",
      " Decimal('0.7664808741995422493701854953')]\n",
      "dot 0.9999999999999999999999999990\n",
      "time 38\n",
      "L ast [Decimal('0.2879244886403445326696098791')\n",
      " Decimal('0.5800624898206876289915363924')\n",
      " Decimal('0.7619888429263388978238182828')]\n",
      "measured unit vector in global CS [Decimal('0.2879244886403048973931678628')\n",
      " Decimal('0.5800624898206679232933483702')\n",
      " Decimal('0.7619888429263688753008749806')]\n",
      "dot 0.9999999999999999999999999984\n",
      "time 39\n",
      "L ast [Decimal('0.2983664229426698544467048635')\n",
      " Decimal('0.5808355459057335648313772679')\n",
      " Decimal('0.7573688310676538057730971510')]\n",
      "measured unit vector in global CS [Decimal('0.2983664229426307946728953175')\n",
      " Decimal('0.5808355459057251083594443368')\n",
      " Decimal('0.7573688310676756787942785888')]\n",
      "dot 0.9999999999999999999999999990\n",
      "time 40\n",
      "L ast [Decimal('0.3088324750828954092218085981')\n",
      " Decimal('0.5815365627651368107286712757')\n",
      " Decimal('0.7526205740620454768952635668')]\n",
      "measured unit vector in global CS [Decimal('0.3088324750828609395039037883')\n",
      " Decimal('0.5815365627651277367422671010')\n",
      " Decimal('0.7526205740620666326060011523')]\n",
      "dot 0.9999999999999999999999999991\n",
      "time 41\n",
      "L ast [Decimal('0.3193182427703066271504818639')\n",
      " Decimal('0.5821639193824483805486330024')\n",
      " Decimal('0.7477439607267648552427625009')]\n",
      "measured unit vector in global CS [Decimal('0.3193182427702740892712932831')\n",
      " Decimal('0.5821639193824329356591997602')\n",
      " Decimal('0.7477439607267907750719965831')]\n",
      "dot 0.9999999999999999999999999990\n",
      "time 42\n",
      "L ast [Decimal('0.3298192200120698127371372494')\n",
      " Decimal('0.5827160574799195158366493549')\n",
      " Decimal('0.7427390379303413337136987584')]\n",
      "measured unit vector in global CS [Decimal('0.3298192200120354989923409223')\n",
      " Decimal('0.5827160574799109461205230348')\n",
      " Decimal('0.7427390379303632943794323375')]\n",
      "dot 0.9999999999999999999999999991\n",
      "time 43\n",
      "L ast [Decimal('0.3403308045816633076096293635')\n",
      " Decimal('0.5831914868252665446547506168')\n",
      " Decimal('0.7376060148530058317381318700')]\n",
      "measured unit vector in global CS [Decimal('0.3403308045816290210452700063')\n",
      " Decimal('0.5831914868252595470031007791')\n",
      " Decimal('0.7376060148530271842550413923')]\n",
      "dot 0.9999999999999999999999999991\n",
      "time 44\n",
      "L ast [Decimal('0.3508483060488707471575451585')\n",
      " Decimal('0.5835887904532405250637923251')\n",
      " Decimal('0.7323452667969949042100719060')]\n",
      "measured unit vector in global CS [Decimal('0.3508483060488345869432671090')\n",
      " Decimal('0.5835887904532391308727104709')\n",
      " Decimal('0.7323452667970133386628157362')]\n",
      "dot 0.9999999999999999999999999992\n",
      "time 45\n",
      "L ast [Decimal('0.3613669543490310703506252467')\n",
      " Decimal('0.5839066297715409109821447677')\n",
      " Decimal('0.7269573385098646542588880182')]\n",
      "measured unit vector in global CS [Decimal('0.3613669543489948479078527424')\n",
      " Decimal('0.5839066297715275283798773298')\n",
      " Decimal('0.7269573385098934094318589418')]\n",
      "dot 0.9999999999999999999999999988\n",
      "time 46\n",
      "L ast [Decimal('0.3718819088646186003758889011')\n",
      " Decimal('0.5841437495194351245058500252')\n",
      " Decimal('0.7214429469865118463761429782')]\n",
      "measured unit vector in global CS [Decimal('0.3718819088645826257097226947')\n",
      " Decimal('0.5841437495194220331419294042')\n",
      " Decimal('0.7214429469865409901442252561')]\n",
      "dot 0.9999999999999999999999999989\n",
      "time 47\n",
      "L ast [Decimal('0.3823882679874242997231113839')\n",
      " Decimal('0.5842989825481589952207495339')\n",
      " Decimal('0.7158029837174220430127410218')]\n",
      "measured unit vector in global CS [Decimal('0.3823882679873878769984840710')\n",
      " Decimal('0.5842989825481475042873978691')\n",
      " Decimal('0.7158029837174508802259422385')]\n",
      "dot 0.9999999999999999999999999990\n",
      "time 48\n",
      "L ast [Decimal('0.3928810791250342479780989167')\n",
      " Decimal('0.5843712543916191078854412603')\n",
      " Decimal('0.7100385163540877688525923756')]\n",
      "measured unit vector in global CS [Decimal('0.3928810791250088911926119810')\n",
      " Decimal('0.5843712543915988797011638259')\n",
      " Decimal('0.7100385163541184474287031039')]\n",
      "dot 0.9999999999999999999999999989\n",
      "time 49\n",
      "L ast [Decimal('0.4033553491111912432390001226')\n",
      " Decimal('0.5843595875966472669730474404')\n",
      " Decimal('0.7041507897654204599455905823')]\n",
      "measured unit vector in global CS [Decimal('0.4033553491111550874513529076')\n",
      " Decimal('0.5843595875966363803730241864')\n",
      " Decimal('0.7041507897654502054486180338')]\n",
      "dot 0.9999999999999999999999999988\n",
      "time 50\n",
      "L ast [Decimal('0.4138060549748286034483618347')\n",
      " Decimal('0.5842631057832521303619092273')\n",
      " Decimal('0.6981412264625814651557485572')]\n",
      "measured unit vector in global CS [Decimal('0.4138060549747950769092580003')\n",
      " Decimal('0.5842631057832348274307098440')\n",
      " Decimal('0.6981412264626158177312678984')]\n",
      "dot 0.9999999999999999999999999986\n",
      "time 51\n",
      "L ast [Decimal('0.4242281550195332403817560193')\n",
      " Decimal('0.5840810374055800059020786731')\n",
      " Decimal('0.6920114263738311452181292589')]\n",
      "measured unit vector in global CS [Decimal('0.4242281550195004260567007311')\n",
      " Decimal('0.5840810374055738714809156971')\n",
      " Decimal('0.6920114263738564392508374896')]\n",
      "dot 0.9999999999999999999999999991\n",
      "time 52\n",
      "L ast [Decimal('0.4346166001607586172442002504')\n",
      " Decimal('0.5838127191867179144126129036')\n",
      " Decimal('0.6857631659549189618067323902')]\n",
      "measured unit vector in global CS [Decimal('0.4346166001607286473638098280')\n",
      " Decimal('0.5838127191867053125333125736')\n",
      " Decimal('0.6857631659549486842327179197')]\n",
      "dot 0.9999999999999999999999999990\n",
      "time 53\n",
      "L ast [Decimal('0.4449663454656789834169397570')\n",
      " Decimal('0.5834575992011410023424297067')\n",
      " Decimal('0.6793983966255430682444118080')]\n",
      "measured unit vector in global CS [Decimal('0.4449663454656483277154356294')\n",
      " Decimal('0.5834575992011340629618219180')\n",
      " Decimal('0.6793983966255691053824197900')]\n",
      "dot 0.9999999999999999999999999990\n",
      "time 54\n",
      "L ast [Decimal('0.4552723618374060994123955762')\n",
      " Decimal('0.5830152395817776759423146197')\n",
      " Decimal('0.6729192425264656907550648754')]\n",
      "measured unit vector in global CS [Decimal('0.4552723618373781384519530421')\n",
      " Decimal('0.5830152395817710234631165306')\n",
      " Decimal('0.6729192425264903717987976195')]\n",
      "dot 0.9999999999999999999999999993\n",
      "time 55\n",
      "L ast [Decimal('0.4655296477833552680143331241')\n",
      " Decimal('0.5824853188298335214560547766')\n",
      " Decimal('0.6663279975975888540424280362')]\n",
      "measured unit vector in global CS [Decimal('0.4655296477833231327005089124')\n",
      " Decimal('0.5824853188298177428027153773')\n",
      " Decimal('0.6663279975976250986176735179')]\n",
      "dot 0.9999999999999999999999999988\n",
      "time 56\n",
      "L ast [Decimal('0.4757332412057317945512088279')\n",
      " Decimal('0.5818676337090042272098973315')\n",
      " Decimal('0.6596271219816337264784500276')]\n",
      "measured unit vector in global CS [Decimal('0.4757332412057032116374314983')\n",
      " Decimal('0.5818676337089927025991602614')\n",
      " Decimal('0.6596271219816645069595988208')]\n",
      "dot 0.9999999999999999999999999991\n",
      "time 57\n",
      "L ast [Decimal('0.4858782311510830060869066004')\n",
      " Decimal('0.5811621007080855697069922954')\n",
      " Decimal('0.6528192377634560469365907635')]\n",
      "measured unit vector in global CS [Decimal('0.4858782311510587302934893813')\n",
      " Decimal('0.5811621007080728615993359082')\n",
      " Decimal('0.6528192377634854280408803203')]\n",
      "dot 0.9999999999999999999999999993\n",
      "time 58\n",
      "L ast [Decimal('0.4959597694552801346233578278')\n",
      " Decimal('0.5803687570588240761564827973')\n",
      " Decimal('0.6459071240603102506330468830')]\n",
      "measured unit vector in global CS [Decimal('0.4959597694552523252156964799')\n",
      " Decimal('0.5803687570588130861145143833')\n",
      " Decimal('0.6459071240603414789995693716')]\n",
      "dot 0.9999999999999999999999999991\n",
      "time 59\n",
      "L ast [Decimal('0.5059730822204462830115236956')\n",
      " Decimal('0.5794877612995952108593973914')\n",
      " Decimal('0.6388937114828450622144775347')]\n",
      "measured unit vector in global CS [Decimal('0.5059730822204150521604888794')\n",
      " Decimal('0.5794877612995859937935366114')\n",
      " Decimal('0.6388937114828781555857846249')]\n",
      "dot 0.9999999999999999999999999990\n",
      "time 60\n",
      "L ast [Decimal('0.5159134810610347584887655811')\n",
      " Decimal('0.5785193933782577791817182933')\n",
      " Decimal('0.6317820759919815569489133522')]\n",
      "measured unit vector in global CS [Decimal('0.5159134810610009258032704155')\n",
      " Decimal('0.5785193933782556965240610528')\n",
      " Decimal('0.6317820759920110918108554805')]\n",
      "dot 0.9999999999999999999999999990\n",
      "time 61\n",
      "L ast [Decimal('0.5257763740576286544905177847')\n",
      " Decimal('0.5774640542911691425801211942')\n",
      " Decimal('0.6245754321812684067742462112')]\n",
      "measured unit vector in global CS [Decimal('0.5257763740576018396664905259')\n",
      " Decimal('0.5774640542911483743475932771')\n",
      " Decimal('0.6245754321813101815661443727')]\n",
      "dot 0.9999999999999999999999999986\n",
      "time 62\n",
      "L ast [Decimal('0.5355572763587918734108435190')\n",
      " Decimal('0.5763222652587928070681585449')\n",
      " Decimal('0.6172771260188784029102219063')]\n",
      "measured unit vector in global CS [Decimal('0.5355572763587591772466556643')\n",
      " Decimal('0.5763222652587860727397670175')\n",
      " Decimal('0.6172771260189130580288578326')]\n",
      "dot 0.9999999999999999999999999988\n",
      "time 63\n",
      "L ast [Decimal('0.5452518203740228826089951048')\n",
      " Decimal('0.5750946664420429447589814583')\n",
      " Decimal('0.6098906270871275239167317700')]\n",
      "measured unit vector in global CS [Decimal('0.5452518203739937896700944762')\n",
      " Decimal('0.5750946664420296494508972570')\n",
      " Decimal('0.6098906270871660702357263823')]\n",
      "dot 0.9999999999999999999999999989\n",
      "time 64\n",
      "L ast [Decimal('0.5548557655038135383208793130')\n",
      " Decimal('0.5737820152061143471820765314')\n",
      " Decimal('0.6024195203620044103441253861')]\n",
      "measured unit vector in global CS [Decimal('0.5548557655037851711434373189')\n",
      " Decimal('0.5737820152061066137557881331')\n",
      " Decimal('0.6024195203620379036028810777')]\n",
      "dot 0.9999999999999999999999999989\n",
      "time 65\n",
      "L ast [Decimal('0.5643650073563363907721189288')\n",
      " Decimal('0.5723851839432097987580137070')\n",
      " Decimal('0.5948674975773850893101368630')]\n",
      "measured unit vector in global CS [Decimal('0.5643650073563048231638648950')\n",
      " Decimal('0.5723851839432091700998808089')\n",
      " Decimal('0.5948674975774156431530339202')]\n",
      "dot 0.9999999999999999999999999992\n",
      "time 66\n",
      "L ast [Decimal('0.5737755864043993908800366452')\n",
      " Decimal('0.5709051574674814968277255874')\n",
      " Decimal('0.5872383482226937850845208599')]\n",
      "measured unit vector in global CS [Decimal('0.5737755864043682144159451178')\n",
      " Decimal('0.5709051574674707898776061862')\n",
      " Decimal('0.5872383482227346559627301658')]\n",
      "dot 0.9999999999999999999999999985\n",
      "time 67\n",
      "L ast [Decimal('0.5830836960408068793737438737')\n",
      " Decimal('0.5693430299996303038538336305')\n",
      " Decimal('0.5795359502241703035861884132')]\n",
      "measured unit vector in global CS [Decimal('0.5830836960407795974400860342')\n",
      " Decimal('0.5693430299996234389497615923')\n",
      " Decimal('0.5795359502242044966953298187')]\n",
      "dot 0.9999999999999999999999999991\n",
      "time 68\n",
      "L ast [Decimal('0.5922856899948921020071092199')\n",
      " Decimal('0.5677000017608594839730449566')\n",
      " Decimal('0.5717642603626032068174472110')]\n",
      "measured unit vector in global CS [Decimal('0.5922856899948721137063965065')\n",
      " Decimal('0.5677000017608492882501498903')\n",
      " Decimal('0.5717642603626340357754757484')]\n",
      "dot 0.9999999999999999999999999992\n",
      "time 69\n",
      "L ast [Decimal('0.6013780890782969288256926398')\n",
      " Decimal('0.5659773751988644796821929140')\n",
      " Decimal('0.5639273044812954849199962649')]\n",
      "measured unit vector in global CS [Decimal('0.6013780890782706298457655492')\n",
      " Decimal('0.5659773751988631839338618861')\n",
      " Decimal('0.5639273044813248308913671613')]\n",
      "dot 0.9999999999999999999999999991\n",
      "time 70\n",
      "L ast [Decimal('0.6103575872332947669053127030')\n",
      " Decimal('0.5641765508708811304187678615')\n",
      " Decimal('0.5560291675390662857807582380')]\n",
      "measured unit vector in global CS [Decimal('0.6103575872332686680891200638')\n",
      " Decimal('0.5641765508708751089762448750')\n",
      " Decimal('0.5560291675391010443299192611')]\n",
      "dot 0.9999999999999999999999999990\n",
      "time 71\n",
      "L ast [Decimal('0.6192210568625467598063222257')\n",
      " Decimal('0.5622990230108451976839402228')\n",
      " Decimal('0.5480739835634233197138535979')]\n",
      "measured unit vector in global CS [Decimal('0.6192210568625210743157507913')\n",
      " Decimal('0.5622990230108394502355152045')\n",
      " Decimal('0.5480739835634582361335811803')]\n",
      "dot 0.9999999999999999999999999989\n",
      "time 72\n",
      "L ast [Decimal('0.6279655534246446771139373494')\n",
      " Decimal('0.5603463748098161057435400751')\n",
      " Decimal('0.5400659255587014149676456341')]\n",
      "measured unit vector in global CS [Decimal('0.6279655534246194133777389824')\n",
      " Decimal('0.5603463748098106281873250367')\n",
      " Decimal('0.5400659255587364738076043058')]\n",
      "dot 0.9999999999999999999999999991\n",
      "time 73\n",
      "L ast [Decimal('0.6365883192855095195458877517')\n",
      " Decimal('0.5583202734400323593773221999')\n",
      " Decimal('0.5320091954234416101589777070')]\n",
      "measured unit vector in global CS [Decimal('0.6365883192854887150537324886')\n",
      " Decimal('0.5583202734400249782727927947')\n",
      " Decimal('0.5320091954234742504162199385')]\n",
      "dot 0.9999999999999999999999999991\n",
      "time 74\n",
      "L ast [Decimal('0.6450867868212754788826763220')\n",
      " Decimal('0.5562224648543543953985052756')\n",
      " Decimal('0.5239080139298775553078495050')]\n",
      "measured unit vector in global CS [Decimal('0.6450867868212586115738992463')\n",
      " Decimal('0.5562224648543501701008122554')\n",
      " Decimal('0.5239080139299028099005777843')]\n",
      "dot 0.9999999999999999999999999993\n",
      "time 75\n",
      "L ast [Decimal('0.6534585807737222925559669449')\n",
      " Decimal('0.5540547683936294829151566273')\n",
      " Decimal('0.5157666108168250264341839828')]\n",
      "measured unit vector in global CS [Decimal('0.6534585807736988493973394890')\n",
      " Decimal('0.5540547683936295095422710612')\n",
      " Decimal('0.5157666108168546995071686639')]\n",
      "dot 0.9999999999999999999999999991\n",
      "time 76\n",
      "L ast [Decimal('0.6617015198645190448885507021')\n",
      " Decimal('0.5518190712352421770409752778')\n",
      " Decimal('0.5075892150450600616005347415')]\n",
      "measured unit vector in global CS [Decimal('0.6617015198644952441069884765')\n",
      " Decimal('0.5518190712352475789372678460')\n",
      " Decimal('0.5075892150450852160828605329')]\n",
      "dot 0.9999999999999999999999999993\n",
      "time 77\n",
      "L ast [Decimal('0.6698136176799523747848045202')\n",
      " Decimal('0.5495173227158257986097229176')\n",
      " Decimal('0.4993800452618481983305341813')]\n",
      "measured unit vector in global CS [Decimal('0.6698136176799274782257147194')\n",
      " Decimal('0.5495173227158182772749962063')\n",
      " Decimal('0.4993800452618898683136090593')]\n",
      "dot 0.9999999999999999999999999988\n",
      "time 78\n",
      "L ast [Decimal('0.6777930828419573075159247801')\n",
      " Decimal('0.5471515285617154911349021743')\n",
      " Decimal('0.4911433005184676604649088007')]\n",
      "measured unit vector in global CS [Decimal('0.6777930828419353435526537506')\n",
      " Decimal('0.5471515285617160927985846923')\n",
      " Decimal('0.4911433005184973011444374850')]\n",
      "dot 0.9999999999999999999999999993\n",
      "time 79\n",
      "L ast [Decimal('0.6856383184865713164129629079')\n",
      " Decimal('0.5447237450596277894741450174')\n",
      " Decimal('0.4828831512810533206603711457')]\n",
      "measured unit vector in global CS [Decimal('0.6856383184865562432941763735')\n",
      " Decimal('0.5447237450596196546810090777')\n",
      " Decimal('0.4828831512810838993267882049')]\n",
      "dot 0.9999999999999999999999999993\n",
      "time 80\n",
      "L ast [Decimal('0.6933479210741090765088399694')\n",
      " Decimal('0.5422360731998231542749630949')\n",
      " Decimal('0.4746037307723644904473307473')]\n",
      "measured unit vector in global CS [Decimal('0.6933479210740892674914654352')\n",
      " Decimal('0.5422360731998189311488242520')\n",
      " Decimal('0.4746037307723982543461589951')]\n",
      "dot 0.9999999999999999999999999993\n",
      "time 81\n",
      "L ast [Decimal('0.7009206785598967636797129911')\n",
      " Decimal('0.5396906528227195299435575259')\n",
      " Decimal('0.4663091266777015308476337285')]\n",
      "measured unit vector in global CS [Decimal('0.7009206785598750554653437330')\n",
      " Decimal('0.5396906528227258190245923165')\n",
      " Decimal('0.4663091266777268822238354496')]\n",
      "dot 0.9999999999999999999999999994\n",
      "time 82\n",
      "L ast [Decimal('0.7083555679571227107999158574')\n",
      " Decimal('0.5370896567990253918107615769')\n",
      " Decimal('0.4580033732448345481346634509')]\n",
      "measured unit vector in global CS [Decimal('0.7083555679571032890493324780')\n",
      " Decimal('0.5370896567990171566849485117')\n",
      " Decimal('0.4580033732448742432703849244')]\n",
      "dot 0.9999999999999999999999999991\n",
      "time 83\n",
      "L ast [Decimal('0.7156517523265037631389542238')\n",
      " Decimal('0.5344352852715669908203079236')\n",
      " Decimal('0.4496904438040720988280555973')]\n",
      "measured unit vector in global CS [Decimal('0.7156517523264859231798150753')\n",
      " Decimal('0.5344352852715622483185642943')\n",
      " Decimal('0.4496904438041061261428505910')]\n",
      "dot 0.9999999999999999999999999993\n",
      "time 84\n",
      "L ast [Decimal('0.7228085772297303884187481544')\n",
      " Decimal('0.5317297599861050508394392834')\n",
      " Decimal('0.4413742437300255478269748218')]\n",
      "measured unit vector in global CS [Decimal('0.7228085772297051046147427770')\n",
      " Decimal('0.5317297599861019846112137813')\n",
      " Decimal('0.4413742437300706473212957125')]\n",
      "dot 0.9999999999999999999999999987\n",
      "time 85\n",
      "L ast [Decimal('0.7298255666857022263421683170')\n",
      " Decimal('0.5289753187357415240236013002')\n",
      " Decimal('0.4330586038636275320398147993')]\n",
      "measured unit vector in global CS [Decimal('0.7298255666856898196398630727')\n",
      " Decimal('0.5289753187357342460365985802')\n",
      " Decimal('0.4330586038636573307874208100')]\n",
      "dot 0.9999999999999999999999999994\n",
      "time 86\n",
      "L ast [Decimal('0.7367024186701555364148774534')\n",
      " Decimal('0.5261742099423494273522072675')\n",
      " Decimal('0.4247472744080734608707451944')]\n",
      "measured unit vector in global CS [Decimal('0.7367024186701404970399208483')\n",
      " Decimal('0.5261742099423400835364941097')\n",
      " Decimal('0.4247472744081111209564486923')]\n",
      "dot 0.9999999999999999999999999991\n",
      "time 87\n",
      "L ast [Decimal('0.7434390002001033803317812420')\n",
      " Decimal('0.5233286873960350877779372585')\n",
      " Decimal('0.4164439193094475618707299665')]\n",
      "measured unit vector in global CS [Decimal('0.7434390002000850151470613560')\n",
      " Decimal('0.5233286873960330112951258360')\n",
      " Decimal('0.4164439193094829569789481049')]\n",
      "dot 0.9999999999999999999999999992\n",
      "time 88\n",
      "L ast [Decimal('0.7500353420454761139311023720')\n",
      " Decimal('0.5204410051718705191630922898')\n",
      " Decimal('0.4081521111282149110034122792')]\n",
      "measured unit vector in global CS [Decimal('0.7500353420454607374521250587')\n",
      " Decimal('0.5204410051718673908287320285')\n",
      " Decimal('0.4081521111282471563741682746')]\n",
      "dot 0.9999999999999999999999999992\n",
      "time 89\n",
      "L ast [Decimal('0.7564916331105275442532894691')\n",
      " Decimal('0.5175134127404366428017815450')\n",
      " Decimal('0.3998753264050102088767689114')]\n",
      "measured unit vector in global CS [Decimal('0.7564916331105176979020757467')\n",
      " Decimal('0.5175134127404337265834068677')\n",
      " Decimal('0.3998753264050326105200854861')]\n",
      "dot 0.9999999999999999999999999998\n",
      "time 90\n",
      "L ast [Decimal('0.7628082145272171590679246554')\n",
      " Decimal('0.5145481502873370616620703697')\n",
      " Decimal('0.3916169415202552720542169321')]\n",
      "measured unit vector in global CS [Decimal('0.7628082145272066192857301040')\n",
      " Decimal('0.5145481502873270401743682813')\n",
      " Decimal('0.3916169415202889691929217578')]\n",
      "dot 0.9999999999999999999999999994\n",
      "time 91\n",
      "L ast [Decimal('0.7689855735027837502706035502')\n",
      " Decimal('0.5115474442539052565676920381')\n",
      " Decimal('0.3833802290440815938061914664')]\n",
      "measured unit vector in global CS [Decimal('0.7689855735027719008369803294')\n",
      " Decimal('0.5115474442539005284208897305')\n",
      " Decimal('0.3833802290441116702526268065')]\n",
      "dot 0.9999999999999999999999999995\n",
      "time 92\n",
      "L ast [Decimal('0.7750243369624176931233826770')\n",
      " Decimal('0.5085135031098462652735715113')\n",
      " Decimal('0.3751683545702078650134279676')]\n",
      "measured unit vector in global CS [Decimal('0.7750243369624072857086276193')\n",
      " Decimal('0.5085135031098327044962622044')\n",
      " Decimal('0.3751683545702477453442506963')]\n",
      "dot 0.9999999999999999999999999991\n",
      "time 93\n",
      "L ast [Decimal('0.7809252650272773953526102942')\n",
      " Decimal('0.5054485133659520137822546119')\n",
      " Decimal('0.3669843740245973866520048512')]\n",
      "measured unit vector in global CS [Decimal('0.7809252650272664448641094531')\n",
      " Decimal('0.5054485133659474544415531898')\n",
      " Decimal('0.3669843740246269683614250784')]\n",
      "dot 0.9999999999999999999999999996\n",
      "time 94\n",
      "L ast [Decimal('0.7866892443665052452022923947')\n",
      " Decimal('0.5023546358334019412652932963')\n",
      " Decimal('0.3588312314372135495840824059')]\n",
      "measured unit vector in global CS [Decimal('0.7866892443664883058678961110')\n",
      " Decimal('0.5023546358334028403005439304')\n",
      " Decimal('0.3588312314372494281713469098')]\n",
      "dot 0.9999999999999999999999999992\n",
      "time 95\n",
      "L ast [Decimal('0.7923172814603734172414459490')\n",
      " Decimal('0.4992340021339453447724017012')\n",
      " Decimal('0.3507117571632968014765119568')]\n",
      "measured unit vector in global CS [Decimal('0.7923172814603587329998349893')\n",
      " Decimal('0.4992340021339445006885012755')\n",
      " Decimal('0.3507117571633311772096631987')]\n",
      "dot 0.9999999999999999999999999992\n",
      "time 96\n",
      "L ast [Decimal('0.7978104958100948617596782133')\n",
      " Decimal('0.4960887114636314432229095238')\n",
      " Decimal('0.3426286665379948002211483951')]\n",
      "measured unit vector in global CS [Decimal('0.7978104958100780637115202867')\n",
      " Decimal('0.4960887114636379040934016109')\n",
      " Decimal('0.3426286665380245598274159956')]\n",
      "dot 0.9999999999999999999999999993\n",
      "time 97\n",
      "L ast [Decimal('0.8031701131275518835687470603')\n",
      " Decimal('0.4929208276109317083638354536')\n",
      " Decimal('0.3345845589474051838637459855')]\n",
      "measured unit vector in global CS [Decimal('0.8031701131275401235702456830')\n",
      " Decimal('0.4929208276109258762577345543')\n",
      " Decimal('0.3345845589474420057838353613')]\n",
      "dot 0.9999999999999999999999999993\n",
      "time 98\n",
      "L ast [Decimal('0.8083974585367070725637967634')\n",
      " Decimal('0.4897323762282849660921429494')\n",
      " Decimal('0.3265819172967029349800772422')]\n",
      "measured unit vector in global CS [Decimal('0.8083974585366939303952736708')\n",
      " Decimal('0.4897323762282827826100616505')\n",
      " Decimal('0.3265819172967387404453603403')]\n",
      "dot 0.9999999999999999999999999992\n",
      "time 99\n",
      "L ast [Decimal('0.8134939498156395175714965030')\n",
      " Decimal('0.4865253423550819999285724963')\n",
      " Decimal('0.3186231078556921412332962584')]\n",
      "measured unit vector in global CS [Decimal('0.8134939498156231694089579168')\n",
      " Decimal('0.4865253423550869924308605763')\n",
      " Decimal('0.3186231078557262572536438736')]\n",
      "dot 0.9999999999999999999999999994\n",
      "time 100\n",
      "L ast [Decimal('0.8184610907064517599306625618')\n",
      " Decimal('0.4833016681883567966993572838')\n",
      " Decimal('0.3107103804605774874255997775')]\n",
      "measured unit vector in global CS [Decimal('0.8184610907064434051563157361')\n",
      " Decimal('0.4833016681883543679096810928')\n",
      " Decimal('0.3107103804606032731615472350')]\n",
      "dot 0.9999999999999999999999999997\n",
      "time 101\n",
      "L ast [Decimal('0.8233004643179564009814052600')\n",
      " Decimal('0.4800632510960990683230581632')\n",
      " Decimal('0.3028458690503820223037803695')]\n",
      "measured unit vector in global CS [Decimal('0.8233004643179409969122102257')\n",
      " Decimal('0.4800632510961042311867940354')\n",
      " Decimal('0.3028458690504157149415655345')]\n",
      "dot 0.9999999999999999999999999994\n",
      "time 102\n",
      "L ast [Decimal('0.8280137266434375013447216635')\n",
      " Decimal('0.4768119418676101478779981089')\n",
      " Decimal('0.2950315925159295862998645686')]\n",
      "measured unit vector in global CS [Decimal('0.8280137266434290371745307069')\n",
      " Decimal('0.4768119418676047223109095036')\n",
      " Decimal('0.2950315925159621096788023362')]\n",
      "dot 0.9999999999999999999999999994\n",
      "time 103\n",
      "L ast [Decimal('0.8326026002140756991405721359')\n",
      " Decimal('0.4735495431935952532838111076')\n",
      " Decimal('0.2872694558387600247503199440')]\n",
      "measured unit vector in global CS [Decimal('0.8326026002140647794951770640')\n",
      " Decimal('0.4735495431936000053007960334')\n",
      " Decimal('0.2872694558387838400552117138')]\n",
      "dot 0.9999999999999999999999999994\n",
      "time 104\n",
      "L ast [Decimal('0.8370688679057629460767383064')\n",
      " Decimal('0.4702778083685896733459243045')\n",
      " Decimal('0.2795612514977718307691520330')]\n",
      "measured unit vector in global CS [Decimal('0.8370688679057541549157848824')\n",
      " Decimal('0.4702778083685909317642427234')\n",
      " Decimal('0.2795612514977960365591240269')]\n",
      "dot 0.9999999999999999999999999998\n",
      "time 105\n",
      "L ast [Decimal('0.8414143669155318654142687680')\n",
      " Decimal('0.4669984402067647410331732184')\n",
      " Decimal('0.2719086611209423978310539235')]\n",
      "measured unit vector in global CS [Decimal('0.8414143669155268236168051038')\n",
      " Decimal('0.4669984402067619209162751433')\n",
      " Decimal('0.2719086611209628430459679671')]\n",
      "dot 0.9999999999999999999999999998\n",
      "time 106\n",
      "L ast [Decimal('0.8456409829210556120542415826')\n",
      " Decimal('0.4637130901625324914858361157')\n",
      " Decimal('0.2643132573599476922619248670')]\n",
      "measured unit vector in global CS [Decimal('0.8456409829210479535973507039')\n",
      " Decimal('0.4637130901625320430930987686')\n",
      " Decimal('0.2643132573599729813097065249')]\n",
      "dot 0.9999999999999999999999999996\n",
      "time 107\n",
      "L ast [Decimal('0.8497506444350729535997963385')\n",
      " Decimal('0.4604233576459634624439185618')\n",
      " Decimal('0.2567765059661717525277321303')]\n",
      "measured unit vector in global CS [Decimal('0.8497506444350649304230317237')\n",
      " Decimal('0.4604233576459602321580818993')\n",
      " Decimal('0.2567765059662040958242731067')]\n",
      "dot 0.9999999999999999999999999993\n",
      "time 108\n",
      "L ast [Decimal('0.8537453173644386627657057261')\n",
      " Decimal('0.4571307895234047017337897695')\n",
      " Decimal('0.2492997680464275476409497256')]\n",
      "measured unit vector in global CS [Decimal('0.8537453173644303200885844592')\n",
      " Decimal('0.4571307895234014896580894513')\n",
      " Decimal('0.2492997680464620076017221701')]\n",
      "dot 0.9999999999999999999999999990\n",
      "time 109\n",
      "L ast [Decimal('0.8576269997817030891758449845')\n",
      " Decimal('0.4538368797928731297357975757')\n",
      " Decimal('0.2418843024780729224201725883')]\n",
      "measured unit vector in global CS [Decimal('0.8576269997816964268000581037')\n",
      " Decimal('0.4538368797928727043111358461')\n",
      " Decimal('0.2418843024780973428009003641')]\n",
      "dot 1.000000000000000000000000000\n",
      "time 110\n",
      "L ast [Decimal('0.8613977169153924233994581940')\n",
      " Decimal('0.4505430694239290311674609611')\n",
      " Decimal('0.2345312684633205214387649725')]\n",
      "measured unit vector in global CS [Decimal('0.8613977169153843771441313789')\n",
      " Decimal('0.4505430694239320957572388057')\n",
      " Decimal('0.2345312684633441869240521457')]\n",
      "dot 1.000000000000000000000000000\n",
      "time 111\n",
      "L ast [Decimal('0.8650595163633665580153925360')\n",
      " Decimal('0.4472507463516915680965417698')\n",
      " Decimal('0.2272417282037636628555719452')]\n",
      "measured unit vector in global CS [Decimal('0.8650595163633560257279506697')\n",
      " Decimal('0.4472507463516954232617383725')\n",
      " Decimal('0.2272417282037961693411877699')]\n",
      "dot 0.9999999999999999999999999995\n",
      "time 112\n",
      "L ast [Decimal('0.8686144635323240186576612507')\n",
      " Decimal('0.4439612456143764504180513019')\n",
      " Decimal('0.2200166496767557236360870538')]\n",
      "measured unit vector in global CS [Decimal('0.8686144635323172288217453045')\n",
      " Decimal('0.4439612456143733650065110479')\n",
      " Decimal('0.2200166496767887554672822050')]\n",
      "dot 0.9999999999999999999999999995\n",
      "time 113\n",
      "L ast [Decimal('0.8720646373050151276041157095')\n",
      " Decimal('0.4406758496240043568176483801')\n",
      " Decimal('0.2128569094961080116117941185')]\n",
      "measured unit vector in global CS [Decimal('0.8720646373050073984288276017')\n",
      " Decimal('0.4406758496240091994565988054')\n",
      " Decimal('0.2128569094961296520012054498')]\n",
      "dot 0.9999999999999999999999999993\n",
      "time 114\n",
      "L ast [Decimal('0.8754121259353293212351461903')\n",
      " Decimal('0.4373957885601176083876709781')\n",
      " Decimal('0.2057632958407791617139060442')]\n",
      "measured unit vector in global CS [Decimal('0.8754121259353247912625424971')\n",
      " Decimal('0.4373957885601153328680593397')\n",
      " Decimal('0.2057632958408032714348457010')]\n",
      "dot 1.000000000000000000000000000\n",
      "time 115\n",
      "L ast [Decimal('0.8786590231703898937752627081')\n",
      " Decimal('0.4341222408763042828004790067')\n",
      " Decimal('0.1987365114361029501109266245')]\n",
      "measured unit vector in global CS [Decimal('0.8786590231703866228348312240')\n",
      " Decimal('0.4341222408763003617515004228')\n",
      " Decimal('0.1987365114361259768605685304')]\n",
      "dot 1.000000000000000000000000000\n",
      "time 116\n",
      "L ast [Decimal('0.8818074245976641551683111753')\n",
      " Decimal('0.4308563339098337460778043358')\n",
      " Decimal('0.1917771765727420774130214497')]\n",
      "measured unit vector in global CS [Decimal('0.8818074245976590367027024027')\n",
      " Decimal('0.4308563339098309558212621387')\n",
      " Decimal('0.1917771765727718812759364624')]\n",
      "dot 0.9999999999999999999999999988\n",
      "time 117\n",
      "L ast [Decimal('0.8848594242141158812175357185')\n",
      " Decimal('0.4275991445847531840938470216')\n",
      " Decimal('0.1848858321501424700927499624')]\n",
      "measured unit vector in global CS [Decimal('0.8848594242141094556157411545')\n",
      " Decimal('0.4275991445847538638134221459')\n",
      " Decimal('0.1848858321501716508403093807')]\n",
      "dot 0.9999999999999999999999999994\n",
      "time 118\n",
      "L ast [Decimal('0.8878171112136416141148029380')\n",
      " Decimal('0.4243517001992394207187156606')\n",
      " Decimal('0.1780629427317181677692449859')]\n",
      "measured unit vector in global CS [Decimal('0.8878171112136403939530850442')\n",
      " Decimal('0.4243517001992361006183002304')\n",
      " Decimal('0.1780629427317321637791360983')]\n",
      "dot 0.9999999999999999999999999997\n",
      "time 119\n",
      "L ast [Decimal('0.8906825669882229134455396413')\n",
      " Decimal('0.4211149792883727627800989891')\n",
      " Decimal('0.1713088996001760014816286828')]\n",
      "measured unit vector in global CS [Decimal('0.8906825669882211664386429078')\n",
      " Decimal('0.4211149792883712580164474306')\n",
      " Decimal('0.1713088996001887836961335889')]\n",
      "dot 0.9999999999999999999999999995\n"
     ]
    },
    {
     "data": {
      "text/plain": [
       "Decimal('0.9999999999999999999999996292')"
      ]
     },
     "execution_count": 123,
     "metadata": {},
     "output_type": "execute_result"
    }
   ],
   "source": [
    "j =0\n",
    "elements_deb = orbits[j][\"Orbit\"]\n",
    "#elements_deb = [9810.004519,0.262562598,np.radians(79.10762144),np.radians(39.25035365),np.radians(219.9865093),np.radians(-2.933878265)]\n",
    "new_test = all_rel[j][\"list in global axis\"]\n",
    "ti = new_test[0][-1]\n",
    "print(\"initial time\",ti)\n",
    "\n",
    "print(\"elements\",elements_deb)\n",
    "\n",
    "orbit = propagate(elements_deb,ti,kepler=True)\n",
    "print(\"orbit\", orbit)\n",
    "fitness(elements_sat, new_test, orbit, test=True)"
   ]
  },
  {
   "attachments": {},
   "cell_type": "markdown",
   "metadata": {},
   "source": [
    "Debug"
   ]
  },
  {
   "cell_type": "code",
   "execution_count": 377,
   "metadata": {},
   "outputs": [
    {
     "name": "stdout",
     "output_type": "stream",
     "text": [
      "Stored 'validating_alg' (list)\n"
     ]
    }
   ],
   "source": [
    "validating_alg = []\n",
    "for t in range(80):\n",
    "    r,v = propagate(elements_sat, t, kepler=False)\n",
    "    validating_alg.append(r)\n",
    "%store validating_alg"
   ]
  },
  {
   "cell_type": "code",
   "execution_count": null,
   "metadata": {},
   "outputs": [],
   "source": []
  },
  {
   "cell_type": "code",
   "execution_count": 45,
   "metadata": {},
   "outputs": [
    {
     "name": "stdout",
     "output_type": "stream",
     "text": [
      "initial time 1\n",
      "final time 59\n",
      "tof 58\n"
     ]
    },
    {
     "data": {
      "text/plain": [
       "True"
      ]
     },
     "execution_count": 45,
     "metadata": {},
     "output_type": "execute_result"
    }
   ],
   "source": [
    "new_test = all_rel[j][\"list in global axis\"]\n",
    "ti = new_test[0][-1]\n",
    "tf = new_test[-1][-1]\n",
    "tof = tf - ti\n",
    "point = (108.6398288734075225263733372,108.9334539151836614702672220)\n",
    "print(\"initial time\",ti)\n",
    "print(\"final time\", tf)\n",
    "print(\"tof\",tof)\n",
    "ri, rf = get_target_r(elements_sat, new_test[0][:-1],new_test[-1][:-1],point,ti,tof)\n",
    "ri, vi = solve_lambert(ri,rf,tof)\n",
    "constraints(ri,vi, rO_perigee)"
   ]
  },
  {
   "cell_type": "code",
   "execution_count": 181,
   "metadata": {},
   "outputs": [
    {
     "name": "stdout",
     "output_type": "stream",
     "text": [
      "time 6\n",
      "dv [ 0.87716951  0.04240968 -0.47830437]\n",
      "time 7\n",
      "dv [ 0.87721863  0.04240665 -0.47821454]\n",
      "time 8\n",
      "dv [ 0.87726789  0.04240378 -0.47812443]\n",
      "time 9\n",
      "dv [ 0.87731728  0.04240108 -0.47803404]\n",
      "time 10\n",
      "dv [ 0.8773668   0.04239853 -0.47794336]\n",
      "time 11\n",
      "dv [ 0.87741646  0.04239615 -0.47785242]\n",
      "time 12\n",
      "dv [ 0.87746624  0.04239392 -0.4777612 ]\n",
      "time 13\n",
      "dv [ 0.87751614  0.04239184 -0.47766971]\n",
      "time 14\n",
      "dv [ 0.87756618  0.04238991 -0.47757795]\n",
      "time 15\n",
      "dv [ 0.87761633  0.04238812 -0.47748594]\n",
      "time 16\n",
      "dv [ 0.87766661  0.04238648 -0.47739366]\n",
      "time 17\n",
      "dv [ 0.87771701  0.04238497 -0.47730113]\n",
      "time 18\n",
      "dv [ 0.87776752  0.0423836  -0.47720835]\n",
      "time 19\n",
      "dv [ 0.87781815  0.04238236 -0.47711532]\n",
      "time 20\n",
      "dv [ 0.8778689   0.04238125 -0.47702204]\n",
      "time 21\n",
      "dv [ 0.87791976  0.04238027 -0.47692852]\n",
      "time 22\n",
      "dv [ 0.87797073  0.0423794  -0.47683476]\n",
      "time 23\n",
      "dv [ 0.87802181  0.04237866 -0.47674076]\n",
      "time 24\n",
      "dv [ 0.878073    0.04237803 -0.47664653]\n",
      "time 25\n",
      "dv [ 0.87812429  0.04237751 -0.47655207]\n",
      "time 26\n",
      "dv [ 0.87817569  0.0423771  -0.47645739]\n",
      "time 27\n",
      "dv [ 0.87822719  0.0423768  -0.47636248]\n",
      "time 28\n",
      "dv [ 0.87827879  0.0423766  -0.47626735]\n",
      "time 29\n",
      "dv [ 0.87833049  0.0423765  -0.47617201]\n",
      "time 30\n",
      "dv [ 0.87838229  0.0423765  -0.47607645]\n",
      "time 31\n",
      "dv [ 0.87843419  0.04237658 -0.47598068]\n",
      "time 32\n",
      "dv [ 0.87848617  0.04237676 -0.47588471]\n",
      "time 33\n",
      "dv [ 0.87853825  0.04237703 -0.47578853]\n",
      "time 34\n",
      "dv [ 0.87859043  0.04237737 -0.47569215]\n",
      "time 35\n",
      "dv [ 0.87864269  0.0423778  -0.47559558]\n",
      "time 36\n",
      "dv [ 0.87869503  0.04237831 -0.47549881]\n",
      "time 37\n",
      "dv [ 0.87874747  0.04237888 -0.47540185]\n",
      "time 38\n",
      "dv [ 0.87879998  0.04237953 -0.47530471]\n",
      "time 39\n",
      "dv [ 0.87885258  0.04238025 -0.47520738]\n",
      "time 40\n",
      "dv [ 0.87890526  0.04238103 -0.47510988]\n",
      "time 41\n",
      "dv [ 0.87895802  0.04238187 -0.47501219]\n",
      "time 42\n",
      "dv [ 0.87901085  0.04238277 -0.47491434]\n",
      "time 43\n",
      "dv [ 0.87906376  0.04238372 -0.47481632]\n",
      "time 44\n",
      "dv [ 0.87911674  0.04238473 -0.47471812]\n"
     ]
    }
   ],
   "source": [
    "elements_deb = orbits[0][\"Orbit\"]\n",
    "elements_sat = [7350,0.0037296,np.radians(82.0394),np.radians(41.7294),np.radians(216.168),np.radians(0)]\n",
    "for t in range(39):\n",
    "    r1, v1 = propagate_based_on_elements(elements_sat, t, kepler=False)\n",
    "    r2,v2 = propagate_based_on_elements(elements_deb, t, kepler=False)\n",
    "    rel_v = v2 - v1\n",
    "    print(\"time\", t+6)\n",
    "    print(\"dv\", rel_v/np.linalg.norm(rel_v))"
   ]
  },
  {
   "cell_type": "code",
   "execution_count": 180,
   "metadata": {},
   "outputs": [
    {
     "name": "stdout",
     "output_type": "stream",
     "text": [
      "time 6.0\n",
      "last [0.04767102 0.54649049 0.83610742 5.        ]\n",
      "current [0.07172828 0.55239944 0.83048776]\n",
      "dv [ 0.94707154  0.23262003 -0.22123158]\n",
      "time 7.0\n",
      "last [0.07172828 0.55239944 0.83048776 6.        ]\n",
      "current [0.09619167 0.55778345 0.82439359]\n",
      "dv [ 0.94894652  0.20884823 -0.23639568]\n",
      "time 8.0\n",
      "last [0.09619167 0.55778345 0.82439359 7.        ]\n",
      "current [0.12173451 0.5633007  0.81723499]\n",
      "dv [ 0.94272485  0.20362872 -0.26420675]\n",
      "time 9.0\n",
      "last [0.12173451 0.5633007  0.81723499 8.        ]\n",
      "current [0.1471605  0.56861303 0.80933492]\n",
      "dv [ 0.9365067   0.19566697 -0.29098049]\n",
      "time 10.0\n",
      "last [0.1471605  0.56861303 0.80933492 9.        ]\n",
      "current [0.17283244 0.57329788 0.80091103]\n",
      "dv [ 0.93618532  0.17084389 -0.30719605]\n",
      "time 11.0\n",
      "last [ 0.17283244  0.57329788  0.80091103 10.        ]\n",
      "current [0.19907176 0.57766253 0.79162897]\n",
      "dv [ 0.9313695   0.15492396 -0.32946838]\n",
      "time 12.0\n",
      "last [ 0.19907176  0.57766253  0.79162897 11.        ]\n",
      "current [0.22582675 0.58166428 0.7814531 ]\n",
      "dv [ 0.92567744  0.13845355 -0.35206802]\n",
      "time 13.0\n",
      "last [ 0.22582675  0.58166428  0.7814531  12.        ]\n",
      "current [0.25303699 0.58526001 0.77035252]\n",
      "dv [ 0.91906058  0.1214507  -0.37493649]\n",
      "time 14.0\n",
      "last [ 0.25303699  0.58526001  0.77035252 13.        ]\n",
      "current [0.28022128 0.58807952 0.75870845]\n",
      "dv [ 0.91507328  0.0949096  -0.39196055]\n",
      "time 15.0\n",
      "last [ 0.28022128  0.58807952  0.75870845 14.        ]\n",
      "current [0.30721963 0.59088313 0.74597133]\n",
      "dv [ 0.9004426   0.0935056  -0.42480563]\n",
      "time 16.0\n",
      "last [ 0.30721963  0.59088313  0.74597133 15.        ]\n",
      "current [0.33492189 0.59272207 0.73246698]\n",
      "dv [ 0.89728685  0.05956391 -0.43741108]\n",
      "time 17.0\n",
      "last [ 0.33492189  0.59272207  0.73246698 16.        ]\n",
      "current [0.36226567 0.59449344 0.71787265]\n",
      "dv [ 0.88076856  0.05705741 -0.47009701]\n",
      "time 18.0\n",
      "last [ 0.36226567  0.59449344  0.71787265 17.        ]\n",
      "current [0.38923055 0.59540966 0.70284202]\n",
      "dv [ 0.87308254  0.02966603 -0.4866691 ]\n",
      "time 19.0\n",
      "last [ 0.38923055  0.59540966  0.70284202 18.        ]\n",
      "current [0.41614568 0.59575895 0.68694545]\n",
      "dv [ 0.86098234  0.01117311 -0.50851212]\n",
      "time 20.0\n",
      "last [ 0.41614568  0.59575895  0.68694545 19.        ]\n",
      "current [0.44242782 0.59602846 0.67008037]\n",
      "dv [ 0.84159231  0.00863012 -0.54004435]\n",
      "time 21.0\n",
      "last [ 0.44242782  0.59602846  0.67008037 20.        ]\n",
      "current [0.46897002 0.59519632 0.65254001]\n",
      "dv [ 0.83399875 -0.02614713 -0.55114646]\n",
      "time 22.0\n",
      "last [ 0.46897002  0.59519632  0.65254001 21.        ]\n",
      "current [0.49518648 0.59375142 0.63423151]\n",
      "dv [ 0.81902778 -0.04514015 -0.57197541]\n",
      "time 23.0\n",
      "last [ 0.49518648  0.59375142  0.63423151 22.        ]\n",
      "current [0.52011711 0.59197945 0.61566104]\n",
      "dv [ 0.80066487 -0.05690795 -0.59640359]\n",
      "time 24.0\n",
      "last [ 0.52011711  0.59197945  0.61566104 23.        ]\n",
      "current [0.54457608 0.58963002 0.59646738]\n",
      "dv [ 0.78445812 -0.07535191 -0.61558716]\n",
      "time 25.0\n",
      "last [ 0.54457608  0.58963002  0.59646738 24.        ]\n",
      "current [0.56895559 0.58616618 0.57680044]\n",
      "dv [ 0.77360304 -0.1099135  -0.62406519]\n",
      "time 26.0\n",
      "last [ 0.56895559  0.58616618  0.57680044 25.        ]\n",
      "current [0.59188767 0.58247518 0.55712804]\n",
      "dv [ 0.75338866 -0.12126063 -0.64629822]\n",
      "time 27.0\n",
      "last [ 0.59188767  0.58247518  0.55712804 26.        ]\n",
      "current [0.61450451 0.57846176 0.53643845]\n",
      "dv [ 0.7316001  -0.12982445 -0.66925848]\n",
      "time 28.0\n",
      "last [ 0.61450451  0.57846176  0.53643845 27.        ]\n",
      "current [0.63605735 0.57374508 0.51599189]\n",
      "dv [ 0.7165066  -0.15680215 -0.6797289 ]\n",
      "time 29.0\n",
      "last [ 0.63605735  0.57374508  0.51599189 28.        ]\n",
      "current [0.65716285 0.56873069 0.49465381]\n",
      "dv [ 0.6936072  -0.16479188 -0.7012508 ]\n",
      "time 30.0\n",
      "last [ 0.65716285  0.56873069  0.49465381 29.        ]\n",
      "current [0.67672473 0.56365281 0.47364454]\n",
      "dv [ 0.67102956 -0.17418614 -0.7206792 ]\n",
      "time 31.0\n",
      "last [ 0.67672473  0.56365281  0.47364454 30.        ]\n",
      "current [0.69589188 0.55760344 0.45256258]\n",
      "dv [ 0.65803837 -0.20768422 -0.72377674]\n",
      "time 32.0\n",
      "last [ 0.69589188  0.55760344  0.45256258 31.        ]\n",
      "current [0.71394813 0.55103342 0.43201879]\n",
      "dv [ 0.64190873 -0.23356772 -0.73034191]\n",
      "time 33.0\n",
      "last [ 0.71394813  0.55103342  0.43201879 32.        ]\n",
      "current [0.73102738 0.54483878 0.41079152]\n",
      "dv [ 0.61127215 -0.22170816 -0.75973143]\n",
      "time 34.0\n",
      "last [ 0.73102738  0.54483878  0.41079152 33.        ]\n",
      "current [0.74763281 0.53777279 0.38967372]\n",
      "dv [ 0.59778575 -0.25437149 -0.76022848]\n",
      "time 35.0\n",
      "last [ 0.74763281  0.53777279  0.38967372 34.        ]\n",
      "current [0.76278763 0.53088128 0.36921552]\n",
      "dv [ 0.5745661  -0.26127866 -0.77563346]\n",
      "time 36.0\n",
      "last [ 0.76278763  0.53088128  0.36921552 35.        ]\n",
      "current [0.77712844 0.52376701 0.34891188]\n",
      "dv [ 0.55465128 -0.27515441 -0.78527193]\n",
      "time 37.0\n",
      "last [ 0.77712844  0.52376701  0.34891188 36.        ]\n",
      "current [0.79118564 0.51600964 0.32826716]\n",
      "dv [ 0.53749587 -0.29661336 -0.78937868]\n",
      "time 38.0\n",
      "last [ 0.79118564  0.51600964  0.32826716 37.        ]\n",
      "current [0.80390562 0.50854417 0.30841301]\n",
      "dv [ 0.51429288 -0.30184326 -0.80274123]\n",
      "time 39.0\n",
      "last [ 0.80390562  0.50854417  0.30841301 38.        ]\n",
      "current [0.81585458 0.50095205 0.28883965]\n",
      "dv [ 0.49464889 -0.31428948 -0.8102744 ]\n",
      "time 40.0\n",
      "last [ 0.81585458  0.50095205  0.28883965 39.        ]\n",
      "current [0.82705424 0.49326246 0.26958009]\n",
      "dv [ 0.47518812 -0.32625997 -0.81716013]\n",
      "time 41.0\n",
      "last [ 0.82705424  0.49326246  0.26958009 40.        ]\n",
      "current [0.83752903 0.48550299 0.25066306]\n",
      "dv [ 0.45594972 -0.33775669 -0.82342594]\n",
      "time 42.0\n",
      "last [ 0.83752903  0.48550299  0.25066306 41.        ]\n",
      "current [0.84719948 0.47761993 0.23266339]\n",
      "dv [ 0.44155521 -0.35994282 -0.82186992]\n",
      "time 43.0\n",
      "last [ 0.84719948  0.47761993  0.23266339 42.        ]\n",
      "current [0.85631874 0.46979986 0.21449083]\n",
      "dv [ 0.41861583 -0.35897691 -0.83420403]\n",
      "time 44.0\n",
      "last [ 0.85631874  0.46979986  0.21449083 43.        ]\n",
      "current [0.86479683 0.46198133 0.19672236]\n",
      "dv [ 0.40022832 -0.36909181 -0.83880184]\n"
     ]
    }
   ],
   "source": [
    "for dict1 in all_coordinates:\n",
    "    last_point = None\n",
    "    for point in dict1[\"new_list\"]:\n",
    "        if last_point is None:\n",
    "            time = point[-1]\n",
    "            r,v = propagate_based_on_elements(elements_sat, time, kepler=False)\n",
    "            last_point = to_global_axis(point[:-1],r,v)\n",
    "            last_point = np.append(last_point,[time])\n",
    "        else:\n",
    "            time = point[-1]\n",
    "            print(\"time\", time)\n",
    "            r,v = propagate_based_on_elements(elements_sat, time, kepler=False)\n",
    "            point = to_global_axis(point[:-1],r,v)\n",
    "            print(\"last\",last_point)\n",
    "            print(\"current\", point)\n",
    "            dr = point-last_point[:-1]\n",
    "            dt = time - last_point[-1]\n",
    "            dv = dr/dt\n",
    "            dv = dv/np.linalg.norm(dv)\n",
    "            print(\"dv\",dv)\n",
    "            last_point = np.append(point, [time])"
   ]
  },
  {
   "cell_type": "code",
   "execution_count": 152,
   "metadata": {},
   "outputs": [],
   "source": [
    "data = [{\"point\":2}, {\"point\":2}]"
   ]
  },
  {
   "cell_type": "code",
   "execution_count": 153,
   "metadata": {},
   "outputs": [
    {
     "data": {
      "text/plain": [
       "(True, [{'point': 2}])"
      ]
     },
     "execution_count": 153,
     "metadata": {},
     "output_type": "execute_result"
    }
   ],
   "source": [
    "check_duplicates(data)"
   ]
  },
  {
   "cell_type": "code",
   "execution_count": 44,
   "metadata": {},
   "outputs": [],
   "source": [
    "set_of_measurments = data_meas.loc[0]  #choose which line to check\n",
    "set_of_measurments = normalise_input(set_of_measurments.dropna())"
   ]
  },
  {
   "cell_type": "code",
   "execution_count": 24,
   "metadata": {},
   "outputs": [],
   "source": [
    "%store -r line"
   ]
  },
  {
   "cell_type": "code",
   "execution_count": 25,
   "metadata": {},
   "outputs": [],
   "source": [
    "%store -r B_CS"
   ]
  },
  {
   "cell_type": "code",
   "execution_count": 42,
   "metadata": {},
   "outputs": [],
   "source": [
    "test = line"
   ]
  },
  {
   "cell_type": "code",
   "execution_count": null,
   "metadata": {},
   "outputs": [],
   "source": [
    "test = B_CS\n",
    "new_test = []\n",
    "for t in range(len(B_CS)):\n",
    "    new_test.append(np.append(B_CS[t],[t]))\n",
    "new_test = new_test[15:]"
   ]
  },
  {
   "cell_type": "code",
   "execution_count": 160,
   "metadata": {},
   "outputs": [
    {
     "name": "stdout",
     "output_type": "stream",
     "text": [
      "[7101.54467811  147.85122      26.07015922]\n"
     ]
    },
    {
     "data": {
      "text/plain": [
       "(array([7102.72965339,   73.92972254,   13.03580476]),\n",
       " array([-0.07900058,  7.39269804,  1.30353212]))"
      ]
     },
     "execution_count": 160,
     "metadata": {},
     "output_type": "execute_result"
    }
   ],
   "source": [
    "ri,vi = propagate_based_on_elements(elements_deb, 15, kepler=False)\n",
    "rf, vf = propagate_based_on_elements(elements_deb, 20, kepler=False)\n",
    "print(rf)\n",
    "t = 5\n",
    "l = pykep.lambert_problem(r1 = ri, r2 = rf, tof = t, mu=398600)\n",
    "# convert results\n",
    "vi = l.get_v1()[0]  # get the velocity vector at initial time for one revolution\n",
    "elements = pykep.ic2par(ri,vi, mu=398600)  # get Kepler elements from pos and vel vectors\n",
    "propagate_based_on_elements(elements,-5,kepler=False)"
   ]
  },
  {
   "cell_type": "code",
   "execution_count": 99,
   "metadata": {},
   "outputs": [
    {
     "data": {
      "text/plain": [
       "array([-0.99687808,  0.00174933,  0.07893691])"
      ]
     },
     "execution_count": 99,
     "metadata": {},
     "output_type": "execute_result"
    }
   ],
   "source": [
    "to_global_axis([0.01673061, 0.99673921, 0.07893691],r,v)"
   ]
  },
  {
   "cell_type": "code",
   "execution_count": 50,
   "metadata": {},
   "outputs": [
    {
     "data": {
      "text/plain": [
       "array([7102.23590559,  110.89201231,   19.55325372])"
      ]
     },
     "execution_count": 50,
     "metadata": {},
     "output_type": "execute_result"
    }
   ],
   "source": [
    "ri,vi = propagate_based_on_elements(elements_deb, 15, kepler=False)\n",
    "ri"
   ]
  },
  {
   "cell_type": "code",
   "execution_count": 49,
   "metadata": {},
   "outputs": [
    {
     "data": {
      "text/plain": [
       "(6907.8178091061245, 111.23317920976065, 34.948078905783575)"
      ]
     },
     "execution_count": 49,
     "metadata": {},
     "output_type": "execute_result"
    }
   ],
   "source": [
    "r,v = pykep.par2ic([7251.530635158399,\n",
    "   0.04727894735094815,\n",
    "   0.3043583371135131,\n",
    "   6.283181747953716,\n",
    "   6.272813707430835,\n",
    "   0.02599273515476623], mu=398600)\n",
    "r"
   ]
  },
  {
   "cell_type": "code",
   "execution_count": 108,
   "metadata": {},
   "outputs": [
    {
     "name": "stdout",
     "output_type": "stream",
     "text": [
      "0.991689075683478\n",
      "2.0808244582155924e-22\n",
      "-1.2927927856016754e-12\n"
     ]
    }
   ],
   "source": [
    "path = \"data\\M1\\measurments_data_0_0_M1.csv\"\n",
    "# measurments from detecting objects\n",
    "data_meas = pd.read_csv(path)\n",
    "for index, row in data_meas.iterrows():\n",
    "    data = []\n",
    "    set_of_measurments = normalise_input(row.dropna())\n",
    "    fit = fitness(elements_sat, set_of_measurments, [7819.880086052383,\n",
    " 0.06117955693343069,\n",
    " 0.01676014693654946,\n",
    " 0.023853899055801767,\n",
    " 0.036618487883039695,\n",
    " -0.04398210673175327])\n",
    "    print(fit)"
   ]
  },
  {
   "cell_type": "code",
   "execution_count": 45,
   "metadata": {},
   "outputs": [
    {
     "ename": "NameError",
     "evalue": "name 'data_meas' is not defined",
     "output_type": "error",
     "traceback": [
      "\u001b[1;31m---------------------------------------------------------------------------\u001b[0m",
      "\u001b[1;31mNameError\u001b[0m                                 Traceback (most recent call last)",
      "Cell \u001b[1;32mIn[45], line 2\u001b[0m\n\u001b[0;32m      1\u001b[0m fits\u001b[39m=\u001b[39m[]\n\u001b[1;32m----> 2\u001b[0m \u001b[39mfor\u001b[39;00m i \u001b[39min\u001b[39;00m \u001b[39mrange\u001b[39m(\u001b[39mlen\u001b[39m(data_meas)):\n\u001b[0;32m      3\u001b[0m     set_of_measurments \u001b[39m=\u001b[39m data_meas\u001b[39m.\u001b[39mloc[i]  \u001b[39m#choose which line to check\u001b[39;00m\n\u001b[0;32m      4\u001b[0m     set_of_measurments \u001b[39m=\u001b[39m normalise_input(set_of_measurments\u001b[39m.\u001b[39mdropna())\n",
      "\u001b[1;31mNameError\u001b[0m: name 'data_meas' is not defined"
     ]
    }
   ],
   "source": [
    "fits=[]\n",
    "for i in range(len(data_meas)):\n",
    "    set_of_measurments = data_meas.loc[i]  #choose which line to check\n",
    "    set_of_measurments = normalise_input(set_of_measurments.dropna())\n",
    "    fit = fitness(elements_sat, new_test, [7133.8,0.0043,np.radians(10),np.radians(0),np.radians(0),0.015785194118121015])\n",
    "    fits.append(fit)"
   ]
  },
  {
   "cell_type": "code",
   "execution_count": 201,
   "metadata": {},
   "outputs": [
    {
     "data": {
      "text/plain": [
       "0.9999999999999986"
      ]
     },
     "execution_count": 201,
     "metadata": {},
     "output_type": "execute_result"
    }
   ],
   "source": [
    "max(fits)"
   ]
  },
  {
   "cell_type": "code",
   "execution_count": 146,
   "metadata": {},
   "outputs": [
    {
     "data": {
      "text/plain": [
       "array([-1.,  0.,  0.])"
      ]
     },
     "execution_count": 146,
     "metadata": {},
     "output_type": "execute_result"
    }
   ],
   "source": [
    "v = [0,1,0]\n",
    "r = [1,0,0]\n",
    "vec = [0,1,0]\n",
    "to_global_axis(vec,r,v)"
   ]
  },
  {
   "cell_type": "code",
   "execution_count": 147,
   "metadata": {},
   "outputs": [
    {
     "name": "stdout",
     "output_type": "stream",
     "text": [
      "[1019.3239436619718, 639.0422535211268]\n"
     ]
    },
    {
     "ename": "TypeError",
     "evalue": "get_target_r() missing 1 required positional argument: 't'",
     "output_type": "error",
     "traceback": [
      "\u001b[1;31m---------------------------------------------------------------------------\u001b[0m",
      "\u001b[1;31mTypeError\u001b[0m                                 Traceback (most recent call last)",
      "Cell \u001b[1;32mIn[147], line 5\u001b[0m\n\u001b[0;32m      3\u001b[0m D, rO_perigee \u001b[39m=\u001b[39m evaluate_D(elements_sat, \u001b[39m60\u001b[39m)\n\u001b[0;32m      4\u001b[0m \u001b[39m# Set up Lambert's problem\u001b[39;00m\n\u001b[1;32m----> 5\u001b[0m rT_i, rT_f \u001b[39m=\u001b[39m get_target_r(elements_sat,elements_deb, [\u001b[39m4686.363636363637\u001b[39;49m, \u001b[39m4686.363636363637\u001b[39;49m], \u001b[39m60\u001b[39;49m)\n\u001b[0;32m      6\u001b[0m \u001b[39m# solve Lambert's problem\u001b[39;00m\n\u001b[0;32m      7\u001b[0m elementsT_estimated \u001b[39m=\u001b[39m \u001b[39mlist\u001b[39m(solve_lambert(r1 \u001b[39m=\u001b[39m rT_i, r2 \u001b[39m=\u001b[39m rT_f, tof \u001b[39m=\u001b[39m \u001b[39m60\u001b[39m))\n",
      "\u001b[1;31mTypeError\u001b[0m: get_target_r() missing 1 required positional argument: 't'"
     ]
    }
   ],
   "source": [
    "print(best_point)\n",
    "\n",
    "D, rO_perigee = evaluate_D(elements_sat, 60)\n",
    "# Set up Lambert's problem\n",
    "rT_i, rT_f = get_target_r(elements_sat,elements_deb, [4686.363636363637, 4686.363636363637], 60)\n",
    "# solve Lambert's problem\n",
    "elementsT_estimated = list(solve_lambert(r1 = rT_i, r2 = rT_f, tof = 60))\n",
    "print(elementsT_estimated)\n",
    "fit = fitness(elements_sat, elements_deb, elementsT_estimated, no_of_measurments = 60)\n",
    "print(fit)"
   ]
  },
  {
   "cell_type": "code",
   "execution_count": 262,
   "metadata": {},
   "outputs": [
    {
     "name": "stdout",
     "output_type": "stream",
     "text": [
      "from rho (array([-3370.40082161, -4938.35873329,  3897.60440158]), array([-3.28804323, -2.55804492, -6.06789951]))\n",
      "ideal (array([ 2644.71527012, -6597.70363665,   203.65960376]), array([6.1781863 , 2.13873564, 3.83254291]))\n",
      "satellite (array([-3407.72971403, -4928.06109229,  3920.52845889]), array([-3.34761025, -2.58520094, -6.12964399]))\n",
      "[ 0.82953094 -0.22883647 -0.50942349]\n",
      "[ 0.82953093 -0.22883647 -0.5094235 ]\n"
     ]
    }
   ],
   "source": [
    "print(\"from rho\",propagate_based_on_elements([6929.3203653797,0.0300116531,1.7162873512,0.8762504074,5.7380713477,3.1008175552], 0, kepler=False))\n",
    "print(\"ideal\", propagate_based_on_elements(elements_deb, 0, kepler=False))\n",
    "\n",
    "print(\"satellite\", propagate_based_on_elements(elements_sat,0, kepler=False))\n",
    "\n",
    "print(unit_vector(propagate_based_on_elements(elements_sat,0, kepler=False)[0], propagate_based_on_elements([6929.3203653797,0.0300116531,1.7162873512,0.8762504074,5.7380713477,3.1008175552], 0, kepler=False)[0]))\n",
    "\n",
    "print(unit_vector(propagate_based_on_elements(elements_sat,0, kepler=False)[0], propagate_based_on_elements(elements_deb, 0, kepler=False)[0]))"
   ]
  },
  {
   "cell_type": "code",
   "execution_count": null,
   "metadata": {},
   "outputs": [],
   "source": [
    "fit = fitness(elements_sat, elements_deb, [9450.49625553981, 0.2501664703342994, 1.7154666684924387, 0.8703258847995052, 2.9719140826855535, -2.995440490696146], no_of_measurments = 60)\n",
    "fit"
   ]
  },
  {
   "attachments": {},
   "cell_type": "markdown",
   "metadata": {},
   "source": [
    "Python reminder"
   ]
  },
  {
   "cell_type": "code",
   "execution_count": 81,
   "metadata": {},
   "outputs": [
    {
     "data": {
      "text/plain": [
       "0"
      ]
     },
     "execution_count": 81,
     "metadata": {},
     "output_type": "execute_result"
    }
   ],
   "source": [
    "round(-0.5)"
   ]
  },
  {
   "cell_type": "code",
   "execution_count": 115,
   "metadata": {},
   "outputs": [
    {
     "data": {
      "text/plain": [
       "1"
      ]
     },
     "execution_count": 115,
     "metadata": {},
     "output_type": "execute_result"
    }
   ],
   "source": [
    "L = random.choice([1,3,6,2,4])\n",
    "L\n"
   ]
  },
  {
   "cell_type": "code",
   "execution_count": 113,
   "metadata": {},
   "outputs": [
    {
     "name": "stdout",
     "output_type": "stream",
     "text": [
      "1\n",
      "2\n",
      "here\n"
     ]
    }
   ],
   "source": [
    "f = False\n",
    "n = 0\n",
    "while f == False:\n",
    "    n +=1\n",
    "    if n == 3:\n",
    "        print(\"here\")\n",
    "        f = False\n",
    "        break\n",
    "    print(n)"
   ]
  },
  {
   "cell_type": "code",
   "execution_count": 55,
   "metadata": {},
   "outputs": [
    {
     "data": {
      "text/plain": [
       "[0, 1, 2, 3]"
      ]
     },
     "execution_count": 55,
     "metadata": {},
     "output_type": "execute_result"
    }
   ],
   "source": [
    "l = [x for x in range(4)]\n",
    "l"
   ]
  },
  {
   "cell_type": "code",
   "execution_count": null,
   "metadata": {},
   "outputs": [
    {
     "data": {
      "text/plain": [
       "[1964, 2013, 2018]"
      ]
     },
     "execution_count": 5,
     "metadata": {},
     "output_type": "execute_result"
    }
   ],
   "source": [
    "l = [{\"brand\": \"Ford\",\n",
    "  \"model\": \"Mustang\",\n",
    "  \"year\": 1964\n",
    "}, {\n",
    "  \"brand\": \"Volvo\",\n",
    "  \"model\": \"SUV\",\n",
    "  \"year\": 2018\n",
    "},\n",
    "{\"brand\": \"Audi\",\n",
    "  \"model\": \"A7\",\n",
    "  \"year\": 2013},\n",
    "  ]\n",
    "\n",
    "for dict1 in l:\n",
    "    if dict1[\"year\"] >= 2000:\n",
    "        dict1[\"new\"] = True\n",
    "\n",
    "# order l based on year\n",
    "years = []\n",
    "for dict1 in l:\n",
    "    years.append(dict1[\"year\"])\n",
    "    years.sort()\n",
    "\n",
    "years"
   ]
  },
  {
   "cell_type": "code",
   "execution_count": null,
   "metadata": {},
   "outputs": [
    {
     "data": {
      "text/plain": [
       "(9450.496255539807,\n",
       " 0.25016647033429984,\n",
       " 1.7154666684924387,\n",
       " 0.8703258847995052,\n",
       " 2.971914082685554,\n",
       " -2.9678853860378602)"
      ]
     },
     "execution_count": 99,
     "metadata": {},
     "output_type": "execute_result"
    }
   ],
   "source": [
    "e1 = [9450.49625553981, 0.2501664703342994, 1.7154666684924387, 0.8703258847995052, 2.9719140826855535, -2.995440490696146]\n",
    "r, v = pykep.par2ic(e1, mu=398600)\n",
    "rf,vf = pykep.propagate_lagrangian(r0 = r, v0 = v, tof = 50,mu = 398600)\n",
    "e2 = pykep.ic2par(rf,vf,mu = 398600)\n",
    "e2"
   ]
  },
  {
   "cell_type": "code",
   "execution_count": null,
   "metadata": {},
   "outputs": [
    {
     "data": {
      "text/plain": [
       "3.141592653589793"
      ]
     },
     "execution_count": 101,
     "metadata": {},
     "output_type": "execute_result"
    }
   ],
   "source": [
    "np.radians(180)"
   ]
  },
  {
   "cell_type": "code",
   "execution_count": 47,
   "metadata": {},
   "outputs": [
    {
     "name": "stdout",
     "output_type": "stream",
     "text": [
      "0\n",
      "1\n"
     ]
    }
   ],
   "source": [
    "for t in range(2):\n",
    "    print(t)"
   ]
  }
 ],
 "metadata": {
  "kernelspec": {
   "display_name": "snakes",
   "language": "python",
   "name": "python3"
  },
  "language_info": {
   "codemirror_mode": {
    "name": "ipython",
    "version": 3
   },
   "file_extension": ".py",
   "mimetype": "text/x-python",
   "name": "python",
   "nbconvert_exporter": "python",
   "pygments_lexer": "ipython3",
   "version": "3.10.8"
  },
  "orig_nbformat": 4,
  "vscode": {
   "interpreter": {
    "hash": "59471867d23c2a72234382566122d21c3be946b94431b3b3919396cdb8e7a794"
   }
  }
 },
 "nbformat": 4,
 "nbformat_minor": 2
}
