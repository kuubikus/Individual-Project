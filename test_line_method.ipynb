{
 "cells": [
  {
   "cell_type": "code",
   "execution_count": 1,
   "metadata": {},
   "outputs": [],
   "source": [
    "import random\n",
    "import numpy as np\n",
    "import matplotlib.pyplot as plt"
   ]
  },
  {
   "cell_type": "code",
   "execution_count": 29,
   "metadata": {},
   "outputs": [
    {
     "name": "stdout",
     "output_type": "stream",
     "text": [
      "[-1, -2]\n",
      "[-2, -1]\n"
     ]
    },
    {
     "data": {
      "text/plain": [
       "False"
      ]
     },
     "execution_count": 29,
     "metadata": {},
     "output_type": "execute_result"
    }
   ],
   "source": [
    "def same_line(point1, point2, point3):\n",
    "    # define two vectors\n",
    "    v1 = [point1[i] - point2 [i] for i in range(2)]\n",
    "    v2 = [point1[i] - point3 [i] for i in range(2)]\n",
    "    print(v2)\n",
    "    print(v1)\n",
    "    c = np.cross(v2, v1)\n",
    "    \n",
    "    if c == 0:\n",
    "        return True\n",
    "    else:\n",
    "        return False\n",
    "\n",
    "def get_line(point1, point2):\n",
    "    slope = (point2[1]-point1[1])/(point2[0]-point1[0])\n",
    "    offset1 = point1[1] - slope*point1[0]\n",
    "    offset2 = point2[1] - slope*point2[0]\n",
    "    offset = (offset1 + offset2)/2\n",
    "    return slope, offset\n",
    "\n",
    "def inside_circe(origin, point, R=2):\n",
    "    if ((point[0]-origin[0]) + (point[1]-origin[1]))**0.5 <= R:\n",
    "        return True\n",
    "    else:\n",
    "        return False\n",
    "    \n",
    "def check_slope(, slope, e=0.1):\n",
    "\n",
    "\n",
    "def check_offset():\n"
   ]
  },
  {
   "cell_type": "code",
   "execution_count": 4,
   "metadata": {},
   "outputs": [],
   "source": [
    "N = 10 # no of random points"
   ]
  },
  {
   "cell_type": "code",
   "execution_count": 5,
   "metadata": {},
   "outputs": [],
   "source": [
    "# first two iterations (in one)\n",
    "xs = []\n",
    "ys = []\n",
    "data = []\n",
    "\n",
    "for i in range(N):\n",
    "    x = np.random.randint(0, 11)\n",
    "    y = np.random.randint(0, 11)\n",
    "    xs.append(x)\n",
    "    ys.append(y)\n",
    "    data.append([x,y])"
   ]
  },
  {
   "cell_type": "code",
   "execution_count": 7,
   "metadata": {},
   "outputs": [
    {
     "data": {
      "text/plain": [
       "[<matplotlib.lines.Line2D at 0x242ebed9f50>]"
      ]
     },
     "execution_count": 7,
     "metadata": {},
     "output_type": "execute_result"
    },
    {
     "data": {
      "image/png": "[encoded data removed]",
      "text/plain": [
       "<Figure size 640x480 with 1 Axes>"
      ]
     },
     "metadata": {},
     "output_type": "display_data"
    }
   ],
   "source": [
    "plt.plot(xs, ys, 'rs')"
   ]
  },
  {
   "cell_type": "code",
   "execution_count": null,
   "metadata": {},
   "outputs": [],
   "source": []
  }
 ],
 "metadata": {
  "kernelspec": {
   "display_name": "snakes",
   "language": "python",
   "name": "python3"
  },
  "language_info": {
   "codemirror_mode": {
    "name": "ipython",
    "version": 3
   },
   "file_extension": ".py",
   "mimetype": "text/x-python",
   "name": "python",
   "nbconvert_exporter": "python",
   "pygments_lexer": "ipython3",
   "version": "3.11.0"
  },
  "orig_nbformat": 4,
  "vscode": {
   "interpreter": {
    "hash": "59471867d23c2a72234382566122d21c3be946b94431b3b3919396cdb8e7a794"
   }
  }
 },
 "nbformat": 4,
 "nbformat_minor": 2
}
