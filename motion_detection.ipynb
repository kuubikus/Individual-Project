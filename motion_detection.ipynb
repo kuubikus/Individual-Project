{
 "cells": [
  {
   "attachments": {},
   "cell_type": "markdown",
   "metadata": {},
   "source": [
    "I have two codes for motion detection. Test both"
   ]
  },
  {
   "cell_type": "code",
   "execution_count": 1,
   "metadata": {},
   "outputs": [],
   "source": [
    "from imutils.video import VideoStream\n",
    "import argparse\n",
    "import datetime\n",
    "import imutils\n",
    "import time\n",
    "import cv2\n",
    "import json\n",
    "import warnings\n",
    "import numpy as np"
   ]
  },
  {
   "cell_type": "code",
   "execution_count": 13,
   "metadata": {},
   "outputs": [],
   "source": [
    "video_location = 'Earth_ball.avi'\n",
    "vs = cv2.VideoCapture(video_location)"
   ]
  },
  {
   "cell_type": "code",
   "execution_count": 3,
   "metadata": {},
   "outputs": [],
   "source": [
    "# initialize the first frame in the video stream\n",
    "avg = None"
   ]
  },
  {
   "cell_type": "code",
   "execution_count": 14,
   "metadata": {},
   "outputs": [],
   "source": [
    "\n",
    "cv2.imshow(\"uh\", accumulated_thresh)\n",
    "cv2.waitKey(0)\n",
    "cv2.destroyAllWindows()"
   ]
  },
  {
   "cell_type": "code",
   "execution_count": 17,
   "metadata": {},
   "outputs": [],
   "source": [
    "# resize the frame, convert it to grayscale, and blur it\n",
    "frame = vs.read()\n",
    "frame = frame[1]\n",
    "frame = imutils.resize(frame, width=500)\n",
    "gray = cv2.cvtColor(frame, cv2.COLOR_BGR2GRAY)\n",
    "gray = cv2.GaussianBlur(gray, (3, 3), 0)\n",
    "cv2.imshow(\"Gray\", gray)\n",
    "cv2.waitKey(0)\n",
    "cv2.destroyAllWindows()"
   ]
  },
  {
   "cell_type": "code",
   "execution_count": 7,
   "metadata": {},
   "outputs": [
    {
     "ename": "KeyboardInterrupt",
     "evalue": "",
     "output_type": "error",
     "traceback": [
      "\u001b[1;31m---------------------------------------------------------------------------\u001b[0m",
      "\u001b[1;31mKeyboardInterrupt\u001b[0m                         Traceback (most recent call last)",
      "Cell \u001b[1;32mIn[7], line 62\u001b[0m\n\u001b[0;32m     60\u001b[0m     cv2\u001b[39m.\u001b[39mimshow(\u001b[39m\"\u001b[39m\u001b[39mThresh\u001b[39m\u001b[39m\"\u001b[39m, thresh)\n\u001b[0;32m     61\u001b[0m     cv2\u001b[39m.\u001b[39mimshow(\u001b[39m\"\u001b[39m\u001b[39mFrame Delta\u001b[39m\u001b[39m\"\u001b[39m, frameDelta)\n\u001b[1;32m---> 62\u001b[0m     cv2\u001b[39m.\u001b[39;49mwaitKey(\u001b[39m0\u001b[39;49m)\n\u001b[0;32m     64\u001b[0m cv2\u001b[39m.\u001b[39mdestroyAllWindows()\n",
      "\u001b[1;31mKeyboardInterrupt\u001b[0m: "
     ]
    }
   ],
   "source": [
    "#main body\n",
    "accumulated_thresh = np.zeros((281,500))\n",
    "while True:\n",
    "    frame = vs.read()\n",
    "    frame = frame[1]\n",
    "    text = \"unoccupied\"\n",
    "    \n",
    "    # if the frame could not be grabbed, then we have reached the end\n",
    "    # of the video\n",
    "    if frame is None:\n",
    "        break\n",
    "    \n",
    "    # resize the frame, convert it to grayscale, and blur it\n",
    "    frame = imutils.resize(frame, width=500)\n",
    "    gray = cv2.cvtColor(frame, cv2.COLOR_BGR2GRAY)\n",
    "    gray = cv2.GaussianBlur(gray, (3, 3), 0)\n",
    "\n",
    "    # if the first frame is None, initialize it\n",
    "    if avg is None:\n",
    "        avg = gray.copy().astype(\"float\")\n",
    "        continue\n",
    "\n",
    "    # compute the absolute difference between the current frame and\n",
    "    # first frame\n",
    "    cv2.accumulateWeighted(gray, avg, 0.5)\n",
    "    frameDelta = cv2.absdiff(gray, cv2.convertScaleAbs(avg))\n",
    "    thresh = cv2.threshold(frameDelta, 25, 255, cv2.THRESH_BINARY)[1]\n",
    "\n",
    "    # dilate the thresholded image to fill in holes, then find contours\n",
    "    # on thresholded image\n",
    "    thresh = cv2.dilate(thresh, None, iterations=2)\n",
    "    cnts = cv2.findContours(thresh.copy(), cv2.RETR_TREE,\n",
    "    \tcv2.CHAIN_APPROX_SIMPLE)\n",
    "    cnts = imutils.grab_contours(cnts)\n",
    "    # save the contours into an accumulated thresh image\n",
    "    accumulated_thresh = cv2.accumulate(thresh, accumulated_thresh)\n",
    "\n",
    "\t# loop over the contours\n",
    "    for c in cnts:\n",
    "\t\t# if the contour is too big, ignore it\n",
    "        if cv2.contourArea(c) < 500 and cv2.contourArea(c) > 200:\n",
    "\t\t# compute the bounding box for the contour, draw it on the frame,\n",
    "\t\t# and update the text\n",
    "            (x, y, w, h) = cv2.boundingRect(c)\n",
    "            cv2.rectangle(frame, (x, y), (x + w, y + h), (0, 255, 0), 2)\n",
    "            text = \"Occupied\"\n",
    "\n",
    "    # draw the text and timestamp on the frame\n",
    "    cv2.putText(frame, \"Room Status: {}\".format(text), (10, 20),\n",
    "    cv2.FONT_HERSHEY_SIMPLEX, 0.5, (0, 0, 255), 2)\n",
    "\n",
    "    cv2.putText(frame, datetime.datetime.now().strftime(\"%A %d %B %Y %I:%M:%S%p\"),\n",
    "    (10, frame.shape[0] - 10), cv2.FONT_HERSHEY_SIMPLEX, 0.35, (0, 0, 255), 1)\n",
    "\n",
    "\t# show the frame and record if the user presses a key\n",
    "    cv2.imshow(\"Satellite Feed\", frame)\n",
    "    cv2.imshow(\"accumulated\", accumulated_thresh)\n",
    "    cv2.imshow(\"Thresh\", thresh)\n",
    "    cv2.imshow(\"Frame Delta\", frameDelta)\n",
    "    cv2.waitKey(0)\n",
    "    \n",
    "cv2.destroyAllWindows()"
   ]
  },
  {
   "attachments": {},
   "cell_type": "markdown",
   "metadata": {},
   "source": [
    "#Method 2"
   ]
  },
  {
   "cell_type": "code",
   "execution_count": 9,
   "metadata": {},
   "outputs": [],
   "source": [
    "# KNN\n",
    "backSub = cv2.createBackgroundSubtractorKNN()"
   ]
  },
  {
   "cell_type": "code",
   "execution_count": 14,
   "metadata": {},
   "outputs": [],
   "source": [
    "# MOG2\n",
    "backSub = cv2.createBackgroundSubtractorMOG2()"
   ]
  },
  {
   "cell_type": "code",
   "execution_count": 15,
   "metadata": {},
   "outputs": [
    {
     "ename": "KeyboardInterrupt",
     "evalue": "",
     "output_type": "error",
     "traceback": [
      "\u001b[1;31m---------------------------------------------------------------------------\u001b[0m",
      "\u001b[1;31mKeyboardInterrupt\u001b[0m                         Traceback (most recent call last)",
      "Cell \u001b[1;32mIn[15], line 26\u001b[0m\n\u001b[0;32m     23\u001b[0m     cv2\u001b[39m.\u001b[39mimshow(\u001b[39m'\u001b[39m\u001b[39mThresh\u001b[39m\u001b[39m'\u001b[39m, thresh)\n\u001b[0;32m     24\u001b[0m     cv2\u001b[39m.\u001b[39mimshow(\u001b[39m'\u001b[39m\u001b[39mFG Mask\u001b[39m\u001b[39m'\u001b[39m, fgMask)\n\u001b[1;32m---> 26\u001b[0m     cv2\u001b[39m.\u001b[39;49mwaitKey(\u001b[39m0\u001b[39;49m)\n\u001b[0;32m     28\u001b[0m cv2\u001b[39m.\u001b[39mdestroyAllWindows()\n",
      "\u001b[1;31mKeyboardInterrupt\u001b[0m: "
     ]
    }
   ],
   "source": [
    "while True:\n",
    "    ret, frame = vs.read()\n",
    "    if frame is None:\n",
    "        break\n",
    "\n",
    "    fgMask = backSub.apply(frame)\n",
    "\n",
    "    thresh = cv2.dilate(fgMask, None, iterations=2)  # makes bright regions grow\n",
    "    cnts = cv2.findContours(fgMask, cv2.RETR_EXTERNAL, cv2.CHAIN_APPROX_SIMPLE)\n",
    "    cnts = imutils.grab_contours(cnts)\n",
    "\n",
    "    # loop over the contours\n",
    "    for c in cnts:\n",
    "        if cv2.contourArea(c) > 200:\n",
    "            # compute the bounding box for the contour, draw it on the frame\n",
    "            (x, y, w, h) = cv2.boundingRect(c)\n",
    "            cv2.rectangle(frame, (x, y), (x + w, y + h), (0, 255, 0), 2)\n",
    "            text = \"Occupied\"\n",
    "\n",
    "    cv2.rectangle(frame, (10, 2), (100, 20), (255, 255, 255), 1)\n",
    "   \n",
    "    cv2.imshow('Frame', frame)\n",
    "    cv2.imshow('Thresh', thresh)\n",
    "    cv2.imshow('FG Mask', fgMask)\n",
    "\n",
    "    cv2.waitKey(0)\n",
    "    \n",
    "cv2.destroyAllWindows()"
   ]
  },
  {
   "cell_type": "code",
   "execution_count": null,
   "metadata": {},
   "outputs": [],
   "source": []
  }
 ],
 "metadata": {
  "kernelspec": {
   "display_name": "snakes",
   "language": "python",
   "name": "python3"
  },
  "language_info": {
   "codemirror_mode": {
    "name": "ipython",
    "version": 3
   },
   "file_extension": ".py",
   "mimetype": "text/x-python",
   "name": "python",
   "nbconvert_exporter": "python",
   "pygments_lexer": "ipython3",
   "version": "3.10.8"
  },
  "orig_nbformat": 4,
  "vscode": {
   "interpreter": {
    "hash": "ba46d3c1349a8793b8508840c8d7327b4fd991649259d1bdc996506b1c3d27b3"
   }
  }
 },
 "nbformat": 4,
 "nbformat_minor": 2
}
