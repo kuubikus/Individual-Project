{
 "cells": [
  {
   "cell_type": "code",
   "execution_count": 6,
   "metadata": {},
   "outputs": [],
   "source": [
    "import pykep as pk\n",
    "import numpy as np\n",
    "from scipy import optimize "
   ]
  },
  {
   "cell_type": "code",
   "execution_count": 7,
   "metadata": {},
   "outputs": [],
   "source": [
    "%store -r all_rel"
   ]
  },
  {
   "cell_type": "code",
   "execution_count": 8,
   "metadata": {},
   "outputs": [],
   "source": [
    "def propagate_based_on_elements(elements, t, kepler=True):\n",
    "    if t == 0:\n",
    "        rf, vf = pk.par2ic(elements, mu=398600)\n",
    "    else: \n",
    "        r, v = pk.par2ic(elements, mu=398600)\n",
    "        rf,vf = pk.propagate_lagrangian(r0 = r, v0 = v, tof = t,mu = 398600)\n",
    "    if kepler == False:  # return vectors\n",
    "        return np.array(rf),np.array(vf)\n",
    "    if kepler == True:  # return kepler elements\n",
    "        return pk.ic2par(rf,vf,mu = 398600)"
   ]
  },
  {
   "cell_type": "code",
   "execution_count": 9,
   "metadata": {},
   "outputs": [],
   "source": [
    "def get_distance(r1, r2):\n",
    "    return np.linalg.norm(np.cross(r1,r2))"
   ]
  },
  {
   "cell_type": "code",
   "execution_count": 10,
   "metadata": {},
   "outputs": [],
   "source": [
    "def get_L(rhos, observer_locs, times, measurments):\n",
    "    rho1 = rhos[0]\n",
    "    rho3 = rhos[1]\n",
    "    ri = observer_locs[0] + rho1*measurments[0]\n",
    "    rf = observer_locs[2] + rho3*measurments[2]\n",
    "    tau = times[2] - times[0]\n",
    "    tau = 1.0257537\n",
    "    l = pk.lambert_problem(r1 = ri, r2 = rf, tof = tau, mu=1)\n",
    "    vi = l.get_v1()[0]\n",
    "    t = times[1] - times[0]\n",
    "    t = 0.325593\n",
    "    r2,v2 = pk.propagate_lagrangian(r0 = ri, v0 = vi, tof = t,mu = 1)\n",
    "    return r2 - observer_locs[1]"
   ]
  },
  {
   "cell_type": "code",
   "execution_count": 11,
   "metadata": {},
   "outputs": [],
   "source": [
    "def residual(rhos, observer_locs, times, measurments):\n",
    "    L = get_L(rhos, observer_locs, times, measurments)\n",
    "    L_unit = L/np.linalg.norm(L)\n",
    "    print(\"error value\", 1 - np.dot(measurments[1], L_unit))\n",
    "    return 1 - np.dot(measurments[1], L_unit)"
   ]
  },
  {
   "cell_type": "code",
   "execution_count": 12,
   "metadata": {},
   "outputs": [],
   "source": [
    "def get_transformation_matrix(normal_vector, vector):\n",
    "    # Calculate the projection of the vector onto the plane defined by the normal vector\n",
    "    proj = vector - np.dot(vector, normal_vector) * normal_vector\n",
    "    \n",
    "    # Define the first axis of the new coordinate system as the projection of the vector onto the plane\n",
    "    axis_1 = proj / np.linalg.norm(proj)\n",
    "    \n",
    "    # Define the second axis of the new coordinate system as the cross product of the normal vector and axis_1\n",
    "    axis_2 = np.cross(normal_vector, axis_1)\n",
    "    \n",
    "    # Define the transformation matrix from the original coordinate system to the new coordinate system\n",
    "    transformation_matrix = np.column_stack((axis_1, axis_2, normal_vector))\n",
    "    print(\"the reference point\", np.dot(transformation_matrix.transpose(), vector))\n",
    "    return transformation_matrix.transpose(), np.linalg.norm(proj)"
   ]
  },
  {
   "cell_type": "code",
   "execution_count": 13,
   "metadata": {},
   "outputs": [],
   "source": [
    "def point_in_new_coordinates(transformation_matrix, point):\n",
    "    # Transform the point to the new coordinate system\n",
    "    point_new = np.dot(transformation_matrix, point)\n",
    "\n",
    "    # Return the coordinates of the point in the new coordinate system\n",
    "    return point_new[:2]"
   ]
  },
  {
   "cell_type": "code",
   "execution_count": 14,
   "metadata": {},
   "outputs": [],
   "source": [
    "def choose_direction(pos,neg):\n",
    "    if pos[1]**2 + pos[0]**2 < neg[1]**2 + neg[0]**2:\n",
    "        return pos\n",
    "    else:\n",
    "        return neg\n"
   ]
  },
  {
   "cell_type": "code",
   "execution_count": 36,
   "metadata": {},
   "outputs": [],
   "source": [
    "def func(rhos,matrix, observer_locs, times, measurments):\n",
    "    Ln = get_L(rhos,observer_locs, times, measurments)\n",
    "    f, g = point_in_new_coordinates(matrix, Ln)\n",
    "    return [f,g]"
   ]
  },
  {
   "cell_type": "code",
   "execution_count": 16,
   "metadata": {},
   "outputs": [],
   "source": [
    "def func1(rhos,matrix, observer_locs, times, measurments):\n",
    "    Ln = get_L(rhos,observer_locs, times, measurments)\n",
    "    f, g = point_in_new_coordinates(matrix, Ln)\n",
    "    return f"
   ]
  },
  {
   "cell_type": "code",
   "execution_count": 17,
   "metadata": {},
   "outputs": [],
   "source": [
    "def func2(rhos,matrix, observer_locs, times, measurments):\n",
    "    Ln = get_L(rhos,observer_locs, times, measurments)\n",
    "    f, g = point_in_new_coordinates(matrix, Ln)\n",
    "    return g"
   ]
  },
  {
   "cell_type": "code",
   "execution_count": 18,
   "metadata": {},
   "outputs": [],
   "source": [
    "def get_Jacobian(rhos,Li, observer_locs, times, measurments):\n",
    "    matrix, f0 = get_transformation_matrix(measurments[1], Li)\n",
    "    J1 = optimize.approx_fprime(rhos, func1,[1e-8,1e-8], matrix, observer_locs, times, measurments)\n",
    "    print(\"J1\", J1)\n",
    "    J2 = optimize.approx_fprime(rhos, func2,[1e-8,1e-8], matrix, observer_locs, times, measurments)\n",
    "    print(\"J2\", J2)\n",
    "    return J1,J2,f0"
   ]
  },
  {
   "cell_type": "code",
   "execution_count": 19,
   "metadata": {},
   "outputs": [],
   "source": [
    "def get_derivatives(rhos,Li, observer_locs, times, measurments, step=1e-5):\n",
    "    print(\"normal\",measurments[1])\n",
    "    print(\"vec\", Li)\n",
    "    matrix = get_transformation_matrix(measurments[1], Li)\n",
    "    # pos x\n",
    "    rho_x = (rhos[0] + step,rhos[1])\n",
    "    Ln = get_L(rho_x,observer_locs, times, measurments)\n",
    "    positives = point_in_new_coordinates(matrix, Ln)\n",
    "    print(\"pos in x\",positives)\n",
    "    # neg x\n",
    "    rho_x = (rhos[0] - step,rhos[1])\n",
    "    Ln = get_L(rho_x,observer_locs, times, measurments)\n",
    "    negatives = point_in_new_coordinates(matrix, Ln)\n",
    "    f_x, g_x = choose_direction(negatives,positives)\n",
    "    print(\"neg in x\", negatives)\n",
    "    print(\"in x\", f_x, g_x)\n",
    "    # pos y\n",
    "    rho_y = (rhos[0],rhos[1] + step)\n",
    "    Ln = get_L(rho_y,observer_locs, times, measurments)\n",
    "    positives = point_in_new_coordinates(matrix, Ln)\n",
    "    print(\"pos in y\", positives)\n",
    "    # neg y\n",
    "    rho_y = (rhos[0],rhos[1] - step)\n",
    "    Ln = get_L(rho_y,observer_locs, times, measurments)\n",
    "    negatives = point_in_new_coordinates(matrix, Ln)\n",
    "    print(\"neg in y\", negatives)\n",
    "    f_y, g_y = choose_direction(negatives,positives)\n",
    "\n",
    "    return f_x, g_x, f_y, g_y"
   ]
  },
  {
   "cell_type": "code",
   "execution_count": 30,
   "metadata": {},
   "outputs": [],
   "source": [
    "def update_guess(rhos,Li, observer_locs, times, measurments):\n",
    "    # get dfx and dgx\n",
    "    f, g,f0 = get_Jacobian(rhos,Li, observer_locs, times, measurments)\n",
    "    f_x, f_y = f[0], f[1]\n",
    "    g_x, g_y = g[0], g[1]\n",
    "    print(\"derivative\", f_x, g_x, f_y, g_y)\n",
    "    D = f_x*g_y - f_y*g_x\n",
    "    print(\"D\",D)\n",
    "    rhos = [rhos[0]-(f0*g_y)/D,rhos[1]+(f0*g_x)/D]\n",
    "    if rhos[0] < 0:\n",
    "        rhos[0] = 0\n",
    "    if rhos[1] < 0:\n",
    "        rhos[1] = 0\n",
    "    return rhos"
   ]
  },
  {
   "cell_type": "code",
   "execution_count": 46,
   "metadata": {},
   "outputs": [],
   "source": [
    "def gooding(observer_locs, times, measurments, max_i =1000, tolerance = 1e-9):\n",
    "    rhos = (2,2)\n",
    "    reached = False\n",
    "    i=0\n",
    "    for i in range(max_i):\n",
    "        print(\"iteration no\", i)\n",
    "        Li = get_L(rhos, observer_locs, times, measurments)\n",
    "        \n",
    "        #rhos_new = update_guess(rhos,Li, observer_locs, times, measurments)\n",
    "        matrix,f0 = get_transformation_matrix(measurments[1], Li)\n",
    "        sol =  optimize.root(func, [1, 1],args=(matrix, observer_locs, times, measurments), method='Krylov')\n",
    "        rhos_new = sol.x \n",
    "        print(\"sucess\", sol.success)\n",
    "        print(\"new guess\", rhos_new)\n",
    "        if abs(rhos_new[0] - rhos[0]) < tolerance and  abs(rhos_new[0] - rhos[0]) < tolerance:\n",
    "            return rhos_new\n",
    "        rhos = rhos_new\n",
    "\n",
    "    return False"
   ]
  },
  {
   "cell_type": "code",
   "execution_count": 22,
   "metadata": {},
   "outputs": [],
   "source": [
    "measurements = [np.array([0.9028975, 0.0606048, 0.4255621]), np.array([0.9224764, 0.0518570, 0.3825549]),\n",
    "        np.array([0.9347684, 0.0802269, 0.3460802])]\n",
    "times = [0,26,51]\n",
    "elements_sat = [7350,0.0037296,np.radians(82.0394),np.radians(41.7294),np.radians(216.168),np.radians(0)]\n",
    "locs = [propagate_based_on_elements(elements_sat,0, kepler=False)[0],propagate_based_on_elements(elements_sat,26, kepler=False)[0],\n",
    "        propagate_based_on_elements(elements_sat,51, kepler=False)[0]]\n",
    "locs = [np.array([0.7000687 ,0.6429399, 0.2789211]), np.array([0.4306907, 0.8143496, 0.3532745]),\n",
    "        np.array([0.0628371, 0.9007098, 0.3907417])]"
   ]
  },
  {
   "cell_type": "code",
   "execution_count": 47,
   "metadata": {},
   "outputs": [
    {
     "name": "stdout",
     "output_type": "stream",
     "text": [
      "iteration no 0\n",
      "the reference point [6.07704394e-02 9.28206013e-17 2.05523814e+00]\n",
      "sucess True\n",
      "new guess [4.58312707 7.07318834]\n",
      "iteration no 1\n",
      "the reference point [-1.60589402e-01 -2.42214669e-16  5.41263167e+00]\n",
      "sucess True\n",
      "new guess [1.99574195 1.99232963]\n",
      "iteration no 2\n",
      "the reference point [ 6.08456735e-02 -3.60875516e-17  2.04996248e+00]\n",
      "sucess True\n",
      "new guess [4.58312705 7.07318833]\n",
      "iteration no 3\n",
      "the reference point [-1.60585800e-01 -1.77694583e-16  5.41263165e+00]\n",
      "sucess True\n",
      "new guess [1.99574333 1.99244673]\n",
      "iteration no 4\n",
      "the reference point [6.08454209e-02 2.14098392e-17 2.05000000e+00]\n",
      "sucess True\n",
      "new guess [4.58320816 7.07336227]\n",
      "iteration no 5\n",
      "the reference point [-1.79476142e-01 -1.56554207e-16  5.41274199e+00]\n",
      "sucess True\n",
      "new guess [1.86594403 1.78749548]\n",
      "iteration no 6\n",
      "the reference point [ 6.29786473e-02 -3.66991834e-18  1.89834425e+00]\n"
     ]
    },
    {
     "ename": "RuntimeError",
     "evalue": "Error in function boost::math::tools::bracket_and_solve_root<double>: Unable to bracket root, last nearest value was 1.6940658945086007e-21",
     "output_type": "error",
     "traceback": [
      "\u001b[1;31m---------------------------------------------------------------------------\u001b[0m",
      "\u001b[1;31mRuntimeError\u001b[0m                              Traceback (most recent call last)",
      "Cell \u001b[1;32mIn[47], line 1\u001b[0m\n\u001b[1;32m----> 1\u001b[0m gooding(locs, times, measurements)\n",
      "Cell \u001b[1;32mIn[46], line 11\u001b[0m, in \u001b[0;36mgooding\u001b[1;34m(observer_locs, times, measurments, max_i, tolerance)\u001b[0m\n\u001b[0;32m      9\u001b[0m \u001b[39m#rhos_new = update_guess(rhos,Li, observer_locs, times, measurments)\u001b[39;00m\n\u001b[0;32m     10\u001b[0m matrix,f0 \u001b[39m=\u001b[39m get_transformation_matrix(measurments[\u001b[39m1\u001b[39m], Li)\n\u001b[1;32m---> 11\u001b[0m sol \u001b[39m=\u001b[39m  optimize\u001b[39m.\u001b[39;49mroot(func, [\u001b[39m1\u001b[39;49m, \u001b[39m1\u001b[39;49m],args\u001b[39m=\u001b[39;49m(matrix, observer_locs, times, measurments), method\u001b[39m=\u001b[39;49m\u001b[39m'\u001b[39;49m\u001b[39mKrylov\u001b[39;49m\u001b[39m'\u001b[39;49m)\n\u001b[0;32m     12\u001b[0m rhos_new \u001b[39m=\u001b[39m sol\u001b[39m.\u001b[39mx \n\u001b[0;32m     13\u001b[0m \u001b[39mprint\u001b[39m(\u001b[39m\"\u001b[39m\u001b[39msucess\u001b[39m\u001b[39m\"\u001b[39m, sol\u001b[39m.\u001b[39msuccess)\n",
      "File \u001b[1;32me:\\Anaconda\\envs\\IP\\Lib\\site-packages\\scipy\\optimize\\_root.py:245\u001b[0m, in \u001b[0;36mroot\u001b[1;34m(fun, x0, args, method, jac, tol, callback, options)\u001b[0m\n\u001b[0;32m    242\u001b[0m \u001b[39melif\u001b[39;00m meth \u001b[39min\u001b[39;00m (\u001b[39m'\u001b[39m\u001b[39mbroyden1\u001b[39m\u001b[39m'\u001b[39m, \u001b[39m'\u001b[39m\u001b[39mbroyden2\u001b[39m\u001b[39m'\u001b[39m, \u001b[39m'\u001b[39m\u001b[39manderson\u001b[39m\u001b[39m'\u001b[39m, \u001b[39m'\u001b[39m\u001b[39mlinearmixing\u001b[39m\u001b[39m'\u001b[39m,\n\u001b[0;32m    243\u001b[0m               \u001b[39m'\u001b[39m\u001b[39mdiagbroyden\u001b[39m\u001b[39m'\u001b[39m, \u001b[39m'\u001b[39m\u001b[39mexcitingmixing\u001b[39m\u001b[39m'\u001b[39m, \u001b[39m'\u001b[39m\u001b[39mkrylov\u001b[39m\u001b[39m'\u001b[39m):\n\u001b[0;32m    244\u001b[0m     _warn_jac_unused(jac, method)\n\u001b[1;32m--> 245\u001b[0m     sol \u001b[39m=\u001b[39m _root_nonlin_solve(fun, x0, args\u001b[39m=\u001b[39;49margs, jac\u001b[39m=\u001b[39;49mjac,\n\u001b[0;32m    246\u001b[0m                              _method\u001b[39m=\u001b[39;49mmeth, _callback\u001b[39m=\u001b[39;49mcallback,\n\u001b[0;32m    247\u001b[0m                              \u001b[39m*\u001b[39;49m\u001b[39m*\u001b[39;49moptions)\n\u001b[0;32m    248\u001b[0m \u001b[39melse\u001b[39;00m:\n\u001b[0;32m    249\u001b[0m     \u001b[39mraise\u001b[39;00m \u001b[39mValueError\u001b[39;00m(\u001b[39m'\u001b[39m\u001b[39mUnknown solver \u001b[39m\u001b[39m%s\u001b[39;00m\u001b[39m'\u001b[39m \u001b[39m%\u001b[39m method)\n",
      "File \u001b[1;32me:\\Anaconda\\envs\\IP\\Lib\\site-packages\\scipy\\optimize\\_root.py:343\u001b[0m, in \u001b[0;36m_root_nonlin_solve\u001b[1;34m(fun, x0, args, jac, _callback, _method, nit, disp, maxiter, ftol, fatol, xtol, xatol, tol_norm, line_search, jac_options, **unknown_options)\u001b[0m\n\u001b[0;32m    340\u001b[0m \u001b[39melse\u001b[39;00m:\n\u001b[0;32m    341\u001b[0m     f \u001b[39m=\u001b[39m fun\n\u001b[1;32m--> 343\u001b[0m x, info \u001b[39m=\u001b[39m nonlin\u001b[39m.\u001b[39;49mnonlin_solve(f, x0, jacobian\u001b[39m=\u001b[39;49mjacobian(\u001b[39m*\u001b[39;49m\u001b[39m*\u001b[39;49mjac_options),\n\u001b[0;32m    344\u001b[0m                               \u001b[39miter\u001b[39;49m\u001b[39m=\u001b[39;49mnit, verbose\u001b[39m=\u001b[39;49mverbose,\n\u001b[0;32m    345\u001b[0m                               maxiter\u001b[39m=\u001b[39;49mmaxiter, f_tol\u001b[39m=\u001b[39;49mf_tol,\n\u001b[0;32m    346\u001b[0m                               f_rtol\u001b[39m=\u001b[39;49mf_rtol, x_tol\u001b[39m=\u001b[39;49mx_tol,\n\u001b[0;32m    347\u001b[0m                               x_rtol\u001b[39m=\u001b[39;49mx_rtol, tol_norm\u001b[39m=\u001b[39;49mtol_norm,\n\u001b[0;32m    348\u001b[0m                               line_search\u001b[39m=\u001b[39;49mline_search,\n\u001b[0;32m    349\u001b[0m                               callback\u001b[39m=\u001b[39;49m_callback, full_output\u001b[39m=\u001b[39;49m\u001b[39mTrue\u001b[39;49;00m,\n\u001b[0;32m    350\u001b[0m                               raise_exception\u001b[39m=\u001b[39;49m\u001b[39mFalse\u001b[39;49;00m)\n\u001b[0;32m    351\u001b[0m sol \u001b[39m=\u001b[39m OptimizeResult(x\u001b[39m=\u001b[39mx)\n\u001b[0;32m    352\u001b[0m sol\u001b[39m.\u001b[39mupdate(info)\n",
      "File \u001b[1;32me:\\Anaconda\\envs\\IP\\Lib\\site-packages\\scipy\\optimize\\_nonlin.py:213\u001b[0m, in \u001b[0;36mnonlin_solve\u001b[1;34m(F, x0, jacobian, iter, verbose, maxiter, f_tol, f_rtol, x_tol, x_rtol, tol_norm, line_search, callback, full_output, raise_exception)\u001b[0m\n\u001b[0;32m    211\u001b[0m \u001b[39m# Line search, or Newton step\u001b[39;00m\n\u001b[0;32m    212\u001b[0m \u001b[39mif\u001b[39;00m line_search:\n\u001b[1;32m--> 213\u001b[0m     s, x, Fx, Fx_norm_new \u001b[39m=\u001b[39m _nonlin_line_search(func, x, Fx, dx,\n\u001b[0;32m    214\u001b[0m                                                 line_search)\n\u001b[0;32m    215\u001b[0m \u001b[39melse\u001b[39;00m:\n\u001b[0;32m    216\u001b[0m     s \u001b[39m=\u001b[39m \u001b[39m1.0\u001b[39m\n",
      "File \u001b[1;32me:\\Anaconda\\envs\\IP\\Lib\\site-packages\\scipy\\optimize\\_nonlin.py:292\u001b[0m, in \u001b[0;36m_nonlin_line_search\u001b[1;34m(func, x, Fx, dx, search_type, rdiff, smin)\u001b[0m\n\u001b[0;32m    289\u001b[0m     s, phi1, phi0 \u001b[39m=\u001b[39m scalar_search_wolfe1(phi, derphi, tmp_phi[\u001b[39m0\u001b[39m],\n\u001b[0;32m    290\u001b[0m                                          xtol\u001b[39m=\u001b[39m\u001b[39m1e-2\u001b[39m, amin\u001b[39m=\u001b[39msmin)\n\u001b[0;32m    291\u001b[0m \u001b[39melif\u001b[39;00m search_type \u001b[39m==\u001b[39m \u001b[39m'\u001b[39m\u001b[39marmijo\u001b[39m\u001b[39m'\u001b[39m:\n\u001b[1;32m--> 292\u001b[0m     s, phi1 \u001b[39m=\u001b[39m scalar_search_armijo(phi, tmp_phi[\u001b[39m0\u001b[39;49m], \u001b[39m-\u001b[39;49mtmp_phi[\u001b[39m0\u001b[39;49m],\n\u001b[0;32m    293\u001b[0m                                    amin\u001b[39m=\u001b[39;49msmin)\n\u001b[0;32m    295\u001b[0m \u001b[39mif\u001b[39;00m s \u001b[39mis\u001b[39;00m \u001b[39mNone\u001b[39;00m:\n\u001b[0;32m    296\u001b[0m     \u001b[39m# XXX: No suitable step length found. Take the full Newton step,\u001b[39;00m\n\u001b[0;32m    297\u001b[0m     \u001b[39m#      and hope for the best.\u001b[39;00m\n\u001b[0;32m    298\u001b[0m     s \u001b[39m=\u001b[39m \u001b[39m1.0\u001b[39m\n",
      "File \u001b[1;32me:\\Anaconda\\envs\\IP\\Lib\\site-packages\\scipy\\optimize\\_linesearch.py:683\u001b[0m, in \u001b[0;36mscalar_search_armijo\u001b[1;34m(phi, phi0, derphi0, c1, alpha0, amin)\u001b[0m\n\u001b[0;32m    669\u001b[0m \u001b[39mdef\u001b[39;00m \u001b[39mscalar_search_armijo\u001b[39m(phi, phi0, derphi0, c1\u001b[39m=\u001b[39m\u001b[39m1e-4\u001b[39m, alpha0\u001b[39m=\u001b[39m\u001b[39m1\u001b[39m, amin\u001b[39m=\u001b[39m\u001b[39m0\u001b[39m):\n\u001b[0;32m    670\u001b[0m \u001b[39m    \u001b[39m\u001b[39m\"\"\"Minimize over alpha, the function ``phi(alpha)``.\u001b[39;00m\n\u001b[0;32m    671\u001b[0m \n\u001b[0;32m    672\u001b[0m \u001b[39m    Uses the interpolation algorithm (Armijo backtracking) as suggested by\u001b[39;00m\n\u001b[1;32m   (...)\u001b[0m\n\u001b[0;32m    681\u001b[0m \n\u001b[0;32m    682\u001b[0m \u001b[39m    \"\"\"\u001b[39;00m\n\u001b[1;32m--> 683\u001b[0m     phi_a0 \u001b[39m=\u001b[39m phi(alpha0)\n\u001b[0;32m    684\u001b[0m     \u001b[39mif\u001b[39;00m phi_a0 \u001b[39m<\u001b[39m\u001b[39m=\u001b[39m phi0 \u001b[39m+\u001b[39m c1\u001b[39m*\u001b[39malpha0\u001b[39m*\u001b[39mderphi0:\n\u001b[0;32m    685\u001b[0m         \u001b[39mreturn\u001b[39;00m alpha0, phi_a0\n",
      "File \u001b[1;32me:\\Anaconda\\envs\\IP\\Lib\\site-packages\\scipy\\optimize\\_nonlin.py:276\u001b[0m, in \u001b[0;36m_nonlin_line_search.<locals>.phi\u001b[1;34m(s, store)\u001b[0m\n\u001b[0;32m    274\u001b[0m     \u001b[39mreturn\u001b[39;00m tmp_phi[\u001b[39m0\u001b[39m]\n\u001b[0;32m    275\u001b[0m xt \u001b[39m=\u001b[39m x \u001b[39m+\u001b[39m s\u001b[39m*\u001b[39mdx\n\u001b[1;32m--> 276\u001b[0m v \u001b[39m=\u001b[39m func(xt)\n\u001b[0;32m    277\u001b[0m p \u001b[39m=\u001b[39m _safe_norm(v)\u001b[39m*\u001b[39m\u001b[39m*\u001b[39m\u001b[39m2\u001b[39m\n\u001b[0;32m    278\u001b[0m \u001b[39mif\u001b[39;00m store:\n",
      "File \u001b[1;32me:\\Anaconda\\envs\\IP\\Lib\\site-packages\\scipy\\optimize\\_nonlin.py:167\u001b[0m, in \u001b[0;36mnonlin_solve.<locals>.<lambda>\u001b[1;34m(z)\u001b[0m\n\u001b[0;32m    162\u001b[0m condition \u001b[39m=\u001b[39m TerminationCondition(f_tol\u001b[39m=\u001b[39mf_tol, f_rtol\u001b[39m=\u001b[39mf_rtol,\n\u001b[0;32m    163\u001b[0m                                  x_tol\u001b[39m=\u001b[39mx_tol, x_rtol\u001b[39m=\u001b[39mx_rtol,\n\u001b[0;32m    164\u001b[0m                                  \u001b[39miter\u001b[39m\u001b[39m=\u001b[39m\u001b[39miter\u001b[39m, norm\u001b[39m=\u001b[39mtol_norm)\n\u001b[0;32m    166\u001b[0m x0 \u001b[39m=\u001b[39m _as_inexact(x0)\n\u001b[1;32m--> 167\u001b[0m func \u001b[39m=\u001b[39m \u001b[39mlambda\u001b[39;00m z: _as_inexact(F(_array_like(z, x0)))\u001b[39m.\u001b[39mflatten()\n\u001b[0;32m    168\u001b[0m x \u001b[39m=\u001b[39m x0\u001b[39m.\u001b[39mflatten()\n\u001b[0;32m    170\u001b[0m dx \u001b[39m=\u001b[39m np\u001b[39m.\u001b[39mfull_like(x, np\u001b[39m.\u001b[39minf)\n",
      "File \u001b[1;32me:\\Anaconda\\envs\\IP\\Lib\\site-packages\\scipy\\optimize\\_root.py:339\u001b[0m, in \u001b[0;36m_root_nonlin_solve.<locals>.f\u001b[1;34m(x)\u001b[0m\n\u001b[0;32m    338\u001b[0m \u001b[39mdef\u001b[39;00m \u001b[39mf\u001b[39m(x):\n\u001b[1;32m--> 339\u001b[0m     \u001b[39mreturn\u001b[39;00m fun(x, \u001b[39m*\u001b[39;49margs)\n",
      "Cell \u001b[1;32mIn[36], line 2\u001b[0m, in \u001b[0;36mfunc\u001b[1;34m(rhos, matrix, observer_locs, times, measurments)\u001b[0m\n\u001b[0;32m      1\u001b[0m \u001b[39mdef\u001b[39;00m \u001b[39mfunc\u001b[39m(rhos,matrix, observer_locs, times, measurments):\n\u001b[1;32m----> 2\u001b[0m     Ln \u001b[39m=\u001b[39m get_L(rhos,observer_locs, times, measurments)\n\u001b[0;32m      3\u001b[0m     f, g \u001b[39m=\u001b[39m point_in_new_coordinates(matrix, Ln)\n\u001b[0;32m      4\u001b[0m     \u001b[39mreturn\u001b[39;00m [f,g]\n",
      "Cell \u001b[1;32mIn[10], line 12\u001b[0m, in \u001b[0;36mget_L\u001b[1;34m(rhos, observer_locs, times, measurments)\u001b[0m\n\u001b[0;32m     10\u001b[0m t \u001b[39m=\u001b[39m times[\u001b[39m1\u001b[39m] \u001b[39m-\u001b[39m times[\u001b[39m0\u001b[39m]\n\u001b[0;32m     11\u001b[0m t \u001b[39m=\u001b[39m \u001b[39m0.325593\u001b[39m\n\u001b[1;32m---> 12\u001b[0m r2,v2 \u001b[39m=\u001b[39m pk\u001b[39m.\u001b[39;49mpropagate_lagrangian(r0 \u001b[39m=\u001b[39;49m ri, v0 \u001b[39m=\u001b[39;49m vi, tof \u001b[39m=\u001b[39;49m t,mu \u001b[39m=\u001b[39;49m \u001b[39m1\u001b[39;49m)\n\u001b[0;32m     13\u001b[0m \u001b[39mreturn\u001b[39;00m r2 \u001b[39m-\u001b[39m observer_locs[\u001b[39m1\u001b[39m]\n",
      "\u001b[1;31mRuntimeError\u001b[0m: Error in function boost::math::tools::bracket_and_solve_root<double>: Unable to bracket root, last nearest value was 1.6940658945086007e-21"
     ]
    }
   ],
   "source": [
    "gooding(locs, times, measurements)"
   ]
  },
  {
   "cell_type": "code",
   "execution_count": 24,
   "metadata": {},
   "outputs": [],
   "source": [
    "%store -r orbits"
   ]
  },
  {
   "cell_type": "code",
   "execution_count": 25,
   "metadata": {},
   "outputs": [
    {
     "data": {
      "text/plain": [
       "(array([-3772.25469072, -4182.56439897, -4300.41085855]),\n",
       " array([ 8.8362211 ,  2.42709973, -8.75096436]))"
      ]
     },
     "execution_count": 25,
     "metadata": {},
     "output_type": "execute_result"
    }
   ],
   "source": [
    "\n",
    "propagate_based_on_elements(orbits[0][\"Orbit\"], 26,kepler=False)"
   ]
  },
  {
   "cell_type": "code",
   "execution_count": null,
   "metadata": {},
   "outputs": [],
   "source": []
  }
 ],
 "metadata": {
  "kernelspec": {
   "display_name": "IP",
   "language": "python",
   "name": "python3"
  },
  "language_info": {
   "codemirror_mode": {
    "name": "ipython",
    "version": 3
   },
   "file_extension": ".py",
   "mimetype": "text/x-python",
   "name": "python",
   "nbconvert_exporter": "python",
   "pygments_lexer": "ipython3",
   "version": "3.11.3"
  },
  "orig_nbformat": 4
 },
 "nbformat": 4,
 "nbformat_minor": 2
}
