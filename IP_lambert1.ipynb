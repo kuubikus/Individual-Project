{
 "cells": [
  {
   "cell_type": "code",
   "execution_count": 2,
   "metadata": {},
   "outputs": [],
   "source": [
    "import numpy as np\n",
    "import matplotlib.pyplot as plt\n",
    "import pykep\n",
    "import random\n",
    "from scipy.optimize import newton"
   ]
  },
  {
   "cell_type": "code",
   "execution_count": 3,
   "metadata": {},
   "outputs": [],
   "source": [
    "def get_period(a, mu = 398600):\n",
    "    \"\"\"`\n",
    "    return the period in seconds\n",
    "    a needs to be in km\n",
    "    \"\"\"\n",
    "    return (2*np.pi*a**1.5)/mu**0.5\n",
    "\n",
    "def kepler(E, M_e, e):\n",
    "    \"\"\"Kepler's equation, to be used in a Newton solver.\"\"\"\n",
    "    return E - e * np.sin(E) - M_e\n",
    "\n",
    "def d_kepler_d_E(E, M_e, e):\n",
    "    \"\"\"The derivative of Kepler's equation, to be used in a Newton solver.\n",
    "    \n",
    "    Note that the argument M_e is unused, but must be present so the function\n",
    "    arguments are consistent with the kepler function.\n",
    "    \"\"\"\n",
    "    return 1 - e * np.cos(E)\n",
    "\n",
    "def orbit(elements, t):\n",
    "    \"\"\"\n",
    "    Gives the posistion and velocity vectors at time t (since perigee).\n",
    "    The elements input needs to be a list of Kepler elements as given by pykep package.\n",
    "    Only a and e are required for this stage.\n",
    "    \"\"\"\n",
    "    T = get_period(elements[0])\n",
    "    e = elements[1]\n",
    "    M_e = 2 * np.pi * t/T\n",
    "    E = newton(func=kepler, fprime=d_kepler_d_E, x0=np.pi, args=(M_e, e))\n",
    "    elements[5] = E\n",
    "    r,v = pykep.par2ic(elements, mu=398600)\n",
    "    r = np.array(r)\n",
    "    v = np.array(v)\n",
    "    return r,v"
   ]
  },
  {
   "cell_type": "code",
   "execution_count": 4,
   "metadata": {},
   "outputs": [],
   "source": [
    "def L_meas(elementsO, rel_vector, t):\n",
    "    \"\"\"\n",
    "    Give the unit vector between the known observer orbit and the relative vector\n",
    "    between the target and observer vector. \n",
    "    \"\"\"\n",
    "    rO, vO = orbit(elementsO, t)\n",
    "    rO = np.array(rO)\n",
    "    rel = rO - rel_vector\n",
    "    return rel/np.linalg.norm(rel)\n",
    "\n",
    "def L_between_orbits(elementsO, elementsT, t):\n",
    "    \"\"\"\n",
    "    Give the unit vector between two orbits defined by Kepler elements.\n",
    "    Only a and e are required for this stage\n",
    "    This will be used to generate \"measured\" data.\n",
    "    \"\"\"\n",
    "    rO, vO = orbit(elementsO, t)\n",
    "    rT, vT = orbit(elementsT, t)\n",
    "    rO = np.array(rO)\n",
    "    rT = np.array(rT)\n",
    "    rel = rO - rT\n",
    "    return rel/np.linalg.norm(rel)"
   ]
  },
  {
   "cell_type": "code",
   "execution_count": 5,
   "metadata": {},
   "outputs": [],
   "source": [
    "def get_target_r(elementsO, elementsT, point, t):\n",
    "    # initial \"measurment\" and orbit\n",
    "    rho_i = point[0]\n",
    "    rO_i = orbit(elementsO, 0)[0]\n",
    "    L_t0 = L_between_orbits(elementsO, elementsT, 0)\n",
    "    rT_i = rho_i*L_t0 + rO_i\n",
    "    # final \"measurment\" and orbit\n",
    "    rho_f = point[1]\n",
    "    rO_f = orbit(elementsO, t)[0]\n",
    "    L_tf = L_between_orbits(elementsO, elementsT, t)\n",
    "    rT_f = rho_f*L_tf + rO_f\n",
    "\n",
    "    return rT_i, rT_f\n",
    "\n",
    "def solve_lambert(r1, r2, tof):\n",
    "    \"\"\"\n",
    "    r1 and r2 are vectors (np arrays)\n",
    "    \"\"\"\n",
    "    # convert np array to list for pykep package\n",
    "    rT_i_list = np.ndarray.tolist(r1)  \n",
    "    rT_f_list = np.ndarray.tolist(r2)\n",
    "    # solve Lambert's problem\n",
    "    l = pykep.lambert_problem(r1 = rT_i_list, r2 = rT_f_list, tof = tof, mu=398600, cw=True)\n",
    "    # convert results\n",
    "    vi = l.get_v1()[0]  # get the velocity vector at initial time for one revolution\n",
    "    elements = pykep.ic2par(rT_i_list,vi, mu=398600)  # get Kepler elements from pos and vel vectors\n",
    "    return elements"
   ]
  },
  {
   "cell_type": "code",
   "execution_count": 6,
   "metadata": {},
   "outputs": [],
   "source": [
    "def constraints(elements, rO_perigee):\n",
    "    \"\"\"\n",
    "    Return true if satisfied.\n",
    "    \"\"\"\n",
    "    a = elements[0]\n",
    "    e = elements[1]\n",
    "    R_earth = 6371 # km\n",
    "    \n",
    "    if R_earth + 200 <= a and a <= 50000 and 0 <= e and e <= 1 - rO_perigee/50000: # aT_max = 50000 km\n",
    "        return True\n",
    "    else:\n",
    "        return False"
   ]
  },
  {
   "cell_type": "code",
   "execution_count": 7,
   "metadata": {},
   "outputs": [],
   "source": [
    "def Lambert_problem(population, orbits, elementsO, elementsT, point, rO_perigee, TOF):\n",
    "    # Set up Lambert's problem\n",
    "    rT_i, rT_f = get_target_r(elementsO,elementsT, point, TOF)\n",
    "    # solve Lambert's problem\n",
    "    elementsT_estimated = list(solve_lambert(r1 = rT_i, r2 = rT_f, tof = TOF))\n",
    "    if constraints(elementsT_estimated, rO_perigee) is True:\n",
    "        orbits.append(elementsT_estimated)\n",
    "        population.append(point)\n",
    "    if constraints(elementsT_estimated, rO_perigee) is False:\n",
    "        raise ValueError\n",
    "    return population, orbits"
   ]
  },
  {
   "cell_type": "code",
   "execution_count": 8,
   "metadata": {},
   "outputs": [],
   "source": [
    "def mutation(population, orbits, elementsO, elementsT, rO_perigee, TOF, no_of_outputs):\n",
    "    \"\"\"\n",
    "    Population is a list.\n",
    "    Input how many extra chromoses are wanted.\n",
    "    \"\"\"\n",
    "    stnd_dev = 10  # may change. In the paper they used 10\n",
    "    for i in range(no_of_outputs):\n",
    "        passed = False\n",
    "        while passed is False:\n",
    "            index = random.randint(0, len(population) - 1)\n",
    "            rho0, rho1 = population[index]\n",
    "            rho0_new = rho0 + stnd_dev\n",
    "            rho1_new = rho1 + stnd_dev\n",
    "            try:\n",
    "                population, orbits = Lambert_problem(population, orbits, elementsO, elementsT, [rho0_new, rho1_new], rO_perigee, TOF)\n",
    "                passed = True\n",
    "            except ValueError:\n",
    "                passed = False  # will go back into the loop and select a new random point that passes the constraints\n",
    "    return population, orbits"
   ]
  },
  {
   "cell_type": "code",
   "execution_count": 9,
   "metadata": {},
   "outputs": [],
   "source": [
    "def one_crossover(point1, point2, D):\n",
    "    point1[1] = point2[1]\n",
    "    point2[1] = point1[1]\n",
    "\n",
    "    if abs(point1[0] - point1[1]) < D and abs(point2[0] - point2[1]) < D:\n",
    "        if np.random.randint(0,1) == 1:\n",
    "            return point1\n",
    "        else:\n",
    "            return point2\n",
    "    else:\n",
    "        return False\n",
    "\n",
    "def get_random_points(population):\n",
    "    index1 = random.randint(0, len(population) - 1)\n",
    "    index2 = random.randint(0, len(population) - 1)\n",
    "    while index1 == index2:  # can't be the same\n",
    "        index2 = random.randint(0, len(population) - 1)\n",
    "    point1 = population[index1]\n",
    "    point2 = population[index2]\n",
    "    return point1, point2\n",
    "\n",
    "def crossover(population, orbits, elementsO, elementsT, rO_perigee, TOF, no_of_outputs, D):\n",
    "    for i in range(no_of_outputs):\n",
    "        passed = False\n",
    "        while passed is False:\n",
    "            point1, point2 = get_random_points(population)\n",
    "            extra_point = one_crossover(point1, point2, D)\n",
    "            while extra_point == False:\n",
    "                point1, point2 = get_random_points(population)\n",
    "                extra_point = one_crossover(point1, point2, D)  # the inequality must be satisfied\n",
    "            try:\n",
    "                population, orbits = Lambert_problem(population, orbits, elementsO, elementsT, extra_point, rO_perigee, TOF)  # solve for orbits\n",
    "                passed = True\n",
    "            except ValueError:\n",
    "                passed = False  # will go back into the loop and select a new random point that passes the constraints\n",
    "    return population, orbits\n"
   ]
  },
  {
   "cell_type": "code",
   "execution_count": 10,
   "metadata": {},
   "outputs": [],
   "source": [
    "def fitness(elementsO, elementsT, estimated_orbit, no_of_measurments = 60):\n",
    "    \"\"\"\n",
    "    For now it compares against the ideal.\n",
    "    \"\"\"\n",
    "    fit = 1\n",
    "    for t in range(no_of_measurments):\n",
    "        L_ideal = L_between_orbits(elementsO, elementsT, t)  \n",
    "        L_ast = L_between_orbits(elementsO, estimated_orbit, t)\n",
    "        fit = fit * np.dot(L_ideal, L_ast)\n",
    "    return fit\n",
    "\n",
    "def objective_func(elementsO, elementsT, estimated_orbits, population):\n",
    "    \"\"\"\n",
    "    Runs the fitness function on all points.\n",
    "    Saves the point with the corresponding fitness value   \n",
    "    \"\"\"\n",
    "    index = 0\n",
    "    fit_values = []\n",
    "    for orbit in estimated_orbits:\n",
    "        fit_value = fitness(elementsO, elementsT, orbit)\n",
    "        fit_values.append(fit_value)\n",
    "    return fit_values\n"
   ]
  },
  {
   "cell_type": "code",
   "execution_count": 11,
   "metadata": {},
   "outputs": [],
   "source": [
    "def evaluate_D(elementsO, TOF):\n",
    "    mu = 398600  # km^3/s^2. Make into a global variable later. Can I make TOF a global variable?\n",
    "    aO = elementsO[0]\n",
    "    eO = elementsO[1]\n",
    "    aT_max = 50000\n",
    "\n",
    "    # some calculations\n",
    "    rO_perigee = (1-eO)*aO\n",
    "    vO_perigee = ((1+eO)/(1-eO) * mu/aO)**0.5\n",
    "    vT_perigee_max = (2*mu/rO_perigee*(1-rO_perigee/(2*aT_max)))**0.5\n",
    "\n",
    "    return (vO_perigee + vT_perigee_max)*TOF, rO_perigee"
   ]
  },
  {
   "cell_type": "code",
   "execution_count": 12,
   "metadata": {},
   "outputs": [],
   "source": [
    "def grid_between_lines(D, N, a=9000):\n",
    "    distances = []  # a list that will contain the whole population points (rho_i, rho_f)\n",
    "    A = a*a\n",
    "    A_s = A - (a-D)*a/2 - (a-2*D)*(a-D)/2\n",
    "    no_of_nodes = N*A/A_s  # no of nodes in the 9000x9000 (height x width) rectangle\n",
    "\n",
    "    xs = np.linspace(0, a, int((no_of_nodes)**0.5)) # create values for rho_i\n",
    "    ys = np.linspace(0, a, int((no_of_nodes)**0.5)) # create values for rho_f\n",
    "    \n",
    "    for x in xs:\n",
    "        for y in ys:\n",
    "            if y < (x + D) and y > (x - D):\n",
    "                distances.append([x,y])  # only add points that are between the lines\n",
    "\n",
    "    #plt.plot(xc, yc, '.r')\n",
    "    #plt.show()\n",
    "    \n",
    "    return distances"
   ]
  },
  {
   "cell_type": "code",
   "execution_count": 35,
   "metadata": {},
   "outputs": [],
   "source": [
    "def mean(population):\n",
    "    n = len(population)\n",
    "    sum_i = 0\n",
    "    sum_f = 0\n",
    "    for point in population:\n",
    "        sum_i += point[0]\n",
    "        sum_f += point[1]\n",
    "    return sum_i/n, sum_f/n    \n",
    "\n",
    "def covariance_matrix(population):\n",
    "    \"\"\"\n",
    "    Returns the standard deviations of the population in terms of two variables.\n",
    "    Our points consist of initial and final distance.\n",
    "    \"\"\"\n",
    "    c11 = 0\n",
    "    c12 = 0\n",
    "    c22 = 0\n",
    "    mean_i, mean_f = mean(population)\n",
    "    n = len(population)\n",
    "    for point in population:\n",
    "        c11 += (point[0]-mean_i)**2\n",
    "        c12 += (point[0]-mean_i)*(point[1]-mean_f)\n",
    "        c22 += (point[1]-mean_f)**2\n",
    "    return (c11/n)**0.5, (c22/n)**0.5, (c12/n)**0.5\n",
    "\n",
    "def last_similarity(List, error = 0):\n",
    "    \"\"\"\n",
    "    The input list should be a list (2x2) in a list of length phi.\n",
    "    Return true if all the elements in the list are similar (same) comapred to the last element.\n",
    "    \"\"\"\n",
    "    value1, value2 = List[-1]\n",
    "    for point in List:\n",
    "        last_value1, last_value2 = point\n",
    "        difference1 = abs(last_value1 - value1)\n",
    "        difference2 = abs(last_value2 - value2)\n",
    "        if difference1 <= error and difference2 <= error:\n",
    "            continue\n",
    "        else:\n",
    "            return False   # is not similar\n",
    "    return True  # is similar\n",
    "    \n",
    "def stop_criteria(population, last_means, last_best_values, no_of_gens,lim_O = 5, lim_F = 5, max_gen=30,error = 0):\n",
    "    \"\"\"\n",
    "    Returns True if met.\n",
    "    \"\"\"\n",
    "    # for means\n",
    "    means_sim = last_similarity(last_means)\n",
    "    # for best values\n",
    "    best_sim = last_similarity(last_best_values)\n",
    "    # standard values\n",
    "    sigma_OO, sigma_FF, sigma_OF = covariance_matrix(population)\n",
    "    print(\"standard dev\", sigma_OO, sigma_FF, sigma_OF)\n",
    "    \n",
    "    if means_sim == True or best_sim == True:\n",
    "        print(\"similarity\")\n",
    "        return True\n",
    "    if no_of_gens >= max_gen:\n",
    "        return True, None, None\n",
    "    if sigma_OO <= lim_O and sigma_FF <= lim_F:\n",
    "        return True\n",
    "    else:\n",
    "        return False  # need these values for the next iteration"
   ]
  },
  {
   "cell_type": "code",
   "execution_count": 14,
   "metadata": {},
   "outputs": [],
   "source": [
    "def show_pop(population):\n",
    "    xs = [x[0] for x in population]\n",
    "    ys = [x[1] for x in population]\n",
    "    plt.plot(xs, ys, '.k')\n",
    "    plt.show()"
   ]
  },
  {
   "cell_type": "code",
   "execution_count": 15,
   "metadata": {},
   "outputs": [],
   "source": [
    "def initialise_pop(elementsO, elementsT, TOF=60, N=1000):\n",
    "    \"\"\"\n",
    "    Initialises the population of specific size\n",
    "    Returns the population along with the orbits.\n",
    "    \"\"\"\n",
    "    D, rO_perigee = evaluate_D(elementsO, TOF)\n",
    "    # get an evenly spaced grid between two lines Rho in the range [0,9000]\n",
    "    original_population = grid_between_lines(D, N)  # initial population\n",
    "    orbits = []\n",
    "    population = []\n",
    "    c =0\n",
    "    for point in original_population:\n",
    "        try:\n",
    "            population, orbits = Lambert_problem(population, orbits, elementsO, elementsT, point, rO_perigee, TOF)\n",
    "        except ValueError:\n",
    "            continue\n",
    "    \n",
    "    n = len(population)\n",
    "    \n",
    "    if n > N:\n",
    "        # remove the number of extra points randomly\n",
    "        no_of_extra_points = n - N\n",
    "        for i in range(no_of_extra_points):\n",
    "            index = random.randint(0, len(population))\n",
    "            popped = population.pop(index)  # have to remove the points\n",
    "            orbits.pop(index)  # remove the corresponding orbit\n",
    "\n",
    "    if n < N:\n",
    "        # gain extra points via mutation\n",
    "        no_of_extra_points = N - n\n",
    "        population, orbits = mutation(population, orbits, elementsO, elementsT, rO_perigee, TOF, no_of_extra_points)  # for new points I have to solve for the orbit again\n",
    "        \n",
    "        \n",
    "    return population, orbits"
   ]
  },
  {
   "cell_type": "code",
   "execution_count": 16,
   "metadata": {},
   "outputs": [],
   "source": [
    "def get_elite(values, population, orbits, n=100):\n",
    "    sorted_values = values\n",
    "    sorted_values.sort(reverse=True)\n",
    "    pop_elite = []\n",
    "    orbits_elite = []\n",
    "    \n",
    "    for value in sorted_values[:n]:  # first n values\n",
    "        index = values.index(value)\n",
    "        pop_elite.append(population[index])\n",
    "        orbits_elite.append(orbits[index])\n",
    "        \n",
    "    return pop_elite, orbits_elite\n",
    "\n",
    "def get_best(fit_values, population):\n",
    "    max_fit = max(fit_values)\n",
    "    index = fit_values.index(max_fit)\n",
    "    return population[index]"
   ]
  },
  {
   "cell_type": "code",
   "execution_count": 49,
   "metadata": {},
   "outputs": [
    {
     "data": {
      "image/png": "[encoded data removed]",
      "text/plain": [
       "<Figure size 640x480 with 1 Axes>"
      ]
     },
     "metadata": {},
     "output_type": "display_data"
    }
   ],
   "source": [
    "elements_deb = [7100,0.0043,np.radians(98.289),np.radians(49.866),np.radians(356.768),0]\n",
    "elements_sat = [7133.8,0.0043,np.radians(98.289),np.radians(49.866),np.radians(356.768),0]\n",
    "\n",
    "# initialise\n",
    "pop, orbits = initialise_pop(elements_sat, elements_deb, N=1000)\n",
    "show_pop(pop)"
   ]
  },
  {
   "cell_type": "code",
   "execution_count": 50,
   "metadata": {},
   "outputs": [],
   "source": [
    "fit_values = objective_func(elements_sat, elements_deb, orbits, pop)"
   ]
  },
  {
   "cell_type": "code",
   "execution_count": 52,
   "metadata": {},
   "outputs": [
    {
     "name": "stdout",
     "output_type": "stream",
     "text": [
      "1000\n"
     ]
    }
   ],
   "source": [
    "best_point = get_best(fit_values, pop)\n",
    "no_of_gens = 0\n",
    "phi = 3\n",
    "\n",
    "last_means = [(0,0) for x in range(phi)]\n",
    "last_means.pop(0)\n",
    "last_means.append(mean(pop))\n",
    "\n",
    "last_best_values = [(0,0) for x in range(phi)]\n",
    "last_best_values.pop(0)\n",
    "last_best_values.append(best_point)\n",
    "\n",
    "D, rO_perigee = evaluate_D(elements_sat, 60)  # maybe there is a better way to define this\n",
    "print(len(orbits))"
   ]
  },
  {
   "cell_type": "code",
   "execution_count": 53,
   "metadata": {},
   "outputs": [
    {
     "name": "stdout",
     "output_type": "stream",
     "text": [
      "standard dev 2644.910564996432 2644.623186826587 2641.4678241312467\n",
      "population [[0.0, 0.0], [0.0, 136.36363636363637], [0.0, 272.72727272727275], [0.0, 272.72727272727275], [136.36363636363637, 136.36363636363637], [136.36363636363637, 136.36363636363637], [136.36363636363637, 409.0909090909091], [272.72727272727275, 0.0], [272.72727272727275, 0.0], [272.72727272727275, 0.0], [272.72727272727275, 0.0], [272.72727272727275, 0.0], [272.72727272727275, 0.0], [409.0909090909091, 272.72727272727275], [409.0909090909091, 409.0909090909091], [409.0909090909091, 545.4545454545455], [409.0909090909091, 681.8181818181819], [545.4545454545455, 272.72727272727275], [545.4545454545455, 409.0909090909091], [545.4545454545455, 545.4545454545455], [545.4545454545455, 681.8181818181819], [545.4545454545455, 681.8181818181819], [681.8181818181819, 409.0909090909091], [681.8181818181819, 545.4545454545455], [681.8181818181819, 681.8181818181819], [681.8181818181819, 818.1818181818182], [681.8181818181819, 954.5454545454546], [818.1818181818182, 545.4545454545455], [818.1818181818182, 681.8181818181819], [818.1818181818182, 681.8181818181819], [818.1818181818182, 954.5454545454546], [818.1818181818182, 1090.909090909091], [954.5454545454546, 681.8181818181819], [954.5454545454546, 681.8181818181819], [954.5454545454546, 954.5454545454546], [954.5454545454546, 1090.909090909091], [954.5454545454546, 1227.2727272727275], [1090.909090909091, 818.1818181818182], [1090.909090909091, 954.5454545454546], [1090.909090909091, 954.5454545454546], [1090.909090909091, 1227.2727272727275], [1090.909090909091, 1227.2727272727275], [1227.2727272727275, 954.5454545454546], [1227.2727272727275, 1090.909090909091], [1227.2727272727275, 1227.2727272727275], [1227.2727272727275, 1363.6363636363637], [1227.2727272727275, 1500.0], [1363.6363636363637, 1090.909090909091], [1363.6363636363637, 1227.2727272727275], [1363.6363636363637, 1363.6363636363637], [1363.6363636363637, 1363.6363636363637], [1363.6363636363637, 1636.3636363636365], [1500.0, 1227.2727272727275], [1500.0, 1363.6363636363637], [1500.0, 1500.0], [1500.0, 1636.3636363636365], [1500.0, 1772.727272727273], [1636.3636363636365, 1363.6363636363637], [1636.3636363636365, 1500.0], [1636.3636363636365, 1636.3636363636365], [1636.3636363636365, 1772.727272727273], [1636.3636363636365, 1909.0909090909092], [1772.727272727273, 1500.0], [1772.727272727273, 1636.3636363636365], [1772.727272727273, 1772.727272727273], [1772.727272727273, 1909.0909090909092], [1772.727272727273, 2045.4545454545455], [1909.0909090909092, 1636.3636363636365], [1909.0909090909092, 1772.727272727273], [1909.0909090909092, 1909.0909090909092], [1909.0909090909092, 1909.0909090909092], [1909.0909090909092, 2181.818181818182], [2045.4545454545455, 1772.727272727273], [2045.4545454545455, 1909.0909090909092], [2045.4545454545455, 2045.4545454545455], [2045.4545454545455, 2045.4545454545455], [2045.4545454545455, 2318.1818181818185], [2181.818181818182, 1909.0909090909092], [2181.818181818182, 2045.4545454545455], [2181.818181818182, 2181.818181818182], [2181.818181818182, 2318.1818181818185], [2181.818181818182, 2454.545454545455], [2318.1818181818185, 2045.4545454545455], [2318.1818181818185, 2045.4545454545455], [2318.1818181818185, 2318.1818181818185], [2318.1818181818185, 2454.545454545455], [2318.1818181818185, 2590.909090909091], [2454.545454545455, 2181.818181818182], [2454.545454545455, 2318.1818181818185], [2454.545454545455, 2454.545454545455], [2454.545454545455, 2454.545454545455], [2454.545454545455, 2454.545454545455], [2590.909090909091, 2318.1818181818185], [2590.909090909091, 2454.545454545455], [2590.909090909091, 2590.909090909091], [2590.909090909091, 2727.2727272727275], [2590.909090909091, 2863.636363636364], [2590.909090909091, 2863.636363636364], [2590.909090909091, 2863.636363636364], [2727.2727272727275, 2727.2727272727275]]\n",
      "final 1000 1000\n"
     ]
    },
    {
     "ename": "KeyboardInterrupt",
     "evalue": "",
     "output_type": "error",
     "traceback": [
      "\u001b[1;31m---------------------------------------------------------------------------\u001b[0m",
      "\u001b[1;31mKeyboardInterrupt\u001b[0m                         Traceback (most recent call last)",
      "Cell \u001b[1;32mIn[53], line 19\u001b[0m\n\u001b[0;32m     16\u001b[0m \u001b[39mprint\u001b[39m(\u001b[39m\"\u001b[39m\u001b[39mfinal\u001b[39m\u001b[39m\"\u001b[39m, \u001b[39mlen\u001b[39m(pop), \u001b[39mlen\u001b[39m(orbits))\n\u001b[0;32m     18\u001b[0m \u001b[39m# get new fit_values\u001b[39;00m\n\u001b[1;32m---> 19\u001b[0m fit_values \u001b[39m=\u001b[39m objective_func(elements_sat, elements_deb, orbits, pop)\n\u001b[0;32m     21\u001b[0m \u001b[39m# update last_means, last_best_values, no_of_gens\u001b[39;00m\n\u001b[0;32m     22\u001b[0m last_means\u001b[39m.\u001b[39mpop(\u001b[39m0\u001b[39m)\n",
      "Cell \u001b[1;32mIn[10], line 20\u001b[0m, in \u001b[0;36mobjective_func\u001b[1;34m(elementsO, elementsT, estimated_orbits, population)\u001b[0m\n\u001b[0;32m     18\u001b[0m fit_values \u001b[39m=\u001b[39m []\n\u001b[0;32m     19\u001b[0m \u001b[39mfor\u001b[39;00m orbit \u001b[39min\u001b[39;00m estimated_orbits:\n\u001b[1;32m---> 20\u001b[0m     fit_value \u001b[39m=\u001b[39m fitness(elementsO, elementsT, orbit)\n\u001b[0;32m     21\u001b[0m     fit_values\u001b[39m.\u001b[39mappend(fit_value)\n\u001b[0;32m     22\u001b[0m \u001b[39mreturn\u001b[39;00m fit_values\n",
      "Cell \u001b[1;32mIn[10], line 8\u001b[0m, in \u001b[0;36mfitness\u001b[1;34m(elementsO, elementsT, estimated_orbit, no_of_measurments)\u001b[0m\n\u001b[0;32m      6\u001b[0m \u001b[39mfor\u001b[39;00m t \u001b[39min\u001b[39;00m \u001b[39mrange\u001b[39m(no_of_measurments):\n\u001b[0;32m      7\u001b[0m     L_ideal \u001b[39m=\u001b[39m L_between_orbits(elementsO, elementsT, t)  \n\u001b[1;32m----> 8\u001b[0m     L_ast \u001b[39m=\u001b[39m L_between_orbits(elementsO, estimated_orbit, t)\n\u001b[0;32m      9\u001b[0m     fit \u001b[39m=\u001b[39m fit \u001b[39m*\u001b[39m np\u001b[39m.\u001b[39mdot(L_ideal, L_ast)\n\u001b[0;32m     10\u001b[0m \u001b[39mreturn\u001b[39;00m fit\n",
      "Cell \u001b[1;32mIn[4], line 22\u001b[0m, in \u001b[0;36mL_between_orbits\u001b[1;34m(elementsO, elementsT, t)\u001b[0m\n\u001b[0;32m     20\u001b[0m rT \u001b[39m=\u001b[39m np\u001b[39m.\u001b[39marray(rT)\n\u001b[0;32m     21\u001b[0m rel \u001b[39m=\u001b[39m rO \u001b[39m-\u001b[39m rT\n\u001b[1;32m---> 22\u001b[0m \u001b[39mreturn\u001b[39;00m rel\u001b[39m/\u001b[39mnp\u001b[39m.\u001b[39;49mlinalg\u001b[39m.\u001b[39;49mnorm(rel)\n",
      "File \u001b[1;32m<__array_function__ internals>:200\u001b[0m, in \u001b[0;36mnorm\u001b[1;34m(*args, **kwargs)\u001b[0m\n",
      "File \u001b[1;32md:\\Anaconda\\envs\\snakes\\lib\\site-packages\\numpy\\linalg\\linalg.py:2511\u001b[0m, in \u001b[0;36mnorm\u001b[1;34m(x, ord, axis, keepdims)\u001b[0m\n\u001b[0;32m   2509\u001b[0m     sqnorm \u001b[39m=\u001b[39m x_real\u001b[39m.\u001b[39mdot(x_real) \u001b[39m+\u001b[39m x_imag\u001b[39m.\u001b[39mdot(x_imag)\n\u001b[0;32m   2510\u001b[0m \u001b[39melse\u001b[39;00m:\n\u001b[1;32m-> 2511\u001b[0m     sqnorm \u001b[39m=\u001b[39m x\u001b[39m.\u001b[39;49mdot(x)\n\u001b[0;32m   2512\u001b[0m ret \u001b[39m=\u001b[39m sqrt(sqnorm)\n\u001b[0;32m   2513\u001b[0m \u001b[39mif\u001b[39;00m keepdims:\n",
      "\u001b[1;31mKeyboardInterrupt\u001b[0m: "
     ]
    }
   ],
   "source": [
    "while stop_criteria(pop, last_means, last_best_values, no_of_gens) is False:\n",
    "    \n",
    "    pop_elite, orbits_elite = get_elite(fit_values, pop, orbits)\n",
    "    print(\"population\", pop_elite)\n",
    "    # create new population and corresponding orbits\n",
    "    created_pop, created_orbits = initialise_pop(elements_sat, elements_deb, N=50)  # create 5% of desired population size\n",
    "\n",
    "    #mutate\n",
    "    pop_mutated, orbits_mutated = mutation(pop_elite, orbits_elite, elements_sat, elements_deb, rO_perigee, 60, 800)  # 800 corresponds to 80% of desired population \n",
    "\n",
    "    # crossover\n",
    "    pop_crossed, orbits_crossed = crossover(pop_mutated, orbits_mutated, elements_sat, elements_deb, rO_perigee, 60, 50, D)  # crossover 5% of desired population size\n",
    "\n",
    "    pop = pop_crossed + created_pop\n",
    "    orbits = orbits_crossed + created_orbits\n",
    "    print(\"final\", len(pop), len(orbits))\n",
    "\n",
    "    # get new fit_values\n",
    "    fit_values = objective_func(elements_sat, elements_deb, orbits, pop)\n",
    "    \n",
    "    # update last_means, last_best_values, no_of_gens\n",
    "    last_means.pop(0)\n",
    "    last_means.append(mean(pop))\n",
    "    print(\"last means\", last_means)\n",
    "    best_point = get_best(fit_values, pop)\n",
    "    print(\"the best\", best_point)\n",
    "    last_best_values.pop(0)\n",
    "    last_best_values.append(best_point)\n",
    "    print(\"last bests\", last_best_values)\n",
    "    no_of_gens += 1\n",
    "else:\n",
    "    print(\"donzo\")"
   ]
  },
  {
   "cell_type": "code",
   "execution_count": 44,
   "metadata": {},
   "outputs": [
    {
     "name": "stdout",
     "output_type": "stream",
     "text": [
      "[[0.0, 302.72727272727275], [0.0, 302.72727272727275], [0.0, 302.72727272727275], [0.0, 302.72727272727275], [0.0, 302.72727272727275], [0.0, 302.72727272727275], [0.0, 302.72727272727275], [0.0, 302.72727272727275], [0.0, 302.72727272727275], [0.0, 302.72727272727275], [136.36363636363637, 292.72727272727275], [136.36363636363637, 292.72727272727275], [136.36363636363637, 292.72727272727275], [136.36363636363637, 292.72727272727275], [136.36363636363637, 292.72727272727275], [272.72727272727275, 272.72727272727275], [272.72727272727275, 272.72727272727275], [272.72727272727275, 272.72727272727275], [409.0909090909091, 382.72727272727275], [409.0909090909091, 432.72727272727275], [409.0909090909091, 432.72727272727275], [409.0909090909091, 432.72727272727275], [409.0909090909091, 432.72727272727275], [409.0909090909091, 432.72727272727275], [409.0909090909091, 432.72727272727275], [409.0909090909091, 432.72727272727275], [545.4545454545455, 332.72727272727275], [545.4545454545455, 332.72727272727275], [545.4545454545455, 332.72727272727275], [545.4545454545455, 332.72727272727275], [545.4545454545455, 332.72727272727275], [545.4545454545455, 332.72727272727275], [818.1818181818182, 302.72727272727275], [818.1818181818182, 302.72727272727275], [818.1818181818182, 302.72727272727275], [818.1818181818182, 302.72727272727275], [818.1818181818182, 302.72727272727275], [818.1818181818182, 302.72727272727275], [818.1818181818182, 302.72727272727275], [818.1818181818182, 302.72727272727275], [818.1818181818182, 302.72727272727275], [818.1818181818182, 302.72727272727275], [818.1818181818182, 302.72727272727275], [818.1818181818182, 302.72727272727275], [818.1818181818182, 302.72727272727275], [818.1818181818182, 302.72727272727275], [818.1818181818182, 302.72727272727275], [818.1818181818182, 302.72727272727275], [818.1818181818182, 302.72727272727275], [818.1818181818182, 302.72727272727275], [818.1818181818182, 302.72727272727275], [818.1818181818182, 302.72727272727275], [818.1818181818182, 302.72727272727275], [818.1818181818182, 302.72727272727275], [818.1818181818182, 302.72727272727275], [818.1818181818182, 302.72727272727275], [818.1818181818182, 302.72727272727275], [818.1818181818182, 302.72727272727275], [818.1818181818182, 302.72727272727275], [818.1818181818182, 302.72727272727275], [818.1818181818182, 302.72727272727275], [818.1818181818182, 302.72727272727275], [818.1818181818182, 302.72727272727275], [818.1818181818182, 302.72727272727275], [818.1818181818182, 302.72727272727275], [818.1818181818182, 302.72727272727275], [818.1818181818182, 302.72727272727275], [818.1818181818182, 302.72727272727275], [818.1818181818182, 302.72727272727275], [818.1818181818182, 302.72727272727275], [818.1818181818182, 302.72727272727275], [818.1818181818182, 302.72727272727275], [818.1818181818182, 302.72727272727275], [818.1818181818182, 302.72727272727275], [818.1818181818182, 302.72727272727275], [818.1818181818182, 302.72727272727275], [818.1818181818182, 302.72727272727275], [818.1818181818182, 302.72727272727275], [818.1818181818182, 302.72727272727275], [818.1818181818182, 302.72727272727275], [818.1818181818182, 302.72727272727275], [818.1818181818182, 302.72727272727275], [818.1818181818182, 302.72727272727275], [818.1818181818182, 302.72727272727275], [818.1818181818182, 302.72727272727275], [818.1818181818182, 302.72727272727275], [818.1818181818182, 302.72727272727275], [818.1818181818182, 302.72727272727275], [818.1818181818182, 302.72727272727275], [818.1818181818182, 302.72727272727275], [818.1818181818182, 302.72727272727275], [818.1818181818182, 302.72727272727275], [818.1818181818182, 302.72727272727275], [818.1818181818182, 302.72727272727275], [818.1818181818182, 302.72727272727275], [818.1818181818182, 302.72727272727275], [818.1818181818182, 302.72727272727275], [818.1818181818182, 302.72727272727275], [818.1818181818182, 302.72727272727275], [818.1818181818182, 302.72727272727275], [10.0, 332.72727272727275], [10.0, 332.72727272727275], [282.72727272727275, 282.72727272727275], [10.0, 332.72727272727275], [146.36363636363637, 302.72727272727275], [419.0909090909091, 372.72727272727275], [419.0909090909091, 372.72727272727275], [419.0909090909091, 372.72727272727275], [10.0, 332.72727272727275], [10.0, 332.72727272727275], [282.72727272727275, 282.72727272727275], [292.72727272727275, 292.72727272727275], [429.0909090909091, 382.72727272727275], [10.0, 332.72727272727275], [146.36363636363637, 302.72727272727275], [282.72727272727275, 282.72727272727275], [146.36363636363637, 302.72727272727275], [419.0909090909091, 372.72727272727275], [282.72727272727275, 282.72727272727275], [429.0909090909091, 352.72727272727275], [146.36363636363637, 302.72727272727275], [10.0, 332.72727272727275], [10.0, 332.72727272727275], [20.0, 342.72727272727275], [439.0909090909091, 392.72727272727275], [10.0, 332.72727272727275], [156.36363636363637, 312.72727272727275], [419.0909090909091, 362.72727272727275], [156.36363636363637, 312.72727272727275], [429.0909090909091, 382.72727272727275], [10.0, 332.72727272727275], [10.0, 332.72727272727275], [419.0909090909091, 372.72727272727275], [429.0909090909091, 382.72727272727275], [282.72727272727275, 282.72727272727275], [146.36363636363637, 302.72727272727275], [10.0, 332.72727272727275], [156.36363636363637, 312.72727272727275], [20.0, 342.72727272727275], [419.0909090909091, 372.72727272727275], [156.36363636363637, 312.72727272727275], [429.0909090909091, 382.72727272727275], [156.36363636363637, 312.72727272727275], [419.0909090909091, 372.72727272727275], [292.72727272727275, 292.72727272727275], [20.0, 342.72727272727275], [20.0, 342.72727272727275], [292.72727272727275, 292.72727272727275], [439.0909090909091, 392.72727272727275], [30.0, 352.72727272727275], [10.0, 332.72727272727275], [429.0909090909091, 382.72727272727275], [429.0909090909091, 382.72727272727275], [419.0909090909091, 372.72727272727275], [429.0909090909091, 382.72727272727275], [555.4545454545455, 352.72727272727275], [555.4545454545455, 352.72727272727275], [292.72727272727275, 292.72727272727275], [10.0, 332.72727272727275], [282.72727272727275, 282.72727272727275], [292.72727272727275, 292.72727272727275], [419.0909090909091, 372.72727272727275], [429.0909090909091, 382.72727272727275], [429.0909090909091, 382.72727272727275], [429.0909090909091, 382.72727272727275], [439.0909090909091, 392.72727272727275], [419.0909090909091, 372.72727272727275], [146.36363636363637, 302.72727272727275], [20.0, 342.72727272727275], [292.72727272727275, 292.72727272727275], [439.0909090909091, 392.72727272727275], [555.4545454545455, 352.72727272727275], [30.0, 352.72727272727275], [449.0909090909091, 402.72727272727275], [439.0909090909091, 392.72727272727275], [292.72727272727275, 292.72727272727275], [20.0, 342.72727272727275], [30.0, 352.72727272727275], [20.0, 342.72727272727275], [302.72727272727275, 302.72727272727275], [439.0909090909091, 392.72727272727275], [439.0909090909091, 392.72727272727275], [439.0909090909091, 392.72727272727275], [10.0, 332.72727272727275], [10.0, 332.72727272727275], [166.36363636363637, 322.72727272727275], [30.0, 352.72727272727275], [30.0, 352.72727272727275], [282.72727272727275, 282.72727272727275], [30.0, 352.72727272727275], [429.0909090909091, 382.72727272727275], [302.72727272727275, 302.72727272727275], [429.0909090909091, 382.72727272727275], [429.0909090909091, 382.72727272727275], [40.0, 362.72727272727275], [156.36363636363637, 312.72727272727275], [20.0, 342.72727272727275], [429.0909090909091, 382.72727272727275], [312.72727272727275, 392.72727272727275], [302.72727272727275, 302.72727272727275], [20.0, 342.72727272727275], [292.72727272727275, 292.72727272727275], [439.0909090909091, 392.72727272727275], [20.0, 342.72727272727275], [292.72727272727275, 292.72727272727275], [302.72727272727275, 302.72727272727275], [555.4545454545455, 352.72727272727275], [156.36363636363637, 312.72727272727275], [156.36363636363637, 312.72727272727275], [439.0909090909091, 392.72727272727275], [20.0, 342.72727272727275], [20.0, 342.72727272727275], [20.0, 342.72727272727275], [302.72727272727275, 302.72727272727275], [50.0, 372.72727272727275], [565.4545454545455, 362.72727272727275], [282.72727272727275, 282.72727272727275], [156.36363636363637, 312.72727272727275], [302.72727272727275, 302.72727272727275], [156.36363636363637, 312.72727272727275], [146.36363636363637, 302.72727272727275], [419.0909090909091, 372.72727272727275], [555.4545454545455, 352.72727272727275], [449.0909090909091, 402.72727272727275], [166.36363636363637, 322.72727272727275], [439.0909090909091, 392.72727272727275], [555.4545454545455, 352.72727272727275], [449.0909090909091, 402.72727272727275], [40.0, 292.72727272727275], [20.0, 342.72727272727275], [292.72727272727275, 292.72727272727275], [429.0909090909091, 382.72727272727275], [166.36363636363637, 322.72727272727275], [20.0, 342.72727272727275], [565.4545454545455, 362.72727272727275], [20.0, 342.72727272727275], [312.72727272727275, 312.72727272727275], [449.0909090909091, 402.72727272727275], [312.72727272727275, 342.72727272727275], [449.0909090909091, 402.72727272727275], [30.0, 352.72727272727275], [322.72727272727275, 392.72727272727275], [146.36363636363637, 302.72727272727275], [565.4545454545455, 362.72727272727275], [449.0909090909091, 402.72727272727275], [429.0909090909091, 382.72727272727275], [302.72727272727275, 302.72727272727275], [429.0909090909091, 382.72727272727275], [156.36363636363637, 312.72727272727275], [30.0, 352.72727272727275], [312.72727272727275, 312.72727272727275], [176.36363636363637, 332.72727272727275], [292.72727272727275, 292.72727272727275], [449.0909090909091, 402.72727272727275], [292.72727272727275, 292.72727272727275], [292.72727272727275, 292.72727272727275], [50.0, 372.72727272727275], [166.36363636363637, 322.72727272727275], [302.72727272727275, 302.72727272727275], [419.0909090909091, 372.72727272727275], [20.0, 342.72727272727275], [429.0909090909091, 382.72727272727275], [156.36363636363637, 312.72727272727275], [156.36363636363637, 312.72727272727275], [30.0, 352.72727272727275], [449.0909090909091, 402.72727272727275], [156.36363636363637, 312.72727272727275], [40.0, 362.72727272727275], [10.0, 332.72727272727275], [565.4545454545455, 402.72727272727275], [555.4545454545455, 352.72727272727275], [449.0909090909091, 402.72727272727275], [50.0, 372.72727272727275], [40.0, 362.72727272727275], [20.0, 342.72727272727275], [146.36363636363637, 302.72727272727275], [30.0, 352.72727272727275], [10.0, 332.72727272727275], [20.0, 342.72727272727275], [40.0, 362.72727272727275], [40.0, 362.72727272727275], [439.0909090909091, 392.72727272727275], [30.0, 352.72727272727275], [449.0909090909091, 402.72727272727275], [50.0, 372.72727272727275], [60.0, 382.72727272727275], [449.0909090909091, 402.72727272727275], [439.0909090909091, 392.72727272727275], [439.0909090909091, 392.72727272727275], [439.0909090909091, 392.72727272727275], [30.0, 302.72727272727275], [449.0909090909091, 402.72727272727275], [30.0, 352.72727272727275], [439.0909090909091, 392.72727272727275], [302.72727272727275, 302.72727272727275], [575.4545454545455, 372.72727272727275], [439.0909090909091, 392.72727272727275], [459.0909090909091, 412.72727272727275], [429.0909090909091, 382.72727272727275], [20.0, 342.72727272727275], [60.0, 382.72727272727275], [10.0, 332.72727272727275], [20.0, 342.72727272727275], [449.0909090909091, 402.72727272727275], [555.4545454545455, 352.72727272727275], [469.0909090909091, 422.72727272727275], [60.0, 382.72727272727275], [20.0, 342.72727272727275], [30.0, 352.72727272727275], [459.0909090909091, 412.72727272727275], [449.0909090909091, 402.72727272727275], [575.4545454545455, 302.72727272727275], [565.4545454545455, 362.72727272727275], [20.0, 342.72727272727275], [312.72727272727275, 312.72727272727275], [166.36363636363637, 322.72727272727275], [10.0, 332.72727272727275], [312.72727272727275, 312.72727272727275], [146.36363636363637, 302.72727272727275], [166.36363636363637, 322.72727272727275], [166.36363636363637, 322.72727272727275], [322.72727272727275, 322.72727272727275], [60.0, 382.72727272727275], [40.0, 362.72727272727275], [292.72727272727275, 292.72727272727275], [40.0, 362.72727272727275], [565.4545454545455, 362.72727272727275], [146.36363636363637, 302.72727272727275], [429.0909090909091, 382.72727272727275], [40.0, 362.72727272727275], [176.36363636363637, 332.72727272727275], [146.36363636363637, 302.72727272727275], [439.0909090909091, 392.72727272727275], [166.36363636363637, 322.72727272727275], [166.36363636363637, 322.72727272727275], [459.0909090909091, 412.72727272727275], [166.36363636363637, 322.72727272727275], [20.0, 342.72727272727275], [30.0, 352.72727272727275], [186.36363636363637, 342.72727272727275], [449.0909090909091, 402.72727272727275], [176.36363636363637, 332.72727272727275], [176.36363636363637, 332.72727272727275], [332.72727272727275, 332.72727272727275], [302.72727272727275, 302.72727272727275], [449.0909090909091, 402.72727272727275], [322.72727272727275, 322.72727272727275], [555.4545454545455, 352.72727272727275], [459.0909090909091, 412.72727272727275], [302.72727272727275, 302.72727272727275], [30.0, 352.72727272727275], [176.36363636363637, 332.72727272727275], [419.0909090909091, 372.72727272727275], [30.0, 352.72727272727275], [439.0909090909091, 392.72727272727275], [40.0, 362.72727272727275], [449.0909090909091, 402.72727272727275], [20.0, 342.72727272727275], [30.0, 352.72727272727275], [10.0, 332.72727272727275], [30.0, 352.72727272727275], [40.0, 362.72727272727275], [312.72727272727275, 312.72727272727275], [312.72727272727275, 312.72727272727275], [565.4545454545455, 362.72727272727275], [186.36363636363637, 342.72727272727275], [342.72727272727275, 342.72727272727275], [449.0909090909091, 402.72727272727275], [292.72727272727275, 292.72727272727275], [166.36363636363637, 322.72727272727275], [166.36363636363637, 322.72727272727275], [322.72727272727275, 322.72727272727275], [20.0, 342.72727272727275], [439.0909090909091, 392.72727272727275], [176.36363636363637, 332.72727272727275], [40.0, 362.72727272727275], [60.0, 382.72727272727275], [70.0, 392.72727272727275], [10.0, 332.72727272727275], [40.0, 362.72727272727275], [459.0909090909091, 412.72727272727275], [302.72727272727275, 302.72727272727275], [40.0, 362.72727272727275], [439.0909090909091, 392.72727272727275], [156.36363636363637, 312.72727272727275], [50.0, 372.72727272727275], [292.72727272727275, 292.72727272727275], [20.0, 322.72727272727275], [30.0, 352.72727272727275], [565.4545454545455, 362.72727272727275], [459.0909090909091, 412.72727272727275], [20.0, 342.72727272727275], [459.0909090909091, 412.72727272727275], [40.0, 362.72727272727275], [30.0, 352.72727272727275], [40.0, 362.72727272727275], [575.4545454545455, 372.72727272727275], [439.0909090909091, 392.72727272727275], [176.36363636363637, 332.72727272727275], [439.0909090909091, 392.72727272727275], [40.0, 362.72727272727275], [20.0, 342.72727272727275], [30.0, 352.72727272727275], [166.36363636363637, 322.72727272727275], [40.0, 362.72727272727275], [70.0, 392.72727272727275], [30.0, 352.72727272727275], [292.72727272727275, 292.72727272727275], [176.36363636363637, 332.72727272727275], [429.0909090909091, 382.72727272727275], [322.72727272727275, 322.72727272727275], [166.36363636363637, 322.72727272727275], [30.0, 352.72727272727275], [156.36363636363637, 312.72727272727275], [40.0, 362.72727272727275], [282.72727272727275, 282.72727272727275], [40.0, 362.72727272727275], [332.72727272727275, 332.72727272727275], [146.36363636363637, 302.72727272727275], [565.4545454545455, 362.72727272727275], [60.0, 382.72727272727275], [459.0909090909091, 412.72727272727275], [20.0, 342.72727272727275], [176.36363636363637, 332.72727272727275], [342.72727272727275, 342.72727272727275], [449.0909090909091, 402.72727272727275], [156.36363636363637, 312.72727272727275], [186.36363636363637, 362.72727272727275], [332.72727272727275, 332.72727272727275], [449.0909090909091, 402.72727272727275], [449.0909090909091, 402.72727272727275], [302.72727272727275, 302.72727272727275], [479.0909090909091, 412.72727272727275], [449.0909090909091, 402.72727272727275], [429.0909090909091, 382.72727272727275], [419.0909090909091, 372.72727272727275], [50.0, 372.72727272727275], [312.72727272727275, 312.72727272727275], [20.0, 342.72727272727275], [166.36363636363637, 322.72727272727275], [30.0, 352.72727272727275], [40.0, 362.72727272727275], [312.72727272727275, 312.72727272727275], [176.36363636363637, 332.72727272727275], [449.0909090909091, 402.72727272727275], [459.0909090909091, 342.72727272727275], [565.4545454545455, 362.72727272727275], [429.0909090909091, 342.72727272727275], [459.0909090909091, 412.72727272727275], [40.0, 362.72727272727275], [20.0, 342.72727272727275], [459.0909090909091, 412.72727272727275], [40.0, 362.72727272727275], [565.4545454545455, 362.72727272727275], [20.0, 342.72727272727275], [30.0, 352.72727272727275], [186.36363636363637, 342.72727272727275], [342.72727272727275, 342.72727272727275], [282.72727272727275, 282.72727272727275], [459.0909090909091, 412.72727272727275], [322.72727272727275, 322.72727272727275], [469.0909090909091, 422.72727272727275], [565.4545454545455, 372.72727272727275], [146.36363636363637, 432.72727272727275], [10.0, 332.72727272727275], [449.0909090909091, 402.72727272727275], [575.4545454545455, 372.72727272727275], [429.0909090909091, 382.72727272727275], [459.0909090909091, 382.72727272727275], [50.0, 372.72727272727275], [50.0, 302.72727272727275], [156.36363636363637, 312.72727272727275], [156.36363636363637, 312.72727272727275], [40.0, 362.72727272727275], [156.36363636363637, 312.72727272727275], [60.0, 382.72727272727275], [166.36363636363637, 322.72727272727275], [50.0, 372.72727272727275], [449.0909090909091, 402.72727272727275], [40.0, 362.72727272727275], [30.0, 352.72727272727275], [20.0, 342.72727272727275], [575.4545454545455, 372.72727272727275], [166.36363636363637, 322.72727272727275], [20.0, 342.72727272727275], [166.36363636363637, 322.72727272727275], [322.72727272727275, 322.72727272727275], [585.4545454545455, 282.72727272727275], [292.72727272727275, 292.72727272727275], [50.0, 372.72727272727275], [575.4545454545455, 372.72727272727275], [555.4545454545455, 352.72727272727275], [30.0, 352.72727272727275], [60.0, 382.72727272727275], [449.0909090909091, 342.72727272727275], [429.0909090909091, 382.72727272727275], [20.0, 342.72727272727275], [332.72727272727275, 332.72727272727275], [322.72727272727275, 322.72727272727275], [565.4545454545455, 362.72727272727275], [429.0909090909091, 302.72727272727275], [459.0909090909091, 412.72727272727275], [429.0909090909091, 382.72727272727275], [595.4545454545455, 392.72727272727275], [30.0, 352.72727272727275], [186.36363636363637, 342.72727272727275], [292.72727272727275, 292.72727272727275], [555.4545454545455, 352.72727272727275], [439.0909090909091, 392.72727272727275], [40.0, 362.72727272727275], [439.0909090909091, 352.72727272727275], [565.4545454545455, 362.72727272727275], [60.0, 382.72727272727275], [449.0909090909091, 402.72727272727275], [30.0, 352.72727272727275], [282.72727272727275, 282.72727272727275], [20.0, 342.72727272727275], [459.0909090909091, 412.72727272727275], [292.72727272727275, 292.72727272727275], [70.0, 392.72727272727275], [459.0909090909091, 412.72727272727275], [50.0, 372.72727272727275], [459.0909090909091, 412.72727272727275], [186.36363636363637, 342.72727272727275], [332.72727272727275, 332.72727272727275], [302.72727272727275, 302.72727272727275], [439.0909090909091, 392.72727272727275], [459.0909090909091, 412.72727272727275], [439.0909090909091, 392.72727272727275], [322.72727272727275, 322.72727272727275], [429.0909090909091, 382.72727272727275], [469.0909090909091, 372.72727272727275], [50.0, 372.72727272727275], [302.72727272727275, 302.72727272727275], [459.0909090909091, 412.72727272727275], [166.36363636363637, 322.72727272727275], [176.36363636363637, 332.72727272727275], [30.0, 352.72727272727275], [449.0909090909091, 402.72727272727275], [166.36363636363637, 322.72727272727275], [449.0909090909091, 402.72727272727275], [166.36363636363637, 322.72727272727275], [176.36363636363637, 302.72727272727275], [342.72727272727275, 342.72727272727275], [70.0, 392.72727272727275], [575.4545454545455, 372.72727272727275], [30.0, 352.72727272727275], [489.0909090909091, 442.72727272727275], [166.36363636363637, 322.72727272727275], [166.36363636363637, 322.72727272727275], [439.0909090909091, 392.72727272727275], [70.0, 392.72727272727275], [575.4545454545455, 372.72727272727275], [292.72727272727275, 292.72727272727275], [146.36363636363637, 302.72727272727275], [20.0, 342.72727272727275], [322.72727272727275, 322.72727272727275], [469.0909090909091, 422.72727272727275], [312.72727272727275, 312.72727272727275], [156.36363636363637, 312.72727272727275], [166.36363636363637, 322.72727272727275], [156.36363636363637, 312.72727272727275], [30.0, 352.72727272727275], [30.0, 352.72727272727275], [332.72727272727275, 332.72727272727275], [50.0, 372.72727272727275], [439.0909090909091, 392.72727272727275], [292.72727272727275, 292.72727272727275], [176.36363636363637, 332.72727272727275], [20.0, 342.72727272727275], [60.0, 382.72727272727275], [439.0909090909091, 392.72727272727275], [176.36363636363637, 332.72727272727275], [342.72727272727275, 342.72727272727275], [196.36363636363637, 352.72727272727275], [30.0, 352.72727272727275], [302.72727272727275, 382.72727272727275], [196.36363636363637, 352.72727272727275], [50.0, 372.72727272727275], [439.0909090909091, 392.72727272727275], [196.36363636363637, 302.72727272727275], [176.36363636363637, 332.72727272727275], [595.4545454545455, 392.72727272727275], [469.0909090909091, 422.72727272727275], [575.4545454545455, 372.72727272727275], [332.72727272727275, 332.72727272727275], [156.36363636363637, 312.72727272727275], [459.0909090909091, 412.72727272727275], [186.36363636363637, 342.72727272727275], [40.0, 362.72727272727275], [469.0909090909091, 422.72727272727275], [449.0909090909091, 402.72727272727275], [30.0, 352.72727272727275], [156.36363636363637, 312.72727272727275], [459.0909090909091, 412.72727272727275], [50.0, 372.72727272727275], [565.4545454545455, 342.72727272727275], [20.0, 342.72727272727275], [186.36363636363637, 342.72727272727275], [60.0, 382.72727272727275], [292.72727272727275, 292.72727272727275], [459.0909090909091, 412.72727272727275], [30.0, 352.72727272727275], [186.36363636363637, 342.72727272727275], [312.72727272727275, 312.72727272727275], [196.36363636363637, 352.72727272727275], [40.0, 362.72727272727275], [302.72727272727275, 302.72727272727275], [439.0909090909091, 392.72727272727275], [10.0, 332.72727272727275], [50.0, 372.72727272727275], [459.0909090909091, 412.72727272727275], [575.4545454545455, 372.72727272727275], [342.72727272727275, 342.72727272727275], [60.0, 382.72727272727275], [449.0909090909091, 402.72727272727275], [50.0, 372.72727272727275], [575.4545454545455, 372.72727272727275], [40.0, 362.72727272727275], [449.0909090909091, 402.72727272727275], [20.0, 312.72727272727275], [50.0, 372.72727272727275], [322.72727272727275, 322.72727272727275], [20.0, 342.72727272727275], [342.72727272727275, 342.72727272727275], [439.0909090909091, 392.72727272727275], [469.0909090909091, 422.72727272727275], [40.0, 362.72727272727275], [479.0909090909091, 432.72727272727275], [459.0909090909091, 412.72727272727275], [312.72727272727275, 312.72727272727275], [176.36363636363637, 332.72727272727275], [585.4545454545455, 382.72727272727275], [469.0909090909091, 422.72727272727275], [575.4545454545455, 372.72727272727275], [196.36363636363637, 352.72727272727275], [439.0909090909091, 392.72727272727275], [479.0909090909091, 432.72727272727275], [40.0, 362.72727272727275], [302.72727272727275, 432.72727272727275], [459.0909090909091, 412.72727272727275], [40.0, 362.72727272727275], [459.0909090909091, 412.72727272727275], [196.36363636363637, 352.72727272727275], [30.0, 352.72727272727275], [459.0909090909091, 412.72727272727275], [419.0909090909091, 372.72727272727275], [459.0909090909091, 412.72727272727275], [50.0, 372.72727272727275], [332.72727272727275, 332.72727272727275], [449.0909090909091, 402.72727272727275], [176.36363636363637, 332.72727272727275], [40.0, 362.72727272727275], [176.36363636363637, 332.72727272727275], [30.0, 352.72727272727275], [20.0, 342.72727272727275], [40.0, 362.72727272727275], [302.72727272727275, 302.72727272727275], [50.0, 372.72727272727275], [176.36363636363637, 332.72727272727275], [469.0909090909091, 422.72727272727275], [20.0, 342.72727272727275], [605.4545454545455, 402.72727272727275], [156.36363636363637, 312.72727272727275], [176.36363636363637, 332.72727272727275], [449.0909090909091, 402.72727272727275], [469.0909090909091, 422.72727272727275], [459.0909090909091, 412.72727272727275], [186.36363636363637, 342.72727272727275], [332.72727272727275, 332.72727272727275], [555.4545454545455, 352.72727272727275], [176.36363636363637, 422.72727272727275], [50.0, 372.72727272727275], [30.0, 352.72727272727275], [20.0, 342.72727272727275], [585.4545454545455, 382.72727272727275], [156.36363636363637, 312.72727272727275], [10.0, 332.72727272727275], [302.72727272727275, 302.72727272727275], [50.0, 372.72727272727275], [50.0, 372.72727272727275], [30.0, 352.72727272727275], [40.0, 362.72727272727275], [176.36363636363637, 332.72727272727275], [469.0909090909091, 422.72727272727275], [439.0909090909091, 392.72727272727275], [312.72727272727275, 312.72727272727275], [449.0909090909091, 402.72727272727275], [156.36363636363637, 312.72727272727275], [469.0909090909091, 422.72727272727275], [449.0909090909091, 402.72727272727275], [439.0909090909091, 392.72727272727275], [312.72727272727275, 312.72727272727275], [302.72727272727275, 302.72727272727275], [30.0, 352.72727272727275], [156.36363636363637, 312.72727272727275], [156.36363636363637, 312.72727272727275], [479.0909090909091, 432.72727272727275], [60.0, 382.72727272727275], [312.72727272727275, 312.72727272727275], [459.0909090909091, 412.72727272727275], [449.0909090909091, 402.72727272727275], [469.0909090909091, 422.72727272727275], [469.0909090909091, 422.72727272727275], [439.0909090909091, 392.72727272727275], [30.0, 352.72727272727275], [469.0909090909091, 422.72727272727275], [40.0, 362.72727272727275], [469.0909090909091, 422.72727272727275], [206.36363636363637, 362.72727272727275], [30.0, 352.72727272727275], [322.72727272727275, 322.72727272727275], [40.0, 342.72727272727275], [575.4545454545455, 372.72727272727275], [176.36363636363637, 332.72727272727275], [60.0, 382.72727272727275], [575.4545454545455, 372.72727272727275], [575.4545454545455, 372.72727272727275], [615.4545454545455, 412.72727272727275], [30.0, 352.72727272727275], [342.72727272727275, 342.72727272727275], [469.0909090909091, 422.72727272727275], [30.0, 352.72727272727275], [40.0, 362.72727272727275], [50.0, 372.72727272727275], [186.36363636363637, 342.72727272727275], [429.0909090909091, 382.72727272727275], [166.36363636363637, 322.72727272727275], [166.36363636363637, 322.72727272727275], [332.72727272727275, 332.72727272727275], [70.0, 392.72727272727275], [70.0, 392.72727272727275], [30.0, 352.72727272727275], [50.0, 372.72727272727275], [10.0, 402.72727272727275], [166.36363636363637, 322.72727272727275], [50.0, 372.72727272727275], [30.0, 352.72727272727275], [302.72727272727275, 302.72727272727275], [585.4545454545455, 382.72727272727275], [352.72727272727275, 352.72727272727275], [439.0909090909091, 392.72727272727275], [50.0, 372.72727272727275], [186.36363636363637, 342.72727272727275], [322.72727272727275, 322.72727272727275], [342.72727272727275, 342.72727272727275], [459.0909090909091, 412.72727272727275], [479.0909090909091, 432.72727272727275], [146.36363636363637, 302.72727272727275], [60.0, 312.72727272727275], [166.36363636363637, 322.72727272727275], [50.0, 372.72727272727275], [30.0, 352.72727272727275], [176.36363636363637, 332.72727272727275], [565.4545454545455, 362.72727272727275], [50.0, 372.72727272727275], [565.4545454545455, 362.72727272727275], [352.72727272727275, 352.72727272727275], [332.72727272727275, 332.72727272727275], [156.36363636363637, 312.72727272727275], [469.0909090909091, 422.72727272727275], [30.0, 352.72727272727275], [166.36363636363637, 322.72727272727275], [206.36363636363637, 402.72727272727275], [50.0, 372.72727272727275], [322.72727272727275, 322.72727272727275], [575.4545454545455, 372.72727272727275], [50.0, 372.72727272727275], [302.72727272727275, 302.72727272727275], [50.0, 372.72727272727275], [60.0, 382.72727272727275], [156.36363636363637, 312.72727272727275], [419.0909090909091, 372.72727272727275], [30.0, 352.72727272727275], [40.0, 362.72727272727275], [50.0, 372.72727272727275], [459.0909090909091, 412.72727272727275], [20.0, 342.72727272727275], [40.0, 362.72727272727275], [469.0909090909091, 312.72727272727275], [575.4545454545455, 372.72727272727275], [20.0, 342.72727272727275], [449.0909090909091, 402.72727272727275], [20.0, 342.72727272727275], [332.72727272727275, 332.72727272727275], [332.72727272727275, 332.72727272727275], [30.0, 352.72727272727275], [469.0909090909091, 422.72727272727275], [20.0, 342.72727272727275], [459.0909090909091, 412.72727272727275], [419.0909090909091, 372.72727272727275], [156.36363636363637, 312.72727272727275], [312.72727272727275, 312.72727272727275], [50.0, 372.72727272727275], [156.36363636363637, 312.72727272727275], [302.72727272727275, 302.72727272727275], [449.0909090909091, 402.72727272727275], [489.0909090909091, 442.72727272727275], [30.0, 352.72727272727275], [342.72727272727275, 342.72727272727275], [176.36363636363637, 332.72727272727275], [216.36363636363637, 372.72727272727275], [312.72727272727275, 312.72727272727275], [312.72727272727275, 312.72727272727275], [156.36363636363637, 312.72727272727275], [40.0, 362.72727272727275], [196.36363636363637, 352.72727272727275], [352.72727272727275, 352.72727272727275], [459.0909090909091, 412.72727272727275], [322.72727272727275, 322.72727272727275], [186.36363636363637, 342.72727272727275], [449.0909090909091, 402.72727272727275], [60.0, 382.72727272727275], [30.0, 352.72727272727275], [459.0909090909091, 412.72727272727275], [10.0, 332.72727272727275], [60.0, 382.72727272727275], [166.36363636363637, 322.72727272727275], [50.0, 332.72727272727275], [352.72727272727275, 352.72727272727275], [10.0, 332.72727272727275], [60.0, 382.72727272727275], [282.72727272727275, 282.72727272727275], [70.0, 392.72727272727275], [196.36363636363637, 352.72727272727275], [80.0, 402.72727272727275], [439.0909090909091, 392.72727272727275], [449.0909090909091, 402.72727272727275], [40.0, 362.72727272727275], [30.0, 352.72727272727275], [469.0909090909091, 422.72727272727275], [156.36363636363637, 312.72727272727275], [342.72727272727275, 342.72727272727275], [449.0909090909091, 402.72727272727275], [50.0, 372.72727272727275], [206.36363636363637, 362.72727272727275], [565.4545454545455, 362.72727272727275], [459.0909090909091, 412.72727272727275], [332.72727272727275, 332.72727272727275], [575.4545454545455, 372.72727272727275], [312.72727272727275, 302.72727272727275], [50.0, 372.72727272727275], [60.0, 382.72727272727275], [302.72727272727275, 302.72727272727275], [459.0909090909091, 412.72727272727275], [332.72727272727275, 342.72727272727275], [439.0909090909091, 392.72727272727275], [302.72727272727275, 302.72727272727275], [186.36363636363637, 342.72727272727275], [565.4545454545455, 362.72727272727275], [70.0, 392.72727272727275], [439.0909090909091, 392.72727272727275], [60.0, 382.72727272727275], [449.0909090909091, 402.72727272727275], [322.72727272727275, 322.72727272727275], [312.72727272727275, 392.72727272727275], [459.0909090909091, 412.72727272727275], [60.0, 382.72727272727275], [40.0, 362.72727272727275], [20.0, 342.72727272727275], [40.0, 362.72727272727275], [555.4545454545455, 352.72727272727275], [186.36363636363637, 342.72727272727275], [70.0, 392.72727272727275], [332.72727272727275, 332.72727272727275], [449.0909090909091, 402.72727272727275], [575.4545454545455, 372.72727272727275], [50.0, 372.72727272727275], [50.0, 372.72727272727275], [70.0, 392.72727272727275], [30.0, 352.72727272727275], [176.36363636363637, 332.72727272727275], [166.36363636363637, 322.72727272727275], [60.0, 382.72727272727275], [459.0909090909091, 412.72727272727275], [20.0, 342.72727272727275], [459.0909090909091, 412.72727272727275], [10.0, 332.72727272727275], [322.72727272727275, 322.72727272727275], [469.0909090909091, 312.72727272727275], [469.0909090909091, 422.72727272727275], [585.4545454545455, 382.72727272727275], [292.72727272727275, 292.72727272727275], [176.36363636363637, 332.72727272727275], [469.0909090909091, 422.72727272727275], [20.0, 342.72727272727275], [50.0, 372.72727272727275], [166.36363636363637, 322.72727272727275], [60.0, 382.72727272727275], [332.72727272727275, 332.72727272727275], [469.0909090909091, 422.72727272727275], [565.4545454545455, 362.72727272727275], [40.0, 362.72727272727275], [196.36363636363637, 352.72727272727275], [50.0, 372.72727272727275], [40.0, 362.72727272727275], [459.0909090909091, 412.72727272727275], [479.0909090909091, 312.72727272727275], [302.72727272727275, 302.72727272727275], [176.36363636363637, 332.72727272727275], [176.36363636363637, 332.72727272727275], [20.0, 342.72727272727275], [459.0909090909091, 412.72727272727275], [50.0, 372.72727272727275], [20.0, 312.72727272727275], [302.72727272727275, 302.72727272727275], [70.0, 392.72727272727275], [10.0, 332.72727272727275], [409.0909090909091, 432.72727272727275], [40.0, 362.72727272727275], [156.36363636363637, 312.72727272727275], [156.36363636363637, 312.72727272727275], [156.36363636363637, 312.72727272727275], [292.72727272727275, 292.72727272727275], [156.36363636363637, 312.72727272727275], [449.0909090909091, 402.72727272727275], [449.0909090909091, 402.72727272727275], [322.72727272727275, 322.72727272727275], [469.0909090909091, 422.72727272727275], [342.72727272727275, 342.72727272727275], [20.0, 342.72727272727275], [186.36363636363637, 342.72727272727275], [302.72727272727275, 302.72727272727275], [40.0, 362.72727272727275], [439.0909090909091, 392.72727272727275], [10.0, 332.72727272727275], [302.72727272727275, 302.72727272727275], [342.72727272727275, 342.72727272727275], [30.0, 352.72727272727275], [449.0909090909091, 402.72727272727275], [50.0, 372.72727272727275], [429.0909090909091, 382.72727272727275], [419.0909090909091, 372.72727272727275], [312.72727272727275, 342.72727272727275], [479.0909090909091, 432.72727272727275], [30.0, 352.72727272727275], [302.72727272727275, 302.72727272727275], [429.0909090909091, 382.72727272727275], [282.72727272727275, 282.72727272727275], [0.0, 302.72727272727275], [156.36363636363637, 312.72727272727275], [342.72727272727275, 342.72727272727275], [146.36363636363637, 302.72727272727275], [302.72727272727275, 302.72727272727275], [282.72727272727275, 282.72727272727275], [10.0, 332.72727272727275], [342.72727272727275, 342.72727272727275], [156.36363636363637, 312.72727272727275], [146.36363636363637, 302.72727272727275], [439.0909090909091, 392.72727272727275], [0.0, 0.0], [692.3076923076923, 692.3076923076923], [1384.6153846153845, 1384.6153846153845], [2076.9230769230767, 2076.9230769230767], [2769.230769230769, 2769.230769230769], [3461.5384615384614, 3461.5384615384614], [4153.846153846153, 4153.846153846153], [4846.153846153846, 4846.153846153846], [5538.461538461538, 5538.461538461538], [6230.7692307692305, 6230.7692307692305], [6923.076923076923, 6923.076923076923], [7615.384615384615, 7615.384615384615], [8307.692307692307, 8307.692307692307], [9000.0, 9000.0], [9010.0, 9010.0], [9020.0, 9020.0], [6933.076923076923, 6933.076923076923], [2779.230769230769, 2779.230769230769], [6240.7692307692305, 6240.7692307692305], [2086.9230769230767, 2086.9230769230767], [6933.076923076923, 6933.076923076923], [9020.0, 9020.0], [9020.0, 9020.0], [3471.5384615384614, 3471.5384615384614], [1394.6153846153845, 1394.6153846153845], [7625.384615384615, 7625.384615384615], [2779.230769230769, 2779.230769230769], [5548.461538461538, 5548.461538461538], [702.3076923076923, 702.3076923076923], [6933.076923076923, 6933.076923076923], [6943.076923076923, 6943.076923076923], [9010.0, 9010.0], [6943.076923076923, 6943.076923076923], [6943.076923076923, 6943.076923076923], [702.3076923076923, 702.3076923076923], [8317.692307692307, 8317.692307692307], [8317.692307692307, 8317.692307692307], [8317.692307692307, 8317.692307692307], [8327.692307692307, 8327.692307692307], [8327.692307692307, 8327.692307692307], [8327.692307692307, 8327.692307692307], [6240.7692307692305, 6240.7692307692305], [8337.692307692307, 8337.692307692307], [3471.5384615384614, 3471.5384615384614], [8347.692307692307, 8347.692307692307], [8337.692307692307, 8337.692307692307], [3471.5384615384614, 3471.5384615384614], [6250.7692307692305, 6250.7692307692305], [8347.692307692307, 8347.692307692307], [8317.692307692307, 8317.692307692307]]\n"
     ]
    }
   ],
   "source": [
    "print(pop)"
   ]
  },
  {
   "cell_type": "code",
   "execution_count": null,
   "metadata": {},
   "outputs": [
    {
     "data": {
      "text/plain": [
       "[(0, 0), (0, 0)]"
      ]
     },
     "execution_count": 56,
     "metadata": {},
     "output_type": "execute_result"
    }
   ],
   "source": [
    "last_means = [(0,0) for x in range(phi)]\n",
    "last_means.pop(0)\n",
    "last_means"
   ]
  },
  {
   "cell_type": "code",
   "execution_count": 58,
   "metadata": {},
   "outputs": [
    {
     "data": {
      "text/plain": [
       "[6, 4, 3, 2, 1]"
      ]
     },
     "execution_count": 58,
     "metadata": {},
     "output_type": "execute_result"
    }
   ],
   "source": [
    "l = [1,2,3]\n",
    "L = [1,3,6,2,4]\n",
    "L.sort(reverse=True)\n",
    "L"
   ]
  },
  {
   "cell_type": "code",
   "execution_count": null,
   "metadata": {},
   "outputs": [
    {
     "data": {
      "text/plain": [
       "[0, 0, 0, 0, 0]"
      ]
     },
     "execution_count": 6,
     "metadata": {},
     "output_type": "execute_result"
    }
   ],
   "source": [
    "l=[0 for x in range(5)]\n",
    "l"
   ]
  },
  {
   "cell_type": "code",
   "execution_count": null,
   "metadata": {},
   "outputs": [
    {
     "name": "stdout",
     "output_type": "stream",
     "text": [
      "0\n",
      "1\n",
      "2\n"
     ]
    }
   ],
   "source": [
    "for i in range(3):\n",
    "    print(i)"
   ]
  },
  {
   "cell_type": "code",
   "execution_count": 31,
   "metadata": {},
   "outputs": [
    {
     "data": {
      "text/plain": [
       "False"
      ]
     },
     "execution_count": 31,
     "metadata": {},
     "output_type": "execute_result"
    }
   ],
   "source": [
    "l = [[3,2],[1,2],[1,2]]\n",
    "last_similarity(l)\n"
   ]
  },
  {
   "cell_type": "code",
   "execution_count": null,
   "metadata": {},
   "outputs": [],
   "source": []
  }
 ],
 "metadata": {
  "kernelspec": {
   "display_name": "snakes",
   "language": "python",
   "name": "python3"
  },
  "language_info": {
   "codemirror_mode": {
    "name": "ipython",
    "version": 3
   },
   "file_extension": ".py",
   "mimetype": "text/x-python",
   "name": "python",
   "nbconvert_exporter": "python",
   "pygments_lexer": "ipython3",
   "version": "3.10.8"
  },
  "orig_nbformat": 4,
  "vscode": {
   "interpreter": {
    "hash": "ba46d3c1349a8793b8508840c8d7327b4fd991649259d1bdc996506b1c3d27b3"
   }
  }
 },
 "nbformat": 4,
 "nbformat_minor": 2
}
