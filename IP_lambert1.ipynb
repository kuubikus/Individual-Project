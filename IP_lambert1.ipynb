{
 "cells": [
  {
   "cell_type": "code",
   "execution_count": 82,
   "metadata": {},
   "outputs": [],
   "source": [
    "import numpy as np\n",
    "import matplotlib.pyplot as plt\n",
    "from matplotlib import cm\n",
    "from matplotlib.ticker import LinearLocator\n",
    "from mpl_toolkits import mplot3d\n",
    "import pykep\n",
    "import random\n",
    "from scipy.optimize import newton\n",
    "import csv"
   ]
  },
  {
   "attachments": {},
   "cell_type": "markdown",
   "metadata": {},
   "source": [
    "Orbit as a function of time"
   ]
  },
  {
   "cell_type": "code",
   "execution_count": 3,
   "metadata": {},
   "outputs": [],
   "source": [
    "def get_period(a, mu = 398600):\n",
    "    \"\"\"`\n",
    "    return the period in seconds\n",
    "    a needs to be in km\n",
    "    \"\"\"\n",
    "    return (2*np.pi*a**1.5)/mu**0.5\n",
    "\n",
    "def kepler(E, M_e, e):\n",
    "    \"\"\"Kepler's equation, to be used in a Newton solver.\"\"\"\n",
    "    return E - e * np.sin(E) - M_e\n",
    "\n",
    "def d_kepler_d_E(E, M_e, e):\n",
    "    \"\"\"The derivative of Kepler's equation, to be used in a Newton solver.\n",
    "    \n",
    "    Note that the argument M_e is unused, but must be present so the function\n",
    "    arguments are consistent with the kepler function.\n",
    "    \"\"\"\n",
    "    return 1 - e * np.cos(E)\n",
    "\n",
    "def time_since_perigee(elements):\n",
    "    a = elements[0]\n",
    "    e = elements[1]\n",
    "    E = elements[5]\n",
    "    E_mean = E - e*np.sin(E)\n",
    "    T = get_period(a)\n",
    "    return E_mean * T/(2*np.pi)\n",
    "\n",
    "def propagate_based_on_vector(r,v, t):\n",
    "    rf, vf = pykep.propagate_lagrangian(r0 = r, v0 = v, tof = t,mu = 398600)\n",
    "    return np.array(rf), np.array(vf)\n",
    "\n",
    "def propagate_based_on_elements(elements, t, kepler=True):\n",
    "    r, v = pykep.par2ic(elements, mu=398600)\n",
    "    rf,vf = pykep.propagate_lagrangian(r0 = r, v0 = v, tof = t,mu = 398600)\n",
    "    if kepler == False:  # return vectors\n",
    "        return np.array(rf),np.array(vf)\n",
    "    if kepler == True:  # return kepler elements\n",
    "        return pykep.ic2par(rf,vf,mu = 398600)"
   ]
  },
  {
   "attachments": {},
   "cell_type": "markdown",
   "metadata": {},
   "source": [
    "Unit vectors"
   ]
  },
  {
   "cell_type": "code",
   "execution_count": 4,
   "metadata": {},
   "outputs": [],
   "source": [
    "def unit_vector(vector1, vector2):\n",
    "    \"\"\"\n",
    "    returns the unit vector between two vectors.\n",
    "    \"\"\"\n",
    "    rel = vector2 - vector1\n",
    "    return rel/np.linalg.norm(rel)\n",
    "\n",
    "def L_between_orbits(elements1, elements2, t):\n",
    "    \"\"\"\n",
    "    Input is two Kepler orbits in Kepler elements\n",
    "    \"\"\"\n",
    "    r1, v1 = propagate_based_on_elements(elements1, t, kepler=False)\n",
    "    r2, v2 = propagate_based_on_elements(elements2, t, kepler=False)\n",
    "    r1 = np.array(r1)\n",
    "    r2 = np.array(r2)\n",
    "    rel = r2 - r1\n",
    "    unit = rel/np.linalg.norm(rel)\n",
    "    return unit"
   ]
  },
  {
   "attachments": {},
   "cell_type": "markdown",
   "metadata": {},
   "source": [
    "Lambert's problem"
   ]
  },
  {
   "cell_type": "code",
   "execution_count": 7,
   "metadata": {},
   "outputs": [],
   "source": [
    "def constraints(elements, rO_perigee):\n",
    "    \"\"\"\n",
    "    Return true if satisfied.\n",
    "    \"\"\"\n",
    "    a = elements[0]\n",
    "    e = elements[1]\n",
    "    R_earth = 6371 # km\n",
    "    \n",
    "    if R_earth + 200 <= a and a <= 50000 and 0 <= e and e <= 1 - rO_perigee/50000: # aT_max = 50000 km\n",
    "        return True\n",
    "    else:\n",
    "        return False"
   ]
  },
  {
   "cell_type": "code",
   "execution_count": 8,
   "metadata": {},
   "outputs": [],
   "source": [
    "def get_target_r(elementsO, rT_initial, rT_final, point, t):\n",
    "    \"\"\"\n",
    "    The inputs are the observer elements and target posistion vectors.\n",
    "    For final measurments they are propagated forward in time (t).\n",
    "    Point corresponds to a chromosome.\n",
    "    Returns intial and final target posistion vectors.\n",
    "    \"\"\"\n",
    "    # initial \"measurment\" and orbit\n",
    "    rho_i = point[0]\n",
    "    rO_initial, vO_initial = pykep.par2ic(elementsO, mu=398600)\n",
    "    L_t0 = unit_vector(rO_initial, rT_initial)\n",
    "    rT_i = rho_i*L_t0 + rO_initial\n",
    "    # final \"measurment\" and orbit\n",
    "    rho_f = point[1]\n",
    "    rO_final,  vO_final = propagate_based_on_elements(elementsO, t, kepler=False)\n",
    "    L_tf = unit_vector(rO_final, rT_final)\n",
    "    rT_f = rho_f*L_tf + rO_final\n",
    "    return rT_i, rT_f"
   ]
  },
  {
   "cell_type": "code",
   "execution_count": 9,
   "metadata": {},
   "outputs": [],
   "source": [
    "def solve_lambert(ri, rf, t):\n",
    "    \"\"\"\n",
    "    Solves the lambert problem. Input two posistion vector and the time between those locations.\n",
    "    Returns the solution in Kepler elements.\n",
    "    \"\"\"\n",
    "    # solve Lambert's problem\n",
    "    l = pykep.lambert_problem(r1 = ri, r2 = rf, tof = t, mu=398600, cw=False)\n",
    "    # convert results\n",
    "    vi = l.get_v1()[0]  # get the velocity vector at initial time for one revolution\n",
    "    elements = pykep.ic2par(ri,vi, mu=398600)  # get Kepler elements from pos and vel vectors\n",
    "    return elements"
   ]
  },
  {
   "cell_type": "code",
   "execution_count": 10,
   "metadata": {},
   "outputs": [],
   "source": [
    "def Lambert_problem(data, elementsO, rT_initial, rT_final, point, rO_perigee, TOF):\n",
    "    # set up Lambert's problem\n",
    "    ri, rf = get_target_r(elementsO, rT_initial, rT_final, point, TOF)\n",
    "    # solve Lambert's problem\n",
    "    elementsT_estimated = list(solve_lambert(ri, rf, t = TOF))\n",
    "    if constraints(elementsT_estimated, rO_perigee) is True:\n",
    "        new_dict = dict(Point = point, Orbit = elementsT_estimated)\n",
    "        data.append(new_dict)\n",
    "    if constraints(elementsT_estimated, rO_perigee) is False:\n",
    "        raise ValueError\n",
    "    return data"
   ]
  },
  {
   "attachments": {},
   "cell_type": "markdown",
   "metadata": {},
   "source": [
    "Utility functions"
   ]
  },
  {
   "cell_type": "code",
   "execution_count": 98,
   "metadata": {},
   "outputs": [],
   "source": [
    "def to_csv(data, filename):\n",
    "    for dict1 in data:\n",
    "        dict1.update({\"Rho_i\":dict1[\"Point\"][0]})\n",
    "        dict1.update({\"Rho_f\":dict1[\"Point\"][1]})\n",
    "    \n",
    "    with open(filename, 'w', newline='') as f:\n",
    "        fieldnames = [\"Point\", \"Orbit\", \"Fit\",\"Rho_i\",\"Rho_f\"]\n",
    "        writer = csv.DictWriter(f, fieldnames=fieldnames)\n",
    "\n",
    "        writer.writeheader()\n",
    "        writer.writerows(data)"
   ]
  },
  {
   "cell_type": "code",
   "execution_count": 11,
   "metadata": {},
   "outputs": [],
   "source": [
    "def evaluate_D(elementsO, TOF):\n",
    "    mu = 398600  # km^3/s^2. Make into a global variable later. Can I make TOF a global variable?\n",
    "    aO = elementsO[0]\n",
    "    eO = elementsO[1]\n",
    "    aT_max = 50000\n",
    "\n",
    "    # some calculations\n",
    "    rO_perigee = (1-eO)*aO\n",
    "    vO_perigee = ((1+eO)/(1-eO) * mu/aO)**0.5\n",
    "    vT_perigee_max = (2*mu/rO_perigee*(1-rO_perigee/(2*aT_max)))**0.5\n",
    "\n",
    "    return (vO_perigee + vT_perigee_max)*TOF, rO_perigee"
   ]
  },
  {
   "cell_type": "code",
   "execution_count": 12,
   "metadata": {},
   "outputs": [],
   "source": [
    "def grid_between_lines(D, N, a=9000):\n",
    "    distances = []  # a list that will contain the whole population points (rho_i, rho_f)\n",
    "    A = a*a\n",
    "    A_s = A - (a-D)*a/2 - (a-2*D)*(a-D)/2\n",
    "    no_of_nodes = N*A/A_s  # no of nodes in the 9000x9000 (height x width) rectangle\n",
    "\n",
    "    xs = np.linspace(0, a, int((no_of_nodes)**0.5)) # create values for rho_i\n",
    "    ys = np.linspace(0, a, int((no_of_nodes)**0.5)) # create values for rho_f\n",
    "    \n",
    "    for x in xs:\n",
    "        for y in ys:\n",
    "            if y < (x + D) and y > (x - D):\n",
    "                distances.append([x,y])  # only add points that are between the lines\n",
    "\n",
    "    #plt.plot(xc, yc, '.r')\n",
    "    #plt.show()\n",
    "    \n",
    "    return distances"
   ]
  },
  {
   "cell_type": "code",
   "execution_count": 13,
   "metadata": {},
   "outputs": [],
   "source": [
    "def get_elite(data, n=100):\n",
    "    values = []\n",
    "    for dict1 in data:\n",
    "        values.append(dict1[\"Fit\"])\n",
    "        values.sort(reverse=True)  # descending order\n",
    "\n",
    "    data_elite = []\n",
    "    min_value = values[n-1]\n",
    "\n",
    "    for dict2 in data:\n",
    "        if dict2[\"Fit\"]>= min_value and len(data_elite) < 100:\n",
    "            data_elite.append(dict2)\n",
    "\n",
    "    return data_elite\n",
    "\n",
    "def get_best(data):\n",
    "    max_fit = 0\n",
    "    i = 0\n",
    "    for dict1 in data:\n",
    "        fit = dict1[\"Fit\"]\n",
    "        if fit > max_fit:\n",
    "            i_max = i\n",
    "            max_fit = fit\n",
    "        i += 1\n",
    "    return data[i_max]\n"
   ]
  },
  {
   "cell_type": "code",
   "execution_count": 14,
   "metadata": {},
   "outputs": [],
   "source": [
    "def show_pop(data):\n",
    "    xs = []\n",
    "    ys = []\n",
    "    for dict1 in data:\n",
    "        xs.append(dict1[\"Point\"][0])\n",
    "        ys.append(dict1[\"Point\"][1])\n",
    "        \n",
    "    plt.plot(xs, ys, '.k')\n",
    "    plt.show()"
   ]
  },
  {
   "attachments": {},
   "cell_type": "markdown",
   "metadata": {},
   "source": [
    "Genetic algorithm building blocks"
   ]
  },
  {
   "cell_type": "code",
   "execution_count": 15,
   "metadata": {},
   "outputs": [],
   "source": [
    "def mutate(data, elementsO, r_initial, r_final, rO_perigee, TOF, index):\n",
    "    \"\"\"\n",
    "    mutates a single data point given by index. If the point doesn't satisfy conditions then\n",
    "    the function returns False.\n",
    "    \"\"\"\n",
    "    stnd_dev = random.choice([1,2,4,6,8,10])  # may change. In the paper they used 10\n",
    "    rho0, rho1 = data[index][\"Point\"]\n",
    "    rho0_new = rho0 + stnd_dev\n",
    "    rho1_new = rho1 + stnd_dev\n",
    "    try:\n",
    "        data = Lambert_problem(data, elementsO, r_initial, r_final, [rho0_new, rho1_new], rO_perigee, TOF)\n",
    "        return True, data\n",
    "    except ValueError:\n",
    "        return False, data  \n",
    "\n",
    "def mutation(data, elementsO, r_initial, r_final, rO_perigee, TOF, no_of_outputs):\n",
    "    \"\"\"\n",
    "    Input how many extra chromoses are wanted.\n",
    "    \"\"\"\n",
    "    indices = [x for x in range(len(data)-1)]\n",
    "    last_length = len(data)\n",
    "    final_length = last_length + no_of_outputs\n",
    "    no_of_successful_mutations = 0\n",
    "    while len(data) != final_length:\n",
    "        passed = False\n",
    "        while passed is False:\n",
    "            index = random.choice(indices)  # get a random entry from list\n",
    "            indices.remove(index)  # remove that entry to avoid duplicates\n",
    "            passed, data = mutate(data, elementsO, r_initial, r_final, rO_perigee, TOF, index)  # if passed is False then \n",
    "            # the mutated point didn't satisfy the conditions and a new point is generated\n",
    "            if passed == True:\n",
    "                no_of_successful_mutations += 1 \n",
    "            if not indices:  # list is empty\n",
    "                # print(\"no of successful mutations\", no_of_successful_mutations)\n",
    "                indices = [x + last_length - 1 for x in range(no_of_successful_mutations)]  # mutate the mutated points further\n",
    "                last_length = len(data)\n",
    "                no_of_successful_mutations = 0\n",
    "    return data"
   ]
  },
  {
   "cell_type": "code",
   "execution_count": 16,
   "metadata": {},
   "outputs": [],
   "source": [
    "def one_crossover(point1, point2, D):\n",
    "    if np.random.randint(0,2) == 1:\n",
    "        point1[1] = point2[1]\n",
    "        if abs(point1[0] - point1[1]) < D and abs(point2[0] - point2[1]) < D:\n",
    "            return point1\n",
    "        else:\n",
    "            return False\n",
    "    else:\n",
    "        point2[1] = point1[1]\n",
    "        if abs(point1[0] - point1[1]) < D and abs(point2[0] - point2[1]) < D:\n",
    "            return point2\n",
    "        else:\n",
    "            return False\n",
    "\n",
    "def get_random_points(data):\n",
    "    index1 = random.randint(0, len(data) - 1)\n",
    "    index2 = random.randint(0, len(data) - 1)\n",
    "    while index1 == index2:  # can't be the same\n",
    "        index2 = random.randint(0, len(data) - 1)\n",
    "    point1 = data[index1][\"Point\"]\n",
    "    point2 = data[index2][\"Point\"]\n",
    "    return point1, point2\n",
    "\n",
    "def crossover(data, elementsO, r_initial, r_final, rO_perigee, TOF, no_of_outputs, D):\n",
    "    for i in range(no_of_outputs):\n",
    "        passed = False\n",
    "        while passed is False:\n",
    "            point1, point2 = get_random_points(data)\n",
    "            extra_point = one_crossover(point1, point2, D)\n",
    "            while extra_point == False:\n",
    "                point1, point2 = get_random_points(data)\n",
    "                extra_point = one_crossover(point1, point2, D)  # the inequality must be satisfied\n",
    "            try:\n",
    "                data = Lambert_problem(data, elementsO, r_initial, r_final, extra_point, rO_perigee, TOF)  # solve for orbits\n",
    "                passed = True\n",
    "            except ValueError:\n",
    "                passed = False  # will go back into the loop and select a new random point that passes the constraints\n",
    "    return data\n"
   ]
  },
  {
   "cell_type": "code",
   "execution_count": 17,
   "metadata": {},
   "outputs": [],
   "source": [
    "def fitness(elementsO, set_of_measurments, estimated_orbit, no_of_measurments = 61):\n",
    "    fit = 1\n",
    "    for t in range(no_of_measurments):\n",
    "        R_measurment = set_of_measurments[t]\n",
    "        L_measurment = R_measurment/np.linalg.norm(R_measurment)\n",
    "        L_ast = L_between_orbits(elementsO, estimated_orbit, t)\n",
    "        fit = fit * np.dot(L_measurment, L_ast)\n",
    "    return fit\n",
    "\n",
    "def objective_func(elementsO, set_of_measurments, data):\n",
    "    index = 0\n",
    "    fit_values = []\n",
    "    for og_dict in data:\n",
    "        fit_value = fitness(elementsO, set_of_measurments, og_dict[\"Orbit\"])\n",
    "        og_dict[\"Fit\"] = fit_value   # fitness value in the data\n",
    "    return data\n"
   ]
  },
  {
   "cell_type": "code",
   "execution_count": 18,
   "metadata": {},
   "outputs": [],
   "source": [
    "def initialise_pop(elementsO, rT_intial, rT_final, TOF=60, N=1000):\n",
    "    \"\"\"\n",
    "    Initialises the population of specific size based on initial and final \"measurments\".\n",
    "    The inputs are the observer orbit and the inital and final posistion vector for the target.\n",
    "    Returns a list of dictionaries.\n",
    "    \"\"\"\n",
    "    D, rO_perigee = evaluate_D(elementsO, TOF)\n",
    "    # get an evenly spaced grid between two lines Rho in the range [0,9000]\n",
    "    original_population = grid_between_lines(D, 5*N)  # initial population\n",
    "    data = []\n",
    "    for point in original_population:\n",
    "        try:\n",
    "            data = Lambert_problem(data, elementsO, rT_intial, rT_final, point, rO_perigee, TOF)\n",
    "        except ValueError:\n",
    "            continue\n",
    "    \n",
    "    n = len(data)\n",
    "    if n > N:\n",
    "        # remove the number of extra points randomly\n",
    "        no_of_extra_points = n - N\n",
    "        for i in range(no_of_extra_points):\n",
    "            index = random.randint(0, len(data)-1)\n",
    "            data.pop(index)\n",
    "\n",
    "    if n < N:\n",
    "        # gain extra points via mutation\n",
    "        no_of_extra_points = N - n\n",
    "        data = mutation(data, elementsO, rT_intial, rT_final, rO_perigee, TOF, no_of_extra_points)  \n",
    "        \n",
    "        \n",
    "    return data"
   ]
  },
  {
   "attachments": {},
   "cell_type": "markdown",
   "metadata": {},
   "source": [
    "Stop conditions"
   ]
  },
  {
   "cell_type": "code",
   "execution_count": 19,
   "metadata": {},
   "outputs": [],
   "source": [
    "def mean(data):\n",
    "    n = len(data)\n",
    "    sum_i = 0\n",
    "    sum_f = 0\n",
    "    for dict1 in data:\n",
    "        sum_i += dict1[\"Point\"][0]\n",
    "        sum_f += dict1[\"Point\"][1]\n",
    "    return sum_i/n, sum_f/n    \n",
    "\n",
    "def covariance_matrix(data):\n",
    "    \"\"\"\n",
    "    Returns the standard deviations of the population in terms of two variables.\n",
    "    Our points consist of initial and final distance.\n",
    "    \"\"\"\n",
    "    c11 = 0\n",
    "    c12 = 0\n",
    "    c22 = 0\n",
    "    mean_i, mean_f = mean(data)\n",
    "    n = len(data)\n",
    "    for dict1 in data:\n",
    "        c11 += (dict1[\"Point\"][0]-mean_i)**2\n",
    "        c12 += (dict1[\"Point\"][0]-mean_i)*(dict1[\"Point\"][1]-mean_f)\n",
    "        c22 += (dict1[\"Point\"][1]-mean_f)**2\n",
    "    return (c11/n)**0.5, (c22/n)**0.5, (c12/n)**0.5\n",
    "\n",
    "def last_similarity(List, error = 0):\n",
    "    \"\"\"\n",
    "    The input list should be a list (2x2) in a list of length phi.\n",
    "    Return true if all the elements in the list are similar (same) comapred to the last element.\n",
    "    \"\"\"\n",
    "    value1, value2 = List[-1]\n",
    "    for point in List:\n",
    "        last_value1, last_value2 = point\n",
    "        difference1 = abs(last_value1 - value1)\n",
    "        difference2 = abs(last_value2 - value2)\n",
    "        if difference1 <= error and difference2 <= error:\n",
    "            continue\n",
    "        else:\n",
    "            return False   # is not similar\n",
    "    return True  # is similar\n",
    "    \n",
    "def stop_criteria(data, last_means, last_best_values, no_of_gens,lim_O = 5, lim_F = 5, max_gen=30,error = 0):\n",
    "    \"\"\"\n",
    "    Returns True if met.\n",
    "    \"\"\"\n",
    "    # for means\n",
    "    means_sim = last_similarity(last_means)\n",
    "    # for best values\n",
    "    best_sim = last_similarity(last_best_values)\n",
    "    # standard values\n",
    "    sigma_OO, sigma_FF, sigma_OF = covariance_matrix(data)\n",
    "    print(\"standard dev\", sigma_OO, sigma_FF, sigma_OF)\n",
    "    \n",
    "    if means_sim == True or best_sim == True:\n",
    "        print(\"similarity\")\n",
    "        return True\n",
    "    if no_of_gens >= max_gen:\n",
    "        print(\"max gens\")\n",
    "        return True, None, None\n",
    "    if sigma_OO <= lim_O and sigma_FF <= lim_F:\n",
    "        print(\"stnd dev\")\n",
    "        return True\n",
    "    else:\n",
    "        return False  # need these values for the next iteration"
   ]
  },
  {
   "attachments": {},
   "cell_type": "markdown",
   "metadata": {},
   "source": [
    "Initialisation"
   ]
  },
  {
   "cell_type": "code",
   "execution_count": 20,
   "metadata": {},
   "outputs": [],
   "source": [
    "elements_deb = [7290.2,0.0610,np.radians(30.379),np.radians(289.042),np.radians(293.776),np.radians(66.230)]\n",
    "elements_sat = [7133.8,0.0043,np.radians(98.289),np.radians(49.866),np.radians(356.768),np.radians(149.512)]"
   ]
  },
  {
   "cell_type": "code",
   "execution_count": 21,
   "metadata": {},
   "outputs": [],
   "source": [
    "set_of_measurments = []\n",
    "test_set =[]\n",
    "for t in range(61):\n",
    "    rT, vT = propagate_based_on_elements(elements_deb, t, kepler=False)\n",
    "    rO, vO = propagate_based_on_elements(elements_sat, t, kepler=False)\n",
    "    r = rT - rO\n",
    "    v = vT- vO\n",
    "    test_set.append([r,v])\n",
    "    set_of_measurments.append(r)"
   ]
  },
  {
   "cell_type": "code",
   "execution_count": 57,
   "metadata": {},
   "outputs": [
    {
     "data": {
      "image/png": "[encoded data removed]",
      "text/plain": [
       "<Figure size 640x480 with 1 Axes>"
      ]
     },
     "metadata": {},
     "output_type": "display_data"
    },
    {
     "name": "stdout",
     "output_type": "stream",
     "text": [
      "100\n"
     ]
    }
   ],
   "source": [
    "r1,v1 = propagate_based_on_elements(elements_deb, 0, kepler=False)\n",
    "r2,v2= propagate_based_on_elements(elements_deb, 60, kepler=False)\n",
    "\n",
    "# initialise\n",
    "data = initialise_pop(elements_sat, r1, r2, N=100)\n",
    "show_pop(data)\n",
    "print(len(data))"
   ]
  },
  {
   "cell_type": "code",
   "execution_count": 58,
   "metadata": {},
   "outputs": [],
   "source": [
    "data = objective_func(elements_sat, set_of_measurments, data)"
   ]
  },
  {
   "cell_type": "code",
   "execution_count": 99,
   "metadata": {},
   "outputs": [],
   "source": [
    "to_csv(data, \"csv_file\")"
   ]
  },
  {
   "cell_type": "code",
   "execution_count": 282,
   "metadata": {},
   "outputs": [
    {
     "name": "stdout",
     "output_type": "stream",
     "text": [
      "best point [7236.486486486487, 7358.108108108108]\n"
     ]
    }
   ],
   "source": [
    "best_point = get_best(data)[\"Point\"]\n",
    "no_of_gens = 0\n",
    "phi = 3\n",
    "print(\"best point\", best_point)\n",
    "last_means = [(0,0) for x in range(phi)]\n",
    "last_means.pop(0)\n",
    "last_means.append(mean(data))\n",
    "\n",
    "last_best_values = [(0,0) for x in range(phi)]\n",
    "last_best_values.pop(0)\n",
    "last_best_values.append(best_point)\n",
    "\n",
    "D, rO_perigee = evaluate_D(elements_sat, 60)  # maybe there is a better way to define this"
   ]
  },
  {
   "attachments": {},
   "cell_type": "markdown",
   "metadata": {},
   "source": [
    "Body"
   ]
  },
  {
   "cell_type": "code",
   "execution_count": 283,
   "metadata": {},
   "outputs": [
    {
     "name": "stdout",
     "output_type": "stream",
     "text": [
      "standard dev 2813.756059732671 2640.4275519168405 2721.0351643081485\n",
      "final 1000\n"
     ]
    },
    {
     "name": "stderr",
     "output_type": "stream",
     "text": [
      "C:\\Users\\kuubikus\\AppData\\Local\\Temp\\ipykernel_27680\\2600399557.py:17: RuntimeWarning: invalid value encountered in divide\n",
      "  unit = rel/np.linalg.norm(rel)\n"
     ]
    },
    {
     "name": "stdout",
     "output_type": "stream",
     "text": [
      "last means [(0, 0), (5171.875081081086, 5420.773729729731), (6900.450081081073, 7102.698324324323)]\n",
      "the best [7247.486486486487, 7383.108108108108]\n",
      "last bests [(0, 0), [7236.486486486487, 7358.108108108108], [7247.486486486487, 7383.108108108108]]\n",
      "standard dev 2010.3745096846515 1839.90039730478 1768.1826290215922\n",
      "final 1000\n",
      "last means [(5171.875081081086, 5420.773729729731), (6900.450081081073, 7102.698324324323), (6817.389891891881, 6958.58171621623)]\n",
      "the best [7263.486486486487, 7403.108108108108]\n",
      "last bests [[7236.486486486487, 7358.108108108108], [7247.486486486487, 7804.783783783784], [7263.486486486487, 7403.108108108108]]\n",
      "standard dev 1743.3707271656344 1697.4238577298277 1530.3225292987333\n",
      "final 1000\n",
      "last means [(6900.450081081073, 7102.698324324323), (6817.389891891881, 6958.58171621623), (6609.039635135078, 6751.541412162105)]\n",
      "the best [7263.486486486487, 7403.108108108108]\n",
      "last bests [[7247.486486486487, 7804.783783783784], [7263.486486486487, 7403.108108108108], [7263.486486486487, 7403.108108108108]]\n",
      "standard dev 1869.3273616574697 1781.429861162188 1733.419286820425\n",
      "final 1000\n",
      "last means [(6817.389891891881, 6958.58171621623), (6609.039635135078, 6751.541412162105), (6614.960939189126, 6771.027385135065)]\n",
      "the best [7299.486486486487, 7351.5]\n",
      "last bests [[7263.486486486487, 7403.108108108108], [7263.486486486487, 7403.108108108108], [7299.486486486487, 7351.5]]\n",
      "standard dev 1850.088160333911 1794.998168052218 1716.1423147844264\n",
      "final 1000\n",
      "last means [(6609.039635135078, 6751.541412162105), (6614.960939189126, 6771.027385135065), (6554.237155405345, 6769.883033783712)]\n",
      "the best [7309.486486486487, 7451.108108108108]\n",
      "last bests [[7263.486486486487, 7403.108108108108], [7299.486486486487, 7458.108108108108], [7309.486486486487, 7451.108108108108]]\n",
      "standard dev 1879.2452641538684 1713.6690760892295 1702.5925579925943\n",
      "final 1000\n",
      "last means [(6614.960939189126, 6771.027385135065), (6554.237155405345, 6769.883033783712), (6682.16843243237, 6843.317033783711)]\n",
      "the best [7307.486486486487, 7432.108108108108]\n",
      "last bests [[7299.486486486487, 7458.108108108108], [7309.486486486487, 7451.108108108108], [7307.486486486487, 7432.108108108108]]\n",
      "standard dev 1737.9849463792514 1619.9036176038383 1606.703204010183\n",
      "final 1000\n",
      "last means [(6554.237155405345, 6769.883033783712), (6682.16843243237, 6843.317033783711), (6612.16795270264, 6786.75132432425)]\n",
      "the best [7307.486486486487, 7432.108108108108]\n",
      "last bests [[7309.486486486487, 7451.108108108108], [7307.486486486487, 7432.108108108108], [7307.486486486487, 7432.108108108108]]\n",
      "standard dev 1830.114742971836 1713.8521697035312 1710.1217864159537\n",
      "final 1000\n",
      "last means [(6682.16843243237, 6843.317033783711), (6612.16795270264, 6786.75132432425), (6576.7863648648035, 6764.951648648573)]\n",
      "the best [7307.486486486487, 7432.108108108108]\n",
      "last bests [[7307.486486486487, 7432.108108108108], [7307.486486486487, 7432.108108108108], [7307.486486486487, 7432.108108108108]]\n",
      "standard dev 1897.118506549409 1757.0033726228162 1678.0788288153624\n",
      "similarity\n",
      "donzo\n"
     ]
    }
   ],
   "source": [
    "while stop_criteria(data, last_means, last_best_values, no_of_gens) is False:\n",
    "    \n",
    "    data_elite = get_elite(data)\n",
    "    \n",
    "    # create new population and corresponding orbits\n",
    "    data_created = initialise_pop(elements_sat, r1, r2, N=50)  # create 5% of desired population size\n",
    "    \n",
    "    data_elite = data_elite + data_created\n",
    "    #mutate\n",
    "    data_mutation = mutation(data_elite, elements_sat, r1,r2, rO_perigee, 60, 800)  # 800 corresponds to 80% of desired population \n",
    "\n",
    "    # crossover\n",
    "    data_crossover = crossover(data_mutation, elements_sat, r1,r2, rO_perigee, 60, 50, D)  # crossover 5% of desired population size\n",
    "    data = data_crossover\n",
    "    print(\"final\", len(data))\n",
    "    \n",
    "    # get new fit_values\n",
    "    data = objective_func(elements_sat, set_of_measurments, data)\n",
    "    \n",
    "    # update last_means, last_best_values, no_of_gens\n",
    "    last_means.pop(0)\n",
    "    last_means.append(mean(data))\n",
    "    print(\"last means\", last_means)\n",
    "    best_point = get_best(data)[\"Point\"]\n",
    "    print(\"the best\", best_point)\n",
    "    last_best_values.pop(0)\n",
    "    last_best_values.append(best_point)\n",
    "    print(\"last bests\", last_best_values)\n",
    "    no_of_gens += 1\n",
    "else:\n",
    "    print(\"donzo\")"
   ]
  },
  {
   "attachments": {},
   "cell_type": "markdown",
   "metadata": {},
   "source": [
    "Debug"
   ]
  },
  {
   "cell_type": "code",
   "execution_count": 252,
   "metadata": {},
   "outputs": [
    {
     "name": "stdout",
     "output_type": "stream",
     "text": [
      "measurment [ 0.82953093 -0.22883647 -0.5094235 ]\n",
      "propagated [ 0.82953094 -0.22883647 -0.50942349]\n",
      "fit currently 1.0\n",
      "---\n",
      "measurment [ 0.83063611 -0.22813397 -0.50793557]\n",
      "propagated [ 0.83063627 -0.22817232 -0.50791808]\n",
      "fit currently 0.9999999991116763\n",
      "---\n",
      "measurment [ 0.8317375  -0.2274309  -0.50644637]\n",
      "propagated [ 0.83173784 -0.22750627 -0.50641194]\n",
      "fit currently 0.9999999956783951\n",
      "---\n",
      "measurment [ 0.83283508 -0.22672726 -0.50495592]\n",
      "propagated [ 0.83283564 -0.22683833 -0.50490511]\n",
      "fit currently 0.9999999882190598\n",
      "---\n",
      "measurment [ 0.83392886 -0.22602307 -0.50346423]\n",
      "propagated [ 0.83392966 -0.22616851 -0.50339759]\n",
      "fit currently 0.9999999754218794\n",
      "---\n",
      "measurment [ 0.83501883 -0.22531832 -0.50197133]\n",
      "propagated [ 0.83501988 -0.2254968  -0.50188941]\n",
      "fit currently 0.9999999561381381\n",
      "---\n",
      "measurment [ 0.83610498 -0.22461304 -0.50047722]\n",
      "propagated [ 0.83610632 -0.22482324 -0.50038059]\n",
      "fit currently 0.9999999293759647\n",
      "---\n",
      "measurment [ 0.83718731 -0.22390722 -0.49898193]\n",
      "propagated [ 0.83718895 -0.22414781 -0.49887115]\n",
      "fit currently 0.9999998942941019\n",
      "---\n",
      "measurment [ 0.83826581 -0.22320087 -0.49748548]\n",
      "propagated [ 0.83826777 -0.22347054 -0.4973611 ]\n",
      "fit currently 0.9999998501956764\n",
      "---\n",
      "measurment [ 0.83934049 -0.22249401 -0.49598787]\n",
      "propagated [ 0.83934278 -0.22279143 -0.49585046]\n",
      "fit currently 0.9999997965219716\n",
      "---\n",
      "measurment [ 0.84041132 -0.22178663 -0.49448913]\n",
      "propagated [ 0.84041396 -0.22211049 -0.49433926]\n",
      "fit currently 0.9999997328462008\n",
      "---\n",
      "measurment [ 0.84147832 -0.22107876 -0.49298926]\n",
      "propagated [ 0.84148131 -0.22142774 -0.49282751]\n",
      "fit currently 0.9999996588672816\n",
      "---\n",
      "measurment [ 0.84254148 -0.22037039 -0.4914883 ]\n",
      "propagated [ 0.84254483 -0.22074317 -0.49131523]\n",
      "fit currently 0.9999995744036148\n",
      "---\n",
      "measurment [ 0.84360079 -0.21966153 -0.48998625]\n",
      "propagated [ 0.84360451 -0.2200568  -0.48980244]\n",
      "fit currently 0.9999994793868633\n",
      "---\n",
      "measurment [ 0.84465624 -0.2189522  -0.48848313]\n",
      "propagated [ 0.84466034 -0.21936864 -0.48828916]\n",
      "fit currently 0.9999993738557375\n",
      "---\n",
      "measurment [ 0.84570784 -0.2182424  -0.48697896]\n",
      "propagated [ 0.84571232 -0.2186787  -0.48677541]\n",
      "fit currently 0.9999992579497812\n",
      "---\n",
      "measurment [ 0.84675557 -0.21753213 -0.48547376]\n",
      "propagated [ 0.84676044 -0.21798698 -0.4852612 ]\n",
      "fit currently 0.9999991319031615\n",
      "---\n",
      "measurment [ 0.84779945 -0.21682141 -0.48396753]\n",
      "propagated [ 0.8478047  -0.2172935  -0.48374655]\n",
      "fit currently 0.999998996038465\n",
      "---\n",
      "measurment [ 0.84883945 -0.21611025 -0.48246031]\n",
      "propagated [ 0.84884508 -0.21659827 -0.48223149]\n",
      "fit currently 0.9999988507604969\n",
      "---\n",
      "measurment [ 0.84987558 -0.21539864 -0.4809521 ]\n",
      "propagated [ 0.84988159 -0.2159013  -0.48071604]\n",
      "fit currently 0.9999986965500856\n",
      "---\n",
      "measurment [ 0.85090784 -0.21468661 -0.47944291]\n",
      "propagated [ 0.85091422 -0.21520259 -0.4792002 ]\n",
      "fit currently 0.999998533957892\n",
      "---\n",
      "measurment [ 0.85193622 -0.21397415 -0.47793278]\n",
      "propagated [ 0.85194297 -0.21450215 -0.477684  ]\n",
      "fit currently 0.9999983635982249\n",
      "---\n",
      "measurment [ 0.85296071 -0.21326128 -0.47642171]\n",
      "propagated [ 0.85296782 -0.2138     -0.47616747]\n",
      "fit currently 0.9999981861428632\n",
      "---\n",
      "measurment [ 0.85398133 -0.212548   -0.47490972]\n",
      "propagated [ 0.85398878 -0.21309614 -0.47465061]\n",
      "fit currently 0.9999980023148818\n",
      "---\n",
      "measurment [ 0.85499805 -0.21183432 -0.47339683]\n",
      "propagated [ 0.85500584 -0.21239059 -0.47313345]\n",
      "fit currently 0.9999978128824881\n",
      "---\n",
      "measurment [ 0.85601088 -0.21112025 -0.47188305]\n",
      "propagated [ 0.85601899 -0.21168335 -0.471616  ]\n",
      "fit currently 0.9999976186528623\n",
      "---\n",
      "measurment [ 0.85701982 -0.2104058  -0.4703684 ]\n",
      "propagated [ 0.85702823 -0.21097444 -0.47009828]\n",
      "fit currently 0.9999974204660061\n",
      "---\n",
      "measurment [ 0.85802486 -0.20969098 -0.46885289]\n",
      "propagated [ 0.85803356 -0.21026385 -0.46858032]\n",
      "fit currently 0.9999972191886008\n",
      "---\n",
      "measurment [ 0.859026   -0.20897578 -0.46733655]\n",
      "propagated [ 0.85903498 -0.20955161 -0.46706213]\n",
      "fit currently 0.9999970157078703\n",
      "---\n",
      "measurment [ 0.86002324 -0.20826023 -0.46581939]\n",
      "propagated [ 0.86003247 -0.20883772 -0.46554373]\n",
      "fit currently 0.9999968109254553\n",
      "---\n",
      "measurment [ 0.86101657 -0.20754433 -0.46430143]\n",
      "propagated [ 0.86102603 -0.20812219 -0.46402514]\n",
      "fit currently 0.9999966057512963\n",
      "---\n",
      "measurment [ 0.862006   -0.20682808 -0.46278267]\n",
      "propagated [ 0.86201567 -0.20740503 -0.46250637]\n",
      "fit currently 0.9999964010975232\n",
      "---\n",
      "measurment [ 0.86299152 -0.20611149 -0.46126315]\n",
      "propagated [ 0.86300137 -0.20668625 -0.46098745]\n",
      "fit currently 0.999996197872357\n",
      "---\n",
      "measurment [ 0.86397313 -0.20539458 -0.45974286]\n",
      "propagated [ 0.86398314 -0.20596586 -0.45946839]\n",
      "fit currently 0.9999959969740202\n",
      "---\n",
      "measurment [ 0.86495082 -0.20467735 -0.45822184]\n",
      "propagated [ 0.86496097 -0.20524387 -0.45794921]\n",
      "fit currently 0.9999957992846574\n",
      "---\n",
      "measurment [ 0.8659246 -0.2039598 -0.4567001]\n",
      "propagated [ 0.86593485 -0.20452029 -0.45642994]\n",
      "fit currently 0.9999956056642665\n",
      "---\n",
      "measurment [ 0.86689447 -0.20324195 -0.45517765]\n",
      "propagated [ 0.86690479 -0.20379513 -0.45491058]\n",
      "fit currently 0.9999954169446407\n",
      "---\n",
      "measurment [ 0.86786041 -0.2025238  -0.45365451]\n",
      "propagated [ 0.86787077 -0.2030684  -0.45339116]\n",
      "fit currently 0.999995233923322\n",
      "---\n",
      "measurment [ 0.86882244 -0.20180537 -0.4521307 ]\n",
      "propagated [ 0.86883281 -0.20234011 -0.4518717 ]\n",
      "fit currently 0.9999950573575658\n",
      "---\n",
      "measurment [ 0.86978054 -0.20108665 -0.45060623]\n",
      "propagated [ 0.86979089 -0.20161026 -0.45035221]\n",
      "fit currently 0.999994887958316\n",
      "---\n",
      "measurment [ 0.87073472 -0.20036766 -0.44908111]\n",
      "propagated [ 0.87074501 -0.20087887 -0.44883271]\n",
      "fit currently 0.9999947263841956\n",
      "---\n",
      "measurment [ 0.87168498 -0.1996484  -0.44755538]\n",
      "propagated [ 0.87169517 -0.20014595 -0.44731322]\n",
      "fit currently 0.9999945732355061\n",
      "---\n",
      "measurment [ 0.87263131 -0.19892889 -0.44602903]\n",
      "propagated [ 0.87264137 -0.19941151 -0.44579377]\n",
      "fit currently 0.9999944290482415\n",
      "---\n",
      "measurment [ 0.87357371 -0.19820912 -0.44450209]\n",
      "propagated [ 0.87358361 -0.19867555 -0.44427435]\n",
      "fit currently 0.9999942942881156\n",
      "---\n",
      "measurment [ 0.87451219 -0.19748911 -0.44297457]\n",
      "propagated [ 0.87452188 -0.19793809 -0.44275501]\n",
      "fit currently 0.9999941693446001\n",
      "---\n",
      "measurment [ 0.87544674 -0.19676887 -0.4414465 ]\n",
      "propagated [ 0.87545618 -0.19719914 -0.44123574]\n",
      "fit currently 0.9999940545249806\n",
      "---\n",
      "measurment [ 0.87637737 -0.1960484  -0.43991788]\n",
      "propagated [ 0.87638651 -0.1964587  -0.43971658]\n",
      "fit currently 0.9999939500484232\n",
      "---\n",
      "measurment [ 0.87730406 -0.19532771 -0.43838873]\n",
      "propagated [ 0.87731286 -0.19571679 -0.43819754]\n",
      "fit currently 0.9999938560400555\n",
      "---\n",
      "measurment [ 0.87822682 -0.1946068  -0.43685906]\n",
      "propagated [ 0.87823524 -0.19497341 -0.43667863]\n",
      "fit currently 0.9999937725250645\n",
      "---\n",
      "measurment [ 0.87914566 -0.19388569 -0.4353289 ]\n",
      "propagated [ 0.87915365 -0.19422858 -0.43515988]\n",
      "fit currently 0.9999936994228062\n",
      "---\n",
      "measurment [ 0.88006056 -0.19316439 -0.43379826]\n",
      "propagated [ 0.88006808 -0.1934823  -0.4336413 ]\n",
      "fit currently 0.9999936365409332\n",
      "---\n",
      "measurment [ 0.88097153 -0.1924429  -0.43226716]\n",
      "propagated [ 0.88097853 -0.19273459 -0.43212291]\n",
      "fit currently 0.9999935835695358\n",
      "---\n",
      "measurment [ 0.88187857 -0.19172122 -0.4307356 ]\n",
      "propagated [ 0.881885   -0.19198545 -0.43060472]\n",
      "fit currently 0.9999935400752992\n",
      "---\n",
      "measurment [ 0.88278168 -0.19099937 -0.42920361]\n",
      "propagated [ 0.88278749 -0.1912349  -0.42908677]\n",
      "fit currently 0.9999935054956772\n",
      "---\n",
      "measurment [ 0.88368086 -0.19027735 -0.42767121]\n",
      "propagated [ 0.883686   -0.19048294 -0.42756906]\n",
      "fit currently 0.9999934791330821\n",
      "---\n",
      "measurment [ 0.88457611 -0.18955518 -0.4261384 ]\n",
      "propagated [ 0.88458053 -0.18972958 -0.42605161]\n",
      "fit currently 0.9999934601490904\n",
      "---\n",
      "measurment [ 0.88546743 -0.18883285 -0.42460521]\n",
      "propagated [ 0.88547108 -0.18897483 -0.42453443]\n",
      "fit currently 0.9999934475586661\n",
      "---\n",
      "measurment [ 0.88635482 -0.18811038 -0.42307164]\n",
      "propagated [ 0.88635764 -0.18821871 -0.42301756]\n",
      "fit currently 0.9999934402244004\n",
      "---\n",
      "measurment [ 0.88723828 -0.18738777 -0.42153773]\n",
      "propagated [ 0.88724022 -0.18746122 -0.421501  ]\n",
      "fit currently 0.9999934368507692\n",
      "---\n",
      "measurment [ 0.88811781 -0.18666503 -0.42000347]\n",
      "propagated [ 0.88811881 -0.18670237 -0.41998477]\n",
      "fit currently 0.9999934359784093\n",
      "---\n",
      "measurment [ 0.88899342 -0.18594217 -0.41846889]\n",
      "propagated [ 0.88899342 -0.18594217 -0.41846889]\n",
      "fit currently 0.9999934359784092\n",
      "---\n"
     ]
    },
    {
     "data": {
      "text/plain": [
       "0.9999934359784092"
      ]
     },
     "execution_count": 252,
     "metadata": {},
     "output_type": "execute_result"
    }
   ],
   "source": [
    "fitness(elements_sat, set_of_measurments, [6929.3203653797,0.0300116531,1.7162873512,0.8762504074,5.7380713477,3.1008175552])"
   ]
  },
  {
   "cell_type": "code",
   "execution_count": null,
   "metadata": {},
   "outputs": [],
   "source": [
    "print(best_point)\n",
    "\n",
    "D, rO_perigee = evaluate_D(elements_sat, 60)\n",
    "# Set up Lambert's problem\n",
    "rT_i, rT_f = get_target_r(elements_sat,elements_deb, [4686.363636363637, 4686.363636363637], 60)\n",
    "# solve Lambert's problem\n",
    "elementsT_estimated = list(solve_lambert(r1 = rT_i, r2 = rT_f, tof = 60))\n",
    "print(elementsT_estimated)\n",
    "fit = fitness(elements_sat, elements_deb, elementsT_estimated, no_of_measurments = 60)\n",
    "print(fit)"
   ]
  },
  {
   "cell_type": "code",
   "execution_count": 262,
   "metadata": {},
   "outputs": [
    {
     "name": "stdout",
     "output_type": "stream",
     "text": [
      "from rho (array([-3370.40082161, -4938.35873329,  3897.60440158]), array([-3.28804323, -2.55804492, -6.06789951]))\n",
      "ideal (array([ 2644.71527012, -6597.70363665,   203.65960376]), array([6.1781863 , 2.13873564, 3.83254291]))\n",
      "satellite (array([-3407.72971403, -4928.06109229,  3920.52845889]), array([-3.34761025, -2.58520094, -6.12964399]))\n",
      "[ 0.82953094 -0.22883647 -0.50942349]\n",
      "[ 0.82953093 -0.22883647 -0.5094235 ]\n"
     ]
    }
   ],
   "source": [
    "print(\"from rho\",propagate_based_on_elements([6929.3203653797,0.0300116531,1.7162873512,0.8762504074,5.7380713477,3.1008175552], 0, kepler=False))\n",
    "print(\"ideal\", propagate_based_on_elements(elements_deb, 0, kepler=False))\n",
    "\n",
    "print(\"satellite\", propagate_based_on_elements(elements_sat,0, kepler=False))\n",
    "\n",
    "print(unit_vector(propagate_based_on_elements(elements_sat,0, kepler=False)[0], propagate_based_on_elements([6929.3203653797,0.0300116531,1.7162873512,0.8762504074,5.7380713477,3.1008175552], 0, kepler=False)[0]))\n",
    "\n",
    "print(unit_vector(propagate_based_on_elements(elements_sat,0, kepler=False)[0], propagate_based_on_elements(elements_deb, 0, kepler=False)[0]))"
   ]
  },
  {
   "cell_type": "code",
   "execution_count": null,
   "metadata": {},
   "outputs": [],
   "source": [
    "fit = fitness(elements_sat, elements_deb, [9450.49625553981, 0.2501664703342994, 1.7154666684924387, 0.8703258847995052, 2.9719140826855535, -2.995440490696146], no_of_measurments = 60)\n",
    "fit"
   ]
  },
  {
   "attachments": {},
   "cell_type": "markdown",
   "metadata": {},
   "source": [
    "Python reminder"
   ]
  },
  {
   "cell_type": "code",
   "execution_count": null,
   "metadata": {},
   "outputs": [
    {
     "data": {
      "text/plain": [
       "[1, 3, 6, 2, 4]"
      ]
     },
     "execution_count": 103,
     "metadata": {},
     "output_type": "execute_result"
    }
   ],
   "source": [
    "L = [1,3,6,2,4]\n",
    "Ln = L.copy()\n",
    "Ln.sort()\n",
    "L"
   ]
  },
  {
   "cell_type": "code",
   "execution_count": 77,
   "metadata": {},
   "outputs": [
    {
     "name": "stdout",
     "output_type": "stream",
     "text": [
      "1\n",
      "2\n",
      "here\n"
     ]
    }
   ],
   "source": [
    "f = False\n",
    "n = 0\n",
    "while f == False:\n",
    "    n +=1\n",
    "    if n == 3:\n",
    "        print(\"here\")\n",
    "        f = False\n",
    "        break\n",
    "    print(n)"
   ]
  },
  {
   "cell_type": "code",
   "execution_count": 79,
   "metadata": {},
   "outputs": [
    {
     "data": {
      "text/plain": [
       "[0, 1, 2]"
      ]
     },
     "execution_count": 79,
     "metadata": {},
     "output_type": "execute_result"
    }
   ],
   "source": [
    "l = [x for x in range(3)]\n",
    "l"
   ]
  },
  {
   "cell_type": "code",
   "execution_count": null,
   "metadata": {},
   "outputs": [
    {
     "data": {
      "text/plain": [
       "[1964, 2013, 2018]"
      ]
     },
     "execution_count": 5,
     "metadata": {},
     "output_type": "execute_result"
    }
   ],
   "source": [
    "l = [{\"brand\": \"Ford\",\n",
    "  \"model\": \"Mustang\",\n",
    "  \"year\": 1964\n",
    "}, {\n",
    "  \"brand\": \"Volvo\",\n",
    "  \"model\": \"SUV\",\n",
    "  \"year\": 2018\n",
    "},\n",
    "{\"brand\": \"Audi\",\n",
    "  \"model\": \"A7\",\n",
    "  \"year\": 2013},\n",
    "  ]\n",
    "\n",
    "for dict1 in l:\n",
    "    if dict1[\"year\"] >= 2000:\n",
    "        dict1[\"new\"] = True\n",
    "\n",
    "# order l based on year\n",
    "years = []\n",
    "for dict1 in l:\n",
    "    years.append(dict1[\"year\"])\n",
    "    years.sort()\n",
    "\n",
    "years"
   ]
  },
  {
   "cell_type": "code",
   "execution_count": null,
   "metadata": {},
   "outputs": [
    {
     "data": {
      "text/plain": [
       "(9450.496255539807,\n",
       " 0.25016647033429984,\n",
       " 1.7154666684924387,\n",
       " 0.8703258847995052,\n",
       " 2.971914082685554,\n",
       " -2.9678853860378602)"
      ]
     },
     "execution_count": 99,
     "metadata": {},
     "output_type": "execute_result"
    }
   ],
   "source": [
    "e1 = [9450.49625553981, 0.2501664703342994, 1.7154666684924387, 0.8703258847995052, 2.9719140826855535, -2.995440490696146]\n",
    "r, v = pykep.par2ic(e1, mu=398600)\n",
    "rf,vf = pykep.propagate_lagrangian(r0 = r, v0 = v, tof = 50,mu = 398600)\n",
    "e2 = pykep.ic2par(rf,vf,mu = 398600)\n",
    "e2"
   ]
  },
  {
   "cell_type": "code",
   "execution_count": null,
   "metadata": {},
   "outputs": [
    {
     "data": {
      "text/plain": [
       "3.141592653589793"
      ]
     },
     "execution_count": 101,
     "metadata": {},
     "output_type": "execute_result"
    }
   ],
   "source": [
    "np.radians(180)"
   ]
  },
  {
   "cell_type": "code",
   "execution_count": 47,
   "metadata": {},
   "outputs": [
    {
     "name": "stdout",
     "output_type": "stream",
     "text": [
      "0\n",
      "1\n"
     ]
    }
   ],
   "source": [
    "for t in range(2):\n",
    "    print(t)"
   ]
  },
  {
   "cell_type": "code",
   "execution_count": null,
   "metadata": {},
   "outputs": [],
   "source": []
  }
 ],
 "metadata": {
  "kernelspec": {
   "display_name": "Python 3",
   "language": "python",
   "name": "python3"
  },
  "language_info": {
   "codemirror_mode": {
    "name": "ipython",
    "version": 3
   },
   "file_extension": ".py",
   "mimetype": "text/x-python",
   "name": "python",
   "nbconvert_exporter": "python",
   "pygments_lexer": "ipython3",
   "version": "3.10.5"
  },
  "orig_nbformat": 4,
  "vscode": {
   "interpreter": {
    "hash": "26de051ba29f2982a8de78e945f0abaf191376122a1563185a90213a26c5da77"
   }
  }
 },
 "nbformat": 4,
 "nbformat_minor": 2
}
