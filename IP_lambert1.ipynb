{
 "cells": [
  {
   "cell_type": "code",
   "execution_count": 11,
   "metadata": {},
   "outputs": [],
   "source": [
    "import numpy as np\n",
    "import matplotlib.pyplot as plt\n",
    "import pykep\n",
    "import random\n",
    "from scipy.optimize import newton"
   ]
  },
  {
   "attachments": {},
   "cell_type": "markdown",
   "metadata": {},
   "source": [
    "Orbit as a function of time"
   ]
  },
  {
   "cell_type": "code",
   "execution_count": 102,
   "metadata": {},
   "outputs": [],
   "source": [
    "def get_period(a, mu = 398600):\n",
    "    \"\"\"`\n",
    "    return the period in seconds\n",
    "    a needs to be in km\n",
    "    \"\"\"\n",
    "    return (2*np.pi*a**1.5)/mu**0.5\n",
    "\n",
    "def kepler(E, M_e, e):\n",
    "    \"\"\"Kepler's equation, to be used in a Newton solver.\"\"\"\n",
    "    return E - e * np.sin(E) - M_e\n",
    "\n",
    "def d_kepler_d_E(E, M_e, e):\n",
    "    \"\"\"The derivative of Kepler's equation, to be used in a Newton solver.\n",
    "    \n",
    "    Note that the argument M_e is unused, but must be present so the function\n",
    "    arguments are consistent with the kepler function.\n",
    "    \"\"\"\n",
    "    return 1 - e * np.cos(E)\n",
    "\n",
    "def time_since_perigee(elements):\n",
    "    a = elements[0]\n",
    "    e = elements[1]\n",
    "    E = elements[5]\n",
    "    E_mean = E - e*np.sin(E)\n",
    "    T = get_period(a)\n",
    "    return E_mean * T/(2*np.pi)\n",
    "\n",
    "def propagate_based_on_vector(r,v, t):\n",
    "    rf, vf = pykep.propagate_lagrangian(r0 = r, v0 = v, tof = t,mu = 398600)\n",
    "    return rf, vf\n",
    "\n",
    "def propagate_based_on_elements(elements, t, kepler=True):\n",
    "    r, v = pykep.par2ic(elements, mu=398600)\n",
    "    rf,vf = pykep.propagate_lagrangian(r0 = r, v0 = v, tof = t,mu = 398600)\n",
    "    if kepler == False:  # return vectors\n",
    "        return rf,vf\n",
    "    if kepler == True:  # return kepler elements\n",
    "        return pykep.ic2par(rf,vf,mu = 398600)"
   ]
  },
  {
   "attachments": {},
   "cell_type": "markdown",
   "metadata": {},
   "source": [
    "Unit vectors"
   ]
  },
  {
   "cell_type": "code",
   "execution_count": 81,
   "metadata": {},
   "outputs": [],
   "source": [
    "def L_between_orbits(elements1, elements2, t):\n",
    "    \"\"\"\n",
    "    Input is two Kepler orbits in Kepler elements\n",
    "    \"\"\"\n",
    "    r1, v1 = propagate_based_on_elements(elements1, t, kepler=False)\n",
    "    print(\"rO\", r1)\n",
    "    r2, v2 = propagate_based_on_elements(elements2, t, kepler=False)\n",
    "    print(\"rT\", r2)\n",
    "    r1 = np.array(r1)\n",
    "    r2 = np.array(r2)\n",
    "    rel = r2 - r1\n",
    "    print(\"relative vector\", rel)\n",
    "    unit = rel/np.linalg.norm(rel)\n",
    "    print(\"unit vector\", unit)\n",
    "    return unit"
   ]
  },
  {
   "attachments": {},
   "cell_type": "markdown",
   "metadata": {},
   "source": [
    "Lambert's problem"
   ]
  },
  {
   "cell_type": "code",
   "execution_count": 14,
   "metadata": {},
   "outputs": [],
   "source": [
    "def constraints(elements, rO_perigee):\n",
    "    \"\"\"\n",
    "    Return true if satisfied.\n",
    "    \"\"\"\n",
    "    a = elements[0]\n",
    "    e = elements[1]\n",
    "    R_earth = 6371 # km\n",
    "    \n",
    "    if R_earth + 200 <= a and a <= 50000 and 0 <= e and e <= 1 - rO_perigee/50000: # aT_max = 50000 km\n",
    "        return True\n",
    "    else:\n",
    "        return False"
   ]
  },
  {
   "cell_type": "code",
   "execution_count": 15,
   "metadata": {},
   "outputs": [],
   "source": [
    "def get_target_r(elementsO, elementsT, point, t):\n",
    "    \"\"\"\n",
    "    The inputs are the observer elements and target elements at the initial time.\n",
    "    For final measurments they are propagated forward in time (t).\n",
    "    Point corresponds to a chromosome.\n",
    "    Returns intial and final target posistion vectors.\n",
    "    \"\"\"\n",
    "    # initial \"measurment\" and orbit\n",
    "    rho_i = point[0]\n",
    "    rO_initial, vO_initial = pykep.par2ic(elementsO, mu=398600)\n",
    "    L_t0 = L_between_orbits(elementsO, elementsT, 0)\n",
    "    rT_i = rho_i*L_t0 + rO_i\n",
    "    # final \"measurment\" and orbit\n",
    "    rho_f = point[1]\n",
    "    rO_f = orbit(elementsO, t)[0]\n",
    "    L_tf = L_between_orbits(elementsO, elementsT, t)\n",
    "    rT_f = rho_f*L_tf + rO_f\n",
    "\n",
    "    return rT_i, rT_f"
   ]
  },
  {
   "cell_type": "code",
   "execution_count": null,
   "metadata": {},
   "outputs": [],
   "source": [
    "def solve_lambert(ri, rf, TOF):\n",
    "    \"\"\"\n",
    "    Solves the lambert problem. Input two posistion vector and the time between those locations.\n",
    "    Returns the solution in Kepler elements.\n",
    "    \"\"\"\n",
    "    # solve Lambert's problem\n",
    "    l = pykep.lambert_problem(r1 = ri, r2 = rf, tof = TOF, mu=398600, cw=True)\n",
    "    # convert results\n",
    "    vi = l.get_v1()[0]  # get the velocity vector at initial time for one revolution\n",
    "    elements = pykep.ic2par(ri,vi, mu=398600)  # get Kepler elements from pos and vel vectors\n",
    "    return elements"
   ]
  },
  {
   "cell_type": "code",
   "execution_count": 16,
   "metadata": {},
   "outputs": [],
   "source": [
    "def Lambert_problem(data, elementsO, rT_initial, rT_final, point, rO_perigee, TOF):\n",
    "    # solve Lambert's problem\n",
    "    elementsT_estimated = list(solve_lambert(r1 = rT_initial, r2 = rT_final, tof = TOF))\n",
    "    if constraints(elementsT_estimated, rO_perigee) is True:\n",
    "        new_dict = dict(Point = point, Orbit = elementsT_estimated)\n",
    "        data.append(new_dict)\n",
    "    if constraints(elementsT_estimated, rO_perigee) is False:\n",
    "        raise ValueError\n",
    "    return data"
   ]
  },
  {
   "attachments": {},
   "cell_type": "markdown",
   "metadata": {},
   "source": [
    "Utility functions"
   ]
  },
  {
   "cell_type": "code",
   "execution_count": 17,
   "metadata": {},
   "outputs": [],
   "source": [
    "def evaluate_D(elementsO, TOF):\n",
    "    mu = 398600  # km^3/s^2. Make into a global variable later. Can I make TOF a global variable?\n",
    "    aO = elementsO[0]\n",
    "    eO = elementsO[1]\n",
    "    aT_max = 50000\n",
    "\n",
    "    # some calculations\n",
    "    rO_perigee = (1-eO)*aO\n",
    "    vO_perigee = ((1+eO)/(1-eO) * mu/aO)**0.5\n",
    "    vT_perigee_max = (2*mu/rO_perigee*(1-rO_perigee/(2*aT_max)))**0.5\n",
    "\n",
    "    return (vO_perigee + vT_perigee_max)*TOF, rO_perigee"
   ]
  },
  {
   "cell_type": "code",
   "execution_count": 26,
   "metadata": {},
   "outputs": [],
   "source": [
    "def grid_between_lines(D, N, a=9000):\n",
    "    distances = []  # a list that will contain the whole population points (rho_i, rho_f)\n",
    "    A = a*a\n",
    "    A_s = A - (a-D)*a/2 - (a-2*D)*(a-D)/2\n",
    "    no_of_nodes = N*A/A_s  # no of nodes in the 9000x9000 (height x width) rectangle\n",
    "\n",
    "    xs = np.linspace(0, a, int((no_of_nodes)**0.5)) # create values for rho_i\n",
    "    ys = np.linspace(0, a, int((no_of_nodes)**0.5)) # create values for rho_f\n",
    "    \n",
    "    for x in xs:\n",
    "        for y in ys:\n",
    "            if y < (x + D) and y > (x - D):\n",
    "                distances.append([x,y])  # only add points that are between the lines\n",
    "\n",
    "    #plt.plot(xc, yc, '.r')\n",
    "    #plt.show()\n",
    "    \n",
    "    return distances"
   ]
  },
  {
   "cell_type": "code",
   "execution_count": 33,
   "metadata": {},
   "outputs": [],
   "source": [
    "def get_elite(data, n=100):\n",
    "    values = []\n",
    "    for dict1 in data:\n",
    "        values.append(dict1[\"Fit\"])\n",
    "        values.sort(reverse=True)  # descending order\n",
    "\n",
    "    data_elite = []\n",
    "    min_value = values[n-1]\n",
    "\n",
    "    for dict2 in data:\n",
    "        if dict2[\"Fit\"]>= min_value:\n",
    "            data_elite.append(dict2)\n",
    "\n",
    "    return data_elite\n",
    "\n",
    "def get_best(data):\n",
    "    max_fit = 0\n",
    "    i = 0\n",
    "    for dict1 in data:\n",
    "        fit = dict1[\"Fit\"]\n",
    "        if fit > max_fit:\n",
    "            i_max = i\n",
    "            max_fit = fit\n",
    "        i += 1\n",
    "    return data[i_max]\n"
   ]
  },
  {
   "cell_type": "code",
   "execution_count": 29,
   "metadata": {},
   "outputs": [],
   "source": [
    "def show_pop(data):\n",
    "    xs = []\n",
    "    ys = []\n",
    "    for dict1 in data:\n",
    "        xs.append(dict1[\"Point\"][0])\n",
    "        ys.append(dict1[\"Point\"][1])\n",
    "        \n",
    "    plt.plot(xs, ys, '.k')\n",
    "    plt.show()"
   ]
  },
  {
   "attachments": {},
   "cell_type": "markdown",
   "metadata": {},
   "source": [
    "Genetic algorithm building blocks"
   ]
  },
  {
   "cell_type": "code",
   "execution_count": 20,
   "metadata": {},
   "outputs": [],
   "source": [
    "def mutation(data, elementsO, elementsT, rO_perigee, TOF, no_of_outputs):\n",
    "    \"\"\"\n",
    "    Input how many extra chromoses are wanted.\n",
    "    \"\"\"\n",
    "    stnd_dev = 10  # may change. In the paper they used 10\n",
    "    for i in range(no_of_outputs):\n",
    "        passed = False\n",
    "        while passed is False:\n",
    "            index = random.randint(0, len(data) - 1)\n",
    "            rho0, rho1 = data[index][\"Point\"]\n",
    "            rho0_new = rho0 + stnd_dev\n",
    "            rho1_new = rho1 + stnd_dev\n",
    "            try:\n",
    "                data = Lambert_problem(data, elementsO, elementsT, [rho0_new, rho1_new], rO_perigee, TOF)\n",
    "                passed = True\n",
    "            except ValueError:\n",
    "                passed = False  # will go back into the loop and select a new random point that passes the constraints\n",
    "    return data"
   ]
  },
  {
   "cell_type": "code",
   "execution_count": 21,
   "metadata": {},
   "outputs": [],
   "source": [
    "def one_crossover(point1, point2, D):\n",
    "    point1[1] = point2[1]\n",
    "    point2[1] = point1[1]\n",
    "\n",
    "    if abs(point1[0] - point1[1]) < D and abs(point2[0] - point2[1]) < D:\n",
    "        if np.random.randint(0,1) == 1:\n",
    "            return point1\n",
    "        else:\n",
    "            return point2\n",
    "    else:\n",
    "        return False\n",
    "\n",
    "def get_random_points(data):\n",
    "    index1 = random.randint(0, len(data) - 1)\n",
    "    index2 = random.randint(0, len(data) - 1)\n",
    "    while index1 == index2:  # can't be the same\n",
    "        index2 = random.randint(0, len(data) - 1)\n",
    "    point1 = data[index1][\"Point\"]\n",
    "    point2 = data[index2][\"Point\"]\n",
    "    return point1, point2\n",
    "\n",
    "def crossover(data, elementsO, elementsT, rO_perigee, TOF, no_of_outputs, D):\n",
    "    for i in range(no_of_outputs):\n",
    "        passed = False\n",
    "        while passed is False:\n",
    "            point1, point2 = get_random_points(data)\n",
    "            extra_point = one_crossover(point1, point2, D)\n",
    "            while extra_point == False:\n",
    "                point1, point2 = get_random_points(data)\n",
    "                extra_point = one_crossover(point1, point2, D)  # the inequality must be satisfied\n",
    "            try:\n",
    "                data = Lambert_problem(data, elementsO, elementsT, extra_point, rO_perigee, TOF)  # solve for orbits\n",
    "                passed = True\n",
    "            except ValueError:\n",
    "                passed = False  # will go back into the loop and select a new random point that passes the constraints\n",
    "    return data\n"
   ]
  },
  {
   "cell_type": "code",
   "execution_count": 83,
   "metadata": {},
   "outputs": [],
   "source": [
    "def fitness(elementsO, elementsT, estimated_orbit, no_of_measurments = 60):\n",
    "    \"\"\"\n",
    "    elementsT is currently here to compare against the ideal. Later will be changed to be a\n",
    "    dataset with measurments (posistion vectors).\n",
    "    \"\"\"\n",
    "    fit = 1\n",
    "    for t in range(no_of_measurments):\n",
    "        print(\"L measurment\")\n",
    "        L_measurment = L_between_orbits(elementsO, elementsT, t)\n",
    "        print(\"L ast\")\n",
    "        L_ast = L_between_orbits(elementsO, estimated_orbit, t)\n",
    "        print(\"dot product\", np.dot(L_measurment, L_ast))\n",
    "        fit = fit * np.dot(L_measurment, L_ast)\n",
    "        print(\"---\")\n",
    "    return fit\n",
    "\n",
    "def objective_func(elementsO, elementsT, data):\n",
    "    index = 0\n",
    "    fit_values = []\n",
    "    for og_dict in data:\n",
    "        fit_value = fitness(elementsO, elementsT, og_dict[\"Orbit\"])\n",
    "        og_dict[\"Fit\"] = fit_value   # fitness value in the data\n",
    "\n",
    "    return data\n"
   ]
  },
  {
   "cell_type": "code",
   "execution_count": 103,
   "metadata": {},
   "outputs": [],
   "source": [
    "def initialise_pop(elementsO, rT_intial, rT_final, TOF=60, N=1000):\n",
    "    \"\"\"\n",
    "    Initialises the population of specific size based on initial and final \"measurments\".\n",
    "    The inputs are the observer orbit and the inital and final posistion vector for the target.\n",
    "    Returns a list of dictionaries.\n",
    "    \"\"\"\n",
    "    D, rO_perigee = evaluate_D(elementsO, TOF)\n",
    "    # get an evenly spaced grid between two lines Rho in the range [0,9000]\n",
    "    original_population = grid_between_lines(D, N)  # initial population\n",
    "    data = []\n",
    "    \n",
    "    for point in original_population:\n",
    "        try:\n",
    "            data = Lambert_problem(data, elementsO, rT_intial, rT_final, point, rO_perigee, TOF)\n",
    "        except ValueError:\n",
    "            continue\n",
    "    \n",
    "    n = len(data)\n",
    "    \n",
    "    if n > N:\n",
    "        # remove the number of extra points randomly\n",
    "        no_of_extra_points = n - N\n",
    "        for i in range(no_of_extra_points):\n",
    "            index = random.randint(0, len(data)-1)\n",
    "            data.pop(index)\n",
    "\n",
    "    if n < N:\n",
    "        # gain extra points via mutation\n",
    "        no_of_extra_points = N - n\n",
    "        data = mutation(data, elementsO, elementsT, rO_perigee, TOF, no_of_extra_points)  # for new points I have to solve for the orbit again\n",
    "        \n",
    "        \n",
    "    return data"
   ]
  },
  {
   "attachments": {},
   "cell_type": "markdown",
   "metadata": {},
   "source": [
    "Stop conditions"
   ]
  },
  {
   "cell_type": "code",
   "execution_count": 24,
   "metadata": {},
   "outputs": [],
   "source": [
    "def mean(data):\n",
    "    n = len(data)\n",
    "    sum_i = 0\n",
    "    sum_f = 0\n",
    "    for dict1 in data:\n",
    "        sum_i += dict1[\"Point\"][0]\n",
    "        sum_f += dict1[\"Point\"][1]\n",
    "    return sum_i/n, sum_f/n    \n",
    "\n",
    "def covariance_matrix(data):\n",
    "    \"\"\"\n",
    "    Returns the standard deviations of the population in terms of two variables.\n",
    "    Our points consist of initial and final distance.\n",
    "    \"\"\"\n",
    "    c11 = 0\n",
    "    c12 = 0\n",
    "    c22 = 0\n",
    "    mean_i, mean_f = mean(data)\n",
    "    n = len(data)\n",
    "    for dict1 in data:\n",
    "        c11 += (dict1[\"Point\"][0]-mean_i)**2\n",
    "        c12 += (dict1[\"Point\"][0]-mean_i)*(dict1[\"Point\"][1]-mean_f)\n",
    "        c22 += (dict1[\"Point\"][1]-mean_f)**2\n",
    "    return (c11/n)**0.5, (c22/n)**0.5, (c12/n)**0.5\n",
    "\n",
    "def last_similarity(List, error = 0):\n",
    "    \"\"\"\n",
    "    The input list should be a list (2x2) in a list of length phi.\n",
    "    Return true if all the elements in the list are similar (same) comapred to the last element.\n",
    "    \"\"\"\n",
    "    value1, value2 = List[-1]\n",
    "    for point in List:\n",
    "        last_value1, last_value2 = point\n",
    "        difference1 = abs(last_value1 - value1)\n",
    "        difference2 = abs(last_value2 - value2)\n",
    "        if difference1 <= error and difference2 <= error:\n",
    "            continue\n",
    "        else:\n",
    "            return False   # is not similar\n",
    "    return True  # is similar\n",
    "    \n",
    "def stop_criteria(data, last_means, last_best_values, no_of_gens,lim_O = 5, lim_F = 5, max_gen=30,error = 0):\n",
    "    \"\"\"\n",
    "    Returns True if met.\n",
    "    \"\"\"\n",
    "    # for means\n",
    "    means_sim = last_similarity(last_means)\n",
    "    # for best values\n",
    "    best_sim = last_similarity(last_best_values)\n",
    "    # standard values\n",
    "    sigma_OO, sigma_FF, sigma_OF = covariance_matrix(data)\n",
    "    print(\"standard dev\", sigma_OO, sigma_FF, sigma_OF)\n",
    "    \n",
    "    if means_sim == True or best_sim == True:\n",
    "        print(\"similarity\")\n",
    "        return True\n",
    "    if no_of_gens >= max_gen:\n",
    "        print(\"max gens\")\n",
    "        return True, None, None\n",
    "    if sigma_OO <= lim_O and sigma_FF <= lim_F:\n",
    "        print(\"stnd dev\")\n",
    "        return True\n",
    "    else:\n",
    "        return False  # need these values for the next iteration"
   ]
  },
  {
   "attachments": {},
   "cell_type": "markdown",
   "metadata": {},
   "source": [
    "Initialisation"
   ]
  },
  {
   "cell_type": "code",
   "execution_count": 30,
   "metadata": {},
   "outputs": [
    {
     "data": {
      "image/png": "[encoded data removed]",
      "text/plain": [
       "<Figure size 640x480 with 1 Axes>"
      ]
     },
     "metadata": {},
     "output_type": "display_data"
    }
   ],
   "source": [
    "elements_deb = [7100,0.0043,np.radians(98.289),np.radians(49.866),np.radians(356.768),0]\n",
    "elements_sat = [7133.8,0.0043,np.radians(98.289),np.radians(49.866),np.radians(356.768),0]\n",
    "\n",
    "# initialise\n",
    "data = initialise_pop(elements_sat, elements_deb, N=1000)\n",
    "show_pop(data)"
   ]
  },
  {
   "cell_type": "code",
   "execution_count": 31,
   "metadata": {},
   "outputs": [],
   "source": [
    "data = objective_func(elements_sat, elements_deb, data)"
   ]
  },
  {
   "cell_type": "code",
   "execution_count": 34,
   "metadata": {},
   "outputs": [
    {
     "name": "stdout",
     "output_type": "stream",
     "text": [
      "best point [4909.09090909091, 4909.09090909091]\n"
     ]
    }
   ],
   "source": [
    "best_point = get_best(data)[\"Point\"]\n",
    "no_of_gens = 0\n",
    "phi = 3\n",
    "print(\"best point\", best_point)\n",
    "last_means = [(0,0) for x in range(phi)]\n",
    "last_means.pop(0)\n",
    "last_means.append(mean(data))\n",
    "\n",
    "last_best_values = [(0,0) for x in range(phi)]\n",
    "last_best_values.pop(0)\n",
    "last_best_values.append(best_point)\n",
    "\n",
    "D, rO_perigee = evaluate_D(elements_sat, 60)  # maybe there is a better way to define this"
   ]
  },
  {
   "attachments": {},
   "cell_type": "markdown",
   "metadata": {},
   "source": [
    "Body"
   ]
  },
  {
   "cell_type": "code",
   "execution_count": null,
   "metadata": {},
   "outputs": [],
   "source": [
    "while stop_criteria(data, last_means, last_best_values, no_of_gens) is False:\n",
    "    \n",
    "    data_elite = get_elite(data)\n",
    "    print(\"elite\", data_elite)\n",
    "    # create new population and corresponding orbits\n",
    "    data_created = initialise_pop(elements_sat, elements_deb, N=50)  # create 5% of desired population size\n",
    "\n",
    "    #mutate\n",
    "    data_mutation = mutation(data_elite, elements_sat, elements_deb, rO_perigee, 60, 800)  # 800 corresponds to 80% of desired population \n",
    "\n",
    "    # crossover\n",
    "    data_crossover = crossover(data_mutation, elements_sat, elements_deb, rO_perigee, 60, 50, D)  # crossover 5% of desired population size\n",
    "\n",
    "    data = data_crossover + data_created\n",
    "    print(\"final\", len(data))\n",
    "\n",
    "    # get new fit_values\n",
    "    data = objective_func(elements_sat, elements_deb, data)\n",
    "    \n",
    "    # update last_means, last_best_values, no_of_gens\n",
    "    last_means.pop(0)\n",
    "    last_means.append(mean(data))\n",
    "    print(\"last means\", last_means)\n",
    "    best_point = get_best(data)[\"Point\"]\n",
    "    print(\"the best\", best_point)\n",
    "    last_best_values.pop(0)\n",
    "    last_best_values.append(best_point)\n",
    "    print(\"last bests\", last_best_values)\n",
    "    no_of_gens += 1\n",
    "else:\n",
    "    print(\"donzo\")"
   ]
  },
  {
   "attachments": {},
   "cell_type": "markdown",
   "metadata": {},
   "source": [
    "Debug"
   ]
  },
  {
   "cell_type": "code",
   "execution_count": null,
   "metadata": {},
   "outputs": [],
   "source": [
    "print(best_point)\n",
    "\n",
    "D, rO_perigee = evaluate_D(elements_sat, 60)\n",
    "# Set up Lambert's problem\n",
    "rT_i, rT_f = get_target_r(elements_sat,elements_deb, [4686.363636363637, 4686.363636363637], 60)\n",
    "# solve Lambert's problem\n",
    "elementsT_estimated = list(solve_lambert(r1 = rT_i, r2 = rT_f, tof = 60))\n",
    "print(elementsT_estimated)\n",
    "fit = fitness(elements_sat, elements_deb, elementsT_estimated, no_of_measurments = 60)\n",
    "print(fit)"
   ]
  },
  {
   "cell_type": "code",
   "execution_count": null,
   "metadata": {},
   "outputs": [],
   "source": [
    "fit = fitness(elements_sat, elements_deb, [9450.49625553981, 0.2501664703342994, 1.7154666684924387, 0.8703258847995052, 2.9719140826855535, -2.995440490696146], no_of_measurments = 60)\n",
    "fit"
   ]
  },
  {
   "attachments": {},
   "cell_type": "markdown",
   "metadata": {},
   "source": [
    "Python reminder"
   ]
  },
  {
   "cell_type": "code",
   "execution_count": 103,
   "metadata": {},
   "outputs": [
    {
     "data": {
      "text/plain": [
       "[1, 3, 6, 2, 4]"
      ]
     },
     "execution_count": 103,
     "metadata": {},
     "output_type": "execute_result"
    }
   ],
   "source": [
    "L = [1,3,6,2,4]\n",
    "Ln = L.copy()\n",
    "Ln.sort()\n",
    "L"
   ]
  },
  {
   "cell_type": "code",
   "execution_count": null,
   "metadata": {},
   "outputs": [
    {
     "data": {
      "text/plain": [
       "[0, 0, 0, 0, 0]"
      ]
     },
     "execution_count": 6,
     "metadata": {},
     "output_type": "execute_result"
    }
   ],
   "source": [
    "l=[0 for x in range(5)]\n",
    "l"
   ]
  },
  {
   "cell_type": "code",
   "execution_count": 10,
   "metadata": {},
   "outputs": [
    {
     "data": {
      "text/plain": [
       "[1, 2, 3, 4, 5, 5, 5, 5, 5, 5, 54]"
      ]
     },
     "execution_count": 10,
     "metadata": {},
     "output_type": "execute_result"
    }
   ],
   "source": [
    "l = [1,2,3,4,54,5,5,5,5,5,5]\n",
    "l.sort()\n",
    "l"
   ]
  },
  {
   "cell_type": "code",
   "execution_count": 5,
   "metadata": {},
   "outputs": [
    {
     "data": {
      "text/plain": [
       "[1964, 2013, 2018]"
      ]
     },
     "execution_count": 5,
     "metadata": {},
     "output_type": "execute_result"
    }
   ],
   "source": [
    "l = [{\"brand\": \"Ford\",\n",
    "  \"model\": \"Mustang\",\n",
    "  \"year\": 1964\n",
    "}, {\n",
    "  \"brand\": \"Volvo\",\n",
    "  \"model\": \"SUV\",\n",
    "  \"year\": 2018\n",
    "},\n",
    "{\"brand\": \"Audi\",\n",
    "  \"model\": \"A7\",\n",
    "  \"year\": 2013},\n",
    "  ]\n",
    "\n",
    "for dict1 in l:\n",
    "    if dict1[\"year\"] >= 2000:\n",
    "        dict1[\"new\"] = True\n",
    "\n",
    "# order l based on year\n",
    "years = []\n",
    "for dict1 in l:\n",
    "    years.append(dict1[\"year\"])\n",
    "    years.sort()\n",
    "\n",
    "years"
   ]
  },
  {
   "cell_type": "code",
   "execution_count": 99,
   "metadata": {},
   "outputs": [
    {
     "data": {
      "text/plain": [
       "(9450.496255539807,\n",
       " 0.25016647033429984,\n",
       " 1.7154666684924387,\n",
       " 0.8703258847995052,\n",
       " 2.971914082685554,\n",
       " -2.9678853860378602)"
      ]
     },
     "execution_count": 99,
     "metadata": {},
     "output_type": "execute_result"
    }
   ],
   "source": [
    "e1 = [9450.49625553981, 0.2501664703342994, 1.7154666684924387, 0.8703258847995052, 2.9719140826855535, -2.995440490696146]\n",
    "r, v = pykep.par2ic(e1, mu=398600)\n",
    "rf,vf = pykep.propagate_lagrangian(r0 = r, v0 = v, tof = 50,mu = 398600)\n",
    "e2 = pykep.ic2par(rf,vf,mu = 398600)\n",
    "e2"
   ]
  },
  {
   "cell_type": "code",
   "execution_count": 101,
   "metadata": {},
   "outputs": [
    {
     "data": {
      "text/plain": [
       "3.141592653589793"
      ]
     },
     "execution_count": 101,
     "metadata": {},
     "output_type": "execute_result"
    }
   ],
   "source": [
    "np.radians(180)"
   ]
  },
  {
   "cell_type": "code",
   "execution_count": null,
   "metadata": {},
   "outputs": [],
   "source": []
  }
 ],
 "metadata": {
  "kernelspec": {
   "display_name": "snakes",
   "language": "python",
   "name": "python3"
  },
  "language_info": {
   "codemirror_mode": {
    "name": "ipython",
    "version": 3
   },
   "file_extension": ".py",
   "mimetype": "text/x-python",
   "name": "python",
   "nbconvert_exporter": "python",
   "pygments_lexer": "ipython3",
   "version": "3.10.8"
  },
  "orig_nbformat": 4,
  "vscode": {
   "interpreter": {
    "hash": "ba46d3c1349a8793b8508840c8d7327b4fd991649259d1bdc996506b1c3d27b3"
   }
  }
 },
 "nbformat": 4,
 "nbformat_minor": 2
}
