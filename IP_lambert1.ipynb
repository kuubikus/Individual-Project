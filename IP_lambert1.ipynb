{
 "cells": [
  {
   "cell_type": "code",
   "execution_count": 2,
   "metadata": {},
   "outputs": [],
   "source": [
    "import numpy as np\n",
    "import matplotlib.pyplot as plt\n",
    "import pykep\n",
    "import random\n",
    "from scipy.optimize import newton"
   ]
  },
  {
   "cell_type": "code",
   "execution_count": 113,
   "metadata": {},
   "outputs": [],
   "source": [
    "def get_period(a, mu = 398600):\n",
    "    \"\"\"`\n",
    "    return the period in seconds\n",
    "    a needs to be in km\n",
    "    \"\"\"\n",
    "    return (2*np.pi*a**1.5)/mu**0.5\n",
    "\n",
    "def kepler(E, M_e, e):\n",
    "    \"\"\"Kepler's equation, to be used in a Newton solver.\"\"\"\n",
    "    return E - e * np.sin(E) - M_e\n",
    "\n",
    "def d_kepler_d_E(E, M_e, e):\n",
    "    \"\"\"The derivative of Kepler's equation, to be used in a Newton solver.\n",
    "    \n",
    "    Note that the argument M_e is unused, but must be present so the function\n",
    "    arguments are consistent with the kepler function.\n",
    "    \"\"\"\n",
    "    return 1 - e * np.cos(E)\n",
    "\n",
    "def orbit(elements, t):\n",
    "    \"\"\"\n",
    "    Gives the posistion and velocity vectors at time t (since perigee).\n",
    "    The elements input needs to be a list of Kepler elements as given by pykep package.\n",
    "    Only a and e are required for this stage.\n",
    "    \"\"\"\n",
    "    T = get_period(elements[0])\n",
    "    e = elements[1]\n",
    "    M_e = 2 * np.pi * t/T\n",
    "    E = newton(func=kepler, fprime=d_kepler_d_E, x0=np.pi, args=(M_e, e))\n",
    "    elements[5] = E\n",
    "    r,v = pykep.par2ic(elements, mu=398600)\n",
    "    r = np.array(r)\n",
    "    v = np.array(v)\n",
    "    return r,v"
   ]
  },
  {
   "cell_type": "code",
   "execution_count": 114,
   "metadata": {},
   "outputs": [],
   "source": [
    "def L_meas(elementsO, rel_vector, t):\n",
    "    \"\"\"\n",
    "    Give the unit vector between the known observer orbit and the relative vector\n",
    "    between the target and observer vector. \n",
    "    \"\"\"\n",
    "    rO, vO = orbit(elementsO, t)\n",
    "    rO = np.array(rO)\n",
    "    rel = rO - rel_vector\n",
    "    return rel/np.linalg.norm(rel)\n",
    "\n",
    "def L_between_orbits(elementsO, elementsT, t):\n",
    "    \"\"\"\n",
    "    Give the unit vector between two orbits defined by Kepler elements.\n",
    "    Only a and e are required for this stage\n",
    "    This will be used to generate \"measured\" data.\n",
    "    \"\"\"\n",
    "    rO, vO = orbit(elementsO, t)\n",
    "    rT, vT = orbit(elementsT, t)\n",
    "    rO = np.array(rO)\n",
    "    rT = np.array(rT)\n",
    "    rel = rO - rT\n",
    "    return rel/np.linalg.norm(rel)"
   ]
  },
  {
   "cell_type": "code",
   "execution_count": 115,
   "metadata": {},
   "outputs": [],
   "source": [
    "def get_target_r(elementsO, elementsT, point, t):\n",
    "    # initial \"measurment\" and orbit\n",
    "    rho_i = point[0]\n",
    "    rO_i = orbit(elementsO, 0)[0]\n",
    "    L_t0 = L_between_orbits(elementsO, elementsT, 0)\n",
    "    rT_i = rho_i*L_t0 + rO_i\n",
    "    # final \"measurment\" and orbit\n",
    "    rho_f = point[1]\n",
    "    rO_f = orbit(elementsO, t)[0]\n",
    "    L_tf = L_between_orbits(elementsO, elementsT, t)\n",
    "    rT_f = rho_f*L_tf + rO_f\n",
    "\n",
    "    return rT_i, rT_f\n",
    "\n",
    "def solve_lambert(r1, r2, tof):\n",
    "    \"\"\"\n",
    "    r1 and r2 are vectors (np arrays)\n",
    "    \"\"\"\n",
    "    # convert np array to list for pykep package\n",
    "    rT_i_list = np.ndarray.tolist(r1)  \n",
    "    rT_f_list = np.ndarray.tolist(r2)\n",
    "    # solve Lambert's problem\n",
    "    l = pykep.lambert_problem(r1 = rT_i_list, r2 = rT_f_list, tof = tof, mu=398600, cw=True)\n",
    "    # convert results\n",
    "    vi = l.get_v1()[0]  # get the velocity vector at initial time for one revolution\n",
    "    elements = pykep.ic2par(rT_i_list,vi, mu=398600)  # get Kepler elements from pos and vel vectors\n",
    "    return elements"
   ]
  },
  {
   "cell_type": "code",
   "execution_count": 116,
   "metadata": {},
   "outputs": [],
   "source": [
    "def constraints(elements, rO_perigee):\n",
    "    \"\"\"\n",
    "    Return true if satisfied.\n",
    "    \"\"\"\n",
    "    a = elements[0]\n",
    "    e = elements[1]\n",
    "    R_earth = 6371 # km\n",
    "    \n",
    "    if R_earth + 200 <= a and a <= 50000 and 0 <= e and e <= 1 - rO_perigee/50000: # aT_max = 50000 km\n",
    "        return True\n",
    "    else:\n",
    "        return False"
   ]
  },
  {
   "cell_type": "code",
   "execution_count": 117,
   "metadata": {},
   "outputs": [],
   "source": [
    "def Lambert_problem(population, orbits, elementsO, elementsT, point, rO_perigee, TOF):\n",
    "    # Set up Lambert's problem\n",
    "    rT_i, rT_f = get_target_r(elementsO,elementsT, point, TOF)\n",
    "    # solve Lambert's problem\n",
    "    elementsT_estimated = list(solve_lambert(r1 = rT_i, r2 = rT_f, tof = TOF))\n",
    "    if constraints(elementsT_estimated, rO_perigee) is True:\n",
    "        orbits.append(elementsT_estimated)\n",
    "        population.append(point)\n",
    "    if constraints(elementsT_estimated, rO_perigee) is False:\n",
    "        raise ValueError\n",
    "    return population, orbits"
   ]
  },
  {
   "cell_type": "code",
   "execution_count": 118,
   "metadata": {},
   "outputs": [],
   "source": [
    "def mutation(population, orbits, elementsO, elementsT, rO_perigee, TOF, no_of_outputs):\n",
    "    \"\"\"\n",
    "    Population is a list.\n",
    "    Input how many extra chromoses are wanted.\n",
    "    \"\"\"\n",
    "    stnd_dev = 10  # may change. In the paper they used 10\n",
    "    for i in range(no_of_outputs):\n",
    "        passed = False\n",
    "        while passed is False:\n",
    "            index = random.randint(0, len(population) - 1)\n",
    "            rho0, rho1 = population[index]\n",
    "            rho0_new = rho0 + stnd_dev\n",
    "            rho1_new = rho1 + stnd_dev\n",
    "            try:\n",
    "                population, orbits = Lambert_problem(population, orbits, elementsO, elementsT, [rho0_new, rho1_new], rO_perigee, TOF)\n",
    "                passed = True\n",
    "            except ValueError:\n",
    "                passed = False  # will go back into the loop and select a new random point that passes the constraints\n",
    "    return population, orbits"
   ]
  },
  {
   "cell_type": "code",
   "execution_count": 141,
   "metadata": {},
   "outputs": [],
   "source": [
    "def one_crossover(point1, point2, D):\n",
    "    point1[1] = point2[1]\n",
    "    point2[1] = point1[1]\n",
    "\n",
    "    if abs(point1[0] - point1[1]) < D and abs(point2[0] - point2[1]) < D:\n",
    "        if np.random.randint(0,1) == 1:\n",
    "            return point1\n",
    "        else:\n",
    "            return point2\n",
    "    else:\n",
    "        return False\n",
    "\n",
    "def get_random_points(population):\n",
    "    index1 = random.randint(0, len(population) - 1)\n",
    "    index2 = random.randint(0, len(population) - 1)\n",
    "    while index1 == index2:  # can't be the same\n",
    "        index2 = random.randint(0, len(population) - 1)\n",
    "    point1 = population[index1]\n",
    "    point2 = population[index2]\n",
    "    return point1, point2\n",
    "\n",
    "def crossover(population, orbits, elementsO, elementsT, rO_perigee, TOF, no_of_outputs, D):\n",
    "    for i in range(no_of_outputs):\n",
    "        passed = False\n",
    "        while passed is False:\n",
    "            point1, point2 = get_random_points(population)\n",
    "            extra_point = one_crossover(point1, point2, D)\n",
    "            while extra_point == False:\n",
    "                point1, point2 = get_random_points(population)\n",
    "                extra_point = one_crossover(point1, point2, D)  # the inequality must be satisfied\n",
    "            try:\n",
    "                population, orbits = Lambert_problem(population, orbits, elementsO, elementsT, extra_point, rO_perigee, TOF)  # solve for orbits\n",
    "                passed = True\n",
    "            except ValueError:\n",
    "                passed = False  # will go back into the loop and select a new random point that passes the constraints\n",
    "    return population, orbits\n"
   ]
  },
  {
   "cell_type": "code",
   "execution_count": 120,
   "metadata": {},
   "outputs": [],
   "source": [
    "def fitness(elementsO, elementsT, estimated_orbit, no_of_measurments = 60):\n",
    "    \"\"\"\n",
    "    For now it compares against the ideal.\n",
    "    \"\"\"\n",
    "    fit = 1\n",
    "    for t in range(no_of_measurments):\n",
    "        L_ideal = L_between_orbits(elementsO, elementsT, t)  \n",
    "        L_ast = L_between_orbits(elementsO, estimated_orbit, t)\n",
    "        fit = fit * np.dot(L_ideal, L_ast)\n",
    "    return fit\n",
    "\n",
    "def objective_func(elementsO, elementsT, estimated_orbits, population):\n",
    "    \"\"\"\n",
    "    Runs the fitness function on all points.\n",
    "    Saves the point with the corresponding fitness value   \n",
    "    \"\"\"\n",
    "    index = 0\n",
    "    fit_values = []\n",
    "    for orbit in estimated_orbits:\n",
    "        fit_value = fitness(elementsO, elementsT, orbit)\n",
    "        fit_values.append(fit_value)\n",
    "    return fit_values\n"
   ]
  },
  {
   "cell_type": "code",
   "execution_count": 121,
   "metadata": {},
   "outputs": [],
   "source": [
    "def evaluate_D(elementsO, TOF):\n",
    "    mu = 398600  # km^3/s^2. Make into a global variable later. Can I make TOF a global variable?\n",
    "    aO = elementsO[0]\n",
    "    eO = elementsO[1]\n",
    "    aT_max = 50000\n",
    "\n",
    "    # some calculations\n",
    "    rO_perigee = (1-eO)*aO\n",
    "    vO_perigee = ((1+eO)/(1-eO) * mu/aO)**0.5\n",
    "    vT_perigee_max = (2*mu/rO_perigee*(1-rO_perigee/(2*aT_max)))**0.5\n",
    "\n",
    "    return (vO_perigee + vT_perigee_max)*TOF, rO_perigee"
   ]
  },
  {
   "cell_type": "code",
   "execution_count": 122,
   "metadata": {},
   "outputs": [],
   "source": [
    "def grid_between_lines(D, N, a=9000):\n",
    "    distances = []  # a list that will contain the whole population points (rho_i, rho_f)\n",
    "    A = a*a\n",
    "    A_s = A - (a-D)*a/2 - (a-2*D)*(a-D)/2\n",
    "    no_of_nodes = N*A/A_s  # no of nodes in the 9000x9000 (height x width) rectangle\n",
    "\n",
    "    xs = np.linspace(0, a, int((no_of_nodes)**0.5)) # create values for rho_i\n",
    "    ys = np.linspace(0, a, int((no_of_nodes)**0.5)) # create values for rho_f\n",
    "    \n",
    "    for x in xs:\n",
    "        for y in ys:\n",
    "            if y < (x + D) and y > (x - D):\n",
    "                distances.append([x,y])  # only add points that are between the lines\n",
    "\n",
    "    #plt.plot(xc, yc, '.r')\n",
    "    #plt.show()\n",
    "    \n",
    "    return distances"
   ]
  },
  {
   "cell_type": "code",
   "execution_count": 147,
   "metadata": {},
   "outputs": [],
   "source": [
    "def mean(population):\n",
    "    n = len(population)\n",
    "    sum_i = 0\n",
    "    sum_f = 0\n",
    "    for point in population:\n",
    "        sum_i += point[0]\n",
    "        sum_f += point[1]\n",
    "    return sum_i/n, sum_f/n    \n",
    "\n",
    "def covariance_matrix(population):\n",
    "    \"\"\"\n",
    "    Returns the standard deviations of the population in terms of two variables.\n",
    "    Our points consist of initial and final distance.\n",
    "    \"\"\"\n",
    "    c11 = 0\n",
    "    c12 = 0\n",
    "    c22 = 0\n",
    "    mean_i, mean_f = mean(population)\n",
    "    n = len(population)\n",
    "    for point in population:\n",
    "        c11 += (point[0]-mean_i)**2\n",
    "        c12 += (point[0]-mean_i)*(point[1]-mean_f)\n",
    "        c22 += (point[1]-mean_f)**2\n",
    "    return (c11/n)**0.5, (c22/n)**0.5, (c12/n)**0.5\n",
    "\n",
    "def last_similarity(List, error = 0):\n",
    "    \"\"\"\n",
    "    The input list should be a list (2x2) in a list of length phi.\n",
    "    Return true if all the elements in the list are similar (same) comapred to the last element.\n",
    "    \"\"\"\n",
    "    value1, value2 = List[-1]\n",
    "    for point in List:\n",
    "        last_value1, last_value2 = point\n",
    "        difference1 = abs(last_value1 - value1)\n",
    "        difference2 = abs(last_value2 - value2)\n",
    "        if difference1 < error and difference2 < error:\n",
    "            continue\n",
    "        else:\n",
    "            return False   # is not similar\n",
    "    return True  # is similar\n",
    "    \n",
    "def stop_criteria(population, last_means, last_best_values, no_of_gens,lim_O = 5, lim_F = 5, max_gen=30,error = 0):\n",
    "    \"\"\"\n",
    "    Returns True if met.\n",
    "    \"\"\"\n",
    "    # for means\n",
    "    means_sim = last_similarity(last_means)\n",
    "    # for best values\n",
    "    best_sim = last_similarity(last_best_values)\n",
    "    # standard values\n",
    "    sigma_OO, sigma_FF, sigma_OF = covariance_matrix(population)\n",
    "\n",
    "    if means_sim == True or best_sim == True:\n",
    "        return True, None, None\n",
    "    if no_of_gens >= max_gen:\n",
    "        return True, None, None\n",
    "    if sigma_OO < lim_O and sigma_FF < lim_F:\n",
    "        return True\n",
    "    else:\n",
    "        return False  # need these values for the next iteration"
   ]
  },
  {
   "cell_type": "code",
   "execution_count": 124,
   "metadata": {},
   "outputs": [],
   "source": [
    "def show_pop(population):\n",
    "    xs = [x[0] for x in population]\n",
    "    ys = [x[1] for x in population]\n",
    "    plt.plot(xs, ys, '.k')\n",
    "    plt.show()"
   ]
  },
  {
   "cell_type": "code",
   "execution_count": 137,
   "metadata": {},
   "outputs": [],
   "source": [
    "def initialise_pop(elementsO, elementsT, TOF=60, N=1000):\n",
    "    \"\"\"\n",
    "    Initialises the population of specific size\n",
    "    Returns the population along with the orbits.\n",
    "    \"\"\"\n",
    "    D, rO_perigee = evaluate_D(elementsO, TOF)\n",
    "    # get an evenly spaced grid between two lines Rho in the range [0,9000]\n",
    "    original_population = grid_between_lines(D, N)  # initial population\n",
    "    orbits = []\n",
    "    population = []\n",
    "    c =0\n",
    "    for point in original_population:\n",
    "        try:\n",
    "            population, orbits = Lambert_problem(population, orbits, elementsO, elementsT, point, rO_perigee, TOF)\n",
    "        except ValueError:\n",
    "            continue\n",
    "    \n",
    "    n = len(population)\n",
    "    \n",
    "    if n > N:\n",
    "        # remove the number of extra points randomly\n",
    "        no_of_extra_points = n - N\n",
    "        for i in range(no_of_extra_points):\n",
    "            index = random.randint(0, len(population))\n",
    "            popped = population.pop(index)  # have to remove the points\n",
    "            orbits.pop(index)  # remove the corresponding orbit\n",
    "\n",
    "    if n < N:\n",
    "        # gain extra points via mutation\n",
    "        no_of_extra_points = N - n\n",
    "        population, orbits = mutation(population, orbits, elementsO, elementsT, rO_perigee, TOF, no_of_extra_points)  # for new points I have to solve for the orbit again\n",
    "        \n",
    "        \n",
    "    return population, orbits"
   ]
  },
  {
   "cell_type": "code",
   "execution_count": 126,
   "metadata": {},
   "outputs": [],
   "source": [
    "def get_elite(values, population, orbits, n=100):\n",
    "    sorted_values = values\n",
    "    sorted_values.sort(reverse=True)\n",
    "    pop_elite = []\n",
    "    orbits_elite = []\n",
    "    \n",
    "    for value in sorted_values[:n]:  # first n values\n",
    "        index = values.index(value)\n",
    "        pop_elite.append(population[index])\n",
    "        orbits_elite.append(orbits[index])\n",
    "        \n",
    "    return pop_elite, orbits_elite\n",
    "\n",
    "def get_best(fit_values, population):\n",
    "    max_fit = max(fit_values)\n",
    "    index = fit_values.index(max_fit)\n",
    "    return population[index]"
   ]
  },
  {
   "cell_type": "code",
   "execution_count": 149,
   "metadata": {},
   "outputs": [
    {
     "data": {
      "image/png": "[encoded data removed]",
      "text/plain": [
       "<Figure size 640x480 with 1 Axes>"
      ]
     },
     "metadata": {},
     "output_type": "display_data"
    }
   ],
   "source": [
    "elements_deb = [7100,0.0043,np.radians(98.289),np.radians(49.866),np.radians(356.768),0]\n",
    "elements_sat = [7133.8,0.0043,np.radians(98.289),np.radians(49.866),np.radians(356.768),0]\n",
    "\n",
    "# initialise\n",
    "pop, orbits = initialise_pop(elements_sat, elements_deb, N=1000)\n",
    "show_pop(pop)"
   ]
  },
  {
   "cell_type": "code",
   "execution_count": 32,
   "metadata": {},
   "outputs": [],
   "source": [
    "fit_values = objective_func(elements_sat, elements_deb, orbits, pop)"
   ]
  },
  {
   "cell_type": "code",
   "execution_count": 151,
   "metadata": {},
   "outputs": [
    {
     "name": "stdout",
     "output_type": "stream",
     "text": [
      "1000\n"
     ]
    }
   ],
   "source": [
    "best_point = get_best(fit_values, pop)\n",
    "no_of_gens = 0\n",
    "mean_i, mean_f = mean(pop)\n",
    "phi = 3\n",
    "last_means = [(0,0) for x in range(phi)]\n",
    "last_best_values = [(0,0) for x in range(phi)]\n",
    "D, rO_perigee = evaluate_D(elements_sat, 60)  # maybe there is a better way to define this\n",
    "print(len(orbits))"
   ]
  },
  {
   "cell_type": "code",
   "execution_count": 152,
   "metadata": {},
   "outputs": [
    {
     "name": "stdout",
     "output_type": "stream",
     "text": [
      "in elite 100 100\n",
      "in created 50 50\n",
      "after mutation 900 900\n",
      "after crossed 950 950\n",
      "final 1000 1000\n",
      "in elite 100 100\n",
      "in created 50 50\n",
      "after mutation 900 900\n",
      "after crossed 950 950\n",
      "final 1000 1000\n",
      "in elite 100 100\n",
      "in created 50 50\n",
      "after mutation 900 900\n",
      "after crossed 950 950\n",
      "final 1000 1000\n",
      "in elite 100 100\n",
      "in created 50 50\n",
      "after mutation 900 900\n",
      "after crossed 950 950\n",
      "final 1000 1000\n",
      "in elite 100 100\n",
      "in created 50 50\n",
      "after mutation 900 900\n",
      "after crossed 950 950\n",
      "final 1000 1000\n"
     ]
    },
    {
     "ename": "KeyboardInterrupt",
     "evalue": "",
     "output_type": "error",
     "traceback": [
      "\u001b[1;31m---------------------------------------------------------------------------\u001b[0m",
      "\u001b[1;31mKeyboardInterrupt\u001b[0m                         Traceback (most recent call last)",
      "Cell \u001b[1;32mIn[152], line 22\u001b[0m\n\u001b[0;32m     19\u001b[0m \u001b[39mprint\u001b[39m(\u001b[39m\"\u001b[39m\u001b[39mfinal\u001b[39m\u001b[39m\"\u001b[39m, \u001b[39mlen\u001b[39m(pop), \u001b[39mlen\u001b[39m(orbits))\n\u001b[0;32m     21\u001b[0m \u001b[39m# get new fit_values\u001b[39;00m\n\u001b[1;32m---> 22\u001b[0m fit_values \u001b[39m=\u001b[39m objective_func(elements_sat, elements_deb, orbits, pop)\n\u001b[0;32m     24\u001b[0m \u001b[39m# update last_means, last_best_values, no_of_gens\u001b[39;00m\n\u001b[0;32m     25\u001b[0m last_means\u001b[39m.\u001b[39mpop(\u001b[39m0\u001b[39m)\n",
      "Cell \u001b[1;32mIn[120], line 20\u001b[0m, in \u001b[0;36mobjective_func\u001b[1;34m(elementsO, elementsT, estimated_orbits, population)\u001b[0m\n\u001b[0;32m     18\u001b[0m fit_values \u001b[39m=\u001b[39m []\n\u001b[0;32m     19\u001b[0m \u001b[39mfor\u001b[39;00m orbit \u001b[39min\u001b[39;00m estimated_orbits:\n\u001b[1;32m---> 20\u001b[0m     fit_value \u001b[39m=\u001b[39m fitness(elementsO, elementsT, orbit)\n\u001b[0;32m     21\u001b[0m     fit_values\u001b[39m.\u001b[39mappend(fit_value)\n\u001b[0;32m     22\u001b[0m \u001b[39mreturn\u001b[39;00m fit_values\n",
      "Cell \u001b[1;32mIn[120], line 8\u001b[0m, in \u001b[0;36mfitness\u001b[1;34m(elementsO, elementsT, estimated_orbit, no_of_measurments)\u001b[0m\n\u001b[0;32m      6\u001b[0m \u001b[39mfor\u001b[39;00m t \u001b[39min\u001b[39;00m \u001b[39mrange\u001b[39m(no_of_measurments):\n\u001b[0;32m      7\u001b[0m     L_ideal \u001b[39m=\u001b[39m L_between_orbits(elementsO, elementsT, t)  \n\u001b[1;32m----> 8\u001b[0m     L_ast \u001b[39m=\u001b[39m L_between_orbits(elementsO, estimated_orbit, t)\n\u001b[0;32m      9\u001b[0m     fit \u001b[39m=\u001b[39m fit \u001b[39m*\u001b[39m np\u001b[39m.\u001b[39mdot(L_ideal, L_ast)\n\u001b[0;32m     10\u001b[0m \u001b[39mreturn\u001b[39;00m fit\n",
      "Cell \u001b[1;32mIn[114], line 22\u001b[0m, in \u001b[0;36mL_between_orbits\u001b[1;34m(elementsO, elementsT, t)\u001b[0m\n\u001b[0;32m     20\u001b[0m rT \u001b[39m=\u001b[39m np\u001b[39m.\u001b[39marray(rT)\n\u001b[0;32m     21\u001b[0m rel \u001b[39m=\u001b[39m rO \u001b[39m-\u001b[39m rT\n\u001b[1;32m---> 22\u001b[0m \u001b[39mreturn\u001b[39;00m rel\u001b[39m/\u001b[39mnp\u001b[39m.\u001b[39;49mlinalg\u001b[39m.\u001b[39;49mnorm(rel)\n",
      "File \u001b[1;32m<__array_function__ internals>:200\u001b[0m, in \u001b[0;36mnorm\u001b[1;34m(*args, **kwargs)\u001b[0m\n",
      "File \u001b[1;32md:\\Anaconda\\envs\\snakes\\lib\\site-packages\\numpy\\linalg\\linalg.py:2511\u001b[0m, in \u001b[0;36mnorm\u001b[1;34m(x, ord, axis, keepdims)\u001b[0m\n\u001b[0;32m   2509\u001b[0m     sqnorm \u001b[39m=\u001b[39m x_real\u001b[39m.\u001b[39mdot(x_real) \u001b[39m+\u001b[39m x_imag\u001b[39m.\u001b[39mdot(x_imag)\n\u001b[0;32m   2510\u001b[0m \u001b[39melse\u001b[39;00m:\n\u001b[1;32m-> 2511\u001b[0m     sqnorm \u001b[39m=\u001b[39m x\u001b[39m.\u001b[39;49mdot(x)\n\u001b[0;32m   2512\u001b[0m ret \u001b[39m=\u001b[39m sqrt(sqnorm)\n\u001b[0;32m   2513\u001b[0m \u001b[39mif\u001b[39;00m keepdims:\n",
      "\u001b[1;31mKeyboardInterrupt\u001b[0m: "
     ]
    }
   ],
   "source": [
    "while stop_criteria(pop, last_means, last_best_values, no_of_gens) is False:\n",
    "    pop_elite, orbits_elite = get_elite(fit_values, pop, orbits)\n",
    "    print(\"in elite\", len(pop_elite), len(orbits_elite))\n",
    "\n",
    "    # create new population and corresponding orbits\n",
    "    created_pop, created_orbits = initialise_pop(elements_sat, elements_deb, N=50)  # create 5% of desired population size\n",
    "    print(\"in created\", len(created_pop), len(created_orbits))\n",
    "\n",
    "    #mutate\n",
    "    pop_mutated, orbits_mutated = mutation(pop_elite, orbits_elite, elements_sat, elements_deb, rO_perigee, 60, 800)  # 800 corresponds to 80% of desired population \n",
    "    print(\"after mutation\", len(pop_mutated), len(orbits_mutated))\n",
    "\n",
    "    # crossover\n",
    "    pop_crossed, orbits_crossed = crossover(pop_mutated, orbits_mutated, elements_sat, elements_deb, rO_perigee, 60, 50, D)  # crossover 5% of desired population size\n",
    "    print(\"after crossed\", len(pop_crossed), len(orbits_crossed))\n",
    "\n",
    "    pop = pop_crossed + created_pop\n",
    "    orbits = orbits_crossed + created_orbits\n",
    "    print(\"final\", len(pop), len(orbits))\n",
    "\n",
    "    # get new fit_values\n",
    "    fit_values = objective_func(elements_sat, elements_deb, orbits, pop)\n",
    "    \n",
    "    # update last_means, last_best_values, no_of_gens\n",
    "    last_means.pop(0)\n",
    "    last_means.append(mean(pop))\n",
    "\n",
    "    best_point = get_best(fit_values, pop)\n",
    "\n",
    "    last_best_values.pop(0)\n",
    "    last_best_values.append(best_point)\n",
    "    \n",
    "    no_of_gens += 1\n",
    "else:\n",
    "    print(\"donzo\")"
   ]
  },
  {
   "cell_type": "code",
   "execution_count": null,
   "metadata": {},
   "outputs": [
    {
     "data": {
      "text/plain": [
       "False"
      ]
     },
     "execution_count": 21,
     "metadata": {},
     "output_type": "execute_result"
    }
   ],
   "source": [
    "elements = [5901.149278552159, 1.4477471563854718, 1.7154666684926894, 0.8703258847994934, 4.594129890838893, 0.8540083184421274]\n",
    "constraints(elements, 7102.85)"
   ]
  },
  {
   "cell_type": "code",
   "execution_count": null,
   "metadata": {},
   "outputs": [
    {
     "data": {
      "text/plain": [
       "[(0, 0), (0, 0)]"
      ]
     },
     "execution_count": 56,
     "metadata": {},
     "output_type": "execute_result"
    }
   ],
   "source": [
    "last_means = [(0,0) for x in range(phi)]\n",
    "last_means.pop(0)\n",
    "last_means"
   ]
  },
  {
   "cell_type": "code",
   "execution_count": 36,
   "metadata": {},
   "outputs": [
    {
     "data": {
      "text/plain": [
       "[3, 2, 2, 1, 2, 3]"
      ]
     },
     "execution_count": 36,
     "metadata": {},
     "output_type": "execute_result"
    }
   ],
   "source": [
    "l = [1,2,3]\n",
    "L = [3,2,2]\n",
    "L + l"
   ]
  },
  {
   "cell_type": "code",
   "execution_count": null,
   "metadata": {},
   "outputs": [
    {
     "data": {
      "text/plain": [
       "[0, 0, 0, 0, 0]"
      ]
     },
     "execution_count": 6,
     "metadata": {},
     "output_type": "execute_result"
    }
   ],
   "source": [
    "l=[0 for x in range(5)]\n",
    "l"
   ]
  },
  {
   "cell_type": "code",
   "execution_count": null,
   "metadata": {},
   "outputs": [
    {
     "name": "stdout",
     "output_type": "stream",
     "text": [
      "0\n",
      "1\n",
      "2\n"
     ]
    }
   ],
   "source": [
    "for i in range(3):\n",
    "    print(i)"
   ]
  },
  {
   "cell_type": "code",
   "execution_count": null,
   "metadata": {},
   "outputs": [],
   "source": []
  }
 ],
 "metadata": {
  "kernelspec": {
   "display_name": "snakes",
   "language": "python",
   "name": "python3"
  },
  "language_info": {
   "codemirror_mode": {
    "name": "ipython",
    "version": 3
   },
   "file_extension": ".py",
   "mimetype": "text/x-python",
   "name": "python",
   "nbconvert_exporter": "python",
   "pygments_lexer": "ipython3",
   "version": "3.10.8"
  },
  "orig_nbformat": 4,
  "vscode": {
   "interpreter": {
    "hash": "ba46d3c1349a8793b8508840c8d7327b4fd991649259d1bdc996506b1c3d27b3"
   }
  }
 },
 "nbformat": 4,
 "nbformat_minor": 2
}
