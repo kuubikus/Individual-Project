{
 "cells": [
  {
   "cell_type": "code",
   "execution_count": 112,
   "metadata": {},
   "outputs": [],
   "source": [
    "import numpy as np\n",
    "import matplotlib.pyplot as plt\n",
    "from matplotlib import cm\n",
    "from matplotlib.ticker import LinearLocator\n",
    "from mpl_toolkits import mplot3d\n",
    "import pykep\n",
    "import random\n",
    "from scipy.optimize import newton\n",
    "import csv\n",
    "import pandas as pd\n",
    "import math\n",
    "from numpy.linalg import inv"
   ]
  },
  {
   "cell_type": "markdown",
   "metadata": {},
   "source": [
    "Utility functions"
   ]
  },
  {
   "cell_type": "code",
   "execution_count": 3,
   "metadata": {},
   "outputs": [],
   "source": [
    "def normalise_input(series):\n",
    "    \"\"\"\n",
    "    Normalises the pandas dataframe and convert each entry to a np array represting a unit vector.\n",
    "    Returns the normalised one.\n",
    "    \"\"\"\n",
    "    series = series.str.strip(\"[ \")\n",
    "    series = series.str.strip(\"[\")\n",
    "    series = series.str.strip(\"]\")\n",
    "    series = series.str.replace('  ',' ')\n",
    "    for i in range(len(series)):\n",
    "        series[i] = np.fromstring(series[i], sep=' ')\n",
    "    return series"
   ]
  },
  {
   "cell_type": "code",
   "execution_count": 138,
   "metadata": {},
   "outputs": [],
   "source": [
    "def to_global_axis(vector, r, v):\n",
    "    \"\"\"\n",
    "    Calculates the rotation matrix and applies it. Returns the converted vector.\n",
    "    r and v are used to calculate the rotation matrix and vector is the vector to be \n",
    "    rotated.\n",
    "    \"\"\"\n",
    "    unit_r = r/np.linalg.norm(r)\n",
    "    unit_v = v/np.linalg.norm(v)\n",
    "\n",
    "    R = np.array([[unit_v[0], -unit_r[0], unit_r[1]*unit_v[2] - unit_v[1]*unit_r[2]],\n",
    "                [unit_v[1], -unit_r[1], unit_v[0]*unit_r[2] - unit_r[0]*unit_v[2]],\n",
    "                [unit_v[2], -unit_r[2], unit_r[0]*unit_v[1] - unit_v[0]*unit_r[1]]])\n",
    "    R = R.transpose()\n",
    "    R = inv(R)\n",
    "\n",
    "    return R.dot(vector)"
   ]
  },
  {
   "cell_type": "code",
   "execution_count": 5,
   "metadata": {},
   "outputs": [],
   "source": [
    "def normalise_orbit(orbit):\n",
    "    i = 0\n",
    "    for element in orbit:\n",
    "        if math.isnan(element) is True:\n",
    "            orbit[i] = False\n",
    "        i+=1\n",
    "    return orbit"
   ]
  },
  {
   "cell_type": "code",
   "execution_count": 6,
   "metadata": {},
   "outputs": [],
   "source": [
    "def to_csv(data, filename):\n",
    "    for dict1 in data:\n",
    "        dict1.update({\"Rho_i\":dict1[\"Point\"][0]})\n",
    "        dict1.update({\"Rho_f\":dict1[\"Point\"][1]})\n",
    "    \n",
    "    with open(filename, 'w', newline='') as f:\n",
    "        fieldnames = [\"Point\", \"Orbit\", \"Fit\",\"Rho_i\",\"Rho_f\"]\n",
    "        writer = csv.DictWriter(f, fieldnames=fieldnames)\n",
    "\n",
    "        writer.writeheader()\n",
    "        writer.writerows(data)"
   ]
  },
  {
   "cell_type": "code",
   "execution_count": 7,
   "metadata": {},
   "outputs": [],
   "source": [
    "def evaluate_D(elementsO, TOF):\n",
    "    mu = 398600  # km^3/s^2. Make into a global variable later. Can I make TOF a global variable?\n",
    "    aO = elementsO[0]\n",
    "    eO = elementsO[1]\n",
    "    aT_max = 50000\n",
    "\n",
    "    # some calculations\n",
    "    rO_perigee = (1-eO)*aO\n",
    "    vO_perigee = ((1+eO)/(1-eO) * mu/aO)**0.5\n",
    "    vT_perigee_max = (2*mu/rO_perigee*(1-rO_perigee/(2*aT_max)))**0.5\n",
    "\n",
    "    return (vO_perigee + vT_perigee_max)*TOF, rO_perigee"
   ]
  },
  {
   "cell_type": "code",
   "execution_count": 8,
   "metadata": {},
   "outputs": [],
   "source": [
    "def grid_between_lines(D, N, a=9000):\n",
    "    distances = []  # a list that will contain the whole population points (rho_i, rho_f)\n",
    "    A = a*a\n",
    "    A_s = A - (a-D)*a/2 - (a-2*D)*(a-D)/2\n",
    "    no_of_nodes = N*A/A_s  # no of nodes in the 9000x9000 (height x width) rectangle\n",
    "\n",
    "    xs = np.linspace(0, a, int((no_of_nodes)**0.5)) # create values for rho_i\n",
    "    ys = np.linspace(0, a, int((no_of_nodes)**0.5)) # create values for rho_f\n",
    "    \n",
    "    for x in xs:\n",
    "        for y in ys:\n",
    "            if y < (x + D) and y > (x - D):\n",
    "                distances.append([x,y])  # only add points that are between the lines\n",
    "\n",
    "    #plt.plot(xc, yc, '.r')\n",
    "    #plt.show()\n",
    "    \n",
    "    return distances"
   ]
  },
  {
   "cell_type": "code",
   "execution_count": 9,
   "metadata": {},
   "outputs": [],
   "source": [
    "def get_elite(data, n=100):\n",
    "    values = []\n",
    "    for dict1 in data:\n",
    "        values.append(dict1[\"Fit\"])\n",
    "        values.sort(reverse=True)  # descending order\n",
    "\n",
    "    data_elite = []\n",
    "    min_value = values[n-1]\n",
    "\n",
    "    for dict2 in data:\n",
    "        if dict2[\"Fit\"]>= min_value and len(data_elite) < 100:\n",
    "            data_elite.append(dict2)\n",
    "\n",
    "    return data_elite\n",
    "\n",
    "def get_best(data):\n",
    "    max_fit = 0\n",
    "    i = 0\n",
    "    for dict1 in data:\n",
    "        fit = dict1[\"Fit\"]\n",
    "        if fit > max_fit:\n",
    "            i_max = i\n",
    "            max_fit = fit\n",
    "        i += 1\n",
    "    return data[i_max]\n"
   ]
  },
  {
   "cell_type": "code",
   "execution_count": 10,
   "metadata": {},
   "outputs": [],
   "source": [
    "def show_pop(data):\n",
    "    xs = []\n",
    "    ys = []\n",
    "    for dict1 in data:\n",
    "        xs.append(dict1[\"Point\"][0])\n",
    "        ys.append(dict1[\"Point\"][1])\n",
    "        \n",
    "    plt.plot(xs, ys, '.k')\n",
    "    plt.show()"
   ]
  },
  {
   "attachments": {},
   "cell_type": "markdown",
   "metadata": {},
   "source": [
    "Orbit as a function of time"
   ]
  },
  {
   "cell_type": "code",
   "execution_count": 11,
   "metadata": {},
   "outputs": [],
   "source": [
    "def get_period(a, mu = 398600):\n",
    "    \"\"\"`\n",
    "    return the period in seconds\n",
    "    a needs to be in km\n",
    "    \"\"\"\n",
    "    return (2*np.pi*a**1.5)/mu**0.5\n",
    "\n",
    "def kepler(E, M_e, e):\n",
    "    \"\"\"Kepler's equation, to be used in a Newton solver.\"\"\"\n",
    "    return E - e * np.sin(E) - M_e\n",
    "\n",
    "def d_kepler_d_E(E, M_e, e):\n",
    "    \"\"\"The derivative of Kepler's equation, to be used in a Newton solver.\n",
    "    \n",
    "    Note that the argument M_e is unused, but must be present so the function\n",
    "    arguments are consistent with the kepler function.\n",
    "    \"\"\"\n",
    "    return 1 - e * np.cos(E)\n",
    "\n",
    "def time_since_perigee(elements):\n",
    "    a = elements[0]\n",
    "    e = elements[1]\n",
    "    E = elements[5]\n",
    "    E_mean = E - e*np.sin(E)\n",
    "    T = get_period(a)\n",
    "    return E_mean * T/(2*np.pi)\n",
    "\n",
    "def propagate_based_on_vector(r,v, t):\n",
    "    rf, vf = pykep.propagate_lagrangian(r0 = r, v0 = v, tof = t,mu = 398600)\n",
    "    return np.array(rf), np.array(vf)\n",
    "\n",
    "def propagate_based_on_elements(elements, t, kepler=True):\n",
    "    r, v = pykep.par2ic(elements, mu=398600)\n",
    "    rf,vf = pykep.propagate_lagrangian(r0 = r, v0 = v, tof = t,mu = 398600)\n",
    "    if kepler == False:  # return vectors\n",
    "        return np.array(rf),np.array(vf)\n",
    "    if kepler == True:  # return kepler elements\n",
    "        return pykep.ic2par(rf,vf,mu = 398600)"
   ]
  },
  {
   "attachments": {},
   "cell_type": "markdown",
   "metadata": {},
   "source": [
    "Unit vectors"
   ]
  },
  {
   "cell_type": "code",
   "execution_count": 12,
   "metadata": {},
   "outputs": [],
   "source": [
    "def unit_vector(vector1, vector2):\n",
    "    \"\"\"\n",
    "    returns the unit vector between two vectors.\n",
    "    \"\"\"\n",
    "    rel = vector2 - vector1\n",
    "    return rel/np.linalg.norm(rel)\n",
    "\n",
    "def L_between_orbits(elements1, elements2, t):\n",
    "    \"\"\"\n",
    "    Input is two Kepler orbits in Kepler elements\n",
    "    \"\"\"\n",
    "    r1, v1 = propagate_based_on_elements(elements1, t, kepler=False)\n",
    "    r2, v2 = propagate_based_on_elements(elements2, t, kepler=False)\n",
    "    r1 = np.array(r1)\n",
    "    r2 = np.array(r2)\n",
    "    rel = r2 - r1\n",
    "    unit = rel/np.linalg.norm(rel)\n",
    "    return unit\n",
    "\n",
    "def L_between_orbits_ic(r, elements2,t):\n",
    "    \"\"\"\n",
    "    Used if propagated r has already been found.\n",
    "    \"\"\"\n",
    "    r2, v2 = propagate_based_on_elements(elements2, t, kepler=False)\n",
    "    r= np.array(r)\n",
    "    r2 = np.array(r2)\n",
    "    rel = r2 - r\n",
    "    unit = rel/np.linalg.norm(rel)\n",
    "    return unit"
   ]
  },
  {
   "attachments": {},
   "cell_type": "markdown",
   "metadata": {},
   "source": [
    "Lambert's problem"
   ]
  },
  {
   "cell_type": "code",
   "execution_count": 13,
   "metadata": {},
   "outputs": [],
   "source": [
    "def constraints(elements, rO_perigee):\n",
    "    \"\"\"\n",
    "    Return true if satisfied.\n",
    "    \"\"\"\n",
    "    a = elements[0]\n",
    "    e = elements[1]\n",
    "    R_earth = 6371 # km\n",
    "    \n",
    "    if R_earth + 200 <= a and a <= 50000 and 0 <= e and e <= 1 - rO_perigee/50000: # aT_max = 50000 km\n",
    "        return True\n",
    "    else:\n",
    "        return False"
   ]
  },
  {
   "cell_type": "code",
   "execution_count": 14,
   "metadata": {},
   "outputs": [],
   "source": [
    "def get_target_r(elementsO, rT_initial, rT_final, point, t):\n",
    "    \"\"\"\n",
    "    The inputs are the observer elements and target posistion vectors as unit vectors in observer CS.\n",
    "    For final measurments they are propagated forward in time (t).\n",
    "    Point corresponds to a chromosome.\n",
    "    Returns intial and final target posistion vectors.\n",
    "    \"\"\"\n",
    "    # initial \"measurment\" and orbit\n",
    "    rho_i = point[0]\n",
    "    rO_initial, vO_initial = pykep.par2ic(elementsO, mu=398600)\n",
    "    L_t0 = to_global_axis(rT_initial,rO_initial, vO_initial)\n",
    "    rT_i = rho_i*L_t0 + rO_initial\n",
    "    # final \"measurment\" and orbit\n",
    "    rho_f = point[1]\n",
    "    rO_final,  vO_final = propagate_based_on_elements(elementsO, t, kepler=False)\n",
    "    L_tf = to_global_axis(rT_final, rO_final, vO_final)\n",
    "    rT_f = rho_f*L_tf + rO_final\n",
    "    return rT_i, rT_f"
   ]
  },
  {
   "cell_type": "code",
   "execution_count": 15,
   "metadata": {},
   "outputs": [],
   "source": [
    "def solve_lambert(ri, rf, t):\n",
    "    \"\"\"\n",
    "    Solves the lambert problem. Input two posistion vector and the time between those locations.\n",
    "    Returns the solution in Kepler elements.\n",
    "    \"\"\"\n",
    "    # solve Lambert's problem\n",
    "    l = pykep.lambert_problem(r1 = ri, r2 = rf, tof = t, mu=398600, cw=False)\n",
    "    # convert results\n",
    "    vi = l.get_v1()[0]  # get the velocity vector at initial time for one revolution\n",
    "    elements = pykep.ic2par(ri,vi, mu=398600)  # get Kepler elements from pos and vel vectors\n",
    "    return elements"
   ]
  },
  {
   "cell_type": "code",
   "execution_count": 16,
   "metadata": {},
   "outputs": [],
   "source": [
    "def Lambert_problem(data, elementsO, rT_initial, rT_final, point, rO_perigee, TOF):\n",
    "    # set up Lambert's problem\n",
    "    ri, rf = get_target_r(elementsO, rT_initial, rT_final, point, TOF)\n",
    "    # solve Lambert's problem\n",
    "    elementsT_estimated = list(solve_lambert(ri, rf, t = TOF))\n",
    "    elementsT_estimated = normalise_orbit(elementsT_estimated)\n",
    "    if constraints(elementsT_estimated, rO_perigee) is True:\n",
    "        new_dict = dict(Point = point, Orbit = elementsT_estimated)\n",
    "        data.append(new_dict)\n",
    "    if constraints(elementsT_estimated, rO_perigee) is False:\n",
    "        raise ValueError\n",
    "    return data"
   ]
  },
  {
   "attachments": {},
   "cell_type": "markdown",
   "metadata": {},
   "source": [
    "Genetic algorithm building blocks"
   ]
  },
  {
   "cell_type": "code",
   "execution_count": 17,
   "metadata": {},
   "outputs": [],
   "source": [
    "def mutate(data, elementsO, r_initial, r_final, rO_perigee, TOF, index):\n",
    "    \"\"\"\n",
    "    mutates a single data point given by index. If the point doesn't satisfy conditions then\n",
    "    the function returns False.\n",
    "    \"\"\"\n",
    "    stnd_dev = random.choice([1,2,4,6,8,10])  # may change. In the paper they used 10\n",
    "    rho0, rho1 = data[index][\"Point\"]\n",
    "    rho0_new = rho0 + stnd_dev\n",
    "    rho1_new = rho1 + stnd_dev\n",
    "    try:\n",
    "        data = Lambert_problem(data, elementsO, r_initial, r_final, [rho0_new, rho1_new], rO_perigee, TOF)\n",
    "        return True, data\n",
    "    except ValueError:\n",
    "        return False, data  \n",
    "\n",
    "def mutation(data, elementsO, r_initial, r_final, rO_perigee, TOF, no_of_outputs):\n",
    "    \"\"\"\n",
    "    Input how many extra chromoses are wanted.\n",
    "    \"\"\"\n",
    "    indices = [x for x in range(len(data)-1)]\n",
    "    last_length = len(data)\n",
    "    final_length = last_length + no_of_outputs\n",
    "    no_of_successful_mutations = 0\n",
    "    while len(data) != final_length:\n",
    "        passed = False\n",
    "        while passed is False:\n",
    "            index = random.choice(indices)  # get a random entry from list\n",
    "            indices.remove(index)  # remove that entry to avoid duplicates\n",
    "            passed, data = mutate(data, elementsO, r_initial, r_final, rO_perigee, TOF, index)  # if passed is False then \n",
    "            # the mutated point didn't satisfy the conditions and a new point is generated\n",
    "            if passed == True:\n",
    "                no_of_successful_mutations += 1 \n",
    "            if not indices:  # list is empty\n",
    "                # print(\"no of successful mutations\", no_of_successful_mutations)\n",
    "                indices = [x + last_length - 1 for x in range(no_of_successful_mutations)]  # mutate the mutated points further\n",
    "                last_length = len(data)\n",
    "                no_of_successful_mutations = 0\n",
    "    return data"
   ]
  },
  {
   "cell_type": "code",
   "execution_count": 18,
   "metadata": {},
   "outputs": [],
   "source": [
    "def one_crossover(point1, point2, D):\n",
    "    if np.random.randint(0,2) == 1:\n",
    "        point1[1] = point2[1]\n",
    "        if abs(point1[0] - point1[1]) < D and abs(point2[0] - point2[1]) < D:\n",
    "            return point1\n",
    "        else:\n",
    "            return False\n",
    "    else:\n",
    "        point2[1] = point1[1]\n",
    "        if abs(point1[0] - point1[1]) < D and abs(point2[0] - point2[1]) < D:\n",
    "            return point2\n",
    "        else:\n",
    "            return False\n",
    "\n",
    "def get_random_points(data):\n",
    "    index1 = random.randint(0, len(data) - 1)\n",
    "    index2 = random.randint(0, len(data) - 1)\n",
    "    while index1 == index2:  # can't be the same\n",
    "        index2 = random.randint(0, len(data) - 1)\n",
    "    point1 = data[index1][\"Point\"]\n",
    "    point2 = data[index2][\"Point\"]\n",
    "    return point1, point2\n",
    "\n",
    "def crossover(data, elementsO, r_initial, r_final, rO_perigee, TOF, no_of_outputs, D):\n",
    "    for i in range(no_of_outputs):\n",
    "        passed = False\n",
    "        while passed is False:\n",
    "            point1, point2 = get_random_points(data)\n",
    "            extra_point = one_crossover(point1, point2, D)\n",
    "            while extra_point == False:\n",
    "                point1, point2 = get_random_points(data)\n",
    "                extra_point = one_crossover(point1, point2, D)  # the inequality must be satisfied\n",
    "            try:\n",
    "                data = Lambert_problem(data, elementsO, r_initial, r_final, extra_point, rO_perigee, TOF)  # solve for orbits\n",
    "                passed = True\n",
    "            except ValueError:\n",
    "                passed = False  # will go back into the loop and select a new random point that passes the constraints\n",
    "    return data\n"
   ]
  },
  {
   "cell_type": "code",
   "execution_count": 141,
   "metadata": {},
   "outputs": [],
   "source": [
    "def fitness(elementsO, set_of_measurments, estimated_orbit):\n",
    "    fit = 1\n",
    "    for coordinates in set_of_measurments:\n",
    "        t = coordinates[-1]\n",
    "        r,v = propagate_based_on_elements(elementsO,t, kepler=False)\n",
    "        print(\"pos vector of sat\", r)\n",
    "        print(\"measured unit vector in body CS\", coordinates)\n",
    "        L_measurment = to_global_axis(coordinates[:-1],r,v)\n",
    "        print(\"measured unit vector in global CS\", L_measurment)\n",
    "        L_ast = L_between_orbits(elementsO, estimated_orbit,t)\n",
    "        print(\"L ast\", L_ast)\n",
    "        fit = fit * np.dot(L_measurment, L_ast)\n",
    "    return fit\n",
    "\n",
    "def objective_func(elementsO, set_of_measurments, data):\n",
    "    for og_dict in data:\n",
    "        fit_value = fitness(elementsO, set_of_measurments, og_dict[\"Orbit\"])\n",
    "        og_dict[\"Fit\"] = fit_value   # fitness value in the data\n",
    "    return data\n"
   ]
  },
  {
   "cell_type": "code",
   "execution_count": 20,
   "metadata": {},
   "outputs": [],
   "source": [
    "def initialise_pop(elementsO, rT_intial, rT_final, TOF=60, N=1000):\n",
    "    \"\"\"\n",
    "    Initialises the population of specific size based on initial and final \"measurments\".\n",
    "    The inputs are the observer orbit and the inital and final posistion vector for the target.\n",
    "    Returns a list of dictionaries.\n",
    "    \"\"\"\n",
    "    D, rO_perigee = evaluate_D(elementsO, TOF)\n",
    "    # get an evenly spaced grid between two lines Rho in the range [0,9000]\n",
    "    original_population = grid_between_lines(D, 5*N)  # initial population\n",
    "    data = []\n",
    "    for point in original_population:\n",
    "        try:\n",
    "            data = Lambert_problem(data, elementsO, rT_intial, rT_final, point, rO_perigee, TOF)\n",
    "        except ValueError:\n",
    "            continue\n",
    "    \n",
    "    n = len(data)\n",
    "    if n > N:\n",
    "        # remove the number of extra points randomly\n",
    "        no_of_extra_points = n - N\n",
    "        for i in range(no_of_extra_points):\n",
    "            index = random.randint(0, len(data)-1)\n",
    "            data.pop(index)\n",
    "\n",
    "    if n < N:\n",
    "        # gain extra points via mutation\n",
    "        no_of_extra_points = N - n\n",
    "        data = mutation(data, elementsO, rT_intial, rT_final, rO_perigee, TOF, no_of_extra_points)  \n",
    "        \n",
    "        \n",
    "    return data"
   ]
  },
  {
   "attachments": {},
   "cell_type": "markdown",
   "metadata": {},
   "source": [
    "Stop conditions"
   ]
  },
  {
   "cell_type": "code",
   "execution_count": 21,
   "metadata": {},
   "outputs": [],
   "source": [
    "def mean(data):\n",
    "    n = len(data)\n",
    "    sum_i = 0\n",
    "    sum_f = 0\n",
    "    for dict1 in data:\n",
    "        sum_i += dict1[\"Point\"][0]\n",
    "        sum_f += dict1[\"Point\"][1]\n",
    "    return sum_i/n, sum_f/n    \n",
    "\n",
    "def covariance_matrix(data):\n",
    "    \"\"\"\n",
    "    Returns the standard deviations of the population in terms of two variables.\n",
    "    Our points consist of initial and final distance.\n",
    "    \"\"\"\n",
    "    c11 = 0\n",
    "    c12 = 0\n",
    "    c22 = 0\n",
    "    mean_i, mean_f = mean(data)\n",
    "    n = len(data)\n",
    "    for dict1 in data:\n",
    "        c11 += (dict1[\"Point\"][0]-mean_i)**2\n",
    "        c12 += (dict1[\"Point\"][0]-mean_i)*(dict1[\"Point\"][1]-mean_f)\n",
    "        c22 += (dict1[\"Point\"][1]-mean_f)**2\n",
    "    return (c11/n)**0.5, (c22/n)**0.5, (c12/n)**0.5\n",
    "\n",
    "def last_similarity(List, error = 0):\n",
    "    \"\"\"\n",
    "    The input list should be a list (2x2) in a list of length phi.\n",
    "    Return true if all the elements in the list are similar (same) comapred to the last element.\n",
    "    \"\"\"\n",
    "    value1, value2 = List[-1]\n",
    "    for point in List:\n",
    "        last_value1, last_value2 = point\n",
    "        difference1 = abs(last_value1 - value1)\n",
    "        difference2 = abs(last_value2 - value2)\n",
    "        if difference1 <= error and difference2 <= error:\n",
    "            continue\n",
    "        else:\n",
    "            return False   # is not similar\n",
    "    return True  # is similar\n",
    "    \n",
    "def stop_criteria(data, last_means, last_best_values, no_of_gens,lim_O = 5, lim_F = 5, max_gen=30,error = 0):\n",
    "    \"\"\"\n",
    "    Returns True if met.\n",
    "    \"\"\"\n",
    "    # for means\n",
    "    means_sim = last_similarity(last_means)\n",
    "    # for best values\n",
    "    best_sim = last_similarity(last_best_values)\n",
    "    # standard values\n",
    "    sigma_OO, sigma_FF, sigma_OF = covariance_matrix(data)\n",
    "    #print(\"standard dev\", sigma_OO, sigma_FF, sigma_OF)\n",
    "    \n",
    "    if means_sim == True or best_sim == True:\n",
    "        print(\"similarity\")\n",
    "        return True\n",
    "    if no_of_gens >= max_gen:\n",
    "        print(\"max gens\")\n",
    "        return True, None, None\n",
    "    if sigma_OO <= lim_O and sigma_FF <= lim_F:\n",
    "        print(\"stnd dev\")\n",
    "        return True\n",
    "    else:\n",
    "        return False  # need these values for the next iteration"
   ]
  },
  {
   "attachments": {},
   "cell_type": "markdown",
   "metadata": {},
   "source": [
    "Initialisation"
   ]
  },
  {
   "cell_type": "code",
   "execution_count": 93,
   "metadata": {},
   "outputs": [],
   "source": [
    "elements_sat = [7350,0.0,np.radians(0),np.radians(0),np.radians(0),np.radians(0)]\n",
    "elements_deb = [7133.8,0.0043,np.radians(10),np.radians(0),np.radians(0),np.radians(0)]"
   ]
  },
  {
   "cell_type": "code",
   "execution_count": 108,
   "metadata": {},
   "outputs": [],
   "source": [
    "# measurments from detecting objects\n",
    "data_meas = pd.read_csv('data/measurments.csv')\n",
    "set_of_measurments = data_meas.loc[0]  #choose which line to check\n",
    "set_of_measurments = normalise_input(set_of_measurments.dropna())"
   ]
  },
  {
   "cell_type": "code",
   "execution_count": 95,
   "metadata": {},
   "outputs": [
    {
     "data": {
      "image/png": "[encoded data removed]",
      "text/plain": [
       "<Figure size 640x480 with 1 Axes>"
      ]
     },
     "metadata": {},
     "output_type": "display_data"
    },
    {
     "name": "stdout",
     "output_type": "stream",
     "text": [
      "1000\n"
     ]
    }
   ],
   "source": [
    "r1 = set_of_measurments[0][:-1]\n",
    "r2 = set_of_measurments[-1][:-1]\n",
    "tof = set_of_measurments[-1][-1]\n",
    "# initialise\n",
    "data = initialise_pop(elements_sat, r1, r2, TOF=tof)\n",
    "show_pop(data)\n",
    "print(len(data))"
   ]
  },
  {
   "cell_type": "code",
   "execution_count": 96,
   "metadata": {},
   "outputs": [],
   "source": [
    "data = objective_func(elements_sat, set_of_measurments, data)"
   ]
  },
  {
   "cell_type": "code",
   "execution_count": 34,
   "metadata": {},
   "outputs": [],
   "source": [
    "to_csv(data, \"csv_file\")"
   ]
  },
  {
   "cell_type": "code",
   "execution_count": 97,
   "metadata": {},
   "outputs": [
    {
     "name": "stdout",
     "output_type": "stream",
     "text": [
      "best point [95.35714285714286, 256.07142857142856]\n"
     ]
    }
   ],
   "source": [
    "best_point = get_best(data)[\"Point\"]\n",
    "no_of_gens = 0\n",
    "phi = 3\n",
    "print(\"best point\", best_point)\n",
    "last_means = [(0,0) for x in range(phi)]\n",
    "last_means.pop(0)\n",
    "last_means.append(mean(data))\n",
    "\n",
    "last_best_values = [(0,0) for x in range(phi)]\n",
    "last_best_values.pop(0)\n",
    "last_best_values.append(best_point)\n",
    "\n",
    "D, rO_perigee = evaluate_D(elements_sat, 60)  # maybe there is a better way to define this"
   ]
  },
  {
   "attachments": {},
   "cell_type": "markdown",
   "metadata": {},
   "source": [
    "Body"
   ]
  },
  {
   "cell_type": "code",
   "execution_count": 98,
   "metadata": {},
   "outputs": [
    {
     "name": "stdout",
     "output_type": "stream",
     "text": [
      "similarity\n",
      "donzo\n"
     ]
    }
   ],
   "source": [
    "while stop_criteria(data, last_means, last_best_values, no_of_gens) is False:\n",
    "    \n",
    "    data_elite = get_elite(data)\n",
    "    \n",
    "    # create new population and corresponding orbits\n",
    "    data_created = initialise_pop(elements_sat, r1, r2, N=50)  # create 5% of desired population size\n",
    "    \n",
    "    data_elite = data_elite + data_created\n",
    "    #mutate\n",
    "    data_mutation = mutation(data_elite, elements_sat, r1,r2, rO_perigee, 60, 800)  # 800 corresponds to 80% of desired population \n",
    "\n",
    "    # crossover\n",
    "    data_crossover = crossover(data_mutation, elements_sat, r1,r2, rO_perigee, 60, 50, D)  # crossover 5% of desired population size\n",
    "    data = data_crossover\n",
    "    #print(\"final\", len(data))\n",
    "    \n",
    "    # get new fit_values\n",
    "    data = objective_func(elements_sat, set_of_measurments, data)\n",
    "    \n",
    "    # update last_means, last_best_values, no_of_gens\n",
    "    last_means.pop(0)\n",
    "    last_means.append(mean(data))\n",
    "    #print(\"last means\", last_means)\n",
    "    best_point = get_best(data)[\"Point\"]\n",
    "    #print(\"the best\", best_point)\n",
    "    last_best_values.pop(0)\n",
    "    last_best_values.append(best_point)\n",
    "    #print(\"last bests\", last_best_values)\n",
    "    no_of_gens += 1\n",
    "else:\n",
    "    print(\"donzo\")"
   ]
  },
  {
   "cell_type": "code",
   "execution_count": 99,
   "metadata": {},
   "outputs": [],
   "source": [
    "best_ones = []"
   ]
  },
  {
   "cell_type": "code",
   "execution_count": 100,
   "metadata": {},
   "outputs": [
    {
     "data": {
      "text/plain": [
       "[{'Point': [95.35714285714286, 256.07142857142856],\n",
       "  'Orbit': [12357.557426309568,\n",
       "   0.41286940180598397,\n",
       "   0.044460151035877256,\n",
       "   2.9937654089279766,\n",
       "   3.467495961794451,\n",
       "   -0.1104055155319001],\n",
       "  'Fit': 0.9912372482603314}]"
      ]
     },
     "execution_count": 100,
     "metadata": {},
     "output_type": "execute_result"
    }
   ],
   "source": [
    "best = get_best(data)\n",
    "best_ones.append(best)\n",
    "best_ones"
   ]
  },
  {
   "attachments": {},
   "cell_type": "markdown",
   "metadata": {},
   "source": [
    "Debug"
   ]
  },
  {
   "cell_type": "code",
   "execution_count": 142,
   "metadata": {},
   "outputs": [],
   "source": [
    "set_of_measurments = data_meas.loc[0]  #choose which line to check\n",
    "set_of_measurments = normalise_input(set_of_measurments.dropna())"
   ]
  },
  {
   "cell_type": "code",
   "execution_count": 143,
   "metadata": {},
   "outputs": [
    {
     "name": "stdout",
     "output_type": "stream",
     "text": [
      "pos vector of sat [7350.    0.    0.]\n",
      "measured unit vector in body CS [-0.00173672  0.99997436  0.00694688  0.        ]\n",
      "measured unit vector in global CS [-0.99997436 -0.00173672  0.00694688]\n",
      "L ast [-1.  0.  0.]\n",
      "pos vector of sat [7350.    0.    0.]\n",
      "measured unit vector in body CS [-0.00173672  0.99997436  0.00694688  0.        ]\n",
      "measured unit vector in global CS [-0.99997436 -0.00173672  0.00694688]\n",
      "L ast [-1.  0.  0.]\n",
      "pos vector of sat [7349.9963108     7.36418864    0.        ]\n",
      "measured unit vector in body CS [-0.00173655  0.99987635  0.01562896  1.        ]\n",
      "measured unit vector in global CS [-0.99987411 -0.00273836  0.01562896]\n",
      "L ast [-9.99986052e-01  1.17138965e-04  5.28033629e-03]\n",
      "pos vector of sat [7349.98524319   14.72836989    0.        ]\n",
      "measured unit vector in body CS [-0.00347162  0.99944997  0.03298039  2.        ]\n",
      "measured unit vector in global CS [-0.99944101 -0.00547437  0.03298039]\n",
      "L ast [-9.99944212e-01  2.34264023e-04  1.05601914e-02]\n",
      "pos vector of sat [7349.96679719   22.09253636    0.        ]\n",
      "measured unit vector in body CS [-0.00520408  0.99880616  0.04857137  3.        ]\n",
      "measured unit vector in global CS [-0.99878601 -0.00820626  0.04857137]\n",
      "L ast [-9.99874492e-01  3.51361273e-04  1.58390842e-02]\n",
      "pos vector of sat [7349.94097282   29.45668065    0.        ]\n",
      "measured unit vector in body CS [-0.0069326   0.9979177   0.06412651  4.        ]\n",
      "measured unit vector in global CS [-0.9978819  -0.01093191  0.06412651]\n",
      "L ast [-9.99776911e-01  4.68416824e-04  2.11165343e-02]\n",
      "pos vector of sat [7349.9077701    36.82079536    0.        ]\n",
      "measured unit vector in body CS [-0.00865592  0.99678655  0.07963448  5.        ]\n",
      "measured unit vector in global CS [-0.99673068 -0.01364935  0.07963448]\n",
      "L ast [-9.99651497e-01  5.85416805e-04  2.63920617e-02]\n",
      "pos vector of sat [7349.86718907   44.18487312    0.        ]\n",
      "measured unit vector in body CS [-0.01210138  0.99539586  0.0950823   6.        ]\n",
      "measured unit vector in global CS [-0.99530513 -0.01808503  0.0950823 ]\n",
      "L ast [-9.99498285e-01  7.02347367e-04  3.16651874e-02]\n",
      "pos vector of sat [7349.81922977   51.54890651    0.        ]\n",
      "measured unit vector in body CS [-0.01381038  0.99397246  0.10875671  7.        ]\n",
      "measured unit vector in global CS [-0.99385116 -0.02078122  0.10875671]\n",
      "L ast [-9.99317318e-01  8.19194689e-04  3.69354334e-02]\n",
      "pos vector of sat [7349.76389224   58.91288816    0.        ]\n",
      "measured unit vector in body CS [-0.01551152  0.99236349  0.12236868  8.        ]\n",
      "measured unit vector in global CS [-0.99220728 -0.02346517  0.12236868]\n",
      "L ast [-9.99108647e-01  9.35944987e-04  4.22023232e-02]\n",
      "pos vector of sat [7349.70117654   66.27681067    0.        ]\n",
      "measured unit vector in body CS [-0.01548395  0.99059954  0.13591468  9.        ]\n",
      "measured unit vector in global CS [-0.99041964 -0.02441581  0.13591468]\n",
      "L ast [-0.99887233  0.00105258  0.04746538]\n",
      "pos vector of sat [7349.63108273   73.64066665    0.        ]\n",
      "measured unit vector in body CS [-0.01716577  0.98837573  0.15105875 10.        ]\n",
      "measured unit vector in global CS [-0.98815413 -0.02706758  0.15105875]\n",
      "L ast [-0.99860843  0.0011691   0.05272414]\n",
      "pos vector of sat [7349.55361089   81.0044487     0.        ]\n",
      "measured unit vector in body CS [-0.01883561  0.9859297   0.16609587 11.        ]\n",
      "measured unit vector in global CS [-0.98566223 -0.02970041  0.16609587]\n",
      "L ast [-0.99831703  0.00128548  0.05797811]\n",
      "pos vector of sat [7349.46876109   88.36814943    0.        ]\n",
      "measured unit vector in body CS [-0.02049244  0.98326653  0.18101655 12.        ]\n",
      "measured unit vector in global CS [-0.98294908 -0.03231265  0.18101655]\n",
      "L ast [-0.9979982   0.0014017   0.06322684]\n",
      "pos vector of sat [7349.37653341   95.73176146    0.        ]\n",
      "measured unit vector in body CS [-0.02213523  0.98039166  0.19581168 13.        ]\n",
      "measured unit vector in global CS [-0.98002019 -0.03490269  0.19581168]\n",
      "L ast [-0.99765203  0.00151776  0.06846986]\n",
      "pos vector of sat [7349.27692796  103.09527738    0.        ]\n",
      "measured unit vector in body CS [-0.02376304  0.9773109   0.21047261 14.        ]\n",
      "measured unit vector in global CS [-0.97688144 -0.03746902  0.21047261]\n",
      "L ast [-0.99727862  0.00163364  0.07370671]\n",
      "pos vector of sat [7349.16994482  110.45868981    0.        ]\n",
      "measured unit vector in body CS [-0.02537493  0.97403035  0.22499107 15.        ]\n",
      "measured unit vector in global CS [-0.97353901 -0.04001018  0.22499107]\n",
      "L ast [-0.99687808  0.00174933  0.07893691]\n",
      "pos vector of sat [7349.05558411  117.82199135    0.        ]\n",
      "measured unit vector in body CS [-0.02695915  0.97016368  0.24094738 16.        ]\n",
      "measured unit vector in global CS [-0.96960686 -0.04250761  0.24094738]\n",
      "L ast [-0.99645051  0.00186482  0.08416002]\n",
      "pos vector of sat [7348.93384594  125.18517462    0.        ]\n",
      "measured unit vector in body CS [-0.02853542  0.9664829   0.25514021 17.        ]\n",
      "measured unit vector in global CS [-0.96585669 -0.04499241  0.25514021]\n",
      "L ast [-0.99599603  0.00198008  0.08937557]\n",
      "pos vector of sat [7348.80473044  132.54823221    0.        ]\n",
      "measured unit vector in body CS [-0.03009331  0.962623    0.2691679  18.        ]\n",
      "measured unit vector in global CS [-0.96192376 -0.04744814  0.2691679 ]\n",
      "L ast [-0.99551476  0.00209512  0.09458312]\n",
      "pos vector of sat [7348.66823773  139.91115675    0.        ]\n",
      "measured unit vector in body CS [-0.03164698  0.9590417   0.28149154 19.        ]\n",
      "measured unit vector in global CS [-0.95826551 -0.04989711  0.28149154]\n",
      "L ast [-0.99500685  0.0022099   0.09978222]\n",
      "pos vector of sat [7348.52436795  147.27394083    0.        ]\n",
      "measured unit vector in body CS [-0.03318365  0.95532909  0.2936753  20.        ]\n",
      "measured unit vector in global CS [-0.95447238 -0.05231918  0.2936753 ]\n",
      "L ast [-0.99447242  0.00232443  0.10497241]\n",
      "pos vector of sat [7348.37312124  154.63657707    0.        ]\n",
      "measured unit vector in body CS [-0.03468526  0.9510087   0.30721229 21.        ]\n",
      "measured unit vector in global CS [-0.95006846 -0.05468585  0.30721229]\n",
      "L ast [-0.99391162  0.0024387   0.11015327]\n",
      "pos vector of sat [7348.21449777  161.99905808    0.        ]\n",
      "measured unit vector in body CS [-0.03616606  0.94653657  0.32056283 22.        ]\n",
      "measured unit vector in global CS [-0.94550951 -0.05701959  0.32056283]\n",
      "L ast [-0.99332461  0.00255267  0.11532435]\n",
      "pos vector of sat [7348.04849767  169.36137646    0.        ]\n",
      "measured unit vector in body CS [-0.03762557  0.94192019  0.33372245 23.        ]\n",
      "measured unit vector in global CS [-0.94080312 -0.05931965  0.33372245]\n",
      "L ast [-0.99271154  0.00266635  0.12048523]\n",
      "pos vector of sat [7347.87512113  176.72352483    0.        ]\n",
      "measured unit vector in body CS [-0.04068834  0.93710622  0.34666466 24.        ]\n",
      "measured unit vector in global CS [-0.93585699 -0.06320837  0.34666466]\n",
      "L ast [-0.99207258  0.00277973  0.12563546]\n",
      "pos vector of sat [7347.69436832  184.08549578    0.        ]\n",
      "measured unit vector in body CS [-0.04209534  0.93222233  0.35942943 25.        ]\n",
      "measured unit vector in global CS [-0.93087559 -0.06543025  0.35942943]\n",
      "L ast [-0.9914079   0.00289278  0.13077464]\n",
      "pos vector of sat [7347.50623941  191.44728195    0.        ]\n",
      "measured unit vector in body CS [-0.04350568  0.92777151  0.37060393 26.        ]\n",
      "measured unit vector in global CS [-0.92632353 -0.06765681  0.37060393]\n",
      "L ast [-0.99071768  0.0030055   0.13590233]\n",
      "pos vector of sat [7347.31073461  198.80887592    0.        ]\n",
      "measured unit vector in body CS [-0.04486862  0.92266393  0.38298573 27.        ]\n",
      "measured unit vector in global CS [-0.9211127  -0.06980918  0.38298573]\n",
      "L ast [-0.9900021   0.00311787  0.14101814]\n",
      "pos vector of sat [7347.10785409  206.17027032    0.        ]\n",
      "measured unit vector in body CS [-0.0462084   0.91744873  0.39516151 28.        ]\n",
      "measured unit vector in global CS [-0.91579156 -0.071925    0.39516151]\n",
      "L ast [-0.98926136  0.00322989  0.14612164]\n",
      "pos vector of sat [7346.89759807  213.53145775    0.        ]\n",
      "measured unit vector in body CS [-0.04755546  0.91272092  0.40580661 29.        ]\n",
      "measured unit vector in global CS [-0.91095409 -0.07405166  0.40580661]\n",
      "L ast [-0.98849564  0.00334154  0.15121243]\n",
      "pos vector of sat [7346.67996676  220.89243082    0.        ]\n",
      "measured unit vector in body CS [-0.04884998  0.90732216  0.41758852 30.        ]\n",
      "measured unit vector in global CS [-0.90544421 -0.07609602  0.41758852]\n",
      "L ast [-0.98770516  0.00345281  0.15629012]\n",
      "pos vector of sat [7346.45496038  228.25318215    0.        ]\n",
      "measured unit vector in body CS [-0.05012092  0.90183662  0.42916034 31.        ]\n",
      "measured unit vector in global CS [-0.89984515 -0.07810315  0.42916034]\n",
      "L ast [-0.98689011  0.00356368  0.16135431]\n",
      "pos vector of sat [7346.22257914  235.61370434    0.        ]\n",
      "measured unit vector in body CS [-0.05140342  0.89688539  0.43926562 32.        ]\n",
      "measured unit vector in global CS [-0.89477665 -0.08012782  0.43926562]\n",
      "L ast [-0.98605071  0.00367415  0.16640461]\n",
      "pos vector of sat [7345.9828233   242.97399001    0.        ]\n",
      "measured unit vector in body CS [-0.05262861  0.8912547   0.45043899 33.        ]\n",
      "measured unit vector in global CS [-0.8890278  -0.08206266  0.45043899]\n",
      "L ast [-0.98518718  0.00378421  0.17144065]\n",
      "pos vector of sat [7345.73569308  250.33403177    0.        ]\n",
      "measured unit vector in body CS [-0.05383016  0.88555693  0.46140138 34.        ]\n",
      "measured unit vector in global CS [-0.88320975 -0.08396016  0.46140138]\n",
      "L ast [-0.98429974  0.00389384  0.17646204]\n",
      "pos vector of sat [7345.48118873  257.69382222    0.        ]\n",
      "measured unit vector in body CS [-0.0550478   0.88043296  0.47096449 35.        ]\n",
      "measured unit vector in global CS [-0.87796167 -0.08588227  0.47096449]\n",
      "L ast [-0.98338862  0.00400303  0.18146843]\n",
      "pos vector of sat [7345.21931051  265.05335398    0.        ]\n",
      "measured unit vector in body CS [-0.05620374  0.87462598  0.48152938 36.        ]\n",
      "measured unit vector in global CS [-0.87203029 -0.08770767  0.48152938]\n",
      "L ast [-0.98245406  0.00411178  0.18645943]\n",
      "pos vector of sat [7344.95005869  272.41261967    0.        ]\n",
      "measured unit vector in body CS [-0.05737883  0.86941468  0.49074003 37.        ]\n",
      "measured unit vector in global CS [-0.86669071 -0.08956247  0.49074003]\n",
      "L ast [-0.98149628  0.00422007  0.19143471]\n",
      "pos vector of sat [7344.67343353  279.77161189    0.        ]\n",
      "measured unit vector in body CS [-0.05699477  0.86359521  0.500954   38.        ]\n",
      "measured unit vector in global CS [-0.8607999 -0.0898255  0.500954 ]\n",
      "L ast [-0.98051553  0.00432789  0.1963939 ]\n",
      "pos vector of sat [7344.38943531  287.13032326    0.        ]\n",
      "measured unit vector in body CS [-0.05813705  0.85831607  0.50981722 39.        ]\n",
      "measured unit vector in global CS [-0.85538974 -0.09162309  0.50981722]\n",
      "L ast [-0.97951206  0.00443523  0.20133665]\n",
      "pos vector of sat [7344.09806431  294.48874638    0.        ]\n",
      "measured unit vector in body CS [-0.05925919  0.85301086  0.51851791 40.        ]\n",
      "measured unit vector in global CS [-0.8499516  -0.09338876  0.51851791]\n",
      "L ast [-0.97848612  0.00454208  0.20626264]\n",
      "pos vector of sat [7343.79932084  301.84687389    0.        ]\n",
      "measured unit vector in body CS [-0.06031446  0.84702546  0.52811933 41.        ]\n",
      "measured unit vector in global CS [-0.84383391 -0.09504888  0.52811933]\n",
      "L ast [-0.97743796  0.00464843  0.21117153]\n",
      "pos vector of sat [7343.49320518  309.20469837    0.        ]\n",
      "measured unit vector in body CS [-0.06139543  0.84167733  0.53647915 42.        ]\n",
      "measured unit vector in global CS [-0.83834939 -0.09674932  0.53647915]\n",
      "L ast [-0.97636785  0.00475428  0.216063  ]\n",
      "pos vector of sat [7343.17971765  316.56221246    0.        ]\n",
      "measured unit vector in body CS [-0.06240731  0.83565279  0.54570115 43.        ]\n",
      "measured unit vector in global CS [-0.8321895  -0.09834071  0.54570115]\n",
      "L ast [-0.97527604  0.0048596   0.22093672]\n",
      "pos vector of sat [7342.85885855  323.91940876    0.        ]\n",
      "measured unit vector in body CS [-0.06344788  0.83027755  0.55372697 44.        ]\n",
      "measured unit vector in global CS [-0.82667468 -0.09997712  0.55372697]\n",
      "L ast [-0.9741628   0.0049644   0.22579238]\n",
      "pos vector of sat [7342.53062822  331.27627989    0.        ]\n",
      "measured unit vector in body CS [-0.06441731  0.82423092  0.56257782 45.        ]\n",
      "measured unit vector in global CS [-0.82048991 -0.10150126  0.56257782]\n",
      "L ast [-0.97302839  0.00506866  0.23062969]\n",
      "pos vector of sat [7342.19502698  338.63281847    0.        ]\n",
      "measured unit vector in body CS [-0.06541836  0.81884311  0.57027748 46.        ]\n",
      "measured unit vector in global CS [-0.81495959 -0.10307504  0.57027748]\n",
      "L ast [-0.9718731   0.00517238  0.23544833]\n",
      "pos vector of sat [7341.85205517  345.9890171     0.        ]\n",
      "measured unit vector in body CS [-0.0664006   0.81345403  0.57782653 47.        ]\n",
      "measured unit vector in global CS [-0.80942657 -0.10461899  0.57782653]\n",
      "L ast [-0.9706972   0.00527554  0.24024802]\n",
      "pos vector of sat [7341.50171314  353.3448684     0.        ]\n",
      "measured unit vector in body CS [-0.06736425  0.80806651  0.58522695 48.        ]\n",
      "measured unit vector in global CS [-0.80389372 -0.10613346  0.58522695]\n",
      "L ast [-0.96950096  0.00537814  0.24502848]\n",
      "pos vector of sat [7341.14400122  360.700365      0.        ]\n",
      "measured unit vector in body CS [-0.06830955  0.80268321  0.59248077 49.        ]\n",
      "measured unit vector in global CS [-0.79836378 -0.10761883  0.59248077]\n",
      "L ast [-0.96828467  0.00548016  0.24978943]\n",
      "pos vector of sat [7340.77891979  368.0554995     0.        ]\n",
      "measured unit vector in body CS [-0.06917925  0.79664478  0.60047592 50.        ]\n",
      "measured unit vector in global CS [-0.79218114 -0.10898491  0.60047592]\n",
      "L ast [-0.96704861  0.00558161  0.25453059]\n",
      "pos vector of sat [7340.40646921  375.41026452    0.        ]\n",
      "measured unit vector in body CS [-0.07008755  0.79127879  0.6074254  51.        ]\n",
      "measured unit vector in global CS [-0.78666617 -0.1104116   0.6074254 ]\n",
      "L ast [-0.96579307  0.00568247  0.25925171]\n",
      "pos vector of sat [7340.02664986  382.76465269    0.        ]\n",
      "measured unit vector in body CS [-0.07097826  0.7859246   0.61423498 52.        ]\n",
      "measured unit vector in global CS [-0.78116184 -0.1118104   0.61423498]\n",
      "L ast [-0.96451834  0.00578273  0.26395253]\n",
      "pos vector of sat [7339.63946211  390.1186566     0.        ]\n",
      "measured unit vector in body CS [-0.07185167  0.78058437  0.6209069  53.        ]\n",
      "measured unit vector in global CS [-0.77567036 -0.11318175  0.6209069 ]\n",
      "L ast [-0.9632247   0.00588239  0.2686328 ]\n",
      "pos vector of sat [7339.24490636  397.4722689     0.        ]\n",
      "measured unit vector in body CS [-0.07270803  0.77526018  0.62744338 54.        ]\n",
      "measured unit vector in global CS [-0.77019386 -0.11452605  0.62744338]\n",
      "L ast [-0.96191245  0.00598143  0.27329227]\n",
      "pos vector of sat [7338.84298299  404.82548218    0.        ]\n",
      "measured unit vector in body CS [-0.07354761  0.76995395  0.63384672 55.        ]\n",
      "measured unit vector in global CS [-0.76473431 -0.11584372  0.63384672]\n",
      "L ast [-0.96058188  0.00607986  0.27793072]\n",
      "pos vector of sat [7338.43369242  412.17828907    0.        ]\n",
      "measured unit vector in body CS [-0.07437069  0.76466753  0.64011918 56.        ]\n",
      "measured unit vector in global CS [-0.7592936  -0.1171352   0.64011918]\n",
      "L ast [-0.9592333   0.00617766  0.28254791]\n",
      "pos vector of sat [7338.01703505  419.53068219    0.        ]\n",
      "measured unit vector in body CS [-0.07517754  0.75940265  0.64626307 57.        ]\n",
      "measured unit vector in global CS [-0.75387351 -0.11840092  0.64626307]\n",
      "L ast [-0.95786699  0.00627483  0.28714362]\n",
      "pos vector of sat [7337.59301131  426.88265416    0.        ]\n",
      "measured unit vector in body CS [-0.07603336  0.75480543  0.6515272  58.        ]\n",
      "measured unit vector in global CS [-0.74911534 -0.11974356  0.6515272 ]\n",
      "L ast [-0.95648326  0.00637136  0.29171765]\n",
      "pos vector of sat [7337.16162161  434.2341976     0.        ]\n",
      "measured unit vector in body CS [-0.075515    0.74965959  0.65750132 59.        ]\n",
      "measured unit vector in global CS [-0.74388876 -0.1196726   0.65750132]\n",
      "L ast [-0.9550824   0.00646725  0.29626978]\n",
      "pos vector of sat [7336.7228664   441.58530513    0.        ]\n",
      "measured unit vector in body CS [-0.07628471  0.74446507  0.66328908 60.        ]\n",
      "measured unit vector in global CS [-0.7385371  -0.1208741   0.66328908]\n",
      "L ast [-0.95366472  0.00656248  0.30079982]\n",
      "pos vector of sat [7336.2767461   448.93596936    0.        ]\n",
      "measured unit vector in body CS [-0.07703921  0.73929783  0.66895716 61.        ]\n",
      "measured unit vector in global CS [-0.73321195 -0.12205148  0.66895716]\n",
      "L ast [-0.95223053  0.00665706  0.30530756]\n",
      "pos vector of sat [7335.82326118  456.28618292    0.        ]\n",
      "measured unit vector in body CS [-0.07784571  0.73479073  0.67381201 62.        ]\n",
      "measured unit vector in global CS [-0.72854082 -0.12331119  0.67381201]\n",
      "L ast [-0.95078011  0.00675097  0.30979284]\n",
      "pos vector of sat [7335.36241208  463.63593843    0.        ]\n",
      "measured unit vector in body CS [-0.07857133  0.72967799  0.67926179 63.        ]\n",
      "measured unit vector in global CS [-0.72326857 -0.12444274  0.67926179]\n",
      "L ast [-0.94931378  0.00684421  0.31425547]\n",
      "pos vector of sat [7334.89419927  470.98522852    0.        ]\n",
      "measured unit vector in body CS [-0.07928254  0.7245959   0.68459847 64.        ]\n",
      "measured unit vector in global CS [-0.71802631 -0.12555143  0.68459847]\n",
      "L ast [-0.94783185  0.00693677  0.31869527]\n",
      "pos vector of sat [7334.41862322  478.3340458     0.        ]\n",
      "measured unit vector in body CS [-0.0800486   0.72016602  0.68916843 65.        ]\n",
      "measured unit vector in global CS [-0.71342981 -0.12674692  0.68916843]\n",
      "L ast [-0.9463346   0.00702865  0.32311209]\n",
      "pos vector of sat [7333.9356844   485.68238289    0.        ]\n",
      "measured unit vector in body CS [-0.08073244  0.71514415  0.69429901 66.        ]\n",
      "measured unit vector in global CS [-0.70824638 -0.12781217  0.69429901]\n",
      "L ast [-0.94482236  0.00711985  0.32750576]\n",
      "pos vector of sat [7333.4453833   493.03023243    0.        ]\n",
      "measured unit vector in body CS [-0.08140267  0.71015566  0.69932292 67.        ]\n",
      "measured unit vector in global CS [-0.70309575 -0.12885582  0.69932292]\n",
      "L ast [-0.94329541  0.00721035  0.33187614]\n",
      "pos vector of sat [7332.94772042  500.37758703    0.        ]\n",
      "measured unit vector in body CS [-0.08213035  0.70580987  0.70362421 68.        ]\n",
      "measured unit vector in global CS [-0.69858105 -0.12999034  0.70362421]\n",
      "L ast [-0.94175408  0.00730016  0.33622308]\n",
      "pos vector of sat [7332.44269625  507.72443932    0.        ]\n",
      "measured unit vector in body CS [-0.08156557  0.70095626  0.7085248  69.        ]\n",
      "measured unit vector in global CS [-0.69364745 -0.1297915   0.7085248 ]\n",
      "L ast [-0.94019866  0.00738927  0.34054645]\n",
      "pos vector of sat [7331.93031129  515.07078192    0.        ]\n",
      "measured unit vector in body CS [-0.08234751  0.69726905  0.71206373 70.        ]\n",
      "measured unit vector in global CS [-0.68978412 -0.13100804  0.71206373]\n",
      "L ast [-0.93862945  0.00747767  0.34484612]\n",
      "pos vector of sat [7331.41056607  522.41660746    0.        ]\n",
      "measured unit vector in body CS [-0.08297591  0.69240754  0.71671947 71.        ]\n",
      "measured unit vector in global CS [-0.68475863 -0.13198036  0.71671947]\n",
      "L ast [-0.93704676  0.00756537  0.34912195]\n",
      "pos vector of sat [7330.8834611   529.76190857    0.        ]\n",
      "measured unit vector in body CS [-0.08366391  0.68817509  0.72070479 72.        ]\n",
      "measured unit vector in global CS [-0.68035502 -0.13304753  0.72070479]\n",
      "L ast [-0.93545089  0.00765235  0.35337384]\n",
      "pos vector of sat [7330.34899692  537.10667787    0.        ]\n",
      "measured unit vector in body CS [-0.0843407   0.68397105  0.72461731 73.        ]\n",
      "measured unit vector in global CS [-0.67597912 -0.1340969   0.72461731]\n",
      "L ast [-0.93384215  0.00773861  0.35760168]\n",
      "pos vector of sat [7329.80717405  544.45090798    0.        ]\n",
      "measured unit vector in body CS [-0.08493342  0.67921136  0.72901182 74.        ]\n",
      "measured unit vector in global CS [-0.67105391 -0.13501263  0.72901182]\n",
      "L ast [-0.93222083  0.00782415  0.36180535]\n",
      "pos vector of sat [7329.25799305  551.79459154    0.        ]\n",
      "measured unit vector in body CS [-0.08558789  0.6750692   0.73277301 75.        ]\n",
      "measured unit vector in global CS [-0.66673869 -0.13602657  0.73277301]\n",
      "L ast [-0.93058723  0.00790896  0.36598477]\n",
      "pos vector of sat [7328.70145447  559.13772117    0.        ]\n",
      "measured unit vector in body CS [-0.08507494  0.67102333  0.73653917 76.        ]\n",
      "measured unit vector in global CS [-0.66260695 -0.13587528  0.73653917]\n",
      "L ast [-0.92894166  0.00799305  0.37013983]\n",
      "pos vector of sat [7328.13755886  566.4802895     0.        ]\n",
      "measured unit vector in body CS [-0.08571551  0.66693969  0.74016505 77.        ]\n",
      "measured unit vector in global CS [-0.65834961 -0.13686303  0.74016505]\n",
      "L ast [-0.92728442  0.0080764   0.37427047]\n",
      "pos vector of sat [7327.56630679  573.82228917    0.        ]\n",
      "measured unit vector in body CS [-0.08634578  0.66288578  0.74372498 78.        ]\n",
      "measured unit vector in global CS [-0.65412141 -0.13783443  0.74372498]\n",
      "L ast [-0.92561579  0.00815902  0.37837659]\n",
      "pos vector of sat [7326.98769884  581.16371279    0.        ]\n",
      "measured unit vector in body CS [-0.08696591  0.65886176  0.74722026 79.        ]\n",
      "measured unit vector in global CS [-0.64992253 -0.13878976  0.74722026]\n",
      "L ast [-0.92393608  0.0082409   0.38245812]\n",
      "pos vector of sat [7326.40173558  588.504553      0.        ]\n",
      "measured unit vector in body CS [-0.08750135  0.65430898  0.75114797 80.        ]\n",
      "measured unit vector in global CS [-0.64520211 -0.13961005  0.75114797]\n",
      "L ast [-0.92224557  0.00832204  0.38651501]\n",
      "pos vector of sat [7325.8084176   595.84480244    0.        ]\n",
      "measured unit vector in body CS [-0.08705462  0.65096846  0.75409652 81.        ]\n",
      "measured unit vector in global CS [-0.6417686  -0.13954036  0.75409652]\n",
      "L ast [-0.92054457  0.00840244  0.39054718]\n",
      "pos vector of sat [7325.2077455   603.18445372    0.        ]\n",
      "measured unit vector in body CS [-0.08765229  0.64703458  0.75740565 82.        ]\n",
      "measured unit vector in global CS [-0.63765881 -0.14045611  0.75740565]\n",
      "L ast [-0.91883336  0.00848209  0.39455458]\n",
      "pos vector of sat [7324.59971989  610.52349949    0.        ]\n",
      "measured unit vector in body CS [-0.08824045  0.64313105  0.76065503 83.        ]\n",
      "measured unit vector in global CS [-0.63357886 -0.14135682  0.76065503]\n",
      "L ast [-0.91711223  0.008561    0.39853716]\n",
      "pos vector of sat [7323.98434136  617.86193238    0.        ]\n",
      "measured unit vector in body CS [-0.08881928  0.63925792  0.76384583 84.        ]\n",
      "measured unit vector in global CS [-0.62952884 -0.14224274  0.76384583]\n",
      "L ast [-0.91538147  0.00863915  0.40249488]\n",
      "pos vector of sat [7323.36161055  625.19974502    0.        ]\n",
      "measured unit vector in body CS [-0.08946464  0.63595336  0.76652423 85.        ]\n",
      "measured unit vector in global CS [-0.62603852 -0.14323535  0.76652423]\n",
      "L ast [-0.91364137  0.00871655  0.4064277 ]\n",
      "pos vector of sat [7322.73152807  632.53693004    0.        ]\n",
      "measured unit vector in body CS [-0.08893648  0.63219895  0.76968486 86.        ]\n",
      "measured unit vector in global CS [-0.62219967 -0.14301322  0.76968486]\n",
      "L ast [-0.9118922   0.0087932   0.41033559]\n",
      "pos vector of sat [7322.09409455  639.87348008    0.        ]\n",
      "measured unit vector in body CS [-0.08949522  0.62841256  0.77271486 87.        ]\n",
      "measured unit vector in global CS [-0.61823541 -0.14386353  0.77271486]\n",
      "L ast [-0.91013425  0.00886909  0.41421852]\n",
      "pos vector of sat [7321.44931065  647.20938778    0.        ]\n",
      "measured unit vector in body CS [-0.09012102  0.62518259  0.77525797 88.        ]\n",
      "measured unit vector in global CS [-0.61481843 -0.14482184  0.77525797]\n",
      "L ast [-0.9083678   0.00894422  0.41807647]\n",
      "pos vector of sat [7320.797177    654.54464576    0.        ]\n",
      "measured unit vector in body CS [-0.09073888  0.62197507  0.77776183 89.        ]\n",
      "measured unit vector in global CS [-0.61142322 -0.14576754  0.77776183]\n",
      "L ast [-0.90659313  0.0090186   0.42190943]\n",
      "pos vector of sat [7320.13769425  661.87924667    0.        ]\n",
      "measured unit vector in body CS [-0.09020735  0.61833165  0.78072313 90.        ]\n",
      "measured unit vector in global CS [-0.60769612 -0.1455226   0.78072313]\n",
      "L ast [-0.90481051  0.00909222  0.42571737]\n",
      "pos vector of sat [7319.47086308  669.21318314    0.        ]\n",
      "measured unit vector in body CS [-9.08148643e-02  6.15172425e-01  7.83144653e-01  9.10000000e+01]\n",
      "measured unit vector in global CS [-0.60434859 -0.14644874  0.78314465]\n",
      "L ast [-0.90302021  0.00916507  0.42950029]\n",
      "pos vector of sat [7318.79668415  676.54644781    0.        ]\n",
      "measured unit vector in body CS [-9.13384576e-02  6.11524794e-01  7.85935565e-01  9.20000000e+01]\n",
      "measured unit vector in global CS [-0.60052121 -0.1472398   0.78593557]\n",
      "L ast [-0.9012225   0.00923717  0.4332582 ]\n",
      "pos vector of sat [7318.11515814  683.87903332    0.        ]\n",
      "measured unit vector in body CS [-9.08069137e-02  6.07966027e-01  7.88753076e-01  9.30000000e+01]\n",
      "measured unit vector in global CS [-0.59687952 -0.14698104  0.78875308]\n",
      "L ast [-0.89941766  0.0093085   0.4369911 ]\n",
      "pos vector of sat [7317.42628573  691.21093231    0.        ]\n",
      "measured unit vector in body CS [-9.13966358e-02  6.04880808e-01  7.91053641e-01  9.40000000e+01]\n",
      "measured unit vector in global CS [-0.59360495 -0.14787597  0.79105364]\n",
      "L ast [-0.89760595  0.00937906  0.44069899]\n",
      "pos vector of sat [7316.73006761  698.54213742    0.        ]\n",
      "measured unit vector in body CS [-9.19028062e-02  6.01319029e-01  7.93706053e-01  9.50000000e+01]\n",
      "measured unit vector in global CS [-0.58986273 -0.14863601  0.79370605]\n",
      "L ast [-0.89578762  0.00944887  0.44438188]\n",
      "pos vector of sat [7316.02650448  705.87264128    0.        ]\n",
      "measured unit vector in body CS [-9.24776738e-02  5.98281726e-01  7.95931440e-01  9.60000000e+01]\n",
      "measured unit vector in global CS [-0.58663503 -0.14950746  0.79593144]\n",
      "L ast [-0.89396294  0.00951791  0.4480398 ]\n",
      "pos vector of sat [7315.31559705  713.20243655    0.        ]\n",
      "measured unit vector in body CS [-9.30454336e-02  5.95266445e-01  7.98123053e-01  9.70000000e+01]\n",
      "measured unit vector in global CS [-0.5834288  -0.15036764  0.79812305]\n",
      "L ast [-0.89213217  0.00958618  0.45167277]\n",
      "pos vector of sat [7314.59734604  720.53151585    0.        ]\n",
      "measured unit vector in body CS [-9.25864152e-02  5.92329834e-01  8.00358122e-01  9.80000000e+01]\n",
      "measured unit vector in global CS [-0.58040038 -0.15020744  0.80035812]\n",
      "L ast [-0.89029557  0.00965369  0.4552808 ]\n",
      "pos vector of sat [7313.87175215  727.85987184    0.        ]\n",
      "measured unit vector in body CS [-9.31454888e-02  5.89358133e-01  8.02484211e-01  9.90000000e+01]\n",
      "measured unit vector in global CS [-0.57723713 -0.15105092  0.80248421]\n",
      "L ast [-0.88845337  0.00972043  0.45886394]\n",
      "pos vector of sat [7313.13881613  735.18749716    0.        ]\n",
      "measured unit vector in body CS [-9.36977195e-02  5.86408209e-01  8.04578244e-01  1.00000000e+02]\n",
      "measured unit vector in global CS [-0.57409514 -0.15188359  0.80457824]\n",
      "L ast [-0.88660584  0.00978641  0.46242222]\n",
      "pos vector of sat [7312.39853871  742.51438444    0.        ]\n",
      "measured unit vector in body CS [-9.31625112e-02  5.83058601e-01  8.07070885e-01  1.01000000e+02]\n",
      "measured unit vector in global CS [-0.57066427 -0.15158787  0.80707089]\n",
      "L ast [-0.88475322  0.00985163  0.46595566]\n",
      "pos vector of sat [7311.65092062  749.84052635    0.        ]\n",
      "measured unit vector in body CS [-9.37826427e-02  5.80628522e-01  8.08749242e-01  1.02000000e+02]\n",
      "measured unit vector in global CS [-0.56803143 -0.15252854  0.80874924]\n",
      "L ast [-0.88289576  0.00991608  0.46946433]\n",
      "pos vector of sat [7310.89596263  757.16591551    0.        ]\n",
      "measured unit vector in body CS [-9.43200010e-02  5.77743131e-01  8.10750647e-01  1.03000000e+02]\n",
      "measured unit vector in global CS [-0.56495293 -0.15333485  0.81075065]\n",
      "L ast [-0.88103368  0.00997976  0.47294825]\n",
      "pos vector of sat [7310.13366548  764.49054458    0.        ]\n",
      "measured unit vector in body CS [-9.47739458e-02  5.74412926e-01  8.13060693e-01  1.04000000e+02]\n",
      "measured unit vector in global CS [-0.56143966 -0.15400591  0.81306069]\n",
      "L ast [-0.87916724  0.01004268  0.47640749]\n",
      "pos vector of sat [7309.36402995  771.81440621    0.        ]\n",
      "measured unit vector in body CS [-9.43907355e-02  5.72090337e-01  8.14741085e-01  1.05000000e+02]\n",
      "measured unit vector in global CS [-0.55901556 -0.15394338  0.81474108]\n",
      "L ast [-0.87729667  0.01010484  0.4798421 ]\n",
      "pos vector of sat [7308.58705681  779.13749304    0.        ]\n",
      "measured unit vector in body CS [-9.49138476e-02  5.69268553e-01  8.16654564e-01  1.06000000e+02]\n",
      "measured unit vector in global CS [-0.55599971 -0.15472443  0.81665456]\n",
      "L ast [-0.8754222   0.01016624  0.48325213]\n",
      "pos vector of sat [7307.80274683  786.45979772    0.        ]\n",
      "measured unit vector in body CS [-9.54307059e-02  5.66467828e-01  8.18539663e-01  1.07000000e+02]\n",
      "measured unit vector in global CS [-0.55300445 -0.15549564  0.81853966]\n",
      "L ast [-0.87354405  0.01022687  0.48663765]\n",
      "pos vector of sat [7307.01110081  793.7813129     0.        ]\n",
      "measured unit vector in body CS [-9.49712820e-02  5.63740730e-01  8.20473549e-01  1.08000000e+02]\n",
      "measured unit vector in global CS [-0.55018685 -0.15529838  0.82047355]\n",
      "L ast [-0.87166246  0.01028674  0.48999871]\n",
      "pos vector of sat [7306.21211953  801.10203123    0.        ]\n",
      "measured unit vector in body CS [-9.54807448e-02  5.60981539e-01  8.22303557e-01  1.09000000e+02]\n",
      "measured unit vector in global CS [-0.54723269 -0.15605524  0.82230356]\n",
      "L ast [-0.86977765  0.01034586  0.49333539]\n",
      "pos vector of sat [7305.4058038   808.42194537    0.        ]\n",
      "measured unit vector in body CS [-9.53279395e-02  5.60083757e-01  8.22933029e-01  1.10000000e+02]\n",
      "measured unit vector in global CS [-0.54620053 -0.15635283  0.82293303]\n",
      "L ast [-0.86788983  0.01040421  0.49664776]\n",
      "pos vector of sat [7304.59215444  815.74104796    0.        ]\n",
      "measured unit vector in body CS [-9.50994292e-02  5.58741182e-01  8.23871586e-01  1.11000000e+02]\n",
      "measured unit vector in global CS [-0.54473469 -0.1565239   0.82387159]\n",
      "L ast [-0.86599923  0.01046181  0.49993588]\n",
      "pos vector of sat [7303.77117225  823.05933165    0.        ]\n",
      "measured unit vector in body CS [-9.54042956e-02  5.60532374e-01  8.22618671e-01  1.12000000e+02]\n",
      "measured unit vector in global CS [-0.54632337 -0.15757314  0.82261867]\n",
      "L ast [-0.86410605  0.01051864  0.50319985]\n"
     ]
    }
   ],
   "source": [
    "fits=[]\n",
    "for i in range(len(data_meas)):\n",
    "    set_of_measurments = data_meas.loc[i]  #choose which line to check\n",
    "    set_of_measurments = normalise_input(set_of_measurments.dropna())\n",
    "    fit = fitness(elements_sat, set_of_measurments, [7133.8,0.0043,np.radians(10),np.radians(0),np.radians(0),np.radians(0)])\n",
    "    fits.append(fit)"
   ]
  },
  {
   "cell_type": "code",
   "execution_count": 144,
   "metadata": {},
   "outputs": [
    {
     "data": {
      "text/plain": [
       "0.00011565066608104254"
      ]
     },
     "execution_count": 144,
     "metadata": {},
     "output_type": "execute_result"
    }
   ],
   "source": [
    "max(fits)"
   ]
  },
  {
   "cell_type": "code",
   "execution_count": 4,
   "metadata": {},
   "outputs": [
    {
     "data": {
      "text/plain": [
       "array([-1.,  0.,  0.])"
      ]
     },
     "execution_count": 4,
     "metadata": {},
     "output_type": "execute_result"
    }
   ],
   "source": [
    "\n",
    "v = [0,1,0]\n",
    "r = [1,0,0]\n",
    "vec = [0,1,0]\n",
    "to_global_axis(vec,r,v)"
   ]
  },
  {
   "cell_type": "code",
   "execution_count": null,
   "metadata": {},
   "outputs": [],
   "source": [
    "print(best_point)\n",
    "\n",
    "D, rO_perigee = evaluate_D(elements_sat, 60)\n",
    "# Set up Lambert's problem\n",
    "rT_i, rT_f = get_target_r(elements_sat,elements_deb, [4686.363636363637, 4686.363636363637], 60)\n",
    "# solve Lambert's problem\n",
    "elementsT_estimated = list(solve_lambert(r1 = rT_i, r2 = rT_f, tof = 60))\n",
    "print(elementsT_estimated)\n",
    "fit = fitness(elements_sat, elements_deb, elementsT_estimated, no_of_measurments = 60)\n",
    "print(fit)"
   ]
  },
  {
   "cell_type": "code",
   "execution_count": 262,
   "metadata": {},
   "outputs": [
    {
     "name": "stdout",
     "output_type": "stream",
     "text": [
      "from rho (array([-3370.40082161, -4938.35873329,  3897.60440158]), array([-3.28804323, -2.55804492, -6.06789951]))\n",
      "ideal (array([ 2644.71527012, -6597.70363665,   203.65960376]), array([6.1781863 , 2.13873564, 3.83254291]))\n",
      "satellite (array([-3407.72971403, -4928.06109229,  3920.52845889]), array([-3.34761025, -2.58520094, -6.12964399]))\n",
      "[ 0.82953094 -0.22883647 -0.50942349]\n",
      "[ 0.82953093 -0.22883647 -0.5094235 ]\n"
     ]
    }
   ],
   "source": [
    "print(\"from rho\",propagate_based_on_elements([6929.3203653797,0.0300116531,1.7162873512,0.8762504074,5.7380713477,3.1008175552], 0, kepler=False))\n",
    "print(\"ideal\", propagate_based_on_elements(elements_deb, 0, kepler=False))\n",
    "\n",
    "print(\"satellite\", propagate_based_on_elements(elements_sat,0, kepler=False))\n",
    "\n",
    "print(unit_vector(propagate_based_on_elements(elements_sat,0, kepler=False)[0], propagate_based_on_elements([6929.3203653797,0.0300116531,1.7162873512,0.8762504074,5.7380713477,3.1008175552], 0, kepler=False)[0]))\n",
    "\n",
    "print(unit_vector(propagate_based_on_elements(elements_sat,0, kepler=False)[0], propagate_based_on_elements(elements_deb, 0, kepler=False)[0]))"
   ]
  },
  {
   "cell_type": "code",
   "execution_count": null,
   "metadata": {},
   "outputs": [],
   "source": [
    "fit = fitness(elements_sat, elements_deb, [9450.49625553981, 0.2501664703342994, 1.7154666684924387, 0.8703258847995052, 2.9719140826855535, -2.995440490696146], no_of_measurments = 60)\n",
    "fit"
   ]
  },
  {
   "attachments": {},
   "cell_type": "markdown",
   "metadata": {},
   "source": [
    "Python reminder"
   ]
  },
  {
   "cell_type": "code",
   "execution_count": null,
   "metadata": {},
   "outputs": [
    {
     "data": {
      "text/plain": [
       "[1, 3, 6, 2, 4]"
      ]
     },
     "execution_count": 103,
     "metadata": {},
     "output_type": "execute_result"
    }
   ],
   "source": [
    "L = [1,3,6,2,4]\n",
    "Ln = L.copy()\n",
    "Ln.sort()\n",
    "L"
   ]
  },
  {
   "cell_type": "code",
   "execution_count": 77,
   "metadata": {},
   "outputs": [
    {
     "name": "stdout",
     "output_type": "stream",
     "text": [
      "1\n",
      "2\n",
      "here\n"
     ]
    }
   ],
   "source": [
    "f = False\n",
    "n = 0\n",
    "while f == False:\n",
    "    n +=1\n",
    "    if n == 3:\n",
    "        print(\"here\")\n",
    "        f = False\n",
    "        break\n",
    "    print(n)"
   ]
  },
  {
   "cell_type": "code",
   "execution_count": 79,
   "metadata": {},
   "outputs": [
    {
     "data": {
      "text/plain": [
       "[0, 1, 2]"
      ]
     },
     "execution_count": 79,
     "metadata": {},
     "output_type": "execute_result"
    }
   ],
   "source": [
    "l = [x for x in range(3)]\n",
    "l"
   ]
  },
  {
   "cell_type": "code",
   "execution_count": null,
   "metadata": {},
   "outputs": [
    {
     "data": {
      "text/plain": [
       "[1964, 2013, 2018]"
      ]
     },
     "execution_count": 5,
     "metadata": {},
     "output_type": "execute_result"
    }
   ],
   "source": [
    "l = [{\"brand\": \"Ford\",\n",
    "  \"model\": \"Mustang\",\n",
    "  \"year\": 1964\n",
    "}, {\n",
    "  \"brand\": \"Volvo\",\n",
    "  \"model\": \"SUV\",\n",
    "  \"year\": 2018\n",
    "},\n",
    "{\"brand\": \"Audi\",\n",
    "  \"model\": \"A7\",\n",
    "  \"year\": 2013},\n",
    "  ]\n",
    "\n",
    "for dict1 in l:\n",
    "    if dict1[\"year\"] >= 2000:\n",
    "        dict1[\"new\"] = True\n",
    "\n",
    "# order l based on year\n",
    "years = []\n",
    "for dict1 in l:\n",
    "    years.append(dict1[\"year\"])\n",
    "    years.sort()\n",
    "\n",
    "years"
   ]
  },
  {
   "cell_type": "code",
   "execution_count": null,
   "metadata": {},
   "outputs": [
    {
     "data": {
      "text/plain": [
       "(9450.496255539807,\n",
       " 0.25016647033429984,\n",
       " 1.7154666684924387,\n",
       " 0.8703258847995052,\n",
       " 2.971914082685554,\n",
       " -2.9678853860378602)"
      ]
     },
     "execution_count": 99,
     "metadata": {},
     "output_type": "execute_result"
    }
   ],
   "source": [
    "e1 = [9450.49625553981, 0.2501664703342994, 1.7154666684924387, 0.8703258847995052, 2.9719140826855535, -2.995440490696146]\n",
    "r, v = pykep.par2ic(e1, mu=398600)\n",
    "rf,vf = pykep.propagate_lagrangian(r0 = r, v0 = v, tof = 50,mu = 398600)\n",
    "e2 = pykep.ic2par(rf,vf,mu = 398600)\n",
    "e2"
   ]
  },
  {
   "cell_type": "code",
   "execution_count": null,
   "metadata": {},
   "outputs": [
    {
     "data": {
      "text/plain": [
       "3.141592653589793"
      ]
     },
     "execution_count": 101,
     "metadata": {},
     "output_type": "execute_result"
    }
   ],
   "source": [
    "np.radians(180)"
   ]
  },
  {
   "cell_type": "code",
   "execution_count": 47,
   "metadata": {},
   "outputs": [
    {
     "name": "stdout",
     "output_type": "stream",
     "text": [
      "0\n",
      "1\n"
     ]
    }
   ],
   "source": [
    "for t in range(2):\n",
    "    print(t)"
   ]
  }
 ],
 "metadata": {
  "kernelspec": {
   "display_name": "snakes",
   "language": "python",
   "name": "python3"
  },
  "language_info": {
   "codemirror_mode": {
    "name": "ipython",
    "version": 3
   },
   "file_extension": ".py",
   "mimetype": "text/x-python",
   "name": "python",
   "nbconvert_exporter": "python",
   "pygments_lexer": "ipython3",
   "version": "3.10.8"
  },
  "orig_nbformat": 4
 },
 "nbformat": 4,
 "nbformat_minor": 2
}
