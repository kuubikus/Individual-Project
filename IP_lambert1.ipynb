{
 "cells": [
  {
   "cell_type": "code",
   "execution_count": 73,
   "metadata": {},
   "outputs": [],
   "source": [
    "import numpy as np\n",
    "import matplotlib.pyplot as plt\n",
    "from matplotlib import cm\n",
    "from matplotlib.ticker import LinearLocator\n",
    "from mpl_toolkits import mplot3d\n",
    "import pykep\n",
    "import random\n",
    "from scipy.optimize import newton\n",
    "import csv\n",
    "import pandas as pd\n",
    "import math\n",
    "from numpy.linalg import inv\n",
    "import copy\n",
    "import os\n",
    "from pathlib import Path\n",
    "from decimal import Decimal"
   ]
  },
  {
   "cell_type": "markdown",
   "metadata": {},
   "source": [
    "Utility functions"
   ]
  },
  {
   "cell_type": "code",
   "execution_count": 2,
   "metadata": {},
   "outputs": [],
   "source": [
    "def check_duplicates(data):\n",
    "    duplicates = []\n",
    "    i1 = 0\n",
    "    for dict1 in data:\n",
    "        i2 = 0\n",
    "        for dict2 in data:\n",
    "            if dict1 == dict2 and i1 != i2 and dict2 not in duplicates:\n",
    "                duplicates.append(dict2)\n",
    "            i2 +=1\n",
    "        i1+=1\n",
    "    if duplicates:\n",
    "        return True, duplicates\n",
    "    else:\n",
    "        return False, duplicates\n",
    "    \n",
    "\n",
    "def check_points(point, data):\n",
    "    if point[0] >= 0 and point[1] >= 0:\n",
    "        for dict in data:\n",
    "            if dict[\"Point\"] == point:\n",
    "                return False\n",
    "        return True\n",
    "    else:\n",
    "        return False\n"
   ]
  },
  {
   "cell_type": "code",
   "execution_count": 3,
   "metadata": {},
   "outputs": [],
   "source": [
    "def normalise_input(series):\n",
    "    \"\"\"\n",
    "    Normalises the pandas dataframe and convert each entry to a np array represting a unit vector.\n",
    "    Returns the normalised one.\n",
    "    \"\"\"\n",
    "    series = series.str.strip(\"[ \")\n",
    "    series = series.str.strip(\"[\")\n",
    "    series = series.str.strip(\"]\")\n",
    "    series = series.str.replace('  ',' ')\n",
    "    for i in range(len(series)):\n",
    "        series[i] = np.fromstring(series[i], sep=' ')\n",
    "    return series"
   ]
  },
  {
   "cell_type": "code",
   "execution_count": 102,
   "metadata": {},
   "outputs": [],
   "source": [
    "def to_global_axis(vector, r, v):\n",
    "    \"\"\"\n",
    "    Calculates the rotation matrix and applies it. Returns the converted vector.\n",
    "    r and v are used to calculate the rotation matrix and vector is the vector to be \n",
    "    rotated.\n",
    "    \"\"\"\n",
    "    unit_r = r/np.linalg.norm(r)\n",
    "    unit_v = v/np.linalg.norm(v)\n",
    "    \n",
    "    R = np.array([[unit_v[0], -unit_r[0], unit_r[1]*unit_v[2] - unit_v[1]*unit_r[2]],\n",
    "                [unit_v[1], -unit_r[1], unit_v[0]*unit_r[2] - unit_r[0]*unit_v[2]],\n",
    "                [unit_v[2], -unit_r[2], unit_r[0]*unit_v[1] - unit_v[0]*unit_r[1]]])\n",
    "    \n",
    "    vec = R.dot(vector)\n",
    "    return vec/np.linalg.norm(vec)"
   ]
  },
  {
   "cell_type": "code",
   "execution_count": 5,
   "metadata": {},
   "outputs": [],
   "source": [
    "def normalise_orbit(orbit):\n",
    "    i = 0\n",
    "    for element in orbit:\n",
    "        if math.isnan(element) is True:\n",
    "            orbit[i] = False\n",
    "        i+=1\n",
    "    return orbit"
   ]
  },
  {
   "cell_type": "code",
   "execution_count": 6,
   "metadata": {},
   "outputs": [],
   "source": [
    "def to_csv(data, filename):\n",
    "    for dict1 in data:\n",
    "        dict1.update({\"Rho_i\":dict1[\"Point\"][0]})\n",
    "        dict1.update({\"Rho_f\":dict1[\"Point\"][1]})\n",
    "    \n",
    "    with open(filename, 'w', newline='') as f:\n",
    "        fieldnames = [\"Point\", \"Orbit\", \"Fit\",\"Rho_i\",\"Rho_f\"]\n",
    "        writer = csv.DictWriter(f, fieldnames=fieldnames)\n",
    "\n",
    "        writer.writeheader()\n",
    "        writer.writerows(data)"
   ]
  },
  {
   "cell_type": "code",
   "execution_count": 7,
   "metadata": {},
   "outputs": [],
   "source": [
    "def evaluate_D(elementsO, TOF):\n",
    "    mu = 398600  # km^3/s^2. Make into a global variable later. Can I make TOF a global variable?\n",
    "    aO = elementsO[0]\n",
    "    eO = elementsO[1]\n",
    "    aT_max = 50000\n",
    "\n",
    "    # some calculations\n",
    "    rO_perigee = (1-eO)*aO\n",
    "    vO_perigee = ((1+eO)/(1-eO) * mu/aO)**0.5\n",
    "    vT_perigee_max = (2*mu/rO_perigee*(1-rO_perigee/(2*aT_max)))**0.5\n",
    "\n",
    "    return (vO_perigee + vT_perigee_max)*TOF, rO_perigee"
   ]
  },
  {
   "cell_type": "code",
   "execution_count": 121,
   "metadata": {},
   "outputs": [
    {
     "ename": "TypeError",
     "evalue": "'decimal.Decimal' object cannot be interpreted as an integer",
     "output_type": "error",
     "traceback": [
      "\u001b[1;31m---------------------------------------------------------------------------\u001b[0m",
      "\u001b[1;31mTypeError\u001b[0m                                 Traceback (most recent call last)",
      "Cell \u001b[1;32mIn[121], line 1\u001b[0m\n\u001b[1;32m----> 1\u001b[0m np\u001b[39m.\u001b[39;49mlinspace(Decimal(\u001b[39m0\u001b[39;49m),Decimal(\u001b[39m1\u001b[39;49m),Decimal(\u001b[39m10\u001b[39;49m))\n",
      "File \u001b[1;32m<__array_function__ internals>:200\u001b[0m, in \u001b[0;36mlinspace\u001b[1;34m(*args, **kwargs)\u001b[0m\n",
      "File \u001b[1;32me:\\Anaconda\\envs\\IP\\Lib\\site-packages\\numpy\\core\\function_base.py:121\u001b[0m, in \u001b[0;36mlinspace\u001b[1;34m(start, stop, num, endpoint, retstep, dtype, axis)\u001b[0m\n\u001b[0;32m     23\u001b[0m \u001b[39m@array_function_dispatch\u001b[39m(_linspace_dispatcher)\n\u001b[0;32m     24\u001b[0m \u001b[39mdef\u001b[39;00m \u001b[39mlinspace\u001b[39m(start, stop, num\u001b[39m=\u001b[39m\u001b[39m50\u001b[39m, endpoint\u001b[39m=\u001b[39m\u001b[39mTrue\u001b[39;00m, retstep\u001b[39m=\u001b[39m\u001b[39mFalse\u001b[39;00m, dtype\u001b[39m=\u001b[39m\u001b[39mNone\u001b[39;00m,\n\u001b[0;32m     25\u001b[0m              axis\u001b[39m=\u001b[39m\u001b[39m0\u001b[39m):\n\u001b[0;32m     26\u001b[0m \u001b[39m    \u001b[39m\u001b[39m\"\"\"\u001b[39;00m\n\u001b[0;32m     27\u001b[0m \u001b[39m    Return evenly spaced numbers over a specified interval.\u001b[39;00m\n\u001b[0;32m     28\u001b[0m \n\u001b[1;32m   (...)\u001b[0m\n\u001b[0;32m    119\u001b[0m \n\u001b[0;32m    120\u001b[0m \u001b[39m    \"\"\"\u001b[39;00m\n\u001b[1;32m--> 121\u001b[0m     num \u001b[39m=\u001b[39m operator\u001b[39m.\u001b[39mindex(num)\n\u001b[0;32m    122\u001b[0m     \u001b[39mif\u001b[39;00m num \u001b[39m<\u001b[39m \u001b[39m0\u001b[39m:\n\u001b[0;32m    123\u001b[0m         \u001b[39mraise\u001b[39;00m \u001b[39mValueError\u001b[39;00m(\u001b[39m\"\u001b[39m\u001b[39mNumber of samples, \u001b[39m\u001b[39m%s\u001b[39;00m\u001b[39m, must be non-negative.\u001b[39m\u001b[39m\"\u001b[39m \u001b[39m%\u001b[39m num)\n",
      "\u001b[1;31mTypeError\u001b[0m: 'decimal.Decimal' object cannot be interpreted as an integer"
     ]
    }
   ],
   "source": [
    "np.linspace(Decimal(0),Decimal(1),Decimal(10))"
   ]
  },
  {
   "cell_type": "code",
   "execution_count": 126,
   "metadata": {},
   "outputs": [],
   "source": [
    "def grid_between_lines(D, N, a=9000):\n",
    "    distances = []  # a list that will contain the whole population points (rho_i, rho_f)\n",
    "    \n",
    "    A = a*a\n",
    "    A_s = A - (a-D)*a/2 - (a-2*D)*(a-D)/2\n",
    "    no_of_nodes = N*A/A_s  # no of nodes in the 9000x9000 (height x width) rectangle\n",
    "\n",
    "    xs = np.linspace(0, a, int(np.sqrt(no_of_nodes))) # create values for rho_i\n",
    "    ys = np.linspace(0, a, int(np.sqrt(no_of_nodes))) # create values for rho_f\n",
    "    \n",
    "    for x in xs:\n",
    "        for y in ys:\n",
    "            if y < (x + D) and y > (x - D):\n",
    "                distances.append([x,y])  # only add points that are between the lines\n",
    "\n",
    "    #plt.plot(xc, yc, '.r')\n",
    "    #plt.show()\n",
    "    \n",
    "    return distances"
   ]
  },
  {
   "cell_type": "code",
   "execution_count": 150,
   "metadata": {},
   "outputs": [],
   "source": [
    "def get_elite(data, n=100):\n",
    "    values = []\n",
    "    for dict1 in data:\n",
    "        values.append(dict1[\"Fit\"])\n",
    "        values.sort(reverse=True)  # descending order\n",
    "\n",
    "    data_elite = []\n",
    "    min_value = values[n-1]\n",
    "\n",
    "    for dict2 in data:\n",
    "        if dict2[\"Fit\"]>= min_value and len(data_elite) < n:\n",
    "            data_elite.append(dict2)\n",
    "        if len(data_elite) == n:\n",
    "            return data_elite\n",
    "\n",
    "def get_best(data):\n",
    "    max_fit = 0\n",
    "    i = 0\n",
    "    for dict1 in data:\n",
    "        fit = dict1[\"Fit\"]\n",
    "        if fit > max_fit:\n",
    "            i_max = i\n",
    "            max_fit = fit\n",
    "        i += 1\n",
    "    return data[i_max]\n"
   ]
  },
  {
   "cell_type": "code",
   "execution_count": 10,
   "metadata": {},
   "outputs": [],
   "source": [
    "def show_pop(data):\n",
    "    xs = []\n",
    "    ys = []\n",
    "    for dict1 in data:\n",
    "        xs.append(dict1[\"Point\"][0])\n",
    "        ys.append(dict1[\"Point\"][1])\n",
    "        \n",
    "    plt.plot(xs, ys, '.k')\n",
    "    plt.show()"
   ]
  },
  {
   "attachments": {},
   "cell_type": "markdown",
   "metadata": {},
   "source": [
    "Orbit as a function of time"
   ]
  },
  {
   "cell_type": "code",
   "execution_count": 97,
   "metadata": {},
   "outputs": [],
   "source": [
    "def get_period(a, mu = 398600):\n",
    "    \"\"\"`\n",
    "    return the period in seconds\n",
    "    a needs to be in km\n",
    "    \"\"\"\n",
    "    return (2*np.pi*a**1.5)/mu**0.5\n",
    "\n",
    "def kepler(E, M_e, e):\n",
    "    \"\"\"Kepler's equation, to be used in a Newton solver.\"\"\"\n",
    "    return E - e * np.sin(E) - M_e\n",
    "\n",
    "def d_kepler_d_E(E, M_e, e):\n",
    "    \"\"\"The derivative of Kepler's equation, to be used in a Newton solver.\n",
    "    \n",
    "    Note that the argument M_e is unused, but must be present so the function\n",
    "    arguments are consistent with the kepler function.\n",
    "    \"\"\"\n",
    "    return 1 - e * np.cos(E)\n",
    "\n",
    "def time_since_perigee(elements):\n",
    "    a = elements[0]\n",
    "    e = elements[1]\n",
    "    E = elements[5]\n",
    "    E_mean = E - e*np.sin(E)\n",
    "    T = get_period(a)\n",
    "    return E_mean * T/(2*np.pi)\n",
    "\n",
    "def propagate_based_on_vector(r,v, t):\n",
    "    rf, vf = pykep.propagate_lagrangian(r0 = r, v0 = v, tof = t,mu = 398600)\n",
    "    return np.array(rf), np.array(vf)\n",
    "\n",
    "def propagate_based_on_elements(elements, t, kepler=True):\n",
    "    r, v = pykep.par2ic(elements, mu=398600)\n",
    "    if t > 0:\n",
    "        rf,vf = pykep.propagate_lagrangian(r0 = r, v0 = v, tof = t,mu = 398600)\n",
    "    else:\n",
    "        rf, vf = r, v\n",
    "    if kepler == False:  # return vectors\n",
    "        rf = [Decimal(x) for x in rf]\n",
    "        vf = [Decimal(x) for x in vf]\n",
    "        return np.array(rf),np.array(vf)\n",
    "    if kepler == True:  # return kepler elements\n",
    "        return pykep.ic2par(rf,vf,mu = 398600)"
   ]
  },
  {
   "attachments": {},
   "cell_type": "markdown",
   "metadata": {},
   "source": [
    "Unit vectors"
   ]
  },
  {
   "cell_type": "code",
   "execution_count": 12,
   "metadata": {},
   "outputs": [],
   "source": [
    "def to_unit_vector(point, width=1080, height=1980 , AOV=np.radians(39.23)):\n",
    "    \"\"\"\n",
    "    y points through the screen and x points right (CCW motion). Point is in cols, rows.\n",
    "    Output corresponds to rows, cols.\n",
    "    \"\"\"\n",
    "    distance_to_screen = (width**2+height**2)**0.5/(2*np.tan(AOV))\n",
    "    vector = np.array((point[0]-height/2, distance_to_screen, width/2-point[1]))\n",
    "    #print(\"vector in px\", vector)\n",
    "    vector = vector/np.linalg.norm(vector)\n",
    "    return vector"
   ]
  },
  {
   "cell_type": "code",
   "execution_count": 103,
   "metadata": {},
   "outputs": [],
   "source": [
    "def unit_vector(vector1, vector2):\n",
    "    \"\"\"\n",
    "    returns the unit vector between two vectors.\n",
    "    \"\"\"\n",
    "    rel = vector2 - vector1\n",
    "    return rel/np.linalg.norm(rel)\n",
    "\n",
    "def L_between_orbits(elements1, elements2, t, tof):\n",
    "    \"\"\"\n",
    "    Input is two Kepler orbits in Kepler elements\n",
    "    \"\"\"\n",
    "    r1, v1 = propagate_based_on_elements(elements1, t, kepler=False)\n",
    "    r2, v2 = propagate_based_on_elements(elements2, tof, kepler=False)\n",
    "    #print(\"Target pos vector\", r2)\n",
    "    #print(\"Ideal pos  vector\",r_ideal)\n",
    "    rel = r2 - r1\n",
    "    #print(\"relative vec\", rel)\n",
    "    #print(\"ideal rel vec\", rel_ideal)\n",
    "    unit = rel/np.linalg.norm(rel)\n",
    "    #print(\"ideal rel unit vec\",rel_ideal/np.linalg.norm(rel_ideal))\n",
    "    return unit\n",
    "\n",
    "def L_between_orbits_ic(r, elements2,t):\n",
    "    \"\"\"\n",
    "    Used if propagated r has already been found.\n",
    "    \"\"\"\n",
    "    r2, v2 = propagate_based_on_elements(elements2, t, kepler=False)\n",
    "    r= np.array(r)\n",
    "    r2 = np.array(r2)\n",
    "    rel = r2 - r\n",
    "    unit = rel/np.linalg.norm(rel)\n",
    "    return unit"
   ]
  },
  {
   "attachments": {},
   "cell_type": "markdown",
   "metadata": {},
   "source": [
    "Lambert's problem"
   ]
  },
  {
   "cell_type": "code",
   "execution_count": 14,
   "metadata": {},
   "outputs": [],
   "source": [
    "def constraints(elements, rO_perigee):\n",
    "    \"\"\"\n",
    "    Return true if satisfied.\n",
    "    \"\"\"\n",
    "    a = elements[0]\n",
    "    e = elements[1]\n",
    "    R_earth = 6371 # km\n",
    "    \n",
    "    if R_earth + 200 <= a and a <= 50000 and 0 <= e and e <= 1 - rO_perigee/50000: # aT_max = 50000 km\n",
    "        return True\n",
    "    else:\n",
    "        return False"
   ]
  },
  {
   "cell_type": "code",
   "execution_count": 139,
   "metadata": {},
   "outputs": [],
   "source": [
    "def get_target_r(elementsO, rel_initial, rel_final, point, ti,tof):\n",
    "    \"\"\"\n",
    "    The inputs are the observer elements and target posistion vectors as unit vectors in observer CS.\n",
    "    For final measurments they are propagated forward in time (t).\n",
    "    Point corresponds to a chromosome.\n",
    "    Returns intial and final target posistion vectors.\n",
    "    \"\"\"\n",
    "    # initial \"measurment\" and orbit\n",
    "    rho_i = Decimal(point[0])\n",
    "    rO_initial, vO_initial = propagate_based_on_elements(elementsO, ti, kepler=False)\n",
    "    rT_i = rho_i*rel_initial + rO_initial\n",
    "    # final \"measurment\" and orbit\n",
    "    rho_f = Decimal(point[1])\n",
    "    rO_final, vO_final = propagate_based_on_elements(elementsO, ti+tof, kepler=False)\n",
    "    rT_f = rho_f*rel_final + rO_final\n",
    "    return rT_i, rT_f"
   ]
  },
  {
   "cell_type": "code",
   "execution_count": 132,
   "metadata": {},
   "outputs": [],
   "source": [
    "def solve_lambert(ri, rf, t):\n",
    "    \"\"\"\n",
    "    Solves the lambert problem. Input two posistion vector and the time between those locations.\n",
    "    Returns the solution in Kepler elements.\n",
    "    \"\"\"\n",
    "    # solve Lambert's problem\n",
    "    ri = np.array([float(x) for x in ri])\n",
    "    rf = np.array([float(x) for x in rf])\n",
    "    l = pykep.lambert_problem(r1 = ri, r2 = rf, tof = t, mu=398600)\n",
    "    # convert results\n",
    "    vi = l.get_v1()[0]  # get the velocity vector at initial time for one revolution\n",
    "    elements = pykep.ic2par(ri,vi, mu=398600)  # get Kepler elements from pos and vel vectors\n",
    "    return elements"
   ]
  },
  {
   "cell_type": "code",
   "execution_count": 17,
   "metadata": {},
   "outputs": [],
   "source": [
    "def Lambert_problem(data, elementsO, rT_initial, rT_final, point, rO_perigee, ti, TOF):\n",
    "    # set up Lambert's problem\n",
    "    ri, rf = get_target_r(elementsO, rT_initial, rT_final, point, ti,TOF)\n",
    "    \n",
    "    # solve Lambert's problem\n",
    "    elementsT_estimated = list(solve_lambert(ri, rf, t = TOF))\n",
    "    elementsT_estimated = normalise_orbit(elementsT_estimated)\n",
    "    if constraints(elementsT_estimated, rO_perigee) is True:\n",
    "        new_dict = dict(Point = point, Orbit = elementsT_estimated)\n",
    "        data.append(new_dict)\n",
    "    if constraints(elementsT_estimated, rO_perigee) is False:\n",
    "        raise ValueError\n",
    "    return data"
   ]
  },
  {
   "attachments": {},
   "cell_type": "markdown",
   "metadata": {},
   "source": [
    "Genetic algorithm building blocks"
   ]
  },
  {
   "cell_type": "code",
   "execution_count": 145,
   "metadata": {},
   "outputs": [],
   "source": [
    "def mutate(data, elementsO, r_initial, r_final, rO_perigee, ti, TOF, index):\n",
    "    \"\"\"\n",
    "    mutates a single data point given by index. If the point doesn't satisfy conditions then\n",
    "    the function returns False.\n",
    "    \"\"\"\n",
    "    l = [x/3 for x in range(21)]\n",
    "    k = [-x/3-1/3 for x in range(20)]\n",
    "    stnd_devs = l+k \n",
    "    added = 0\n",
    "    for stnd_dev in stnd_devs:\n",
    "        rho0, rho1 = data[index][\"Point\"]\n",
    "        new_point = [rho0 + stnd_dev, rho1 + stnd_dev]\n",
    "        if check_points(new_point,data) is True:  # not a duplicate or a neg value\n",
    "            try:\n",
    "                data = Lambert_problem(data, elementsO, r_initial, r_final, new_point, rO_perigee, ti, TOF)\n",
    "                added += 1\n",
    "            except ValueError:\n",
    "                continue \n",
    "    if added > 0:\n",
    "        return True, data\n",
    "    else:\n",
    "        return False, data\n",
    "\n",
    "def mutation(data, elementsO, r_initial, r_final, rO_perigee, ti, TOF, no_of_outputs):\n",
    "    \"\"\"\n",
    "    Input how many extra chromoses are wanted.\n",
    "    \"\"\"\n",
    "    indices = [x for x in range(len(data))]\n",
    "    \n",
    "    last_length = len(data)\n",
    "    final_length = last_length + no_of_outputs\n",
    "    \n",
    "    while len(data) != final_length:\n",
    "        \n",
    "        if len(data) < final_length:\n",
    "            passed = False\n",
    "            while passed is False:\n",
    "                index = random.choice(indices)  # get a random entry from list\n",
    "                indices.remove(index)  # remove that entry to avoid duplicates\n",
    "                passed, data = mutate(data, elementsO, r_initial, r_final, rO_perigee, ti, TOF, index)  \n",
    "                #print(passed)\n",
    "                if passed == True:\n",
    "                    no_of_successful_mutations = len(data) - last_length \n",
    "                    #print(no_of_successful_mutations)\n",
    "                    #print(\"at\", no_of_successful_mutations, \"duplictes\", check_duplicates(data))\n",
    "                if not indices:  # list is empty\n",
    "                    #print(\"no of successful mutations\", no_of_successful_mutations)\n",
    "                    indices = [x + last_length for x in range(no_of_successful_mutations)]  # mutate the mutated points further\n",
    "                    #print(indices)\n",
    "                    last_length = len(data)\n",
    "                    no_of_successful_mutations = 0\n",
    "                    if not indices:\n",
    "                        indices = [x for x in range(last_length)]\n",
    "                        #print(indices)\n",
    "                    \n",
    "\n",
    "        if len(data) > final_length:\n",
    "            no_of_extra_points = len(data) - final_length \n",
    "            \n",
    "            for i in range(no_of_extra_points):\n",
    "                index = random.randint(0, len(data)-1)\n",
    "                \n",
    "                data.pop(index)\n",
    "            \n",
    "        \n",
    "    return data"
   ]
  },
  {
   "cell_type": "code",
   "execution_count": 19,
   "metadata": {},
   "outputs": [],
   "source": [
    "def one_crossover(point1, point2, data, D):\n",
    "    if np.random.randint(0,2) == 1:\n",
    "        #print(\"first point1\",point1)\n",
    "        #print(\"first point2\",point2)\n",
    "        point1[1] = point2[1]\n",
    "        #print(\"second point1\",point1)\n",
    "        #print(\"second point2\",point2)\n",
    "        if abs(point1[0] - point1[1]) < D and abs(point2[0] - point2[1]) < D:\n",
    "            #print(\"passed up\")\n",
    "            return point1\n",
    "        else:\n",
    "            return False\n",
    "    else:\n",
    "        point2[1] = point1[1]\n",
    "        if abs(point1[0] - point1[1]) < D and abs(point2[0] - point2[1]) < D:\n",
    "            #print(\"passed down\")\n",
    "            return point2\n",
    "        else:\n",
    "            return False\n",
    "\n",
    "def get_random_points(data):\n",
    "    index1 = random.randint(0, len(data) - 1)\n",
    "    index2 = random.randint(0, len(data) - 1)\n",
    "    while index1 == index2:  # can't be the same\n",
    "        index2 = random.randint(0, len(data) - 1)\n",
    "    point1 = data[index1][\"Point\"]\n",
    "    point2 = data[index2][\"Point\"]\n",
    "    return point1, point2\n",
    "\n",
    "def crossover(data, elementsO, r_initial, r_final, rO_perigee, ti, TOF, no_of_outputs, D):\n",
    "    for i in range(no_of_outputs):\n",
    "        passed = False\n",
    "        while passed is False:\n",
    "            point1, point2 = get_random_points(data)\n",
    "            extra_point = one_crossover(point1, point2, data,D)\n",
    "            while extra_point == False:\n",
    "                point1, point2 = get_random_points(data)\n",
    "                extra_point = one_crossover(point1, point2, data,D)  # the inequality must be satisfied\n",
    "            try:\n",
    "                data = Lambert_problem(data, elementsO, r_initial, r_final, extra_point, rO_perigee, ti, TOF)  # solve for orbits\n",
    "                passed = True\n",
    "            except ValueError:\n",
    "                passed = False  # will go back into the loop and select a new random point that passes the constraints\n",
    "    return data\n"
   ]
  },
  {
   "cell_type": "code",
   "execution_count": 136,
   "metadata": {},
   "outputs": [],
   "source": [
    "def fitness(elementsO, set_of_measurments, estimated_orbit):\n",
    "    fit = 1\n",
    "    t_initial = set_of_measurments[0][-1]\n",
    "    #print(\"initial time\", t_initial)\n",
    "    for coordinates in set_of_measurments:\n",
    "        t = coordinates[-1]\n",
    "        #print(\"time\", t)\n",
    "        r,v = propagate_based_on_elements(elementsO, t, kepler=False)\n",
    "        #print(\"pos vector of sat\", r,v)\n",
    "        #print(\"measured unit vector in body CS\", coordinates)\n",
    "        L_measurment = coordinates[:-1]\n",
    "        tof = t - t_initial\n",
    "        L_ast = L_between_orbits(elementsO, estimated_orbit,t,tof)\n",
    "        #print(\"L ast\", L_ast)\n",
    "        #print(\"measured unit vector in global CS\", L_measurment)\n",
    "        #print(\"dot\", np.dot(L_measurment, L_ast))\n",
    "        #print(\"norms\", np.linalg.norm(L_measurment),np.linalg.norm(L_ast))\n",
    "        fit = fit * np.dot(L_measurment, L_ast)\n",
    "    return fit\n",
    "\n",
    "def objective_func(elementsO, set_of_measurments, data):\n",
    "    for og_dict in data:\n",
    "        #print(\"orbit\", og_dict[\"Orbit\"])\n",
    "        fit_value = fitness(elementsO, set_of_measurments, og_dict[\"Orbit\"])\n",
    "        og_dict[\"Fit\"] = fit_value   # fitness value in the data\n",
    "    return data\n"
   ]
  },
  {
   "cell_type": "code",
   "execution_count": 21,
   "metadata": {},
   "outputs": [],
   "source": [
    "def initialise_pop(elementsO, rel_intial, rel_final, ti, TOF=60, N=1000):\n",
    "    \"\"\"\n",
    "    Initialises the population of specific size based on initial and final \"measurments\".\n",
    "    The inputs are the observer orbit and the inital and final posistion vector for the target.\n",
    "    Returns a list of dictionaries.\n",
    "    \"\"\"\n",
    "    D, rO_perigee = evaluate_D(elementsO, TOF)\n",
    "    \n",
    "    # get an evenly spaced grid between two lines Rho in the range [0,9000]\n",
    "    original_population = grid_between_lines(D, 16*N)  # initial population\n",
    "    data = []\n",
    "    \n",
    "    for point in original_population:\n",
    "        try:\n",
    "            data = Lambert_problem(data, elementsO, rel_intial, rel_final, point, rO_perigee, ti, TOF)\n",
    "        except ValueError:\n",
    "            continue\n",
    "    \n",
    "    n = len(data)\n",
    "    #print(\"initial size\", n)\n",
    "    if n > N:\n",
    "        # remove the number of extra points randomly\n",
    "        no_of_extra_points = n - N\n",
    "        for i in range(no_of_extra_points):\n",
    "            index = random.randint(0, len(data)-1)\n",
    "            data.pop(index)\n",
    "\n",
    "    if n < N:\n",
    "        # gain extra points via mutation\n",
    "        no_of_extra_points = N - n\n",
    "        #print(no_of_extra_points)\n",
    "        data = mutation(data, elementsO, rel_intial, rel_final, rO_perigee, ti, TOF, no_of_extra_points)  \n",
    "        \n",
    "    return data"
   ]
  },
  {
   "attachments": {},
   "cell_type": "markdown",
   "metadata": {},
   "source": [
    "Stop conditions"
   ]
  },
  {
   "cell_type": "code",
   "execution_count": 22,
   "metadata": {},
   "outputs": [],
   "source": [
    "def mean(data):\n",
    "    n = len(data)\n",
    "    sum_i = 0\n",
    "    sum_f = 0\n",
    "    for dict1 in data:\n",
    "        sum_i += dict1[\"Point\"][0]\n",
    "        sum_f += dict1[\"Point\"][1]\n",
    "    return sum_i/n, sum_f/n    \n",
    "\n",
    "def covariance_matrix(data):\n",
    "    \"\"\"\n",
    "    Returns the standard deviations of the population in terms of two variables.\n",
    "    Our points consist of initial and final distance.\n",
    "    \"\"\"\n",
    "    c11 = 0\n",
    "    c12 = 0\n",
    "    c22 = 0\n",
    "    mean_i, mean_f = mean(data)\n",
    "    n = len(data)\n",
    "    for dict1 in data:\n",
    "        c11 += (dict1[\"Point\"][0]-mean_i)**2\n",
    "        c12 += (dict1[\"Point\"][0]-mean_i)*(dict1[\"Point\"][1]-mean_f)\n",
    "        c22 += (dict1[\"Point\"][1]-mean_f)**2\n",
    "    return (c11/n)**0.5, (c22/n)**0.5, (c12/n)**0.5\n",
    "\n",
    "def last_similarity(List, error = 0):\n",
    "    \"\"\"\n",
    "    The input list should be a list (2x2) in a list of length phi.\n",
    "    Return true if all the elements in the list are similar (same) compared to the last element.\n",
    "    \"\"\"\n",
    "    value1, value2 = List[-1]\n",
    "    for point in List:\n",
    "        last_value1, last_value2 = point\n",
    "        difference1 = abs(last_value1 - value1)\n",
    "        difference2 = abs(last_value2 - value2)\n",
    "        if difference1 <= error and difference2 <= error:\n",
    "            continue\n",
    "        else:\n",
    "            return False   # is not similar\n",
    "    return True  # is similar\n",
    "    \n",
    "def stop_criteria(data, last_means, last_best_values, no_of_gens,lim_O = 5, lim_F = 5, max_gen=30,error = 0):\n",
    "    \"\"\"\n",
    "    Returns True if met.\n",
    "    \"\"\"\n",
    "    # for means\n",
    "    means_sim = last_similarity(last_means)\n",
    "    # for best values\n",
    "    best_sim = last_similarity(last_best_values)\n",
    "    # standard values\n",
    "    sigma_OO, sigma_FF, sigma_OF = covariance_matrix(data)\n",
    "    #print(\"standard dev\", sigma_OO, sigma_FF, sigma_OF)\n",
    "    \n",
    "    if means_sim == True:\n",
    "        print(\"similarity in means\")\n",
    "        return True\n",
    "    if best_sim == True:\n",
    "        print(\"similarity in last best\")\n",
    "        return True\n",
    "    if no_of_gens >= max_gen:\n",
    "        print(\"max gens\")\n",
    "        return True, None, None\n",
    "    if sigma_OO <= lim_O and sigma_FF <= lim_F:\n",
    "        print(\"stnd dev\")\n",
    "        return True\n",
    "    else:\n",
    "        return False  # need these values for the next iteration"
   ]
  },
  {
   "attachments": {},
   "cell_type": "markdown",
   "metadata": {},
   "source": [
    "Initialisation"
   ]
  },
  {
   "cell_type": "code",
   "execution_count": 28,
   "metadata": {},
   "outputs": [],
   "source": [
    "elements_sat = [7350,0.0,np.radians(0),np.radians(0),np.radians(0),np.radians(0)]\n",
    "elements_deb = [7133.8,0.0043,np.radians(10),np.radians(0),np.radians(0),np.radians(0)]"
   ]
  },
  {
   "cell_type": "code",
   "execution_count": 36,
   "metadata": {},
   "outputs": [],
   "source": [
    "%store -r line"
   ]
  },
  {
   "cell_type": "code",
   "execution_count": 38,
   "metadata": {},
   "outputs": [],
   "source": [
    "set_of_measurments = line[15:]"
   ]
  },
  {
   "cell_type": "code",
   "execution_count": 27,
   "metadata": {},
   "outputs": [],
   "source": [
    "set_of_measurments = new_test"
   ]
  },
  {
   "cell_type": "code",
   "execution_count": 6,
   "metadata": {},
   "outputs": [],
   "source": [
    "# measurments from detecting objects\n",
    "data_meas = pd.read_csv('data/measurments.csv')\n",
    "set_of_measurments = data_meas.loc[1]  #choose which line to check\n",
    "set_of_measurments = normalise_input(set_of_measurments.dropna())"
   ]
  },
  {
   "cell_type": "code",
   "execution_count": 36,
   "metadata": {},
   "outputs": [
    {
     "name": "stdout",
     "output_type": "stream",
     "text": [
      "initial size 942\n"
     ]
    },
    {
     "data": {
      "image/png": "[encoded data removed]",
      "text/plain": [
       "<Figure size 640x480 with 1 Axes>"
      ]
     },
     "metadata": {},
     "output_type": "display_data"
    },
    {
     "name": "stdout",
     "output_type": "stream",
     "text": [
      "1000\n"
     ]
    }
   ],
   "source": [
    "r1 = set_of_measurments[0][:-1]\n",
    "r2 = set_of_measurments[-1][:-1]\n",
    "tof = set_of_measurments[-1][-1] - set_of_measurments[0][-1]\n",
    "ti = set_of_measurments[0][-1]\n",
    "# initialise\n",
    "data = initialise_pop(elements_sat, r1, r2, ti, TOF=tof)\n",
    "show_pop(data)\n",
    "print(len(data))"
   ]
  },
  {
   "cell_type": "code",
   "execution_count": 37,
   "metadata": {},
   "outputs": [],
   "source": [
    "data = objective_func(elements_sat, set_of_measurments, data)"
   ]
  },
  {
   "cell_type": "code",
   "execution_count": 38,
   "metadata": {},
   "outputs": [
    {
     "data": {
      "text/plain": [
       "(False, [])"
      ]
     },
     "execution_count": 38,
     "metadata": {},
     "output_type": "execute_result"
    }
   ],
   "source": [
    "check_duplicates(data)"
   ]
  },
  {
   "cell_type": "code",
   "execution_count": 39,
   "metadata": {},
   "outputs": [],
   "source": [
    "data_elite = get_elite(data)"
   ]
  },
  {
   "cell_type": "code",
   "execution_count": 40,
   "metadata": {},
   "outputs": [],
   "source": [
    "data_test = copy.deepcopy(data_elite)"
   ]
  },
  {
   "cell_type": "code",
   "execution_count": 41,
   "metadata": {},
   "outputs": [
    {
     "name": "stdout",
     "output_type": "stream",
     "text": [
      "best point [896.678966789668, 963.09963099631]\n"
     ]
    }
   ],
   "source": [
    "best_point = get_best(data)[\"Point\"]\n",
    "no_of_gens = 0\n",
    "phi = 3\n",
    "print(\"best point\", best_point)\n",
    "last_means = [(0,0) for x in range(phi)]\n",
    "last_means.pop(0)\n",
    "last_means.append(mean(data))\n",
    "\n",
    "last_best_values = [(0,0) for x in range(phi)]\n",
    "last_best_values.pop(0)\n",
    "last_best_values.append(best_point)\n",
    "\n",
    "D, rO_perigee = evaluate_D(elements_sat, tof)  # maybe there is a better way to define this"
   ]
  },
  {
   "attachments": {},
   "cell_type": "markdown",
   "metadata": {},
   "source": [
    "Body"
   ]
  },
  {
   "cell_type": "code",
   "execution_count": 260,
   "metadata": {},
   "outputs": [],
   "source": [
    "data_crossover = crossover(data_test, elements_sat, r1,r2, rO_perigee, ti, tof, 50, D)"
   ]
  },
  {
   "cell_type": "code",
   "execution_count": 42,
   "metadata": {},
   "outputs": [
    {
     "name": "stdout",
     "output_type": "stream",
     "text": [
      "initial size 49\n",
      "crossover (True, [{'Point': [1495.0, 1645.0], 'Orbit': [30889.666163067068, 0.8105440999080302, 0.8210634595254327, 0.0005452382557348577, 0.10984092091192843, -0.026644560597202688]}, {'Point': [795.0479704797049, 861.468634686347], 'Orbit': [8296.007602174945, 0.2096496472565083, 0.5154839814208572, 0.00016505133035898479, 0.06352964330061558, -0.03566072923973657]}, {'Point': [1352.0, 1502.0], 'Orbit': [19616.846143594656, 0.6952274938582717, 0.7777594747118916, 0.0007428326110015264, 0.16717630068828823, -0.06022358325732403]}])\n",
      "initial size 49\n",
      "crossover (False, [])\n",
      "initial size 49\n",
      "crossover (False, [])\n",
      "initial size 49\n",
      "crossover (False, [])\n",
      "initial size 49\n",
      "crossover (False, [])\n",
      "similarity in last best\n",
      "donzo\n"
     ]
    }
   ],
   "source": [
    "while stop_criteria(data, last_means, last_best_values, no_of_gens) is False:\n",
    "    #print(\"iteration\", no_of_gens)\n",
    "    data_elite = get_elite(data)\n",
    "    \n",
    "    # create new population and corresponding orbits\n",
    "    data_created = initialise_pop(elements_sat, r1, r2, ti, TOF=tof, N=50)  # create 5% of desired population size\n",
    "    \n",
    "    data_elite = data_elite + data_created\n",
    "    \n",
    "    #mutate\n",
    "    data_mutation = mutation(data_elite, elements_sat, r1,r2, rO_perigee, ti, tof, 800)  # 800 corresponds to 80% of desired population \n",
    "    #print(\"mutation\", check_duplicates(data_mutation))\n",
    "    # crossover\n",
    "    data_crossover = crossover(data_mutation, elements_sat, r1,r2, rO_perigee, ti, tof, 50, D)  # crossover 5% of desired population size\n",
    "    data = data_crossover\n",
    "    #print(\"final\", len(data))\n",
    "    print(\"crossover\", check_duplicates(data_crossover))\n",
    "    # get new fit_values\n",
    "    data = objective_func(elements_sat, set_of_measurments, data)\n",
    "    \n",
    "    # update last_means, last_best_values, no_of_gens\n",
    "    last_means.pop(0)\n",
    "    last_means.append(mean(data))\n",
    "    #print(\"last means\", last_means)\n",
    "    best_point = get_best(data)[\"Point\"]\n",
    "    #print(\"the best\", best_point)\n",
    "    last_best_values.pop(0)\n",
    "    last_best_values.append(best_point)\n",
    "    #print(\"last bests\", last_best_values)\n",
    "    no_of_gens += 1\n",
    "else:\n",
    "    print(\"donzo\")"
   ]
  },
  {
   "cell_type": "code",
   "execution_count": 43,
   "metadata": {},
   "outputs": [],
   "source": [
    "best_ones = []"
   ]
  },
  {
   "cell_type": "code",
   "execution_count": 44,
   "metadata": {},
   "outputs": [
    {
     "data": {
      "text/plain": [
       "[{'Point': [442.7343173431735, 475.9446494464945],\n",
       "  'Orbit': [7251.530635158399,\n",
       "   0.04727894735094815,\n",
       "   0.3043583371135131,\n",
       "   6.283181747953716,\n",
       "   6.272813707430835,\n",
       "   0.02599273515476623],\n",
       "  'Fit': 0.9999999996746358}]"
      ]
     },
     "execution_count": 44,
     "metadata": {},
     "output_type": "execute_result"
    }
   ],
   "source": [
    "best = get_best(data)\n",
    "best_ones.append(best)\n",
    "best_ones"
   ]
  },
  {
   "cell_type": "markdown",
   "metadata": {},
   "source": [
    "All in one"
   ]
  },
  {
   "cell_type": "code",
   "execution_count": 118,
   "metadata": {},
   "outputs": [
    {
     "data": {
      "text/plain": [
       "['measurments_data_0_0_M1.csv',\n",
       " 'measurments_data_0_0_M2.csv',\n",
       " 'measurments_data_0_0_M3.csv']"
      ]
     },
     "execution_count": 118,
     "metadata": {},
     "output_type": "execute_result"
    }
   ],
   "source": [
    "directory = \"data/Test/\"\n",
    "os.listdir(directory)"
   ]
  },
  {
   "cell_type": "code",
   "execution_count": null,
   "metadata": {},
   "outputs": [],
   "source": [
    "elements_sat = [7350,0.0037296,np.radians(82.0394),np.radians(41.7294),np.radians(216.168),np.radians(0)]\n",
    "\n",
    "for filename in os.listdir(directory):\n",
    "    print(\"file\", filename)\n",
    "    path = directory + filename\n",
    "    # measurments from detecting objects\n",
    "    data_meas = pd.read_csv(path)\n",
    "    for index, row in data_meas.iterrows():\n",
    "        data = []\n",
    "        set_of_measurments = normalise_input(row.dropna())\n",
    "\n",
    "        #set up the pop\n",
    "        r1 = set_of_measurments[0][:-1]\n",
    "        r2 = set_of_measurments[-1][:-1]\n",
    "        tof = set_of_measurments[-1][-1] - set_of_measurments[0][-1]\n",
    "        ti = set_of_measurments[0][-1]\n",
    "        # initialise\n",
    "        data = initialise_pop(elements_sat, r1, r2, ti, TOF=tof)\n",
    "        # run the objective func\n",
    "        data = objective_func(elements_sat, set_of_measurments, data)\n",
    "\n",
    "        #initialise the body of the alogithm\n",
    "        best_point = get_best(data)[\"Point\"]\n",
    "        no_of_gens = 0\n",
    "        phi = 3\n",
    "        #print(\"best point\", best_point)\n",
    "        last_means = [(0,0) for x in range(phi)]\n",
    "        last_means.pop(0)\n",
    "        last_means.append(mean(data))\n",
    "\n",
    "        last_best_values = [(0,0) for x in range(phi)]\n",
    "        last_best_values.pop(0)\n",
    "        last_best_values.append(best_point)\n",
    "\n",
    "        D, rO_perigee = evaluate_D(elements_sat, tof)  # maybe there is a better way to define this\n",
    "        # body\n",
    "        while stop_criteria(data, last_means, last_best_values, no_of_gens) is False:\n",
    "            #print(\"iteration\", no_of_gens)\n",
    "            data_elite = get_elite(data)\n",
    "            \n",
    "            # create new population and corresponding orbits\n",
    "            data_created = initialise_pop(elements_sat, r1, r2, ti, TOF=tof, N=50)  # create 5% of desired population size\n",
    "            \n",
    "            #mutate\n",
    "            data_mutation = mutation(data_elite, elements_sat, r1,r2, rO_perigee, ti, tof, 700)  # 800 corresponds to 80% of desired population \n",
    "            #print(\"mutation\", check_duplicates(data_mutation))\n",
    "            # crossover\n",
    "            data_crossover = crossover(data_mutation, elements_sat, r1,r2, rO_perigee, ti, tof, 150, D)  # crossover 5% of desired population size\n",
    "            data = data_crossover + data_created\n",
    "            \n",
    "            #print(\"final\", len(data))\n",
    "            #print(\"crossover\", check_duplicates(data_crossover))\n",
    "            # get new fit_values\n",
    "            data = objective_func(elements_sat, set_of_measurments, data)\n",
    "            \n",
    "            # update last_means, last_best_values, no_of_gens\n",
    "            last_means.pop(0)\n",
    "            last_means.append(mean(data))\n",
    "            #print(\"last means\", last_means)\n",
    "            best_point = get_best(data)[\"Point\"]\n",
    "            #print(\"the best\", best_point)\n",
    "            last_best_values.pop(0)\n",
    "            last_best_values.append(best_point)\n",
    "            #print(\"last bests\", last_best_values)\n",
    "            no_of_gens += 1\n",
    "        else:\n",
    "            print(\"donzo\")\n",
    "            best = get_best(data)\n",
    "            print(best)\n",
    "            df = pd.DataFrame(data)\n",
    "            name = Path(filename).stem[12:] + \"_\" + str(index)\n",
    "            df.to_csv(\"results/{}.csv\".format(name))\n"
   ]
  },
  {
   "cell_type": "markdown",
   "metadata": {},
   "source": [
    "Ideal case"
   ]
  },
  {
   "cell_type": "code",
   "execution_count": 139,
   "metadata": {},
   "outputs": [],
   "source": [
    "%store -r all_coordinates"
   ]
  },
  {
   "cell_type": "code",
   "execution_count": 152,
   "metadata": {},
   "outputs": [],
   "source": [
    "%store -r all_rel"
   ]
  },
  {
   "cell_type": "code",
   "execution_count": 155,
   "metadata": {},
   "outputs": [],
   "source": [
    "all_coordinates = all_rel"
   ]
  },
  {
   "cell_type": "code",
   "execution_count": 156,
   "metadata": {},
   "outputs": [
    {
     "name": "stdout",
     "output_type": "stream",
     "text": [
      "file data_0_0\n"
     ]
    },
    {
     "name": "stderr",
     "output_type": "stream",
     "text": [
      "C:\\Users\\Admin\\AppData\\Local\\Temp\\ipykernel_11784\\4221410667.py:24: RuntimeWarning: invalid value encountered in scalar power\n",
      "  return (c11/n)**0.5, (c22/n)**0.5, (c12/n)**0.5\n"
     ]
    },
    {
     "name": "stdout",
     "output_type": "stream",
     "text": [
      "no of gens 0\n",
      "no of gens 1\n",
      "no of gens 2\n",
      "no of gens 3\n",
      "similarity in last best\n",
      "donzo\n",
      "{'Point': [117.73782771535579, 143.0187265917603], 'Orbit': [27956.83765352649, 0.7425370728409577, 1.324677085352698, 0.6432460531366464, 3.9103162722636196, -0.049689852602667305], 'Fit': Decimal('0.9999999884075472373959169683')}\n"
     ]
    }
   ],
   "source": [
    "elements_sat = [7350,0.0037296,np.radians(82.0394),np.radians(41.7294),np.radians(216.168),np.radians(0)]\n",
    "directory = \"data/ideal\"\n",
    "for dict1 in all_coordinates:\n",
    "    filename = dict1[\"name\"]\n",
    "    print(\"file\", filename)\n",
    "    \n",
    "    # measurments from detecting objects\n",
    "    set_of_measurments = dict1[\"list in global axis\"]\n",
    "    \n",
    "    #set up the pop\n",
    "    r1 = set_of_measurments[0][:-1]\n",
    "    r2 = set_of_measurments[-1][:-1]\n",
    "    tof = set_of_measurments[-1][-1] - set_of_measurments[0][-1]\n",
    "    ti = set_of_measurments[0][-1]\n",
    "    # initialise\n",
    "    data = initialise_pop(elements_sat, r1, r2, ti, TOF=tof, N=1500)\n",
    "    # run the objective func\n",
    "    data = objective_func(elements_sat, set_of_measurments, data)\n",
    "\n",
    "    #initialise the body of the alogithm\n",
    "    best_point = get_best(data)[\"Point\"]\n",
    "    no_of_gens = 0\n",
    "    phi = 3\n",
    "    #print(\"best point\", best_point)\n",
    "    last_means = [(0,0) for x in range(phi)]\n",
    "    last_means.pop(0)\n",
    "    last_means.append(mean(data))\n",
    "\n",
    "    last_best_values = [(0,0) for x in range(phi)]\n",
    "    last_best_values.pop(0)\n",
    "    last_best_values.append(best_point)\n",
    "\n",
    "    D, rO_perigee = evaluate_D(elements_sat, tof)  # maybe there is a better way to define this\n",
    "    # body\n",
    "    while stop_criteria(data, last_means, last_best_values, no_of_gens) is False:\n",
    "        print(\"no of gens\", no_of_gens)\n",
    "        #print(\"iteration\", no_of_gens)\n",
    "        data_elite = get_elite(data, n=300)\n",
    "       \n",
    "        # create new population and corresponding orbits\n",
    "        data_created = initialise_pop(elements_sat, r1, r2, ti, TOF=tof, N=50)  # create 5% of desired population size\n",
    "            \n",
    "        #mutate\n",
    "        data_mutation = mutation(data_elite, elements_sat, r1,r2, rO_perigee, ti, tof, 900)  # 800 corresponds to 80% of desired population \n",
    "        #print(\"mutation\", check_duplicates(data_mutation))\n",
    "        # crossover\n",
    "        data_crossover = crossover(data_mutation, elements_sat, r1,r2, rO_perigee, ti, tof, 250, D)  # crossover 5% of desired population size\n",
    "        data = data_crossover + data_created\n",
    "            \n",
    "        #print(\"final\", len(data))\n",
    "        #print(\"crossover\", check_duplicates(data_crossover))\n",
    "        # get new fit_values\n",
    "        data = objective_func(elements_sat, set_of_measurments, data)\n",
    "            \n",
    "        # update last_means, last_best_values, no_of_gens\n",
    "        last_means.pop(0)\n",
    "        last_means.append(mean(data))\n",
    "        #print(\"last means\", last_means)\n",
    "        best_point = get_best(data)[\"Point\"]\n",
    "        #print(\"the best\", best_point)\n",
    "        last_best_values.pop(0)\n",
    "        last_best_values.append(best_point)\n",
    "        #print(\"last bests\", last_best_values)\n",
    "        \n",
    "        no_of_gens += 1\n",
    "    else:\n",
    "        print(\"donzo\")\n",
    "        best = get_best(data)\n",
    "        print(best)\n",
    "        df = pd.DataFrame(data)\n",
    "        name = filename \n",
    "        df.to_csv(\"results/ideal/{}.csv\".format(name))"
   ]
  },
  {
   "cell_type": "code",
   "execution_count": 157,
   "metadata": {},
   "outputs": [],
   "source": [
    "%store -r orbits"
   ]
  },
  {
   "cell_type": "code",
   "execution_count": 98,
   "metadata": {},
   "outputs": [],
   "source": [
    "elements_sat = [7350,0.0037296,np.radians(82.0394),np.radians(41.7294),np.radians(216.168),np.radians(0)]\n",
    "for dict1 in all_rel:\n",
    "    ti = dict1[\"list\"][0][-1]\n",
    "    new_list = []\n",
    "    for point in dict1[\"list\"]:\n",
    "        t = point[-1]\n",
    "        r,v = propagate_based_on_elements(elements_sat,t, kepler=False)\n",
    "        r.astype(np.longdouble)\n",
    "        unit = to_global_axis(point[:-1],r,v)\n",
    "        unit = np.append(unit, [t])\n",
    "    \n",
    "        new_list.append(unit)\n",
    "    dict1.update({\"new_list\":new_list})"
   ]
  },
  {
   "cell_type": "code",
   "execution_count": 158,
   "metadata": {},
   "outputs": [
    {
     "name": "stdout",
     "output_type": "stream",
     "text": [
      "0\n",
      "data_0_0\n",
      "(8295.169663701126, 1.8514879812273743, 1.2552917983658132, 0.5850606543064798, 3.9343766519517747, -0.08023496125248177)\n"
     ]
    },
    {
     "data": {
      "text/plain": [
       "Decimal('0.9999999999999999999999999936')"
      ]
     },
     "execution_count": 158,
     "metadata": {},
     "output_type": "execute_result"
    }
   ],
   "source": [
    "j=0\n",
    "new_test = all_rel[j][\"list in global axis\"]\n",
    "ti = new_test[0][-1]\n",
    "print(ti)\n",
    "print(all_rel[j][\"name\"])\n",
    "print(orbits[j][\"Orbit\"])\n",
    "\n",
    "elements_deb = orbits[j][\"Orbit\"]\n",
    "\n",
    "fitness(elements_sat, new_test, elements_deb)"
   ]
  },
  {
   "attachments": {},
   "cell_type": "markdown",
   "metadata": {},
   "source": [
    "Debug"
   ]
  },
  {
   "cell_type": "code",
   "execution_count": 181,
   "metadata": {},
   "outputs": [
    {
     "name": "stdout",
     "output_type": "stream",
     "text": [
      "time 6\n",
      "dv [ 0.87716951  0.04240968 -0.47830437]\n",
      "time 7\n",
      "dv [ 0.87721863  0.04240665 -0.47821454]\n",
      "time 8\n",
      "dv [ 0.87726789  0.04240378 -0.47812443]\n",
      "time 9\n",
      "dv [ 0.87731728  0.04240108 -0.47803404]\n",
      "time 10\n",
      "dv [ 0.8773668   0.04239853 -0.47794336]\n",
      "time 11\n",
      "dv [ 0.87741646  0.04239615 -0.47785242]\n",
      "time 12\n",
      "dv [ 0.87746624  0.04239392 -0.4777612 ]\n",
      "time 13\n",
      "dv [ 0.87751614  0.04239184 -0.47766971]\n",
      "time 14\n",
      "dv [ 0.87756618  0.04238991 -0.47757795]\n",
      "time 15\n",
      "dv [ 0.87761633  0.04238812 -0.47748594]\n",
      "time 16\n",
      "dv [ 0.87766661  0.04238648 -0.47739366]\n",
      "time 17\n",
      "dv [ 0.87771701  0.04238497 -0.47730113]\n",
      "time 18\n",
      "dv [ 0.87776752  0.0423836  -0.47720835]\n",
      "time 19\n",
      "dv [ 0.87781815  0.04238236 -0.47711532]\n",
      "time 20\n",
      "dv [ 0.8778689   0.04238125 -0.47702204]\n",
      "time 21\n",
      "dv [ 0.87791976  0.04238027 -0.47692852]\n",
      "time 22\n",
      "dv [ 0.87797073  0.0423794  -0.47683476]\n",
      "time 23\n",
      "dv [ 0.87802181  0.04237866 -0.47674076]\n",
      "time 24\n",
      "dv [ 0.878073    0.04237803 -0.47664653]\n",
      "time 25\n",
      "dv [ 0.87812429  0.04237751 -0.47655207]\n",
      "time 26\n",
      "dv [ 0.87817569  0.0423771  -0.47645739]\n",
      "time 27\n",
      "dv [ 0.87822719  0.0423768  -0.47636248]\n",
      "time 28\n",
      "dv [ 0.87827879  0.0423766  -0.47626735]\n",
      "time 29\n",
      "dv [ 0.87833049  0.0423765  -0.47617201]\n",
      "time 30\n",
      "dv [ 0.87838229  0.0423765  -0.47607645]\n",
      "time 31\n",
      "dv [ 0.87843419  0.04237658 -0.47598068]\n",
      "time 32\n",
      "dv [ 0.87848617  0.04237676 -0.47588471]\n",
      "time 33\n",
      "dv [ 0.87853825  0.04237703 -0.47578853]\n",
      "time 34\n",
      "dv [ 0.87859043  0.04237737 -0.47569215]\n",
      "time 35\n",
      "dv [ 0.87864269  0.0423778  -0.47559558]\n",
      "time 36\n",
      "dv [ 0.87869503  0.04237831 -0.47549881]\n",
      "time 37\n",
      "dv [ 0.87874747  0.04237888 -0.47540185]\n",
      "time 38\n",
      "dv [ 0.87879998  0.04237953 -0.47530471]\n",
      "time 39\n",
      "dv [ 0.87885258  0.04238025 -0.47520738]\n",
      "time 40\n",
      "dv [ 0.87890526  0.04238103 -0.47510988]\n",
      "time 41\n",
      "dv [ 0.87895802  0.04238187 -0.47501219]\n",
      "time 42\n",
      "dv [ 0.87901085  0.04238277 -0.47491434]\n",
      "time 43\n",
      "dv [ 0.87906376  0.04238372 -0.47481632]\n",
      "time 44\n",
      "dv [ 0.87911674  0.04238473 -0.47471812]\n"
     ]
    }
   ],
   "source": [
    "elements_deb = orbits[0][\"Orbit\"]\n",
    "elements_sat = [7350,0.0037296,np.radians(82.0394),np.radians(41.7294),np.radians(216.168),np.radians(0)]\n",
    "for t in range(39):\n",
    "    r1, v1 = propagate_based_on_elements(elements_sat, t, kepler=False)\n",
    "    r2,v2 = propagate_based_on_elements(elements_deb, t, kepler=False)\n",
    "    rel_v = v2 - v1\n",
    "    print(\"time\", t+6)\n",
    "    print(\"dv\", rel_v/np.linalg.norm(rel_v))"
   ]
  },
  {
   "cell_type": "code",
   "execution_count": 180,
   "metadata": {},
   "outputs": [
    {
     "name": "stdout",
     "output_type": "stream",
     "text": [
      "time 6.0\n",
      "last [0.04767102 0.54649049 0.83610742 5.        ]\n",
      "current [0.07172828 0.55239944 0.83048776]\n",
      "dv [ 0.94707154  0.23262003 -0.22123158]\n",
      "time 7.0\n",
      "last [0.07172828 0.55239944 0.83048776 6.        ]\n",
      "current [0.09619167 0.55778345 0.82439359]\n",
      "dv [ 0.94894652  0.20884823 -0.23639568]\n",
      "time 8.0\n",
      "last [0.09619167 0.55778345 0.82439359 7.        ]\n",
      "current [0.12173451 0.5633007  0.81723499]\n",
      "dv [ 0.94272485  0.20362872 -0.26420675]\n",
      "time 9.0\n",
      "last [0.12173451 0.5633007  0.81723499 8.        ]\n",
      "current [0.1471605  0.56861303 0.80933492]\n",
      "dv [ 0.9365067   0.19566697 -0.29098049]\n",
      "time 10.0\n",
      "last [0.1471605  0.56861303 0.80933492 9.        ]\n",
      "current [0.17283244 0.57329788 0.80091103]\n",
      "dv [ 0.93618532  0.17084389 -0.30719605]\n",
      "time 11.0\n",
      "last [ 0.17283244  0.57329788  0.80091103 10.        ]\n",
      "current [0.19907176 0.57766253 0.79162897]\n",
      "dv [ 0.9313695   0.15492396 -0.32946838]\n",
      "time 12.0\n",
      "last [ 0.19907176  0.57766253  0.79162897 11.        ]\n",
      "current [0.22582675 0.58166428 0.7814531 ]\n",
      "dv [ 0.92567744  0.13845355 -0.35206802]\n",
      "time 13.0\n",
      "last [ 0.22582675  0.58166428  0.7814531  12.        ]\n",
      "current [0.25303699 0.58526001 0.77035252]\n",
      "dv [ 0.91906058  0.1214507  -0.37493649]\n",
      "time 14.0\n",
      "last [ 0.25303699  0.58526001  0.77035252 13.        ]\n",
      "current [0.28022128 0.58807952 0.75870845]\n",
      "dv [ 0.91507328  0.0949096  -0.39196055]\n",
      "time 15.0\n",
      "last [ 0.28022128  0.58807952  0.75870845 14.        ]\n",
      "current [0.30721963 0.59088313 0.74597133]\n",
      "dv [ 0.9004426   0.0935056  -0.42480563]\n",
      "time 16.0\n",
      "last [ 0.30721963  0.59088313  0.74597133 15.        ]\n",
      "current [0.33492189 0.59272207 0.73246698]\n",
      "dv [ 0.89728685  0.05956391 -0.43741108]\n",
      "time 17.0\n",
      "last [ 0.33492189  0.59272207  0.73246698 16.        ]\n",
      "current [0.36226567 0.59449344 0.71787265]\n",
      "dv [ 0.88076856  0.05705741 -0.47009701]\n",
      "time 18.0\n",
      "last [ 0.36226567  0.59449344  0.71787265 17.        ]\n",
      "current [0.38923055 0.59540966 0.70284202]\n",
      "dv [ 0.87308254  0.02966603 -0.4866691 ]\n",
      "time 19.0\n",
      "last [ 0.38923055  0.59540966  0.70284202 18.        ]\n",
      "current [0.41614568 0.59575895 0.68694545]\n",
      "dv [ 0.86098234  0.01117311 -0.50851212]\n",
      "time 20.0\n",
      "last [ 0.41614568  0.59575895  0.68694545 19.        ]\n",
      "current [0.44242782 0.59602846 0.67008037]\n",
      "dv [ 0.84159231  0.00863012 -0.54004435]\n",
      "time 21.0\n",
      "last [ 0.44242782  0.59602846  0.67008037 20.        ]\n",
      "current [0.46897002 0.59519632 0.65254001]\n",
      "dv [ 0.83399875 -0.02614713 -0.55114646]\n",
      "time 22.0\n",
      "last [ 0.46897002  0.59519632  0.65254001 21.        ]\n",
      "current [0.49518648 0.59375142 0.63423151]\n",
      "dv [ 0.81902778 -0.04514015 -0.57197541]\n",
      "time 23.0\n",
      "last [ 0.49518648  0.59375142  0.63423151 22.        ]\n",
      "current [0.52011711 0.59197945 0.61566104]\n",
      "dv [ 0.80066487 -0.05690795 -0.59640359]\n",
      "time 24.0\n",
      "last [ 0.52011711  0.59197945  0.61566104 23.        ]\n",
      "current [0.54457608 0.58963002 0.59646738]\n",
      "dv [ 0.78445812 -0.07535191 -0.61558716]\n",
      "time 25.0\n",
      "last [ 0.54457608  0.58963002  0.59646738 24.        ]\n",
      "current [0.56895559 0.58616618 0.57680044]\n",
      "dv [ 0.77360304 -0.1099135  -0.62406519]\n",
      "time 26.0\n",
      "last [ 0.56895559  0.58616618  0.57680044 25.        ]\n",
      "current [0.59188767 0.58247518 0.55712804]\n",
      "dv [ 0.75338866 -0.12126063 -0.64629822]\n",
      "time 27.0\n",
      "last [ 0.59188767  0.58247518  0.55712804 26.        ]\n",
      "current [0.61450451 0.57846176 0.53643845]\n",
      "dv [ 0.7316001  -0.12982445 -0.66925848]\n",
      "time 28.0\n",
      "last [ 0.61450451  0.57846176  0.53643845 27.        ]\n",
      "current [0.63605735 0.57374508 0.51599189]\n",
      "dv [ 0.7165066  -0.15680215 -0.6797289 ]\n",
      "time 29.0\n",
      "last [ 0.63605735  0.57374508  0.51599189 28.        ]\n",
      "current [0.65716285 0.56873069 0.49465381]\n",
      "dv [ 0.6936072  -0.16479188 -0.7012508 ]\n",
      "time 30.0\n",
      "last [ 0.65716285  0.56873069  0.49465381 29.        ]\n",
      "current [0.67672473 0.56365281 0.47364454]\n",
      "dv [ 0.67102956 -0.17418614 -0.7206792 ]\n",
      "time 31.0\n",
      "last [ 0.67672473  0.56365281  0.47364454 30.        ]\n",
      "current [0.69589188 0.55760344 0.45256258]\n",
      "dv [ 0.65803837 -0.20768422 -0.72377674]\n",
      "time 32.0\n",
      "last [ 0.69589188  0.55760344  0.45256258 31.        ]\n",
      "current [0.71394813 0.55103342 0.43201879]\n",
      "dv [ 0.64190873 -0.23356772 -0.73034191]\n",
      "time 33.0\n",
      "last [ 0.71394813  0.55103342  0.43201879 32.        ]\n",
      "current [0.73102738 0.54483878 0.41079152]\n",
      "dv [ 0.61127215 -0.22170816 -0.75973143]\n",
      "time 34.0\n",
      "last [ 0.73102738  0.54483878  0.41079152 33.        ]\n",
      "current [0.74763281 0.53777279 0.38967372]\n",
      "dv [ 0.59778575 -0.25437149 -0.76022848]\n",
      "time 35.0\n",
      "last [ 0.74763281  0.53777279  0.38967372 34.        ]\n",
      "current [0.76278763 0.53088128 0.36921552]\n",
      "dv [ 0.5745661  -0.26127866 -0.77563346]\n",
      "time 36.0\n",
      "last [ 0.76278763  0.53088128  0.36921552 35.        ]\n",
      "current [0.77712844 0.52376701 0.34891188]\n",
      "dv [ 0.55465128 -0.27515441 -0.78527193]\n",
      "time 37.0\n",
      "last [ 0.77712844  0.52376701  0.34891188 36.        ]\n",
      "current [0.79118564 0.51600964 0.32826716]\n",
      "dv [ 0.53749587 -0.29661336 -0.78937868]\n",
      "time 38.0\n",
      "last [ 0.79118564  0.51600964  0.32826716 37.        ]\n",
      "current [0.80390562 0.50854417 0.30841301]\n",
      "dv [ 0.51429288 -0.30184326 -0.80274123]\n",
      "time 39.0\n",
      "last [ 0.80390562  0.50854417  0.30841301 38.        ]\n",
      "current [0.81585458 0.50095205 0.28883965]\n",
      "dv [ 0.49464889 -0.31428948 -0.8102744 ]\n",
      "time 40.0\n",
      "last [ 0.81585458  0.50095205  0.28883965 39.        ]\n",
      "current [0.82705424 0.49326246 0.26958009]\n",
      "dv [ 0.47518812 -0.32625997 -0.81716013]\n",
      "time 41.0\n",
      "last [ 0.82705424  0.49326246  0.26958009 40.        ]\n",
      "current [0.83752903 0.48550299 0.25066306]\n",
      "dv [ 0.45594972 -0.33775669 -0.82342594]\n",
      "time 42.0\n",
      "last [ 0.83752903  0.48550299  0.25066306 41.        ]\n",
      "current [0.84719948 0.47761993 0.23266339]\n",
      "dv [ 0.44155521 -0.35994282 -0.82186992]\n",
      "time 43.0\n",
      "last [ 0.84719948  0.47761993  0.23266339 42.        ]\n",
      "current [0.85631874 0.46979986 0.21449083]\n",
      "dv [ 0.41861583 -0.35897691 -0.83420403]\n",
      "time 44.0\n",
      "last [ 0.85631874  0.46979986  0.21449083 43.        ]\n",
      "current [0.86479683 0.46198133 0.19672236]\n",
      "dv [ 0.40022832 -0.36909181 -0.83880184]\n"
     ]
    }
   ],
   "source": [
    "for dict1 in all_coordinates:\n",
    "    last_point = None\n",
    "    for point in dict1[\"new_list\"]:\n",
    "        if last_point is None:\n",
    "            time = point[-1]\n",
    "            r,v = propagate_based_on_elements(elements_sat, time, kepler=False)\n",
    "            last_point = to_global_axis(point[:-1],r,v)\n",
    "            last_point = np.append(last_point,[time])\n",
    "        else:\n",
    "            time = point[-1]\n",
    "            print(\"time\", time)\n",
    "            r,v = propagate_based_on_elements(elements_sat, time, kepler=False)\n",
    "            point = to_global_axis(point[:-1],r,v)\n",
    "            print(\"last\",last_point)\n",
    "            print(\"current\", point)\n",
    "            dr = point-last_point[:-1]\n",
    "            dt = time - last_point[-1]\n",
    "            dv = dr/dt\n",
    "            dv = dv/np.linalg.norm(dv)\n",
    "            print(\"dv\",dv)\n",
    "            last_point = np.append(point, [time])"
   ]
  },
  {
   "cell_type": "code",
   "execution_count": 152,
   "metadata": {},
   "outputs": [],
   "source": [
    "data = [{\"point\":2}, {\"point\":2}]"
   ]
  },
  {
   "cell_type": "code",
   "execution_count": 153,
   "metadata": {},
   "outputs": [
    {
     "data": {
      "text/plain": [
       "(True, [{'point': 2}])"
      ]
     },
     "execution_count": 153,
     "metadata": {},
     "output_type": "execute_result"
    }
   ],
   "source": [
    "check_duplicates(data)"
   ]
  },
  {
   "cell_type": "code",
   "execution_count": 44,
   "metadata": {},
   "outputs": [],
   "source": [
    "set_of_measurments = data_meas.loc[0]  #choose which line to check\n",
    "set_of_measurments = normalise_input(set_of_measurments.dropna())"
   ]
  },
  {
   "cell_type": "code",
   "execution_count": 24,
   "metadata": {},
   "outputs": [],
   "source": [
    "%store -r line"
   ]
  },
  {
   "cell_type": "code",
   "execution_count": 25,
   "metadata": {},
   "outputs": [],
   "source": [
    "%store -r B_CS"
   ]
  },
  {
   "cell_type": "code",
   "execution_count": 42,
   "metadata": {},
   "outputs": [],
   "source": [
    "test = line"
   ]
  },
  {
   "cell_type": "code",
   "execution_count": 26,
   "metadata": {},
   "outputs": [],
   "source": [
    "test = B_CS\n",
    "new_test = []\n",
    "for t in range(len(B_CS)):\n",
    "    new_test.append(np.append(B_CS[t],[t]))\n",
    "new_test = new_test[15:]"
   ]
  },
  {
   "cell_type": "code",
   "execution_count": 160,
   "metadata": {},
   "outputs": [
    {
     "name": "stdout",
     "output_type": "stream",
     "text": [
      "[7101.54467811  147.85122      26.07015922]\n"
     ]
    },
    {
     "data": {
      "text/plain": [
       "(array([7102.72965339,   73.92972254,   13.03580476]),\n",
       " array([-0.07900058,  7.39269804,  1.30353212]))"
      ]
     },
     "execution_count": 160,
     "metadata": {},
     "output_type": "execute_result"
    }
   ],
   "source": [
    "ri,vi = propagate_based_on_elements(elements_deb, 15, kepler=False)\n",
    "rf, vf = propagate_based_on_elements(elements_deb, 20, kepler=False)\n",
    "print(rf)\n",
    "t = 5\n",
    "l = pykep.lambert_problem(r1 = ri, r2 = rf, tof = t, mu=398600)\n",
    "# convert results\n",
    "vi = l.get_v1()[0]  # get the velocity vector at initial time for one revolution\n",
    "elements = pykep.ic2par(ri,vi, mu=398600)  # get Kepler elements from pos and vel vectors\n",
    "propagate_based_on_elements(elements,-5,kepler=False)"
   ]
  },
  {
   "cell_type": "code",
   "execution_count": 99,
   "metadata": {},
   "outputs": [
    {
     "data": {
      "text/plain": [
       "array([-0.99687808,  0.00174933,  0.07893691])"
      ]
     },
     "execution_count": 99,
     "metadata": {},
     "output_type": "execute_result"
    }
   ],
   "source": [
    "to_global_axis([0.01673061, 0.99673921, 0.07893691],r,v)"
   ]
  },
  {
   "cell_type": "code",
   "execution_count": 50,
   "metadata": {},
   "outputs": [
    {
     "data": {
      "text/plain": [
       "array([7102.23590559,  110.89201231,   19.55325372])"
      ]
     },
     "execution_count": 50,
     "metadata": {},
     "output_type": "execute_result"
    }
   ],
   "source": [
    "ri,vi = propagate_based_on_elements(elements_deb, 15, kepler=False)\n",
    "ri"
   ]
  },
  {
   "cell_type": "code",
   "execution_count": 49,
   "metadata": {},
   "outputs": [
    {
     "data": {
      "text/plain": [
       "(6907.8178091061245, 111.23317920976065, 34.948078905783575)"
      ]
     },
     "execution_count": 49,
     "metadata": {},
     "output_type": "execute_result"
    }
   ],
   "source": [
    "r,v = pykep.par2ic([7251.530635158399,\n",
    "   0.04727894735094815,\n",
    "   0.3043583371135131,\n",
    "   6.283181747953716,\n",
    "   6.272813707430835,\n",
    "   0.02599273515476623], mu=398600)\n",
    "r"
   ]
  },
  {
   "cell_type": "code",
   "execution_count": 108,
   "metadata": {},
   "outputs": [
    {
     "name": "stdout",
     "output_type": "stream",
     "text": [
      "0.991689075683478\n",
      "2.0808244582155924e-22\n",
      "-1.2927927856016754e-12\n"
     ]
    }
   ],
   "source": [
    "path = \"data\\M1\\measurments_data_0_0_M1.csv\"\n",
    "# measurments from detecting objects\n",
    "data_meas = pd.read_csv(path)\n",
    "for index, row in data_meas.iterrows():\n",
    "    data = []\n",
    "    set_of_measurments = normalise_input(row.dropna())\n",
    "    fit = fitness(elements_sat, set_of_measurments, [7819.880086052383,\n",
    " 0.06117955693343069,\n",
    " 0.01676014693654946,\n",
    " 0.023853899055801767,\n",
    " 0.036618487883039695,\n",
    " -0.04398210673175327])\n",
    "    print(fit)"
   ]
  },
  {
   "cell_type": "code",
   "execution_count": 45,
   "metadata": {},
   "outputs": [
    {
     "ename": "NameError",
     "evalue": "name 'data_meas' is not defined",
     "output_type": "error",
     "traceback": [
      "\u001b[1;31m---------------------------------------------------------------------------\u001b[0m",
      "\u001b[1;31mNameError\u001b[0m                                 Traceback (most recent call last)",
      "Cell \u001b[1;32mIn[45], line 2\u001b[0m\n\u001b[0;32m      1\u001b[0m fits\u001b[39m=\u001b[39m[]\n\u001b[1;32m----> 2\u001b[0m \u001b[39mfor\u001b[39;00m i \u001b[39min\u001b[39;00m \u001b[39mrange\u001b[39m(\u001b[39mlen\u001b[39m(data_meas)):\n\u001b[0;32m      3\u001b[0m     set_of_measurments \u001b[39m=\u001b[39m data_meas\u001b[39m.\u001b[39mloc[i]  \u001b[39m#choose which line to check\u001b[39;00m\n\u001b[0;32m      4\u001b[0m     set_of_measurments \u001b[39m=\u001b[39m normalise_input(set_of_measurments\u001b[39m.\u001b[39mdropna())\n",
      "\u001b[1;31mNameError\u001b[0m: name 'data_meas' is not defined"
     ]
    }
   ],
   "source": [
    "fits=[]\n",
    "for i in range(len(data_meas)):\n",
    "    set_of_measurments = data_meas.loc[i]  #choose which line to check\n",
    "    set_of_measurments = normalise_input(set_of_measurments.dropna())\n",
    "    fit = fitness(elements_sat, new_test, [7133.8,0.0043,np.radians(10),np.radians(0),np.radians(0),0.015785194118121015])\n",
    "    fits.append(fit)"
   ]
  },
  {
   "cell_type": "code",
   "execution_count": 201,
   "metadata": {},
   "outputs": [
    {
     "data": {
      "text/plain": [
       "0.9999999999999986"
      ]
     },
     "execution_count": 201,
     "metadata": {},
     "output_type": "execute_result"
    }
   ],
   "source": [
    "max(fits)"
   ]
  },
  {
   "cell_type": "code",
   "execution_count": 146,
   "metadata": {},
   "outputs": [
    {
     "data": {
      "text/plain": [
       "array([-1.,  0.,  0.])"
      ]
     },
     "execution_count": 146,
     "metadata": {},
     "output_type": "execute_result"
    }
   ],
   "source": [
    "v = [0,1,0]\n",
    "r = [1,0,0]\n",
    "vec = [0,1,0]\n",
    "to_global_axis(vec,r,v)"
   ]
  },
  {
   "cell_type": "code",
   "execution_count": 147,
   "metadata": {},
   "outputs": [
    {
     "name": "stdout",
     "output_type": "stream",
     "text": [
      "[1019.3239436619718, 639.0422535211268]\n"
     ]
    },
    {
     "ename": "TypeError",
     "evalue": "get_target_r() missing 1 required positional argument: 't'",
     "output_type": "error",
     "traceback": [
      "\u001b[1;31m---------------------------------------------------------------------------\u001b[0m",
      "\u001b[1;31mTypeError\u001b[0m                                 Traceback (most recent call last)",
      "Cell \u001b[1;32mIn[147], line 5\u001b[0m\n\u001b[0;32m      3\u001b[0m D, rO_perigee \u001b[39m=\u001b[39m evaluate_D(elements_sat, \u001b[39m60\u001b[39m)\n\u001b[0;32m      4\u001b[0m \u001b[39m# Set up Lambert's problem\u001b[39;00m\n\u001b[1;32m----> 5\u001b[0m rT_i, rT_f \u001b[39m=\u001b[39m get_target_r(elements_sat,elements_deb, [\u001b[39m4686.363636363637\u001b[39;49m, \u001b[39m4686.363636363637\u001b[39;49m], \u001b[39m60\u001b[39;49m)\n\u001b[0;32m      6\u001b[0m \u001b[39m# solve Lambert's problem\u001b[39;00m\n\u001b[0;32m      7\u001b[0m elementsT_estimated \u001b[39m=\u001b[39m \u001b[39mlist\u001b[39m(solve_lambert(r1 \u001b[39m=\u001b[39m rT_i, r2 \u001b[39m=\u001b[39m rT_f, tof \u001b[39m=\u001b[39m \u001b[39m60\u001b[39m))\n",
      "\u001b[1;31mTypeError\u001b[0m: get_target_r() missing 1 required positional argument: 't'"
     ]
    }
   ],
   "source": [
    "print(best_point)\n",
    "\n",
    "D, rO_perigee = evaluate_D(elements_sat, 60)\n",
    "# Set up Lambert's problem\n",
    "rT_i, rT_f = get_target_r(elements_sat,elements_deb, [4686.363636363637, 4686.363636363637], 60)\n",
    "# solve Lambert's problem\n",
    "elementsT_estimated = list(solve_lambert(r1 = rT_i, r2 = rT_f, tof = 60))\n",
    "print(elementsT_estimated)\n",
    "fit = fitness(elements_sat, elements_deb, elementsT_estimated, no_of_measurments = 60)\n",
    "print(fit)"
   ]
  },
  {
   "cell_type": "code",
   "execution_count": 262,
   "metadata": {},
   "outputs": [
    {
     "name": "stdout",
     "output_type": "stream",
     "text": [
      "from rho (array([-3370.40082161, -4938.35873329,  3897.60440158]), array([-3.28804323, -2.55804492, -6.06789951]))\n",
      "ideal (array([ 2644.71527012, -6597.70363665,   203.65960376]), array([6.1781863 , 2.13873564, 3.83254291]))\n",
      "satellite (array([-3407.72971403, -4928.06109229,  3920.52845889]), array([-3.34761025, -2.58520094, -6.12964399]))\n",
      "[ 0.82953094 -0.22883647 -0.50942349]\n",
      "[ 0.82953093 -0.22883647 -0.5094235 ]\n"
     ]
    }
   ],
   "source": [
    "print(\"from rho\",propagate_based_on_elements([6929.3203653797,0.0300116531,1.7162873512,0.8762504074,5.7380713477,3.1008175552], 0, kepler=False))\n",
    "print(\"ideal\", propagate_based_on_elements(elements_deb, 0, kepler=False))\n",
    "\n",
    "print(\"satellite\", propagate_based_on_elements(elements_sat,0, kepler=False))\n",
    "\n",
    "print(unit_vector(propagate_based_on_elements(elements_sat,0, kepler=False)[0], propagate_based_on_elements([6929.3203653797,0.0300116531,1.7162873512,0.8762504074,5.7380713477,3.1008175552], 0, kepler=False)[0]))\n",
    "\n",
    "print(unit_vector(propagate_based_on_elements(elements_sat,0, kepler=False)[0], propagate_based_on_elements(elements_deb, 0, kepler=False)[0]))"
   ]
  },
  {
   "cell_type": "code",
   "execution_count": null,
   "metadata": {},
   "outputs": [],
   "source": [
    "fit = fitness(elements_sat, elements_deb, [9450.49625553981, 0.2501664703342994, 1.7154666684924387, 0.8703258847995052, 2.9719140826855535, -2.995440490696146], no_of_measurments = 60)\n",
    "fit"
   ]
  },
  {
   "attachments": {},
   "cell_type": "markdown",
   "metadata": {},
   "source": [
    "Python reminder"
   ]
  },
  {
   "cell_type": "code",
   "execution_count": 81,
   "metadata": {},
   "outputs": [
    {
     "data": {
      "text/plain": [
       "0"
      ]
     },
     "execution_count": 81,
     "metadata": {},
     "output_type": "execute_result"
    }
   ],
   "source": [
    "round(-0.5)"
   ]
  },
  {
   "cell_type": "code",
   "execution_count": 115,
   "metadata": {},
   "outputs": [
    {
     "data": {
      "text/plain": [
       "1"
      ]
     },
     "execution_count": 115,
     "metadata": {},
     "output_type": "execute_result"
    }
   ],
   "source": [
    "L = random.choice([1,3,6,2,4])\n",
    "L\n"
   ]
  },
  {
   "cell_type": "code",
   "execution_count": 113,
   "metadata": {},
   "outputs": [
    {
     "name": "stdout",
     "output_type": "stream",
     "text": [
      "1\n",
      "2\n",
      "here\n"
     ]
    }
   ],
   "source": [
    "f = False\n",
    "n = 0\n",
    "while f == False:\n",
    "    n +=1\n",
    "    if n == 3:\n",
    "        print(\"here\")\n",
    "        f = False\n",
    "        break\n",
    "    print(n)"
   ]
  },
  {
   "cell_type": "code",
   "execution_count": 55,
   "metadata": {},
   "outputs": [
    {
     "data": {
      "text/plain": [
       "[0, 1, 2, 3]"
      ]
     },
     "execution_count": 55,
     "metadata": {},
     "output_type": "execute_result"
    }
   ],
   "source": [
    "l = [x for x in range(4)]\n",
    "l"
   ]
  },
  {
   "cell_type": "code",
   "execution_count": null,
   "metadata": {},
   "outputs": [
    {
     "data": {
      "text/plain": [
       "[1964, 2013, 2018]"
      ]
     },
     "execution_count": 5,
     "metadata": {},
     "output_type": "execute_result"
    }
   ],
   "source": [
    "l = [{\"brand\": \"Ford\",\n",
    "  \"model\": \"Mustang\",\n",
    "  \"year\": 1964\n",
    "}, {\n",
    "  \"brand\": \"Volvo\",\n",
    "  \"model\": \"SUV\",\n",
    "  \"year\": 2018\n",
    "},\n",
    "{\"brand\": \"Audi\",\n",
    "  \"model\": \"A7\",\n",
    "  \"year\": 2013},\n",
    "  ]\n",
    "\n",
    "for dict1 in l:\n",
    "    if dict1[\"year\"] >= 2000:\n",
    "        dict1[\"new\"] = True\n",
    "\n",
    "# order l based on year\n",
    "years = []\n",
    "for dict1 in l:\n",
    "    years.append(dict1[\"year\"])\n",
    "    years.sort()\n",
    "\n",
    "years"
   ]
  },
  {
   "cell_type": "code",
   "execution_count": null,
   "metadata": {},
   "outputs": [
    {
     "data": {
      "text/plain": [
       "(9450.496255539807,\n",
       " 0.25016647033429984,\n",
       " 1.7154666684924387,\n",
       " 0.8703258847995052,\n",
       " 2.971914082685554,\n",
       " -2.9678853860378602)"
      ]
     },
     "execution_count": 99,
     "metadata": {},
     "output_type": "execute_result"
    }
   ],
   "source": [
    "e1 = [9450.49625553981, 0.2501664703342994, 1.7154666684924387, 0.8703258847995052, 2.9719140826855535, -2.995440490696146]\n",
    "r, v = pykep.par2ic(e1, mu=398600)\n",
    "rf,vf = pykep.propagate_lagrangian(r0 = r, v0 = v, tof = 50,mu = 398600)\n",
    "e2 = pykep.ic2par(rf,vf,mu = 398600)\n",
    "e2"
   ]
  },
  {
   "cell_type": "code",
   "execution_count": null,
   "metadata": {},
   "outputs": [
    {
     "data": {
      "text/plain": [
       "3.141592653589793"
      ]
     },
     "execution_count": 101,
     "metadata": {},
     "output_type": "execute_result"
    }
   ],
   "source": [
    "np.radians(180)"
   ]
  },
  {
   "cell_type": "code",
   "execution_count": 47,
   "metadata": {},
   "outputs": [
    {
     "name": "stdout",
     "output_type": "stream",
     "text": [
      "0\n",
      "1\n"
     ]
    }
   ],
   "source": [
    "for t in range(2):\n",
    "    print(t)"
   ]
  }
 ],
 "metadata": {
  "kernelspec": {
   "display_name": "snakes",
   "language": "python",
   "name": "python3"
  },
  "language_info": {
   "codemirror_mode": {
    "name": "ipython",
    "version": 3
   },
   "file_extension": ".py",
   "mimetype": "text/x-python",
   "name": "python",
   "nbconvert_exporter": "python",
   "pygments_lexer": "ipython3",
   "version": "3.11.3"
  },
  "orig_nbformat": 4,
  "vscode": {
   "interpreter": {
    "hash": "59471867d23c2a72234382566122d21c3be946b94431b3b3919396cdb8e7a794"
   }
  }
 },
 "nbformat": 4,
 "nbformat_minor": 2
}
