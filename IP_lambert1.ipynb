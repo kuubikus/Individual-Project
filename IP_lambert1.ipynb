{
 "cells": [
  {
   "cell_type": "code",
   "execution_count": 3,
   "metadata": {},
   "outputs": [],
   "source": [
    "import numpy as np\n",
    "import matplotlib.pyplot as plt\n",
    "import pykep\n",
    "import random\n",
    "from scipy.optimize import newton"
   ]
  },
  {
   "cell_type": "code",
   "execution_count": 4,
   "metadata": {},
   "outputs": [],
   "source": [
    "def get_period(a, mu = 398600):\n",
    "    \"\"\"`\n",
    "    return the period in seconds\n",
    "    a needs to be in km\n",
    "    \"\"\"\n",
    "    return (2*np.pi*a**1.5)/mu**0.5\n",
    "\n",
    "def kepler(E, M_e, e):\n",
    "    \"\"\"Kepler's equation, to be used in a Newton solver.\"\"\"\n",
    "    return E - e * np.sin(E) - M_e\n",
    "\n",
    "def d_kepler_d_E(E, M_e, e):\n",
    "    \"\"\"The derivative of Kepler's equation, to be used in a Newton solver.\n",
    "    \n",
    "    Note that the argument M_e is unused, but must be present so the function\n",
    "    arguments are consistent with the kepler function.\n",
    "    \"\"\"\n",
    "    return 1 - e * np.cos(E)\n",
    "\n",
    "def orbit(elements, t):\n",
    "    \"\"\"\n",
    "    Gives the posistion and velocity vectors at time t (since perigee).\n",
    "    The elements input needs to be a list of Kepler elements as given by pykep package.\n",
    "    Only a and e are required for this stage.\n",
    "    \"\"\"\n",
    "    T = get_period(elements[0])\n",
    "    e = elements[1]\n",
    "    M_e = 2 * np.pi * t/T\n",
    "    E = newton(func=kepler, fprime=d_kepler_d_E, x0=np.pi, args=(M_e, e))\n",
    "    elements[5] = E\n",
    "    r,v = pykep.par2ic(elements, mu=398600)\n",
    "    r = np.array(r)\n",
    "    v = np.array(v)\n",
    "    return r,v"
   ]
  },
  {
   "cell_type": "code",
   "execution_count": 5,
   "metadata": {},
   "outputs": [],
   "source": [
    "def L_meas(elementsO, rel_vector, t):\n",
    "    \"\"\"\n",
    "    Give the unit vector between the known observer orbit and the relative vector\n",
    "    between the target and observer vector. \n",
    "    \"\"\"\n",
    "    rO, vO = orbit(elementsO, t)\n",
    "    rO = np.array(rO)\n",
    "    rel = rO - rel_vector\n",
    "    return rel/np.linalg.norm(rel)\n",
    "\n",
    "def L_between_orbits(elementsO, elementsT, t):\n",
    "    \"\"\"\n",
    "    Give the unit vector between two orbits defined by Kepler elements.\n",
    "    Only a and e are required for this stage\n",
    "    This will be used to generate \"measured\" data.\n",
    "    \"\"\"\n",
    "    rO, vO = orbit(elementsO, t)\n",
    "    rT, vT = orbit(elementsT, t)\n",
    "    rO = np.array(rO)\n",
    "    rT = np.array(rT)\n",
    "    rel = rO - rT\n",
    "    return rel/np.linalg.norm(rel)"
   ]
  },
  {
   "cell_type": "code",
   "execution_count": 6,
   "metadata": {},
   "outputs": [],
   "source": [
    "def mutation(population, no_of_outputs):\n",
    "    \"\"\"\n",
    "    Population is a list.\n",
    "    Input how many extra chromoses are wanted.\n",
    "    \"\"\"\n",
    "    stnd_dev = 10  # may change. In the paper they used 10\n",
    "    for i in range(no_of_outputs):\n",
    "        index = random.randint(0, len(population) - 1)\n",
    "        rho0, rho1 = population[index]\n",
    "        rho0_new = rho0 + stnd_dev\n",
    "        rho1_new = rho1 + stnd_dev\n",
    "        population.append([rho0_new, rho1_new])\n",
    "    return population"
   ]
  },
  {
   "cell_type": "code",
   "execution_count": 7,
   "metadata": {},
   "outputs": [],
   "source": [
    "def crossover(point1, point2, D):\n",
    "    point1[1] = point2[1]\n",
    "    point2[1] = point1[1]\n",
    "\n",
    "    if abs(point1[0] - point1[1]) < D:\n",
    "        if np.random.randint(0,1) == 1:\n",
    "            return point1\n",
    "        else:\n",
    "            return point2\n",
    "    else:\n",
    "        return False"
   ]
  },
  {
   "cell_type": "code",
   "execution_count": 8,
   "metadata": {},
   "outputs": [],
   "source": [
    "def get_target_r(elementsO, elementsT, point, t):\n",
    "    # initial \"measurment\" and orbit\n",
    "    rho_i = point[0]\n",
    "    rO_i = orbit(elementsO, 0)[0]\n",
    "    L_t0 = L_between_orbits(elementsO, elementsT, 0)\n",
    "    rT_i = rho_i*L_t0 + rO_i\n",
    "    # final \"measurment\" and orbit\n",
    "    rho_f = point[1]\n",
    "    rO_f = orbit(elementsO, t)[0]\n",
    "    L_tf = L_between_orbits(elementsO, elementsT, t)\n",
    "    rT_f = rho_f*L_tf + rO_f\n",
    "\n",
    "    return rT_i, rT_f\n",
    "\n",
    "def solve_lambert(r1, r2, tof):\n",
    "    \"\"\"\n",
    "    r1 and r2 are vectors (np arrays)\n",
    "    \"\"\"\n",
    "    # convert np array to list for pykep package\n",
    "    rT_i_list = np.ndarray.tolist(r1)  \n",
    "    rT_f_list = np.ndarray.tolist(r2)\n",
    "    # solve Lambert's problem\n",
    "    l = pykep.lambert_problem(r1 = rT_i_list, r2 = rT_f_list, tof = tof, mu=398600, cw=True)\n",
    "    # convert results\n",
    "    vi = l.get_v1()[0]  # get the velocity vector at initial time for one revolution\n",
    "    elements = pykep.ic2par(rT_i_list,vi, mu=398600)  # get Kepler elements from pos and vel vectors\n",
    "    return elements"
   ]
  },
  {
   "cell_type": "code",
   "execution_count": 9,
   "metadata": {},
   "outputs": [],
   "source": [
    "def fitness(elementsO, elementsT, estimated_orbit, no_of_measurments = 60):\n",
    "    \"\"\"\n",
    "    For now it compares against the ideal.\n",
    "    \"\"\"\n",
    "    fit = 1\n",
    "    for t in range(no_of_measurments):\n",
    "        L_ideal = L_between_orbits(elementsO, elementsT, t)  \n",
    "        L_ast = L_between_orbits(elementsO, estimated_orbit, t)\n",
    "        fit = fit * np.dot(L_ideal, L_ast)\n",
    "    return fit\n",
    "\n",
    "def objective_func(elementsO, elementsT, estimated_orbits, population):\n",
    "    \"\"\"\n",
    "    Runs the fitness function on all points.\n",
    "    Saves the point with the corresponding fitness value   \n",
    "    \"\"\"\n",
    "    index = 0\n",
    "    fit_values = []\n",
    "    for orbit in estimated_orbits:\n",
    "        fit_value = fitness(elementsO, elementsT, orbit)\n",
    "        fit_values.append(fit_value)\n",
    "    return fit_values   \n"
   ]
  },
  {
   "cell_type": "code",
   "execution_count": 10,
   "metadata": {},
   "outputs": [],
   "source": [
    "def evaluate_D(elementsO, TOF):\n",
    "    mu = 398600  # km^3/s^2. Make into a global variable later. Can I make TOF a global variable?\n",
    "    aO = elementsO[0]\n",
    "    eO = elementsO[1]\n",
    "    aT_max = 50000\n",
    "\n",
    "    # some calculations\n",
    "    rO_perigee = (1-eO)*aO\n",
    "    vO_perigee = ((1+eO)/(1-eO) * mu/aO)**0.5\n",
    "    vT_perigee_max = (2*mu/rO_perigee*(1-rO_perigee/(2*aT_max)))**0.5\n",
    "\n",
    "    return (vO_perigee + vT_perigee_max)*TOF, rO_perigee"
   ]
  },
  {
   "cell_type": "code",
   "execution_count": 11,
   "metadata": {},
   "outputs": [],
   "source": [
    "def grid_between_lines(D, height=9000, width=9000):\n",
    "    distances = []  # a list that will contain the whole population points (rho_i, rho_f)\n",
    "    A = height*width\n",
    "    A_s = A - (height-D)*width/2 - (height-2*D)*(width-D)/2\n",
    "    no_of_nodes = 1000*A/A_s  # no of nodes in the 9000x9000 (height x width) rectangle\n",
    "\n",
    "    xs = np.linspace(0, width, int((no_of_nodes)**0.5)) # create values for rho_i\n",
    "    ys = np.linspace(0, height, int((no_of_nodes)**0.5)) # create values for rho_f\n",
    "    \n",
    "    for x in xs:\n",
    "        for y in ys:\n",
    "            if y < (x + D) and y > (x - D):\n",
    "                distances.append([x,y])  # only add points that are between the lines\n",
    "\n",
    "    #plt.plot(xc, yc, '.r')\n",
    "    #plt.show()\n",
    "    \n",
    "    return distances"
   ]
  },
  {
   "cell_type": "code",
   "execution_count": 12,
   "metadata": {},
   "outputs": [],
   "source": [
    "def constraints(elements, rO_perigee):\n",
    "    \"\"\"\n",
    "    Return true if satisfied.\n",
    "    \"\"\"\n",
    "    a = elements[0]\n",
    "    e = elements[1]\n",
    "    R_earth = 6371 # km\n",
    "    \n",
    "    if R_earth + 200 <= a and a <= 50000 and 0 <= e and e <= 1 - rO_perigee/50000: # aT_max = 50000 km\n",
    "        return True\n",
    "    else:\n",
    "        return False"
   ]
  },
  {
   "cell_type": "code",
   "execution_count": 13,
   "metadata": {},
   "outputs": [],
   "source": [
    "def mean(population):\n",
    "    n = len(population)\n",
    "    sum_i = 0\n",
    "    sum_f = 0\n",
    "    for point in population:\n",
    "        sum_i += point[0]\n",
    "        sum_f += point[1]\n",
    "    return sum_i/n, sum_f/n    \n",
    "\n",
    "def covariance_matrix(population):\n",
    "    \"\"\"\n",
    "    Returns the standard deviations of the population in terms of two variables.\n",
    "    Our points consist of initial and final distance.\n",
    "    \"\"\"\n",
    "    c11 = 0\n",
    "    c12 = 0\n",
    "    c22 = 0\n",
    "    mean_i, mean_f = mean(population)\n",
    "    n = len(population)\n",
    "    for point in population:\n",
    "        c11 += (point[0]-mean_i)**2\n",
    "        c12 += (point[0]-mean_i)*(point[1]-mean_f)\n",
    "        c22 += (point[1]-mean_f)**2\n",
    "    return (c11/n)**0.5, (c22/n)**0.5, (c12/n)**0.5\n",
    "\n",
    "def last_similarity(value1,value2, list, error = 0):\n",
    "    \"\"\"\n",
    "    Input is the new value to be compared and a list consisting of the previous points.\n",
    "    The input list should be a list (2x2) in a list of length phi.\n",
    "    \"\"\"\n",
    "    list.remove(0)  # remove first element\n",
    "    list.append((value1,value2))  # add the new element to the list\n",
    "\n",
    "    for point in list:\n",
    "        last_value1, last_value2 = point\n",
    "        difference1 = abs(last_value1 - value1)\n",
    "        difference2 = abs(last_value2 - value2)\n",
    "        if difference1 < error and difference2 < error:\n",
    "            continue\n",
    "        else:\n",
    "            return False, list  # is not similar\n",
    "    return True, list  # is similar\n",
    "    \n",
    "\n",
    "\n",
    "def stop_criteria(population, last_means, best_values, last_best_values, no_of_gens,lim_O = 5, lim_F = 5, max_gen=30,error = 0):\n",
    "    mean_I, mean_F = mean(population)\n",
    "    best_I, best_F = best_values\n",
    "    \"\"\"\n",
    "    Returns True if met.\n",
    "    \"\"\"\n",
    "    # for means\n",
    "    means_sim, means_sim_list = last_similarity(mean_I, mean_F, last_means)\n",
    "    # for best values\n",
    "    best_sim, best_sim_list = last_similarity(best_I, best_F, last_best_values)\n",
    "    # standard values\n",
    "    sigma_OO, sigma_FF, sigma_OF = covariance_matrix(population)\n",
    "\n",
    "    if means_sim == True or best_sim == True:\n",
    "        return True, None, None\n",
    "    if no_of_gens > max_gen:\n",
    "        return True\n",
    "    if sigma_OO < lim_O and sigma_FF < lim_F:\n",
    "        return True, None, None\n",
    "    \n",
    "    else:\n",
    "        return False, means_sim_list, best_sim_list  # need these values for the next iteration"
   ]
  },
  {
   "cell_type": "code",
   "execution_count": 14,
   "metadata": {},
   "outputs": [],
   "source": [
    "def show_pop(population):\n",
    "    xs = [x[0] for x in population]\n",
    "    ys = [x[1] for x in population]\n",
    "    plt.plot(xs, ys, '.k')\n",
    "    plt.show()"
   ]
  },
  {
   "cell_type": "code",
   "execution_count": 18,
   "metadata": {},
   "outputs": [],
   "source": [
    "def Lambert_problem(population, orbits, elementsO, elementsT, point, rO_perigee, TOF):\n",
    "    # Set up Lambert's problem\n",
    "    rT_i, rT_f = get_target_r(elementsO,elementsT, point, TOF)\n",
    "    # solve Lambert's problem\n",
    "    elementsT_estimated = list(solve_lambert(r1 = rT_i, r2 = rT_f, tof = TOF))\n",
    "    if constraints(elementsT_estimated, rO_perigee) is True:\n",
    "        orbits.append(elementsT_estimated)\n",
    "        population.append(point)\n",
    "    \n",
    "    return population, orbits"
   ]
  },
  {
   "cell_type": "code",
   "execution_count": 20,
   "metadata": {},
   "outputs": [],
   "source": [
    "def initialise_pop(elementsO, elementsT, TOF=60):\n",
    "    \"\"\"\n",
    "    Initialises the population.\n",
    "    Returns the population along with the orbits.\n",
    "    \"\"\"\n",
    "    D, rO_perigee = evaluate_D(elementsO, TOF)\n",
    "    # get an evenly spaced grid between two lines Rho in the range [0,9000]\n",
    "    original_population = grid_between_lines(D)  # initial population\n",
    "    orbits = []\n",
    "    population = []\n",
    "    \n",
    "    count = 0\n",
    "    for point in original_population:\n",
    "        count +=1\n",
    "        \n",
    "        population, orbits = Lambert_problem(population, orbits, elementsO, elementsT, point, rO_perigee, TOF)\n",
    "        \n",
    "    print(len(population))\n",
    "    if len(population) > 1000:\n",
    "        # remove the number of extra points randomly\n",
    "        no_of_extra_points = len(population) - 1000\n",
    "        for i in range(no_of_extra_points):\n",
    "            index = random.randint(0, len(population))\n",
    "            popped = population.pop(index)  # have to remove the points\n",
    "            orbits.pop(index)  # remove the corresponding orbit\n",
    "\n",
    "    if len(population) < 1000:\n",
    "        # gain extra points via mutation\n",
    "        no_of_extra_points = 1000 - len(population)\n",
    "        population_new = mutation(population, no_of_extra_points)  # for new points I have to solve for the orbit again\n",
    "        for point in population_new[len(population)-1:]:\n",
    "            population_new, orbits = Lambert_problem(population_new, orbits, elementsO, elementsT, point, rO_perigee, TOF)\n",
    "        population = population_new  # to avoid confusion\n",
    "    \n",
    "    print(len(population))\n",
    "    print(len(orbits))\n",
    "    if len(population) == len(orbits):\n",
    "        print(\"I think it worked\")\n",
    "    return population, orbits\n"
   ]
  },
  {
   "cell_type": "code",
   "execution_count": 21,
   "metadata": {},
   "outputs": [
    {
     "name": "stdout",
     "output_type": "stream",
     "text": [
      "327\n",
      "1001\n",
      "328\n"
     ]
    },
    {
     "data": {
      "image/png": "[encoded data removed]",
      "text/plain": [
       "<Figure size 640x480 with 1 Axes>"
      ]
     },
     "metadata": {},
     "output_type": "display_data"
    },
    {
     "data": {
      "text/plain": [
       "'\\nfit_values = objective_func(elements_sat, elements_deb, orbits, pop)\\nprint(fit_values)\\n'"
      ]
     },
     "execution_count": 21,
     "metadata": {},
     "output_type": "execute_result"
    }
   ],
   "source": [
    "elements_deb = [7100,0.0043,np.radians(98.289),np.radians(49.866),np.radians(356.768),0]\n",
    "elements_sat = [7133.8,0.0043,np.radians(98.289),np.radians(49.866),np.radians(356.768),0]\n",
    "\n",
    "# initialise\n",
    "pop, orbits = initialise_pop(elements_sat, elements_deb)\n",
    "show_pop(pop)\n",
    "\"\"\"\n",
    "fit_values = objective_func(elements_sat, elements_deb, orbits, pop)\n",
    "print(fit_values)\n",
    "\"\"\""
   ]
  },
  {
   "cell_type": "code",
   "execution_count": 21,
   "metadata": {},
   "outputs": [
    {
     "data": {
      "text/plain": [
       "False"
      ]
     },
     "execution_count": 21,
     "metadata": {},
     "output_type": "execute_result"
    }
   ],
   "source": [
    "elements = [5901.149278552159, 1.4477471563854718, 1.7154666684926894, 0.8703258847994934, 4.594129890838893, 0.8540083184421274]\n",
    "constraints(elements, 7102.85)"
   ]
  },
  {
   "cell_type": "code",
   "execution_count": 77,
   "metadata": {},
   "outputs": [
    {
     "ename": "IndexError",
     "evalue": "pop index out of range",
     "output_type": "error",
     "traceback": [
      "\u001b[1;31m---------------------------------------------------------------------------\u001b[0m",
      "\u001b[1;31mIndexError\u001b[0m                                Traceback (most recent call last)",
      "Cell \u001b[1;32mIn[77], line 4\u001b[0m\n\u001b[0;32m      1\u001b[0m l \u001b[39m=\u001b[39m [\u001b[39m12\u001b[39m,\u001b[39m3\u001b[39m,\u001b[39m6\u001b[39m,\u001b[39m34\u001b[39m,\u001b[39m7\u001b[39m]\n\u001b[0;32m      3\u001b[0m \u001b[39mfor\u001b[39;00m x \u001b[39min\u001b[39;00m l:\n\u001b[1;32m----> 4\u001b[0m     l\u001b[39m.\u001b[39;49mpop(x)\n\u001b[0;32m      5\u001b[0m     \u001b[39mprint\u001b[39m(l)\n",
      "\u001b[1;31mIndexError\u001b[0m: pop index out of range"
     ]
    }
   ],
   "source": [
    "l = [12,3,6,34,7]\n",
    "\n"
   ]
  },
  {
   "cell_type": "code",
   "execution_count": 74,
   "metadata": {},
   "outputs": [
    {
     "name": "stdout",
     "output_type": "stream",
     "text": [
      "[1, 2, 3]\n",
      "[2, 6, 8]\n"
     ]
    }
   ],
   "source": [
    "l = ([1,2,3], [2,6,8])\n",
    "\n",
    "for x in l:\n",
    "    print(x)"
   ]
  },
  {
   "cell_type": "code",
   "execution_count": 45,
   "metadata": {},
   "outputs": [
    {
     "data": {
      "text/plain": [
       "[[1, 2, 3, 4]]"
      ]
     },
     "execution_count": 45,
     "metadata": {},
     "output_type": "execute_result"
    }
   ],
   "source": [
    "a = (1,2,3,4)\n",
    "a = list(a)\n",
    "l = []\n",
    "l.append(a)\n",
    "l"
   ]
  },
  {
   "cell_type": "code",
   "execution_count": null,
   "metadata": {},
   "outputs": [],
   "source": [
    "f"
   ]
  }
 ],
 "metadata": {
  "kernelspec": {
   "display_name": "snakes",
   "language": "python",
   "name": "python3"
  },
  "language_info": {
   "codemirror_mode": {
    "name": "ipython",
    "version": 3
   },
   "file_extension": ".py",
   "mimetype": "text/x-python",
   "name": "python",
   "nbconvert_exporter": "python",
   "pygments_lexer": "ipython3",
   "version": "3.11.0"
  },
  "orig_nbformat": 4,
  "vscode": {
   "interpreter": {
    "hash": "59471867d23c2a72234382566122d21c3be946b94431b3b3919396cdb8e7a794"
   }
  }
 },
 "nbformat": 4,
 "nbformat_minor": 2
}
