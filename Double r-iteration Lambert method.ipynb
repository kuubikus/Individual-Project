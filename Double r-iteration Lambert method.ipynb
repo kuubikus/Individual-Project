{
 "cells": [
  {
   "cell_type": "code",
   "execution_count": 9,
   "metadata": {},
   "outputs": [],
   "source": [
    "import numpy as np\n",
    "from scipy import optimize\n",
    "import pykep"
   ]
  },
  {
   "cell_type": "code",
   "execution_count": 73,
   "metadata": {},
   "outputs": [],
   "source": [
    "def get_dW(r1,r2):\n",
    "    print(\"alpha\",np.arccos(np.dot(r1,r2)))\n",
    "    return np.arccos(np.dot(r1,r2))"
   ]
  },
  {
   "cell_type": "code",
   "execution_count": 34,
   "metadata": {},
   "outputs": [],
   "source": [
    "def get_r(r1,r2, t, mu =398600):\n",
    "    return (t*np.sqrt(mu)/get_dW(r1,r2))**(2/3)\n"
   ]
  },
  {
   "cell_type": "code",
   "execution_count": 67,
   "metadata": {},
   "outputs": [],
   "source": [
    "def get_rho(r_obs,r_tar_hat, r):\n",
    "    c = np.dot(r_obs,r_tar_hat)\n",
    "    return -c + np.sqrt(c**2 - np.linalg.norm(r_obs)**2 + r**2)"
   ]
  },
  {
   "cell_type": "code",
   "execution_count": 13,
   "metadata": {},
   "outputs": [],
   "source": [
    "def get_target_r(r_obs,r_tar_hat, r):\n",
    "    rho = get_rho(r_obs,r_tar_hat, r)\n",
    "    return r_obs + rho*r_tar_hat"
   ]
  },
  {
   "cell_type": "code",
   "execution_count": 14,
   "metadata": {},
   "outputs": [],
   "source": [
    "def propagate_based_on_elements(elements, t, kepler=True):\n",
    "    r, v = pykep.par2ic(elements, mu=398600)\n",
    "    if t > 0:\n",
    "        rf,vf = pykep.propagate_lagrangian(r0 = r, v0 = v, tof = t,mu = 398600)\n",
    "    else:\n",
    "        rf, vf = r, v\n",
    "    if kepler == False:  # return vectors\n",
    "        return np.array(rf),np.array(vf)\n",
    "    if kepler == True:  # return kepler elements\n",
    "        return pykep.ic2par(rf,vf,mu = 398600)"
   ]
  },
  {
   "cell_type": "code",
   "execution_count": 15,
   "metadata": {},
   "outputs": [],
   "source": [
    "def get_v(r1,r2,r, mu=398600):\n",
    "    h = np.cross(r1,r2)/np.linalg.norm(np.cross(r1,r2))\n",
    "    v_hat = np.cross(h,r2)/r\n",
    "    return v_hat * np.sqrt(mu/r)"
   ]
  },
  {
   "cell_type": "code",
   "execution_count": 65,
   "metadata": {},
   "outputs": [],
   "source": [
    "def circular_method(measurements, times, elements_obs):\n",
    "    sol =[]\n",
    "    all_r = []\n",
    "    for i in range(len(measurements)):\n",
    "        L1_hat = measurements[i]\n",
    "        t1 = times[i]\n",
    "        for j in range(len(measurements)):\n",
    "            if j != i:\n",
    "                tau = times[j] - t1\n",
    "                if tau > 0:\n",
    "                    r = get_r(L1_hat, measurements[j],tau)\n",
    "                    print(\"r\", r)\n",
    "                    all_r.append(r)\n",
    "\n",
    "    r = sum(all_r)/len(all_r)\n",
    "    print(\"average r\",r)\n",
    "    for i in range(len(measurements)):\n",
    "        r_obs, v_obs = propagate_based_on_elements(elements_obs,times[i],kepler=False)\n",
    "        r_tar = get_target_r(r_obs, measurements[i],r)\n",
    "        v_tar = get_v(r_obs,r_tar,r)\n",
    "        sol.append([r_tar,v_tar])\n",
    "\n",
    "    return sol"
   ]
  },
  {
   "cell_type": "code",
   "execution_count": 77,
   "metadata": {},
   "outputs": [
    {
     "name": "stdout",
     "output_type": "stream",
     "text": [
      "debris r [4302.38426523 6140.45878507  185.08253084]\n",
      "r 7500.0\n",
      "debrs v [-5.97121731  4.17838065  0.17990456]\n",
      "debris r [1652.49772647 7311.70038772  241.4305371 ]\n",
      "r 7500.000000000001\n",
      "debrs v [-7.11088057  1.60386589  0.09827721]\n",
      "debris r [-3954.9259052   6367.8508586    242.97433407]\n",
      "r 7500.000000000001\n",
      "debrs v [-6.19404713 -3.84337026 -0.09461419]\n"
     ]
    }
   ],
   "source": [
    "elements_sat = [7350,0.0037296,np.radians(82.0394),np.radians(41.7294),np.radians(216.168),np.radians(0)]\n",
    "elements_deb = [7500,0,np.radians(2),np.radians(10),np.radians(0),np.radians(45)]\n",
    "times = [0,400,1200]\n",
    "measurements = []\n",
    "for t in times:\n",
    "    r_sat, v_sat = propagate_based_on_elements(elements_sat,t,kepler=False)\n",
    "    r_deb, v_deb = propagate_based_on_elements(elements_deb,t,kepler=False)\n",
    "    print(\"debris r\", r_deb)\n",
    "    print(\"r\", np.linalg.norm(r_deb))\n",
    "    print(\"debrs v\",v_deb)\n",
    "    L = r_deb - r_sat\n",
    "    \n",
    "    L_hat = L/np.linalg.norm(L)\n",
    "    measurements.append(L_hat)"
   ]
  },
  {
   "cell_type": "code",
   "execution_count": 78,
   "metadata": {},
   "outputs": [
    {
     "name": "stdout",
     "output_type": "stream",
     "text": [
      "alpha 0.35195838591678985\n",
      "r 8014.778923289636\n",
      "alpha 1.2934687354682435\n",
      "r 7000.503949263067\n",
      "alpha 0.9415350661114256\n",
      "r 6602.089739688799\n",
      "average r 7205.790870747168\n"
     ]
    },
    {
     "data": {
      "text/plain": [
       "[[array([4120.7301658 , 5910.61251214,   87.54830054]),\n",
       "  array([ 1.07010353, -0.85433092,  7.3103774 ])],\n",
       " [array([1550.81326143, 7036.5741081 ,   70.88809733]),\n",
       "  array([ 1.67351719, -0.44170197,  7.23331599])],\n",
       " [array([-3737.88979696,  6160.46539601,   -16.37203015]),\n",
       "  array([-1.83492674, -1.09441715,  7.12403787])]]"
      ]
     },
     "execution_count": 78,
     "metadata": {},
     "output_type": "execute_result"
    }
   ],
   "source": [
    "sol = circular_method(measurements,times,elements_sat)\n",
    "sol"
   ]
  },
  {
   "cell_type": "markdown",
   "metadata": {},
   "source": [
    "https://apps.dtic.mil/sti/pdfs/AD1121954.pdf  -  \n",
    "https://www.sciencedirect.com/science/article/pii/S0273117721005287#e0015  - another novel one\n",
    "https://www.sciencedirect.com/science/article/pii/B9780123747785000052#b0160  - the book\n",
    "https://www.researchgate.net/publication/254199485_Modifications_to_the_Gooding_Algorithm_for_Angles-Only_Initial_OrbitDetermination  - Cooding\n",
    "file:///C:/Users/Admin/Downloads/Thesis_Bert_Van_den_Abbeele_v2.pdf  - Delft\n",
    "https://conference.sdo.esoc.esa.int/proceedings/sdc8/paper/129/SDC8-paper129.pdf  - cooding useless?\n"
   ]
  }
 ],
 "metadata": {
  "kernelspec": {
   "display_name": "IP",
   "language": "python",
   "name": "python3"
  },
  "language_info": {
   "codemirror_mode": {
    "name": "ipython",
    "version": 3
   },
   "file_extension": ".py",
   "mimetype": "text/x-python",
   "name": "python",
   "nbconvert_exporter": "python",
   "pygments_lexer": "ipython3",
   "version": "3.11.3"
  },
  "orig_nbformat": 4
 },
 "nbformat": 4,
 "nbformat_minor": 2
}
