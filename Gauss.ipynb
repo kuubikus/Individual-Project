{
 "cells": [
  {
   "cell_type": "code",
   "execution_count": null,
   "metadata": {},
   "outputs": [],
   "source": [
    "import numpy as np"
   ]
  },
  {
   "cell_type": "code",
   "execution_count": null,
   "metadata": {},
   "outputs": [],
   "source": [
    "def gauss_method(n, directions):\n",
    "    \"\"\"\n",
    "    Implements Gauss's method for orbit determination given n measurements of direction vectors\n",
    "    \n",
    "    Args:\n",
    "    n (int): The number of measurements\n",
    "    directions (list): A list of n direction vectors, where each vector is represented as a 3-tuple of floats\n",
    "    \n",
    "    Returns:\n",
    "    tuple: A tuple containing the estimated position and velocity vectors of the object\n",
    "    \"\"\"\n",
    "    A = np.zeros((n, 3))\n",
    "    for i in range(n):\n",
    "        A[i] = directions[i]\n",
    "    \n",
    "    ATA = np.matmul(A.T, A)\n",
    "    U, s, V = np.linalg.svd(ATA)\n",
    "    Q = np.matmul(U, V.T)\n",
    "    X = np.matmul(Q, directions)\n",
    "    r = np.linalg.norm(X)\n",
    "    v = np.cross(X, np.cross(directions[0], X)) / r\n",
    "    return X, v"
   ]
  },
  {
   "cell_type": "code",
   "execution_count": null,
   "metadata": {},
   "outputs": [],
   "source": [
    "def gauss_method_time(n, directions, times):\n",
    "    \"\"\"\n",
    "    Implements Gauss's method for orbit determination given n measurements of direction vectors and the time of each measurement\n",
    "    \n",
    "    Args:\n",
    "    n (int): The number of measurements\n",
    "    directions (list): A list of n direction vectors, where each vector is represented as a 3-tuple of floats\n",
    "    times (list): A list of n floats representing the time of each measurement\n",
    "    \n",
    "    Returns:\n",
    "    tuple: A tuple containing the estimated position and velocity vectors of the object\n",
    "    \"\"\"\n",
    "    A = np.zeros((n, 3))\n",
    "    for i in range(n):\n",
    "        A[i] = directions[i]\n",
    "    \n",
    "    ATA = np.matmul(A.T, A)\n",
    "    U, s, V = np.linalg.svd(ATA)\n",
    "    Q = np.matmul(U, V.T)\n",
    "    X = np.matmul(Q, directions)\n",
    "    r = np.linalg.norm(X)\n",
    "    \n",
    "    B = np.zeros((n-1, 4))\n",
    "    for i in range(n-1):\n",
    "        delta_t = times[i+1] - times[0]\n",
    "        r_i = np.linalg.norm(X - A[i+1]*r)\n",
    "        B[i][0] = delta_t\n",
    "        B[i][1] = A[i+1][0]*r_i\n",
    "        B[i][2] = A[i+1][1]*r_i\n",
    "        B[i][3] = A[i+1][2]*r_i\n",
    "        \n",
    "    BTB = np.matmul(B.T, B)\n",
    "    w, v = np.linalg.eig(BTB)\n",
    "    min_eigval = np.min(w)\n",
    "    if min_eigval < 0:\n",
    "        print(\"Error: BTB matrix is not positive definite\")\n",
    "        return None\n",
    "    u = v[:, np.argmin(w)]\n",
    "    v_i = u[1:4]\n",
    "    v_f = u[0]\n",
    "    v = np.concatenate(([v_f], v_i))\n",
    "    v = v / np.linalg.norm(v)\n",
    "    v = v * np.sqrt(min_eigval)\n",
    "    \n",
    "    return X, v"
   ]
  }
 ],
 "metadata": {
  "language_info": {
   "name": "python"
  },
  "orig_nbformat": 4
 },
 "nbformat": 4,
 "nbformat_minor": 2
}
