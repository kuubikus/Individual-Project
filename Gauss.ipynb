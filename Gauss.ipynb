{
 "cells": [
  {
   "cell_type": "code",
   "execution_count": null,
   "metadata": {},
   "outputs": [],
   "source": [
    "import numpy as np"
   ]
  },
  {
   "cell_type": "code",
   "execution_count": null,
   "metadata": {},
   "outputs": [],
   "source": [
    "def gauss_method(n, directions):\n",
    "    \"\"\"\n",
    "    Implements Gauss's method for orbit determination given n measurements of direction vectors\n",
    "    \n",
    "    Args:\n",
    "    n (int): The number of measurements\n",
    "    directions (list): A list of n direction vectors, where each vector is represented as a 3-tuple of floats\n",
    "    \n",
    "    Returns:\n",
    "    tuple: A tuple containing the estimated position and velocity vectors of the object\n",
    "    \"\"\"\n",
    "    A = np.zeros((n, 3))\n",
    "    for i in range(n):\n",
    "        A[i] = directions[i]\n",
    "    \n",
    "    ATA = np.matmul(A.T, A)\n",
    "    U, s, V = np.linalg.svd(ATA)\n",
    "    Q = np.matmul(U, V.T)\n",
    "    X = np.matmul(Q, directions)\n",
    "    r = np.linalg.norm(X)\n",
    "    v = np.cross(X, np.cross(directions[0], X)) / r\n",
    "    return X, v"
   ]
  }
 ],
 "metadata": {
  "language_info": {
   "name": "python"
  },
  "orig_nbformat": 4
 },
 "nbformat": 4,
 "nbformat_minor": 2
}
