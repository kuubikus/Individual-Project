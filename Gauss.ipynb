{
 "cells": [
  {
   "cell_type": "code",
   "execution_count": 12,
   "metadata": {},
   "outputs": [],
   "source": [
    "import numpy as np\n",
    "from scipy import optimize"
   ]
  },
  {
   "cell_type": "code",
   "execution_count": 11,
   "metadata": {},
   "outputs": [],
   "source": [
    "def func(x,a,b,c):\n",
    "    return x**8 + a*x**6+b*x**3 + c \n",
    "\n",
    "def gauss(observer_pos, directions, times, mu=398600):\n",
    "    # time intervals\n",
    "    tau1 = times[0] - times[1]\n",
    "    tau3 = times[2] - times[1]\n",
    "    tau = tau3 - tau1\n",
    "\n",
    "    # cross products\n",
    "    P1 = np.cross(directions[1],directions[2])\n",
    "    P2 = np.cross(directions[0],directions[2])\n",
    "    P3 = np.cross(directions[0],directions[1])\n",
    "\n",
    "    D0 = np.dot(directions[0], np.cross(directions[1],directions[2]))\n",
    "    D11 = np.dot(observer_pos[0],P1)\n",
    "    D21 = np.dot(observer_pos[1],P1)\n",
    "    D31 = np.dot(observer_pos[2],P1)\n",
    "    D12 = np.dot(observer_pos[0],P2)\n",
    "    D22 = np.dot(observer_pos[1],P2)\n",
    "    D32 = np.dot(observer_pos[2],P2)\n",
    "    D13 = np.dot(observer_pos[0],P3)\n",
    "    D23 = np.dot(observer_pos[1],P3)\n",
    "    D33 = np.dot(observer_pos[2],P3)\n",
    "\n",
    "    A = 1/D0 * (-D12*tau3/tau + D22 + D32*tau1/tau)\n",
    "    B = 1/(6*D0) * (D12*(tau3**2 - tau**2)*tau3/tau + D32*(tau**2-tau1**2)*tau1/tau)\n",
    "\n",
    "    E = np.dot(observer_pos[1],directions[1])\n",
    "\n",
    "    a = -(A**2 + 2*A*E + observer_pos[1])\n",
    "    b = -2*mu*B*(A+E)\n",
    "    c = -mu**2 * B**2\n",
    "    roots = optimize.newton(func,0, args=(a,b,c))\n",
    "    print(\"roots\", roots)\n",
    "\n",
    "    rho1 = 1/D0 * ((6*(D31*tau1/tau3 + D21*tau/tau3)*)/())\n",
    "\n"
   ]
  },
  {
   "cell_type": "code",
   "execution_count": 9,
   "metadata": {},
   "outputs": [],
   "source": []
  },
  {
   "cell_type": "code",
   "execution_count": 1,
   "metadata": {},
   "outputs": [],
   "source": [
    "%store -r all_rel"
   ]
  },
  {
   "cell_type": "code",
   "execution_count": 5,
   "metadata": {},
   "outputs": [],
   "source": [
    "measurments = all_rel[0][\"list in global axis\"]\n",
    "n = len(measurments)\n",
    "directions=[]\n",
    "times=[]\n",
    "for x in measurments:\n",
    "    directions.append(x[:-1])\n",
    "    times.append(x[-1])"
   ]
  },
  {
   "cell_type": "code",
   "execution_count": null,
   "metadata": {},
   "outputs": [],
   "source": []
  }
 ],
 "metadata": {
  "kernelspec": {
   "display_name": "IP",
   "language": "python",
   "name": "python3"
  },
  "language_info": {
   "codemirror_mode": {
    "name": "ipython",
    "version": 3
   },
   "file_extension": ".py",
   "mimetype": "text/x-python",
   "name": "python",
   "nbconvert_exporter": "python",
   "pygments_lexer": "ipython3",
   "version": "3.11.3"
  },
  "orig_nbformat": 4
 },
 "nbformat": 4,
 "nbformat_minor": 2
}
