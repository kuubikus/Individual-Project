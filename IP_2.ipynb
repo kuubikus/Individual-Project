{
 "cells": [
  {
   "cell_type": "code",
   "execution_count": 1,
   "metadata": {},
   "outputs": [],
   "source": [
    "import numpy as np\n",
    "import matplotlib.pyplot as plt\n",
    "import pykep\n",
    "import random\n",
    "from scipy.optimize import newton"
   ]
  },
  {
   "attachments": {},
   "cell_type": "markdown",
   "metadata": {},
   "source": [
    "How is it going to work:\n",
    "1. initialise the data (chromosomes and corresponding vectors?elements?both?)\n",
    "2. objective function, update data with fitness values\n",
    "3. loop following until stop criteria is met\n",
    "4. get elite\n",
    "5. create a new population\n",
    "6. check stop criteria"
   ]
  },
  {
   "cell_type": "code",
   "execution_count": null,
   "metadata": {},
   "outputs": [],
   "source": []
  },
  {
   "cell_type": "code",
   "execution_count": null,
   "metadata": {},
   "outputs": [],
   "source": []
  }
 ],
 "metadata": {
  "kernelspec": {
   "display_name": "snakes",
   "language": "python",
   "name": "python3"
  },
  "language_info": {
   "codemirror_mode": {
    "name": "ipython",
    "version": 3
   },
   "file_extension": ".py",
   "mimetype": "text/x-python",
   "name": "python",
   "nbconvert_exporter": "python",
   "pygments_lexer": "ipython3",
   "version": "3.10.8"
  },
  "orig_nbformat": 4,
  "vscode": {
   "interpreter": {
    "hash": "ba46d3c1349a8793b8508840c8d7327b4fd991649259d1bdc996506b1c3d27b3"
   }
  }
 },
 "nbformat": 4,
 "nbformat_minor": 2
}
